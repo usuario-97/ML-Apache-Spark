{
 "cells": [
  {
   "cell_type": "markdown",
   "metadata": {
    "application/vnd.databricks.v1+cell": {
     "cellMetadata": {},
     "inputWidgets": {},
     "nuid": "96816ed7-b08a-4ca3-abb9-f99880c3535d",
     "showTitle": false,
     "title": ""
    }
   },
   "source": [
    "## Modelo de Clasificación para la compra\n",
    "\n",
    "Este notebook incluye los siguientes pasos:\n",
    "\n",
    "* Cargar el conjunto de datos\n",
    "* Preprocesamiento de funciones\n",
    "* Definir el modelo\n",
    "* Construye la tubería\n",
    "* Evaluar el modelo\n",
    "* Ajuste de hiperparámetros\n",
    "* Realizacion predicciones y evaluacion el rendimiento del modelo"
   ]
  },
  {
   "cell_type": "code",
   "execution_count": 0,
   "metadata": {
    "application/vnd.databricks.v1+cell": {
     "cellMetadata": {
      "byteLimit": 2048000,
      "rowLimit": 10000
     },
     "inputWidgets": {},
     "nuid": "6482be4c-f067-47c9-b0ac-35c938b94601",
     "showTitle": false,
     "title": ""
    }
   },
   "outputs": [
    {
     "output_type": "display_data",
     "data": {
      "text/html": [
       "<style scoped>\n",
       "  .table-result-container {\n",
       "    max-height: 300px;\n",
       "    overflow: auto;\n",
       "  }\n",
       "  table, th, td {\n",
       "    border: 1px solid black;\n",
       "    border-collapse: collapse;\n",
       "  }\n",
       "  th, td {\n",
       "    padding: 5px;\n",
       "  }\n",
       "  th {\n",
       "    text-align: left;\n",
       "  }\n",
       "</style><div class='table-result-container'><table class='table-result'><thead style='background-color: white'><tr><th>User ID</th><th>Genero</th><th>Edad</th><th>Salario</th><th>Compra</th></tr></thead><tbody><tr><td>15624510</td><td>Male</td><td>19</td><td>19000</td><td>0</td></tr><tr><td>15810944</td><td>Male</td><td>35</td><td>20000</td><td>0</td></tr><tr><td>15668575</td><td>Female</td><td>26</td><td>43000</td><td>0</td></tr><tr><td>15603246</td><td>Female</td><td>27</td><td>57000</td><td>0</td></tr><tr><td>15804002</td><td>Male</td><td>19</td><td>76000</td><td>0</td></tr></tbody></table></div>"
      ]
     },
     "metadata": {
      "application/vnd.databricks.v1+output": {
       "addedWidgets": {},
       "aggData": [],
       "aggError": "",
       "aggOverflow": false,
       "aggSchema": [],
       "aggSeriesLimitReached": false,
       "aggType": "",
       "arguments": {},
       "columnCustomDisplayInfos": {},
       "data": [
        [
         15624510,
         "Male",
         19,
         19000,
         0
        ],
        [
         15810944,
         "Male",
         35,
         20000,
         0
        ],
        [
         15668575,
         "Female",
         26,
         43000,
         0
        ],
        [
         15603246,
         "Female",
         27,
         57000,
         0
        ],
        [
         15804002,
         "Male",
         19,
         76000,
         0
        ]
       ],
       "datasetInfos": [],
       "dbfsResultPath": null,
       "isJsonSchema": true,
       "metadata": {},
       "overflow": false,
       "plotOptions": {
        "customPlotOptions": {},
        "displayType": "table",
        "pivotAggregation": null,
        "pivotColumns": null,
        "xColumns": null,
        "yColumns": null
       },
       "removedWidgets": [],
       "schema": [
        {
         "metadata": "{}",
         "name": "User ID",
         "type": "\"integer\""
        },
        {
         "metadata": "{}",
         "name": "Genero",
         "type": "\"string\""
        },
        {
         "metadata": "{}",
         "name": "Edad",
         "type": "\"integer\""
        },
        {
         "metadata": "{}",
         "name": "Salario",
         "type": "\"integer\""
        },
        {
         "metadata": "{}",
         "name": "Compra",
         "type": "\"integer\""
        }
       ],
       "type": "table"
      }
     },
     "output_type": "display_data"
    }
   ],
   "source": [
    "# File location and type\n",
    "file_location = \"/FileStore/tables/venta.csv\"\n",
    "file_type = \"csv\"\n",
    "\n",
    "# CSV options\n",
    "infer_schema = \"True\"\n",
    "first_row_is_header = \"True\"\n",
    "delimiter = \",\"\n",
    "\n",
    "# The applied options are for CSV files. For other file types, these will be ignored.\n",
    "df = spark.read.format(file_type) \\\n",
    "  .option(\"inferSchema\", infer_schema) \\\n",
    "  .option(\"header\", first_row_is_header) \\\n",
    "  .option(\"sep\", delimiter) \\\n",
    "  .load(file_location)\n",
    "\n",
    "display(df.limit(5))"
   ]
  },
  {
   "cell_type": "code",
   "execution_count": 0,
   "metadata": {
    "application/vnd.databricks.v1+cell": {
     "cellMetadata": {
      "byteLimit": 2048000,
      "rowLimit": 10000
     },
     "inputWidgets": {},
     "nuid": "56d69663-e758-49a7-a0ea-bd40e6096b0d",
     "showTitle": false,
     "title": ""
    }
   },
   "outputs": [
    {
     "output_type": "stream",
     "name": "stdout",
     "output_type": "stream",
     "text": [
      "Out[2]: ['User ID', 'Genero', 'Edad', 'Salario', 'Compra']"
     ]
    }
   ],
   "source": [
    "df.columns"
   ]
  },
  {
   "cell_type": "code",
   "execution_count": 0,
   "metadata": {
    "application/vnd.databricks.v1+cell": {
     "cellMetadata": {
      "byteLimit": 2048000,
      "rowLimit": 10000
     },
     "inputWidgets": {},
     "nuid": "bd82bb99-1479-4d5c-be10-8c36df0f1d44",
     "showTitle": false,
     "title": ""
    }
   },
   "outputs": [],
   "source": [
    "# Create a view or table\n",
    "\n",
    "temp_table_name = \"venta_csv\"\n",
    "\n",
    "df.createOrReplaceTempView(temp_table_name)"
   ]
  },
  {
   "cell_type": "code",
   "execution_count": 0,
   "metadata": {
    "application/vnd.databricks.v1+cell": {
     "cellMetadata": {
      "byteLimit": 2048000,
      "implicitDf": true,
      "rowLimit": 10000
     },
     "inputWidgets": {},
     "nuid": "b5f66379-6f7f-42ec-8e82-d0e0926a1721",
     "showTitle": false,
     "title": ""
    }
   },
   "outputs": [
    {
     "output_type": "display_data",
     "data": {
      "text/html": [
       "<style scoped>\n",
       "  .table-result-container {\n",
       "    max-height: 300px;\n",
       "    overflow: auto;\n",
       "  }\n",
       "  table, th, td {\n",
       "    border: 1px solid black;\n",
       "    border-collapse: collapse;\n",
       "  }\n",
       "  th, td {\n",
       "    padding: 5px;\n",
       "  }\n",
       "  th {\n",
       "    text-align: left;\n",
       "  }\n",
       "</style><div class='table-result-container'><table class='table-result'><thead style='background-color: white'><tr><th>User ID</th><th>Genero</th><th>Edad</th><th>Salario</th><th>Compra</th></tr></thead><tbody><tr><td>15624510</td><td>Male</td><td>19</td><td>19000</td><td>0</td></tr><tr><td>15810944</td><td>Male</td><td>35</td><td>20000</td><td>0</td></tr><tr><td>15668575</td><td>Female</td><td>26</td><td>43000</td><td>0</td></tr><tr><td>15603246</td><td>Female</td><td>27</td><td>57000</td><td>0</td></tr><tr><td>15804002</td><td>Male</td><td>19</td><td>76000</td><td>0</td></tr></tbody></table></div>"
      ]
     },
     "metadata": {
      "application/vnd.databricks.v1+output": {
       "addedWidgets": {},
       "aggData": [],
       "aggError": "",
       "aggOverflow": false,
       "aggSchema": [],
       "aggSeriesLimitReached": false,
       "aggType": "",
       "arguments": {},
       "columnCustomDisplayInfos": {},
       "data": [
        [
         15624510,
         "Male",
         19,
         19000,
         0
        ],
        [
         15810944,
         "Male",
         35,
         20000,
         0
        ],
        [
         15668575,
         "Female",
         26,
         43000,
         0
        ],
        [
         15603246,
         "Female",
         27,
         57000,
         0
        ],
        [
         15804002,
         "Male",
         19,
         76000,
         0
        ]
       ],
       "datasetInfos": [],
       "dbfsResultPath": null,
       "isJsonSchema": true,
       "metadata": {},
       "overflow": false,
       "plotOptions": {
        "customPlotOptions": {},
        "displayType": "table",
        "pivotAggregation": null,
        "pivotColumns": null,
        "xColumns": null,
        "yColumns": null
       },
       "removedWidgets": [],
       "schema": [
        {
         "metadata": "{}",
         "name": "User ID",
         "type": "\"integer\""
        },
        {
         "metadata": "{}",
         "name": "Genero",
         "type": "\"string\""
        },
        {
         "metadata": "{}",
         "name": "Edad",
         "type": "\"integer\""
        },
        {
         "metadata": "{}",
         "name": "Salario",
         "type": "\"integer\""
        },
        {
         "metadata": "{}",
         "name": "Compra",
         "type": "\"integer\""
        }
       ],
       "type": "table"
      }
     },
     "output_type": "display_data"
    }
   ],
   "source": [
    "%sql\n",
    "\n",
    "/* Query the created temp table in a SQL cell */\n",
    "\n",
    "select * from `venta_csv` limit 5"
   ]
  },
  {
   "cell_type": "markdown",
   "metadata": {
    "application/vnd.databricks.v1+cell": {
     "cellMetadata": {},
     "inputWidgets": {},
     "nuid": "eff862da-8f22-45ef-93fd-0b99a2d941ef",
     "showTitle": false,
     "title": ""
    }
   },
   "source": [
    "## Dividimos el dataset en Train y Test"
   ]
  },
  {
   "cell_type": "code",
   "execution_count": 0,
   "metadata": {
    "application/vnd.databricks.v1+cell": {
     "cellMetadata": {
      "byteLimit": 2048000,
      "rowLimit": 10000
     },
     "inputWidgets": {},
     "nuid": "23421be2-59c0-477a-8406-4637843393f0",
     "showTitle": false,
     "title": ""
    }
   },
   "outputs": [
    {
     "output_type": "stream",
     "name": "stdout",
     "output_type": "stream",
     "text": [
      "342\n58\n"
     ]
    }
   ],
   "source": [
    "trainDF, testDF = df.randomSplit([0.8, 0.2], seed=42)\n",
    "print(trainDF.cache().count()) # Cache because accessing training data multiple times\n",
    "print(testDF.count())"
   ]
  },
  {
   "cell_type": "code",
   "execution_count": 0,
   "metadata": {
    "application/vnd.databricks.v1+cell": {
     "cellMetadata": {
      "byteLimit": 2048000,
      "rowLimit": 10000
     },
     "inputWidgets": {},
     "nuid": "40e60708-55fa-42bf-ac74-7c7f15622056",
     "showTitle": false,
     "title": ""
    }
   },
   "outputs": [
    {
     "output_type": "display_data",
     "data": {
      "text/html": [
       "<style scoped>\n",
       "  .table-result-container {\n",
       "    max-height: 300px;\n",
       "    overflow: auto;\n",
       "  }\n",
       "  table, th, td {\n",
       "    border: 1px solid black;\n",
       "    border-collapse: collapse;\n",
       "  }\n",
       "  th, td {\n",
       "    padding: 5px;\n",
       "  }\n",
       "  th {\n",
       "    text-align: left;\n",
       "  }\n",
       "</style><div class='table-result-container'><table class='table-result'><thead style='background-color: white'><tr><th>User ID</th><th>Genero</th><th>Edad</th><th>Salario</th><th>Compra</th></tr></thead><tbody><tr><td>15566689</td><td>Female</td><td>35</td><td>57000</td><td>0</td></tr><tr><td>15569641</td><td>Female</td><td>58</td><td>95000</td><td>1</td></tr><tr><td>15570932</td><td>Male</td><td>34</td><td>115000</td><td>0</td></tr><tr><td>15571059</td><td>Female</td><td>33</td><td>41000</td><td>0</td></tr><tr><td>15573452</td><td>Female</td><td>21</td><td>16000</td><td>0</td></tr></tbody></table></div>"
      ]
     },
     "metadata": {
      "application/vnd.databricks.v1+output": {
       "addedWidgets": {},
       "aggData": [],
       "aggError": "",
       "aggOverflow": false,
       "aggSchema": [],
       "aggSeriesLimitReached": false,
       "aggType": "",
       "arguments": {},
       "columnCustomDisplayInfos": {},
       "data": [
        [
         15566689,
         "Female",
         35,
         57000,
         0
        ],
        [
         15569641,
         "Female",
         58,
         95000,
         1
        ],
        [
         15570932,
         "Male",
         34,
         115000,
         0
        ],
        [
         15571059,
         "Female",
         33,
         41000,
         0
        ],
        [
         15573452,
         "Female",
         21,
         16000,
         0
        ]
       ],
       "datasetInfos": [],
       "dbfsResultPath": null,
       "isJsonSchema": true,
       "metadata": {},
       "overflow": false,
       "plotOptions": {
        "customPlotOptions": {},
        "displayType": "table",
        "pivotAggregation": null,
        "pivotColumns": null,
        "xColumns": null,
        "yColumns": null
       },
       "removedWidgets": [],
       "schema": [
        {
         "metadata": "{}",
         "name": "User ID",
         "type": "\"integer\""
        },
        {
         "metadata": "{}",
         "name": "Genero",
         "type": "\"string\""
        },
        {
         "metadata": "{}",
         "name": "Edad",
         "type": "\"integer\""
        },
        {
         "metadata": "{}",
         "name": "Salario",
         "type": "\"integer\""
        },
        {
         "metadata": "{}",
         "name": "Compra",
         "type": "\"integer\""
        }
       ],
       "type": "table"
      }
     },
     "output_type": "display_data"
    }
   ],
   "source": [
    "display(trainDF.limit(5))"
   ]
  },
  {
   "cell_type": "code",
   "execution_count": 0,
   "metadata": {
    "application/vnd.databricks.v1+cell": {
     "cellMetadata": {
      "byteLimit": 2048000,
      "rowLimit": 10000
     },
     "inputWidgets": {},
     "nuid": "ffcf02be-5963-44af-a0f2-cd1cd99af21f",
     "showTitle": false,
     "title": ""
    }
   },
   "outputs": [
    {
     "output_type": "display_data",
     "data": {
      "text/html": [
       "<style scoped>\n",
       "  .table-result-container {\n",
       "    max-height: 300px;\n",
       "    overflow: auto;\n",
       "  }\n",
       "  table, th, td {\n",
       "    border: 1px solid black;\n",
       "    border-collapse: collapse;\n",
       "  }\n",
       "  th, td {\n",
       "    padding: 5px;\n",
       "  }\n",
       "  th {\n",
       "    text-align: left;\n",
       "  }\n",
       "</style><div class='table-result-container'><table class='table-result'><thead style='background-color: white'><tr><th>Genero</th><th>count</th></tr></thead><tbody><tr><td>Female</td><td>174</td></tr><tr><td>Male</td><td>168</td></tr></tbody></table></div>"
      ]
     },
     "metadata": {
      "application/vnd.databricks.v1+output": {
       "addedWidgets": {},
       "aggData": [],
       "aggError": "",
       "aggOverflow": false,
       "aggSchema": [],
       "aggSeriesLimitReached": false,
       "aggType": "",
       "arguments": {},
       "columnCustomDisplayInfos": {},
       "data": [
        [
         "Female",
         174
        ],
        [
         "Male",
         168
        ]
       ],
       "datasetInfos": [],
       "dbfsResultPath": null,
       "isJsonSchema": true,
       "metadata": {},
       "overflow": false,
       "plotOptions": {
        "customPlotOptions": {},
        "displayType": "table",
        "pivotAggregation": null,
        "pivotColumns": null,
        "xColumns": null,
        "yColumns": null
       },
       "removedWidgets": [],
       "schema": [
        {
         "metadata": "{}",
         "name": "Genero",
         "type": "\"string\""
        },
        {
         "metadata": "{}",
         "name": "count",
         "type": "\"long\""
        }
       ],
       "type": "table"
      }
     },
     "output_type": "display_data"
    }
   ],
   "source": [
    "display(trainDF\n",
    "        .groupBy(\"Genero\")\n",
    "        .count()\n",
    "        .sort(\"count\", ascending=False))"
   ]
  },
  {
   "cell_type": "markdown",
   "metadata": {
    "application/vnd.databricks.v1+cell": {
     "cellMetadata": {},
     "inputWidgets": {},
     "nuid": "d891427d-7f76-4d24-b53f-b8e344b32572",
     "showTitle": false,
     "title": ""
    }
   },
   "source": [
    "## Transformadores, estimadores y tuberías\n",
    "\n",
    "Tres conceptos importantes en el aprendizaje automático de MLlib que se ilustran en este notebook son **Transformers**, **estimadores** y **Pipelines**.\n",
    "\n",
    "- **Transformer**: Toma un DataFrame como entrada y devuelve un nuevo DataFrame. Los transformadores no aprenden ningún parámetro de los datos y simplemente aplican transformaciones basadas en reglas para preparar los datos para el entrenamiento del modelo o generar predicciones usando un modelo MLlib entrenado. Llamas a un transformador con un método `.transform ()`.\n",
    "\n",
    "- **Estimador**: aprende los parámetros del DataFrame a través de un método `.fit ()` y devuelve un modelo, que es un transformador.\n",
    "\n",
    "- **Pipeline**: combina varios pasos en un solo flujo de trabajo que se puede ejecutar fácilmente. La creación de un modelo de aprendizaje automático generalmente implica configurar muchos pasos diferentes e iterar sobre ellos. Los pipelines  ayudan a automatizar este proceso."
   ]
  },
  {
   "cell_type": "markdown",
   "metadata": {
    "application/vnd.databricks.v1+cell": {
     "cellMetadata": {},
     "inputWidgets": {},
     "nuid": "d383b703-4151-42f2-aa03-30d8865672da",
     "showTitle": false,
     "title": ""
    }
   },
   "source": [
    "## Convertimos la variable categorica en numerica"
   ]
  },
  {
   "cell_type": "code",
   "execution_count": 0,
   "metadata": {
    "application/vnd.databricks.v1+cell": {
     "cellMetadata": {
      "byteLimit": 2048000,
      "rowLimit": 10000
     },
     "inputWidgets": {},
     "nuid": "a9158372-0f24-444c-bb97-9cecc66ba2d8",
     "showTitle": false,
     "title": ""
    }
   },
   "outputs": [
    {
     "output_type": "stream",
     "name": "stdout",
     "output_type": "stream",
     "text": [
      "Out[12]: ['User ID', 'Genero', 'Edad', 'Salario', 'Compra']"
     ]
    }
   ],
   "source": [
    "df.columns"
   ]
  },
  {
   "cell_type": "code",
   "execution_count": 0,
   "metadata": {
    "application/vnd.databricks.v1+cell": {
     "cellMetadata": {
      "byteLimit": 2048000,
      "rowLimit": 10000
     },
     "inputWidgets": {},
     "nuid": "043ba60d-357d-4fed-8cc4-f0272930c29a",
     "showTitle": false,
     "title": ""
    }
   },
   "outputs": [],
   "source": [
    "from pyspark.ml.feature import StringIndexer, OneHotEncoder\n",
    "\n",
    "categoricalCols = [\"Genero\"]\n",
    "\n",
    "# The following two lines are estimators. They return functions that we will later apply to transform the dataset.\n",
    "stringIndexer = StringIndexer(inputCols=categoricalCols, outputCols=[x + \"Index\" for x in categoricalCols]) \n",
    "encoder = OneHotEncoder(inputCols=stringIndexer.getOutputCols(), outputCols=[x + \"OHE\" for x in categoricalCols]) \n"
   ]
  },
  {
   "cell_type": "code",
   "execution_count": 0,
   "metadata": {
    "application/vnd.databricks.v1+cell": {
     "cellMetadata": {
      "byteLimit": 2048000,
      "rowLimit": 10000
     },
     "inputWidgets": {},
     "nuid": "2dd07915-ee5d-4e00-afa5-c65eff1c1973",
     "showTitle": false,
     "title": ""
    }
   },
   "outputs": [
    {
     "output_type": "display_data",
     "data": {
      "text/html": [
       "<style scoped>\n",
       "  .table-result-container {\n",
       "    max-height: 300px;\n",
       "    overflow: auto;\n",
       "  }\n",
       "  table, th, td {\n",
       "    border: 1px solid black;\n",
       "    border-collapse: collapse;\n",
       "  }\n",
       "  th, td {\n",
       "    padding: 5px;\n",
       "  }\n",
       "  th {\n",
       "    text-align: left;\n",
       "  }\n",
       "</style><div class='table-result-container'><table class='table-result'><thead style='background-color: white'><tr><th>User ID</th><th>Genero</th><th>Edad</th><th>Salario</th><th>Compra</th><th>GeneroIndex</th></tr></thead><tbody><tr><td>15566689</td><td>Female</td><td>35</td><td>57000</td><td>0</td><td>0.0</td></tr><tr><td>15569641</td><td>Female</td><td>58</td><td>95000</td><td>1</td><td>0.0</td></tr><tr><td>15570932</td><td>Male</td><td>34</td><td>115000</td><td>0</td><td>1.0</td></tr><tr><td>15571059</td><td>Female</td><td>33</td><td>41000</td><td>0</td><td>0.0</td></tr><tr><td>15573452</td><td>Female</td><td>21</td><td>16000</td><td>0</td><td>0.0</td></tr></tbody></table></div>"
      ]
     },
     "metadata": {
      "application/vnd.databricks.v1+output": {
       "addedWidgets": {},
       "aggData": [],
       "aggError": "",
       "aggOverflow": false,
       "aggSchema": [],
       "aggSeriesLimitReached": false,
       "aggType": "",
       "arguments": {},
       "columnCustomDisplayInfos": {},
       "data": [
        [
         15566689,
         "Female",
         35,
         57000,
         0,
         0.0
        ],
        [
         15569641,
         "Female",
         58,
         95000,
         1,
         0.0
        ],
        [
         15570932,
         "Male",
         34,
         115000,
         0,
         1.0
        ],
        [
         15571059,
         "Female",
         33,
         41000,
         0,
         0.0
        ],
        [
         15573452,
         "Female",
         21,
         16000,
         0,
         0.0
        ]
       ],
       "datasetInfos": [],
       "dbfsResultPath": null,
       "isJsonSchema": true,
       "metadata": {},
       "overflow": false,
       "plotOptions": {
        "customPlotOptions": {},
        "displayType": "table",
        "pivotAggregation": null,
        "pivotColumns": null,
        "xColumns": null,
        "yColumns": null
       },
       "removedWidgets": [],
       "schema": [
        {
         "metadata": "{}",
         "name": "User ID",
         "type": "\"integer\""
        },
        {
         "metadata": "{}",
         "name": "Genero",
         "type": "\"string\""
        },
        {
         "metadata": "{}",
         "name": "Edad",
         "type": "\"integer\""
        },
        {
         "metadata": "{}",
         "name": "Salario",
         "type": "\"integer\""
        },
        {
         "metadata": "{}",
         "name": "Compra",
         "type": "\"integer\""
        },
        {
         "metadata": "{\"ml_attr\":{\"vals\":[\"Female\",\"Male\"],\"type\":\"nominal\",\"name\":\"GeneroIndex\"}}",
         "name": "GeneroIndex",
         "type": "\"double\""
        }
       ],
       "type": "table"
      }
     },
     "output_type": "display_data"
    }
   ],
   "source": [
    "stringIndexerModel = stringIndexer.fit(trainDF)\n",
    "display(stringIndexerModel.transform(trainDF.limit(5)))"
   ]
  },
  {
   "cell_type": "markdown",
   "metadata": {
    "application/vnd.databricks.v1+cell": {
     "cellMetadata": {},
     "inputWidgets": {},
     "nuid": "24dca21e-2dc0-43f1-8196-b041d449c5db",
     "showTitle": false,
     "title": ""
    }
   },
   "source": [
    "## Combina todas las columnas de características en un solo vector de características"
   ]
  },
  {
   "cell_type": "code",
   "execution_count": 0,
   "metadata": {
    "application/vnd.databricks.v1+cell": {
     "cellMetadata": {
      "byteLimit": 2048000,
      "rowLimit": 10000
     },
     "inputWidgets": {},
     "nuid": "55d12d3a-8cfd-4404-9ba5-5c67f956e73a",
     "showTitle": false,
     "title": ""
    }
   },
   "outputs": [],
   "source": [
    "from pyspark.ml.feature import VectorAssembler\n",
    "\n",
    "# This includes both the numeric columns and the one-hot encoded binary vector columns in our dataset.\n",
    "numericCols = [\"Salario\", \"Edad\"]\n",
    "assemblerInputs = [c + \"OHE\" for c in categoricalCols] + numericCols\n",
    "vecAssembler = VectorAssembler(inputCols=assemblerInputs, outputCol=\"features\")"
   ]
  },
  {
   "cell_type": "markdown",
   "metadata": {
    "application/vnd.databricks.v1+cell": {
     "cellMetadata": {},
     "inputWidgets": {},
     "nuid": "643e00e9-a8ef-47a8-9ffe-2460eeb9cba5",
     "showTitle": false,
     "title": ""
    }
   },
   "source": [
    "## Aplicamos el modelo de regresión Logística"
   ]
  },
  {
   "cell_type": "code",
   "execution_count": 0,
   "metadata": {
    "application/vnd.databricks.v1+cell": {
     "cellMetadata": {
      "byteLimit": 2048000,
      "rowLimit": 10000
     },
     "inputWidgets": {},
     "nuid": "dec6d73b-2f93-4700-9735-bc5e4cf040f4",
     "showTitle": false,
     "title": ""
    }
   },
   "outputs": [],
   "source": [
    "from pyspark.ml.classification import LogisticRegression\n",
    "\n",
    "lr = LogisticRegression(featuresCol=\"features\", labelCol=\"Compra\", regParam=1.0)"
   ]
  },
  {
   "cell_type": "markdown",
   "metadata": {
    "application/vnd.databricks.v1+cell": {
     "cellMetadata": {},
     "inputWidgets": {},
     "nuid": "95a99d5e-a882-4ae4-bc07-d9ef1a3125a0",
     "showTitle": false,
     "title": ""
    }
   },
   "source": [
    "## Construimos la canalización con Pipeline"
   ]
  },
  {
   "cell_type": "code",
   "execution_count": 0,
   "metadata": {
    "application/vnd.databricks.v1+cell": {
     "cellMetadata": {
      "byteLimit": 2048000,
      "rowLimit": 10000
     },
     "inputWidgets": {},
     "nuid": "536e068d-72d1-44fe-9ab6-7f3a26f2773a",
     "showTitle": false,
     "title": ""
    }
   },
   "outputs": [],
   "source": [
    "from pyspark.ml import Pipeline\n",
    "\n",
    "# Define the pipeline based on the stages created in previous steps.\n",
    "pipeline = Pipeline(stages=[stringIndexer, encoder,vecAssembler, lr])\n",
    "\n",
    "# Define the pipeline model.\n",
    "pipelineModel = pipeline.fit(trainDF)\n",
    " \n",
    "# Apply the pipeline model to the test dataset.\n",
    "predDF = pipelineModel.transform(testDF)"
   ]
  },
  {
   "cell_type": "code",
   "execution_count": 0,
   "metadata": {
    "application/vnd.databricks.v1+cell": {
     "cellMetadata": {
      "byteLimit": 2048000,
      "rowLimit": 10000
     },
     "inputWidgets": {},
     "nuid": "29007392-bb6a-4b31-8316-689855c402c4",
     "showTitle": false,
     "title": ""
    }
   },
   "outputs": [
    {
     "output_type": "display_data",
     "data": {
      "text/html": [
       "<style scoped>\n",
       "  .table-result-container {\n",
       "    max-height: 300px;\n",
       "    overflow: auto;\n",
       "  }\n",
       "  table, th, td {\n",
       "    border: 1px solid black;\n",
       "    border-collapse: collapse;\n",
       "  }\n",
       "  th, td {\n",
       "    padding: 5px;\n",
       "  }\n",
       "  th {\n",
       "    text-align: left;\n",
       "  }\n",
       "</style><div class='table-result-container'><table class='table-result'><thead style='background-color: white'><tr><th>User ID</th><th>Genero</th><th>Edad</th><th>Salario</th><th>Compra</th><th>GeneroIndex</th><th>GeneroOHE</th><th>features</th><th>rawPrediction</th><th>probability</th><th>prediction</th></tr></thead><tbody><tr><td>15570769</td><td>Female</td><td>26</td><td>80000</td><td>0</td><td>0.0</td><td>Map(vectorType -> sparse, length -> 1, indices -> List(0), values -> List(1.0))</td><td>Map(vectorType -> dense, length -> 3, values -> List(1.0, 80000.0, 26.0))</td><td>Map(vectorType -> dense, length -> 2, values -> List(0.7976763850114337, -0.7976763850114337))</td><td>Map(vectorType -> dense, length -> 2, values -> List(0.6894772180686981, 0.3105227819313019))</td><td>0.0</td></tr><tr><td>15573926</td><td>Male</td><td>40</td><td>71000</td><td>1</td><td>1.0</td><td>Map(vectorType -> sparse, length -> 1, indices -> List(), values -> List())</td><td>Map(vectorType -> dense, length -> 3, values -> List(0.0, 71000.0, 40.0))</td><td>Map(vectorType -> dense, length -> 2, values -> List(0.524229613913215, -0.524229613913215))</td><td>Map(vectorType -> dense, length -> 2, values -> List(0.628136258436915, 0.371863741563085))</td><td>0.0</td></tr><tr><td>15574372</td><td>Female</td><td>58</td><td>47000</td><td>1</td><td>0.0</td><td>Map(vectorType -> sparse, length -> 1, indices -> List(0), values -> List(1.0))</td><td>Map(vectorType -> dense, length -> 3, values -> List(1.0, 47000.0, 58.0))</td><td>Map(vectorType -> dense, length -> 2, values -> List(0.1941311867100608, -0.1941311867100608))</td><td>Map(vectorType -> dense, length -> 2, values -> List(0.5483809479635257, 0.45161905203647434))</td><td>0.0</td></tr><tr><td>15577178</td><td>Female</td><td>22</td><td>63000</td><td>0</td><td>0.0</td><td>Map(vectorType -> sparse, length -> 1, indices -> List(0), values -> List(1.0))</td><td>Map(vectorType -> dense, length -> 3, values -> List(1.0, 63000.0, 22.0))</td><td>Map(vectorType -> dense, length -> 2, values -> List(0.9532339093203595, -0.9532339093203595))</td><td>Map(vectorType -> dense, length -> 2, values -> List(0.7217650780227889, 0.2782349219772111))</td><td>0.0</td></tr><tr><td>15579781</td><td>Female</td><td>29</td><td>47000</td><td>0</td><td>0.0</td><td>Map(vectorType -> sparse, length -> 1, indices -> List(0), values -> List(1.0))</td><td>Map(vectorType -> dense, length -> 3, values -> List(1.0, 47000.0, 29.0))</td><td>Map(vectorType -> dense, length -> 2, values -> List(0.8545103783168935, -0.8545103783168935))</td><td>Map(vectorType -> dense, length -> 2, values -> List(0.7015124405079024, 0.2984875594920976))</td><td>0.0</td></tr></tbody></table></div>"
      ]
     },
     "metadata": {
      "application/vnd.databricks.v1+output": {
       "addedWidgets": {},
       "aggData": [],
       "aggError": "",
       "aggOverflow": false,
       "aggSchema": [],
       "aggSeriesLimitReached": false,
       "aggType": "",
       "arguments": {},
       "columnCustomDisplayInfos": {},
       "data": [
        [
         15570769,
         "Female",
         26,
         80000,
         0,
         0.0,
         {
          "indices": [
           0
          ],
          "length": 1,
          "values": [
           1.0
          ],
          "vectorType": "sparse"
         },
         {
          "length": 3,
          "values": [
           1.0,
           80000.0,
           26.0
          ],
          "vectorType": "dense"
         },
         {
          "length": 2,
          "values": [
           0.7976763850114337,
           -0.7976763850114337
          ],
          "vectorType": "dense"
         },
         {
          "length": 2,
          "values": [
           0.6894772180686981,
           0.3105227819313019
          ],
          "vectorType": "dense"
         },
         0.0
        ],
        [
         15573926,
         "Male",
         40,
         71000,
         1,
         1.0,
         {
          "indices": [],
          "length": 1,
          "values": [],
          "vectorType": "sparse"
         },
         {
          "length": 3,
          "values": [
           0.0,
           71000.0,
           40.0
          ],
          "vectorType": "dense"
         },
         {
          "length": 2,
          "values": [
           0.524229613913215,
           -0.524229613913215
          ],
          "vectorType": "dense"
         },
         {
          "length": 2,
          "values": [
           0.628136258436915,
           0.371863741563085
          ],
          "vectorType": "dense"
         },
         0.0
        ],
        [
         15574372,
         "Female",
         58,
         47000,
         1,
         0.0,
         {
          "indices": [
           0
          ],
          "length": 1,
          "values": [
           1.0
          ],
          "vectorType": "sparse"
         },
         {
          "length": 3,
          "values": [
           1.0,
           47000.0,
           58.0
          ],
          "vectorType": "dense"
         },
         {
          "length": 2,
          "values": [
           0.1941311867100608,
           -0.1941311867100608
          ],
          "vectorType": "dense"
         },
         {
          "length": 2,
          "values": [
           0.5483809479635257,
           0.45161905203647434
          ],
          "vectorType": "dense"
         },
         0.0
        ],
        [
         15577178,
         "Female",
         22,
         63000,
         0,
         0.0,
         {
          "indices": [
           0
          ],
          "length": 1,
          "values": [
           1.0
          ],
          "vectorType": "sparse"
         },
         {
          "length": 3,
          "values": [
           1.0,
           63000.0,
           22.0
          ],
          "vectorType": "dense"
         },
         {
          "length": 2,
          "values": [
           0.9532339093203595,
           -0.9532339093203595
          ],
          "vectorType": "dense"
         },
         {
          "length": 2,
          "values": [
           0.7217650780227889,
           0.2782349219772111
          ],
          "vectorType": "dense"
         },
         0.0
        ],
        [
         15579781,
         "Female",
         29,
         47000,
         0,
         0.0,
         {
          "indices": [
           0
          ],
          "length": 1,
          "values": [
           1.0
          ],
          "vectorType": "sparse"
         },
         {
          "length": 3,
          "values": [
           1.0,
           47000.0,
           29.0
          ],
          "vectorType": "dense"
         },
         {
          "length": 2,
          "values": [
           0.8545103783168935,
           -0.8545103783168935
          ],
          "vectorType": "dense"
         },
         {
          "length": 2,
          "values": [
           0.7015124405079024,
           0.2984875594920976
          ],
          "vectorType": "dense"
         },
         0.0
        ]
       ],
       "datasetInfos": [],
       "dbfsResultPath": null,
       "isJsonSchema": true,
       "metadata": {},
       "overflow": false,
       "plotOptions": {
        "customPlotOptions": {},
        "displayType": "table",
        "pivotAggregation": null,
        "pivotColumns": null,
        "xColumns": null,
        "yColumns": null
       },
       "removedWidgets": [],
       "schema": [
        {
         "metadata": "{}",
         "name": "User ID",
         "type": "\"integer\""
        },
        {
         "metadata": "{}",
         "name": "Genero",
         "type": "\"string\""
        },
        {
         "metadata": "{}",
         "name": "Edad",
         "type": "\"integer\""
        },
        {
         "metadata": "{}",
         "name": "Salario",
         "type": "\"integer\""
        },
        {
         "metadata": "{}",
         "name": "Compra",
         "type": "\"integer\""
        },
        {
         "metadata": "{\"ml_attr\":{\"vals\":[\"Female\",\"Male\"],\"type\":\"nominal\",\"name\":\"GeneroIndex\"}}",
         "name": "GeneroIndex",
         "type": "\"double\""
        },
        {
         "metadata": "{\"ml_attr\":{\"attrs\":{\"binary\":[{\"idx\":0,\"name\":\"Female\"}]},\"num_attrs\":1}}",
         "name": "GeneroOHE",
         "type": "{\"type\":\"udt\",\"class\":\"org.apache.spark.ml.linalg.VectorUDT\",\"pyClass\":\"pyspark.ml.linalg.VectorUDT\",\"sqlType\":{\"type\":\"struct\",\"fields\":[{\"name\":\"type\",\"type\":\"byte\",\"nullable\":false,\"metadata\":{}},{\"name\":\"size\",\"type\":\"integer\",\"nullable\":true,\"metadata\":{}},{\"name\":\"indices\",\"type\":{\"type\":\"array\",\"elementType\":\"integer\",\"containsNull\":false},\"nullable\":true,\"metadata\":{}},{\"name\":\"values\",\"type\":{\"type\":\"array\",\"elementType\":\"double\",\"containsNull\":false},\"nullable\":true,\"metadata\":{}}]}}"
        },
        {
         "metadata": "{\"ml_attr\":{\"attrs\":{\"numeric\":[{\"idx\":1,\"name\":\"Salario\"},{\"idx\":2,\"name\":\"Edad\"}],\"binary\":[{\"idx\":0,\"name\":\"GeneroOHE_Female\"}]},\"num_attrs\":3}}",
         "name": "features",
         "type": "{\"type\":\"udt\",\"class\":\"org.apache.spark.ml.linalg.VectorUDT\",\"pyClass\":\"pyspark.ml.linalg.VectorUDT\",\"sqlType\":{\"type\":\"struct\",\"fields\":[{\"name\":\"type\",\"type\":\"byte\",\"nullable\":false,\"metadata\":{}},{\"name\":\"size\",\"type\":\"integer\",\"nullable\":true,\"metadata\":{}},{\"name\":\"indices\",\"type\":{\"type\":\"array\",\"elementType\":\"integer\",\"containsNull\":false},\"nullable\":true,\"metadata\":{}},{\"name\":\"values\",\"type\":{\"type\":\"array\",\"elementType\":\"double\",\"containsNull\":false},\"nullable\":true,\"metadata\":{}}]}}"
        },
        {
         "metadata": "{\"ml_attr\":{\"num_attrs\":2}}",
         "name": "rawPrediction",
         "type": "{\"type\":\"udt\",\"class\":\"org.apache.spark.ml.linalg.VectorUDT\",\"pyClass\":\"pyspark.ml.linalg.VectorUDT\",\"sqlType\":{\"type\":\"struct\",\"fields\":[{\"name\":\"type\",\"type\":\"byte\",\"nullable\":false,\"metadata\":{}},{\"name\":\"size\",\"type\":\"integer\",\"nullable\":true,\"metadata\":{}},{\"name\":\"indices\",\"type\":{\"type\":\"array\",\"elementType\":\"integer\",\"containsNull\":false},\"nullable\":true,\"metadata\":{}},{\"name\":\"values\",\"type\":{\"type\":\"array\",\"elementType\":\"double\",\"containsNull\":false},\"nullable\":true,\"metadata\":{}}]}}"
        },
        {
         "metadata": "{\"ml_attr\":{\"num_attrs\":2}}",
         "name": "probability",
         "type": "{\"type\":\"udt\",\"class\":\"org.apache.spark.ml.linalg.VectorUDT\",\"pyClass\":\"pyspark.ml.linalg.VectorUDT\",\"sqlType\":{\"type\":\"struct\",\"fields\":[{\"name\":\"type\",\"type\":\"byte\",\"nullable\":false,\"metadata\":{}},{\"name\":\"size\",\"type\":\"integer\",\"nullable\":true,\"metadata\":{}},{\"name\":\"indices\",\"type\":{\"type\":\"array\",\"elementType\":\"integer\",\"containsNull\":false},\"nullable\":true,\"metadata\":{}},{\"name\":\"values\",\"type\":{\"type\":\"array\",\"elementType\":\"double\",\"containsNull\":false},\"nullable\":true,\"metadata\":{}}]}}"
        },
        {
         "metadata": "{\"ml_attr\":{\"type\":\"nominal\",\"num_vals\":2}}",
         "name": "prediction",
         "type": "\"double\""
        }
       ],
       "type": "table"
      }
     },
     "output_type": "display_data"
    }
   ],
   "source": [
    "display(predDF.limit(5))"
   ]
  },
  {
   "cell_type": "code",
   "execution_count": 0,
   "metadata": {
    "application/vnd.databricks.v1+cell": {
     "cellMetadata": {
      "byteLimit": 2048000,
      "rowLimit": 10000
     },
     "inputWidgets": {},
     "nuid": "1251e72f-87fc-4c8f-ac1c-ec3e16cc2203",
     "showTitle": false,
     "title": ""
    }
   },
   "outputs": [
    {
     "output_type": "display_data",
     "data": {
      "text/html": [
       "<style scoped>\n",
       "  .table-result-container {\n",
       "    max-height: 300px;\n",
       "    overflow: auto;\n",
       "  }\n",
       "  table, th, td {\n",
       "    border: 1px solid black;\n",
       "    border-collapse: collapse;\n",
       "  }\n",
       "  th, td {\n",
       "    padding: 5px;\n",
       "  }\n",
       "  th {\n",
       "    text-align: left;\n",
       "  }\n",
       "</style><div class='table-result-container'><table class='table-result'><thead style='background-color: white'><tr><th>features</th><th>Compra</th><th>prediction</th><th>probability</th></tr></thead><tbody><tr><td>Map(vectorType -> dense, length -> 3, values -> List(1.0, 80000.0, 26.0))</td><td>0</td><td>0.0</td><td>Map(vectorType -> dense, length -> 2, values -> List(0.6894772180686981, 0.3105227819313019))</td></tr><tr><td>Map(vectorType -> dense, length -> 3, values -> List(0.0, 71000.0, 40.0))</td><td>1</td><td>0.0</td><td>Map(vectorType -> dense, length -> 2, values -> List(0.628136258436915, 0.371863741563085))</td></tr><tr><td>Map(vectorType -> dense, length -> 3, values -> List(1.0, 47000.0, 58.0))</td><td>1</td><td>0.0</td><td>Map(vectorType -> dense, length -> 2, values -> List(0.5483809479635257, 0.45161905203647434))</td></tr><tr><td>Map(vectorType -> dense, length -> 3, values -> List(1.0, 63000.0, 22.0))</td><td>0</td><td>0.0</td><td>Map(vectorType -> dense, length -> 2, values -> List(0.7217650780227889, 0.2782349219772111))</td></tr><tr><td>Map(vectorType -> dense, length -> 3, values -> List(1.0, 47000.0, 29.0))</td><td>0</td><td>0.0</td><td>Map(vectorType -> dense, length -> 2, values -> List(0.7015124405079024, 0.2984875594920976))</td></tr></tbody></table></div>"
      ]
     },
     "metadata": {
      "application/vnd.databricks.v1+output": {
       "addedWidgets": {},
       "aggData": [],
       "aggError": "",
       "aggOverflow": false,
       "aggSchema": [],
       "aggSeriesLimitReached": false,
       "aggType": "",
       "arguments": {},
       "columnCustomDisplayInfos": {},
       "data": [
        [
         {
          "length": 3,
          "values": [
           1.0,
           80000.0,
           26.0
          ],
          "vectorType": "dense"
         },
         0,
         0.0,
         {
          "length": 2,
          "values": [
           0.6894772180686981,
           0.3105227819313019
          ],
          "vectorType": "dense"
         }
        ],
        [
         {
          "length": 3,
          "values": [
           0.0,
           71000.0,
           40.0
          ],
          "vectorType": "dense"
         },
         1,
         0.0,
         {
          "length": 2,
          "values": [
           0.628136258436915,
           0.371863741563085
          ],
          "vectorType": "dense"
         }
        ],
        [
         {
          "length": 3,
          "values": [
           1.0,
           47000.0,
           58.0
          ],
          "vectorType": "dense"
         },
         1,
         0.0,
         {
          "length": 2,
          "values": [
           0.5483809479635257,
           0.45161905203647434
          ],
          "vectorType": "dense"
         }
        ],
        [
         {
          "length": 3,
          "values": [
           1.0,
           63000.0,
           22.0
          ],
          "vectorType": "dense"
         },
         0,
         0.0,
         {
          "length": 2,
          "values": [
           0.7217650780227889,
           0.2782349219772111
          ],
          "vectorType": "dense"
         }
        ],
        [
         {
          "length": 3,
          "values": [
           1.0,
           47000.0,
           29.0
          ],
          "vectorType": "dense"
         },
         0,
         0.0,
         {
          "length": 2,
          "values": [
           0.7015124405079024,
           0.2984875594920976
          ],
          "vectorType": "dense"
         }
        ]
       ],
       "datasetInfos": [],
       "dbfsResultPath": null,
       "isJsonSchema": true,
       "metadata": {},
       "overflow": false,
       "plotOptions": {
        "customPlotOptions": {},
        "displayType": "table",
        "pivotAggregation": null,
        "pivotColumns": null,
        "xColumns": null,
        "yColumns": null
       },
       "removedWidgets": [],
       "schema": [
        {
         "metadata": "{\"ml_attr\":{\"attrs\":{\"numeric\":[{\"idx\":1,\"name\":\"Salario\"},{\"idx\":2,\"name\":\"Edad\"}],\"binary\":[{\"idx\":0,\"name\":\"GeneroOHE_Female\"}]},\"num_attrs\":3}}",
         "name": "features",
         "type": "{\"type\":\"udt\",\"class\":\"org.apache.spark.ml.linalg.VectorUDT\",\"pyClass\":\"pyspark.ml.linalg.VectorUDT\",\"sqlType\":{\"type\":\"struct\",\"fields\":[{\"name\":\"type\",\"type\":\"byte\",\"nullable\":false,\"metadata\":{}},{\"name\":\"size\",\"type\":\"integer\",\"nullable\":true,\"metadata\":{}},{\"name\":\"indices\",\"type\":{\"type\":\"array\",\"elementType\":\"integer\",\"containsNull\":false},\"nullable\":true,\"metadata\":{}},{\"name\":\"values\",\"type\":{\"type\":\"array\",\"elementType\":\"double\",\"containsNull\":false},\"nullable\":true,\"metadata\":{}}]}}"
        },
        {
         "metadata": "{}",
         "name": "Compra",
         "type": "\"integer\""
        },
        {
         "metadata": "{\"ml_attr\":{\"type\":\"nominal\",\"num_vals\":2}}",
         "name": "prediction",
         "type": "\"double\""
        },
        {
         "metadata": "{\"ml_attr\":{\"num_attrs\":2}}",
         "name": "probability",
         "type": "{\"type\":\"udt\",\"class\":\"org.apache.spark.ml.linalg.VectorUDT\",\"pyClass\":\"pyspark.ml.linalg.VectorUDT\",\"sqlType\":{\"type\":\"struct\",\"fields\":[{\"name\":\"type\",\"type\":\"byte\",\"nullable\":false,\"metadata\":{}},{\"name\":\"size\",\"type\":\"integer\",\"nullable\":true,\"metadata\":{}},{\"name\":\"indices\",\"type\":{\"type\":\"array\",\"elementType\":\"integer\",\"containsNull\":false},\"nullable\":true,\"metadata\":{}},{\"name\":\"values\",\"type\":{\"type\":\"array\",\"elementType\":\"double\",\"containsNull\":false},\"nullable\":true,\"metadata\":{}}]}}"
        }
       ],
       "type": "table"
      }
     },
     "output_type": "display_data"
    }
   ],
   "source": [
    "display(predDF.select(\"features\",\"Compra\", \"prediction\", \"probability\").limit(5))"
   ]
  },
  {
   "cell_type": "markdown",
   "metadata": {
    "application/vnd.databricks.v1+cell": {
     "cellMetadata": {},
     "inputWidgets": {},
     "nuid": "eba3b883-2984-4ad1-be67-08b805282fe5",
     "showTitle": false,
     "title": ""
    }
   },
   "source": [
    "## Evaluando el Modelo"
   ]
  },
  {
   "cell_type": "code",
   "execution_count": 0,
   "metadata": {
    "application/vnd.databricks.v1+cell": {
     "cellMetadata": {
      "byteLimit": 2048000,
      "rowLimit": 10000
     },
     "inputWidgets": {},
     "nuid": "52dfc27b-7933-422e-a537-f581ea2444d8",
     "showTitle": false,
     "title": ""
    }
   },
   "outputs": [
    {
     "output_type": "stream",
     "name": "stdout",
     "output_type": "stream",
     "text": [
      "Out[22]: LogisticRegressionModel: uid=LogisticRegression_5b7583b814d9, numClasses=2, numFeatures=3"
     ]
    }
   ],
   "source": [
    "pipelineModel.stages[-1] ## el modelo de regresion logistica"
   ]
  },
  {
   "cell_type": "code",
   "execution_count": 0,
   "metadata": {
    "application/vnd.databricks.v1+cell": {
     "cellMetadata": {
      "byteLimit": 2048000,
      "rowLimit": 10000
     },
     "inputWidgets": {},
     "nuid": "19a20301-b8bd-4b61-9815-c7d7016b85cf",
     "showTitle": false,
     "title": ""
    }
   },
   "outputs": [
    {
     "output_type": "display_data",
     "data": {
      "text/html": [
       "<style scoped>\n",
       "  .table-result-container {\n",
       "    max-height: 300px;\n",
       "    overflow: auto;\n",
       "  }\n",
       "  table, th, td {\n",
       "    border: 1px solid black;\n",
       "    border-collapse: collapse;\n",
       "  }\n",
       "  th, td {\n",
       "    padding: 5px;\n",
       "  }\n",
       "  th {\n",
       "    text-align: left;\n",
       "  }\n",
       "</style><div class='table-result-container'><table class='table-result'><thead style='background-color: white'><tr><th>False Positive Rate</th><th>True Positive Rate</th><th>Threshold</th></tr></thead><tbody><tr><td>0.0</td><td>0.0</td><td>0.5452471659354148</td></tr><tr><td>0.0</td><td>0.05263157894736842</td><td>0.5452471659354148</td></tr><tr><td>0.0</td><td>0.10526315789473684</td><td>0.51307767360717</td></tr><tr><td>0.0</td><td>0.15789473684210525</td><td>0.5035866161255694</td></tr><tr><td>0.02564102564102564</td><td>0.15789473684210525</td><td>0.48084168320278164</td></tr><tr><td>0.02564102564102564</td><td>0.21052631578947367</td><td>0.4770603477436657</td></tr><tr><td>0.02564102564102564</td><td>0.2631578947368421</td><td>0.46860794830680674</td></tr><tr><td>0.02564102564102564</td><td>0.3157894736842105</td><td>0.45817588028444944</td></tr><tr><td>0.02564102564102564</td><td>0.3684210526315789</td><td>0.4562978523185728</td></tr><tr><td>0.02564102564102564</td><td>0.42105263157894735</td><td>0.45161905203647434</td></tr><tr><td>0.02564102564102564</td><td>0.47368421052631576</td><td>0.4459430910250536</td></tr><tr><td>0.02564102564102564</td><td>0.5263157894736842</td><td>0.445019098233269</td></tr><tr><td>0.02564102564102564</td><td>0.5789473684210527</td><td>0.4281995203114043</td></tr><tr><td>0.05128205128205128</td><td>0.5789473684210527</td><td>0.42362565981915157</td></tr><tr><td>0.05128205128205128</td><td>0.631578947368421</td><td>0.41252493762597064</td></tr><tr><td>0.05128205128205128</td><td>0.6842105263157895</td><td>0.3933522816008267</td></tr><tr><td>0.05128205128205128</td><td>0.7368421052631579</td><td>0.39155207382549484</td></tr><tr><td>0.07692307692307693</td><td>0.7368421052631579</td><td>0.3807325440115019</td></tr><tr><td>0.10256410256410256</td><td>0.7368421052631579</td><td>0.3780853645708565</td></tr><tr><td>0.1282051282051282</td><td>0.7368421052631579</td><td>0.37804967603509043</td></tr><tr><td>0.1282051282051282</td><td>0.7894736842105263</td><td>0.3763320082389726</td></tr><tr><td>0.15384615384615385</td><td>0.7894736842105263</td><td>0.3763116855963332</td></tr><tr><td>0.15384615384615385</td><td>0.8421052631578947</td><td>0.37271046772234306</td></tr><tr><td>0.15384615384615385</td><td>0.8947368421052632</td><td>0.371863741563085</td></tr><tr><td>0.1794871794871795</td><td>0.8947368421052632</td><td>0.369182860319369</td></tr><tr><td>0.20512820512820512</td><td>0.8947368421052632</td><td>0.36656040737874485</td></tr><tr><td>0.20512820512820512</td><td>0.9473684210526315</td><td>0.3630372960774685</td></tr><tr><td>0.23076923076923078</td><td>0.9473684210526315</td><td>0.3612971965602404</td></tr><tr><td>0.2564102564102564</td><td>0.9473684210526315</td><td>0.3612852078696315</td></tr><tr><td>0.28205128205128205</td><td>0.9473684210526315</td><td>0.35863306399854067</td></tr><tr><td>0.28205128205128205</td><td>1.0</td><td>0.35082374674784034</td></tr><tr><td>0.3076923076923077</td><td>1.0</td><td>0.34911797335057293</td></tr><tr><td>0.3333333333333333</td><td>1.0</td><td>0.34650669189677497</td></tr><tr><td>0.358974358974359</td><td>1.0</td><td>0.34563277581640717</td></tr><tr><td>0.38461538461538464</td><td>1.0</td><td>0.3439545006053135</td></tr><tr><td>0.41025641025641024</td><td>1.0</td><td>0.3414181572297966</td></tr><tr><td>0.4358974358974359</td><td>1.0</td><td>0.3388189683955045</td></tr><tr><td>0.46153846153846156</td><td>1.0</td><td>0.32955179919175104</td></tr><tr><td>0.48717948717948717</td><td>1.0</td><td>0.3286885724343017</td></tr><tr><td>0.5128205128205128</td><td>1.0</td><td>0.32787431425471514</td></tr><tr><td>0.5384615384615384</td><td>1.0</td><td>0.3187037809705008</td></tr><tr><td>0.5641025641025641</td><td>1.0</td><td>0.3146484285681529</td></tr><tr><td>0.5897435897435898</td><td>1.0</td><td>0.3105227819313019</td></tr><tr><td>0.6153846153846154</td><td>1.0</td><td>0.30892993425816406</td></tr><tr><td>0.6410256410256411</td><td>1.0</td><td>0.30808482671201054</td></tr><tr><td>0.6666666666666666</td><td>1.0</td><td>0.30168737282319835</td></tr><tr><td>0.6923076923076923</td><td>1.0</td><td>0.2984875594920976</td></tr><tr><td>0.717948717948718</td><td>1.0</td><td>0.2953452784422812</td></tr><tr><td>0.7435897435897436</td><td>1.0</td><td>0.28825719755284285</td></tr><tr><td>0.7692307692307693</td><td>1.0</td><td>0.2790346526709029</td></tr><tr><td>0.7948717948717948</td><td>1.0</td><td>0.2782349219772111</td></tr><tr><td>0.8205128205128205</td><td>1.0</td><td>0.27220315817128826</td></tr><tr><td>0.8461538461538461</td><td>1.0</td><td>0.27143618389907764</td></tr><tr><td>0.8717948717948718</td><td>1.0</td><td>0.2707270774346583</td></tr><tr><td>0.8974358974358975</td><td>1.0</td><td>0.266261481718586</td></tr><tr><td>0.9230769230769231</td><td>1.0</td><td>0.2589117425556655</td></tr><tr><td>0.9487179487179487</td><td>1.0</td><td>0.25025317756110144</td></tr><tr><td>0.9743589743589743</td><td>1.0</td><td>0.24884895174327915</td></tr><tr><td>1.0</td><td>1.0</td><td>0.2404026692529201</td></tr><tr><td>1.0</td><td>1.0</td><td>0.2404026692529201</td></tr></tbody></table></div>"
      ]
     },
     "metadata": {
      "application/vnd.databricks.v1+output": {
       "addedWidgets": {},
       "aggData": [],
       "aggError": "",
       "aggOverflow": false,
       "aggSchema": [],
       "aggSeriesLimitReached": false,
       "aggType": "",
       "arguments": {},
       "columnCustomDisplayInfos": {},
       "data": [
        [
         0.0,
         0.0,
         0.5452471659354148
        ],
        [
         0.0,
         0.05263157894736842,
         0.5452471659354148
        ],
        [
         0.0,
         0.10526315789473684,
         0.51307767360717
        ],
        [
         0.0,
         0.15789473684210525,
         0.5035866161255694
        ],
        [
         0.02564102564102564,
         0.15789473684210525,
         0.48084168320278164
        ],
        [
         0.02564102564102564,
         0.21052631578947367,
         0.4770603477436657
        ],
        [
         0.02564102564102564,
         0.2631578947368421,
         0.46860794830680674
        ],
        [
         0.02564102564102564,
         0.3157894736842105,
         0.45817588028444944
        ],
        [
         0.02564102564102564,
         0.3684210526315789,
         0.4562978523185728
        ],
        [
         0.02564102564102564,
         0.42105263157894735,
         0.45161905203647434
        ],
        [
         0.02564102564102564,
         0.47368421052631576,
         0.4459430910250536
        ],
        [
         0.02564102564102564,
         0.5263157894736842,
         0.445019098233269
        ],
        [
         0.02564102564102564,
         0.5789473684210527,
         0.4281995203114043
        ],
        [
         0.05128205128205128,
         0.5789473684210527,
         0.42362565981915157
        ],
        [
         0.05128205128205128,
         0.631578947368421,
         0.41252493762597064
        ],
        [
         0.05128205128205128,
         0.6842105263157895,
         0.3933522816008267
        ],
        [
         0.05128205128205128,
         0.7368421052631579,
         0.39155207382549484
        ],
        [
         0.07692307692307693,
         0.7368421052631579,
         0.3807325440115019
        ],
        [
         0.10256410256410256,
         0.7368421052631579,
         0.3780853645708565
        ],
        [
         0.1282051282051282,
         0.7368421052631579,
         0.37804967603509043
        ],
        [
         0.1282051282051282,
         0.7894736842105263,
         0.3763320082389726
        ],
        [
         0.15384615384615385,
         0.7894736842105263,
         0.3763116855963332
        ],
        [
         0.15384615384615385,
         0.8421052631578947,
         0.37271046772234306
        ],
        [
         0.15384615384615385,
         0.8947368421052632,
         0.371863741563085
        ],
        [
         0.1794871794871795,
         0.8947368421052632,
         0.369182860319369
        ],
        [
         0.20512820512820512,
         0.8947368421052632,
         0.36656040737874485
        ],
        [
         0.20512820512820512,
         0.9473684210526315,
         0.3630372960774685
        ],
        [
         0.23076923076923078,
         0.9473684210526315,
         0.3612971965602404
        ],
        [
         0.2564102564102564,
         0.9473684210526315,
         0.3612852078696315
        ],
        [
         0.28205128205128205,
         0.9473684210526315,
         0.35863306399854067
        ],
        [
         0.28205128205128205,
         1.0,
         0.35082374674784034
        ],
        [
         0.3076923076923077,
         1.0,
         0.34911797335057293
        ],
        [
         0.3333333333333333,
         1.0,
         0.34650669189677497
        ],
        [
         0.358974358974359,
         1.0,
         0.34563277581640717
        ],
        [
         0.38461538461538464,
         1.0,
         0.3439545006053135
        ],
        [
         0.41025641025641024,
         1.0,
         0.3414181572297966
        ],
        [
         0.4358974358974359,
         1.0,
         0.3388189683955045
        ],
        [
         0.46153846153846156,
         1.0,
         0.32955179919175104
        ],
        [
         0.48717948717948717,
         1.0,
         0.3286885724343017
        ],
        [
         0.5128205128205128,
         1.0,
         0.32787431425471514
        ],
        [
         0.5384615384615384,
         1.0,
         0.3187037809705008
        ],
        [
         0.5641025641025641,
         1.0,
         0.3146484285681529
        ],
        [
         0.5897435897435898,
         1.0,
         0.3105227819313019
        ],
        [
         0.6153846153846154,
         1.0,
         0.30892993425816406
        ],
        [
         0.6410256410256411,
         1.0,
         0.30808482671201054
        ],
        [
         0.6666666666666666,
         1.0,
         0.30168737282319835
        ],
        [
         0.6923076923076923,
         1.0,
         0.2984875594920976
        ],
        [
         0.717948717948718,
         1.0,
         0.2953452784422812
        ],
        [
         0.7435897435897436,
         1.0,
         0.28825719755284285
        ],
        [
         0.7692307692307693,
         1.0,
         0.2790346526709029
        ],
        [
         0.7948717948717948,
         1.0,
         0.2782349219772111
        ],
        [
         0.8205128205128205,
         1.0,
         0.27220315817128826
        ],
        [
         0.8461538461538461,
         1.0,
         0.27143618389907764
        ],
        [
         0.8717948717948718,
         1.0,
         0.2707270774346583
        ],
        [
         0.8974358974358975,
         1.0,
         0.266261481718586
        ],
        [
         0.9230769230769231,
         1.0,
         0.2589117425556655
        ],
        [
         0.9487179487179487,
         1.0,
         0.25025317756110144
        ],
        [
         0.9743589743589743,
         1.0,
         0.24884895174327915
        ],
        [
         1.0,
         1.0,
         0.2404026692529201
        ],
        [
         1.0,
         1.0,
         0.2404026692529201
        ]
       ],
       "datasetInfos": [],
       "dbfsResultPath": null,
       "isJsonSchema": true,
       "metadata": {},
       "overflow": false,
       "plotOptions": {
        "customPlotOptions": {},
        "displayType": "ROC",
        "pivotAggregation": null,
        "pivotColumns": null,
        "xColumns": [],
        "yColumns": [
         "False Positive Rate",
         "True Positive Rate",
         "Threshold"
        ]
       },
       "removedWidgets": [],
       "schema": [
        {
         "metadata": "{}",
         "name": "False Positive Rate",
         "type": "\"double\""
        },
        {
         "metadata": "{}",
         "name": "True Positive Rate",
         "type": "\"double\""
        },
        {
         "metadata": "{}",
         "name": "Threshold",
         "type": "\"double\""
        }
       ],
       "type": "table"
      }
     },
     "output_type": "display_data"
    }
   ],
   "source": [
    "display(pipelineModel.stages[-1], predDF.drop(\"prediction\", \"rawPrediction\", \"probability\"), \"ROC\")"
   ]
  },
  {
   "cell_type": "code",
   "execution_count": 0,
   "metadata": {
    "application/vnd.databricks.v1+cell": {
     "cellMetadata": {
      "byteLimit": 2048000,
      "rowLimit": 10000
     },
     "inputWidgets": {},
     "nuid": "b2a82285-acec-4772-a79a-1ad8712980f2",
     "showTitle": false,
     "title": ""
    }
   },
   "outputs": [
    {
     "output_type": "stream",
     "name": "stdout",
     "output_type": "stream",
     "text": [
      "Area under ROC curve: 0.932523616734143\nAccuracy: 0.7241379310344828\n"
     ]
    }
   ],
   "source": [
    "from pyspark.ml.evaluation import BinaryClassificationEvaluator, MulticlassClassificationEvaluator\n",
    "\n",
    "bcEvaluator = BinaryClassificationEvaluator(metricName=\"areaUnderROC\",labelCol=\"Compra\")\n",
    "print(f\"Area under ROC curve: {bcEvaluator.evaluate(predDF)}\")\n",
    "\n",
    "mcEvaluator = MulticlassClassificationEvaluator(metricName=\"accuracy\",labelCol=\"Compra\")\n",
    "print(f\"Accuracy: {mcEvaluator.evaluate(predDF)}\")"
   ]
  },
  {
   "cell_type": "markdown",
   "metadata": {
    "application/vnd.databricks.v1+cell": {
     "cellMetadata": {},
     "inputWidgets": {},
     "nuid": "0fdeb604-5831-4143-b040-dd0470fbe32c",
     "showTitle": false,
     "title": ""
    }
   },
   "source": [
    "## Ajuste de Hiperparametros"
   ]
  },
  {
   "cell_type": "code",
   "execution_count": 0,
   "metadata": {
    "application/vnd.databricks.v1+cell": {
     "cellMetadata": {
      "byteLimit": 2048000,
      "rowLimit": 10000
     },
     "inputWidgets": {},
     "nuid": "bf4c61d6-53a6-4369-8c44-db8584d393ff",
     "showTitle": false,
     "title": ""
    }
   },
   "outputs": [],
   "source": [
    "from pyspark.ml.tuning import ParamGridBuilder, CrossValidator\n",
    "\n",
    "paramGrid = (ParamGridBuilder()\n",
    "             .addGrid(lr.regParam, [0.01, 0.5, 2.0])\n",
    "             .addGrid(lr.elasticNetParam, [0.0, 0.5, 1.0])\n",
    "             .build())"
   ]
  },
  {
   "cell_type": "code",
   "execution_count": 0,
   "metadata": {
    "application/vnd.databricks.v1+cell": {
     "cellMetadata": {
      "byteLimit": 2048000,
      "rowLimit": 10000
     },
     "inputWidgets": {},
     "nuid": "896f8622-aa34-4571-93c5-aac7bdfb922f",
     "showTitle": false,
     "title": ""
    }
   },
   "outputs": [],
   "source": [
    "# Create a 3-fold CrossValidator\n",
    "cv = CrossValidator(estimator=pipeline, estimatorParamMaps=paramGrid, evaluator=bcEvaluator, numFolds=3, parallelism = 4)\n",
    "\n",
    "# Run cross validations. This step takes a few minutes and returns the best model found from the cross validation.\n",
    "cvModel = cv.fit(trainDF)"
   ]
  },
  {
   "cell_type": "markdown",
   "metadata": {
    "application/vnd.databricks.v1+cell": {
     "cellMetadata": {},
     "inputWidgets": {},
     "nuid": "d41da940-535d-4164-b413-d40ca2ae46e8",
     "showTitle": false,
     "title": ""
    }
   },
   "source": [
    "## Realizamos nuevas predicciones y evaluamos el modelo"
   ]
  },
  {
   "cell_type": "code",
   "execution_count": 0,
   "metadata": {
    "application/vnd.databricks.v1+cell": {
     "cellMetadata": {
      "byteLimit": 2048000,
      "rowLimit": 10000
     },
     "inputWidgets": {},
     "nuid": "ac1a6f7c-64c0-48d0-86c6-8fa59269b8fb",
     "showTitle": false,
     "title": ""
    }
   },
   "outputs": [
    {
     "output_type": "stream",
     "name": "stdout",
     "output_type": "stream",
     "text": [
      "Area under ROC curve: 0.9338731443994601\nAccuracy: 0.8793103448275862\n"
     ]
    }
   ],
   "source": [
    "# Use the model identified by the cross-validation to make predictions on the test dataset\n",
    "cvPredDF = cvModel.transform(testDF)\n",
    "\n",
    "# Evaluate the model's performance based on area under the ROC curve and accuracy \n",
    "print(f\"Area under ROC curve: {bcEvaluator.evaluate(cvPredDF)}\")\n",
    "print(f\"Accuracy: {mcEvaluator.evaluate(cvPredDF)}\")"
   ]
  },
  {
   "cell_type": "markdown",
   "metadata": {
    "application/vnd.databricks.v1+cell": {
     "cellMetadata": {},
     "inputWidgets": {},
     "nuid": "9fe8bf46-f35a-4d1b-9c16-195f5157a16f",
     "showTitle": false,
     "title": ""
    }
   },
   "source": [
    "## Utilizamos otra metrica, para evaluar el modelo, La matriz de confusion"
   ]
  },
  {
   "cell_type": "code",
   "execution_count": 0,
   "metadata": {
    "application/vnd.databricks.v1+cell": {
     "cellMetadata": {
      "byteLimit": 2048000,
      "rowLimit": 10000
     },
     "inputWidgets": {},
     "nuid": "ffdd4cf7-b444-429e-897e-38ea109c58a2",
     "showTitle": false,
     "title": ""
    }
   },
   "outputs": [
    {
     "output_type": "display_data",
     "data": {
      "image/png": "[encoded data removed]"
     },
     "metadata": {
      "application/vnd.databricks.v1+output": {
       "addedWidgets": {},
       "arguments": {},
       "data": "data:image/png;base64,iVBORw0KGgoAAAANSUhEUgAAAcwAAAGDCAYAAACm1SA/AAAAOXRFWHRTb2Z0d2FyZQBNYXRwbG90bGliIHZlcnNpb24zLjUuMSwgaHR0cHM6Ly9tYXRwbG90bGliLm9yZy/YYfK9AAAACXBIWXMAAAsTAAALEwEAmpwYAAAkFklEQVR4nO3deZglVX3/8fenZ9hk2BkQNcqixODCoEhwB1TELYoR0CBBow4mEUVx10fckmgUxahBh6CgIkJUFBAVFxRRoywiDOAu5icMDCIiICLL9/fHrcamM9N9u3uqa6r7/eKpp+89t+qcM+O1v/M959SpVBWSJGliI113QJKkPjBgSpI0BAOmJElDMGBKkjQEA6YkSUMwYEqSNAQDpualJBskOS3J9Un+ewb1HJjkzDXZty4k+WKSg7vuh7Q2M2BqrZbk75Kcl+TGJCuaX+yPWgNVPwvYGtiiqvabbiVVdUJV7b0G+nMXSfZIUklOGVe+c1P+jSHreXOST0x2XlU9qaqOn2Z3pXnBgKm1VpJXAEcB/8oguN0b+E/g6Wug+vsAP6mq29ZAXW25Bnh4ki3GlB0M/GRNNZABfw9IQ/D/KForJdkEeCvwz1X12aq6qapurarTqupVzTnrJTkqyZXNcVSS9ZrP9kjy6ySHJ1nZZKfPbz57C/Am4IAmc33B+EwsybZNJrewef+8JL9IckOSXyY5cEz5OWOue0SSc5uh3nOTPGLMZ99I8rYk327qOTPJlhP8NfwJ+Bzw7Ob6BcABwAnj/q7el+T/Jfl9kvOTPLop3wd4/Zg/5w/H9ONfknwb+AOwfVP2wubzo5N8Zkz970zytSQZ9n8/aS4yYGpt9XBgfeCUCc55A7A7sATYGdgNeOOYz+8ObALcE3gB8MEkm1XVEQyy1pOqalFVHTtRR5JsCPwH8KSq2gh4BHDhKs7bHPhCc+4WwHuAL4zLEP8OeD6wFbAu8MqJ2gY+Bvx98/qJwHLgynHnnMvg72Bz4JPAfydZv6q+NO7PufOYaw4ClgIbAb8aV9/hwIOafww8msHf3cHlPpqa5wyYWlttAfxmkiHTA4G3VtXKqroGeAuDQDDq1ubzW6vqDOBG4C+n2Z87gAcm2aCqVlTVJas45ynAT6vq41V1W1WdCPwIeNqYcz5aVT+pqpuBkxkEutWqqu8Amyf5SwaB82OrOOcTVXVt0+aRwHpM/uc8rqouaa65dVx9f2Dw9/ge4BPAoVX160nqk+Y8A6bWVtcCW44Oia7GPbhrdvSrpuzOOsYF3D8Ai6bakaq6icFQ6IuBFUm+kOT+Q/RntE/3HPP+qmn05+PAS4A9WUXGneSVSS5rhoF/xyCrnmioF+D/TfRhVX0P+AUQBoFdmvcMmFpbfRe4BXjGBOdcyWDxzqh783+HK4d1E3C3Me/vPvbDqvpyVT0B2IZB1njMEP0Z7dMV0+zTqI8D/wSc0WR/d2qGTF8N7A9sVlWbAtczCHQAqxtGnXB4Nck/M8hUr2zql+Y9A6bWSlV1PYOFOR9M8owkd0uyTpInJfn35rQTgTcmWdwsnnkTgyHE6bgQeEySezcLjl43+kGSrZM8vZnLvIXB0O4dq6jjDGDH5laYhUkOAHYCTp9mnwCoql8Cj2UwZzveRsBtDFbULkzyJmDjMZ9fDWw7lZWwSXYE3g48l8HQ7KuTLJle76W5w4CptVYzH/cKBgt5rmEwjPgSBitHYfBL/TzgIuBi4IKmbDptfQU4qanrfO4a5EaaflwJ/JZB8PrHVdRxLfBUBotmrmWQmT21qn4znT6Nq/ucqlpV9vxl4EsMbjX5FfBH7jrcOropw7VJLpisnWYI/BPAO6vqh1X1UwYrbT8+ugJZmq/iwjdJkiZnhilJ0hAMmJIkDcGAKUnSEAyYkiQNwYApSdIQJtpFpVMb7PISl+9qTrju3A903QVpxtZfSGub78/09/3NP/jArDwYYK0NmJKkeaInT5gzYEqSutWTJ8cZMCVJ3epJhtmPXkqS1DEzTElStxySlSRpCD0ZkjVgSpK61ZMMsx9hXZKkjplhSpK65ZCsJElD6MmQrAFTktQtM0xJkobQkwyzH2FdkqSOmWFKkrrVkyHZfvRSkjR3JTM7Jq0+6yf5fpIfJrkkyVua8uOS/DLJhc2xZKJ6zDAlSd1qP8O8Bdirqm5Msg5wTpIvNp+9qqo+PUwlBkxJUrdaDphVVcCNzdt1mmPKD612SFaS1GtJliY5b8yxdBXnLEhyIbAS+EpVfa/56F+SXJTkvUnWm6gdM0xJUrdGZnZbSVUtA5ZNcs7twJIkmwKnJHkg8DrgKmDd5vrXAG9dbTdn1EtJkmYqIzM7pqCqfgecBexTVStq4Bbgo8BuE11rwJQkdav9VbKLm8ySJBsATwB+lGSbpizAM4DlE9XjkKwkaa7bBjg+yQIGieLJVXV6kq8nWQwEuBB48USVGDAlSd1qf5XsRcAuqyjfayr1GDAlSd3qyV6yBkxJUrd6sjWeAVOS1K2eZJj9COuSJHXMDFOS1C2HZCVJGkJPhmQNmJKkbplhSpI0hJ5kmP0I65IkdcwMU5LULYdkJUkaggFTkqQhOIcpSdLcYYYpSeqWQ7KSJA2hJ0OyBkxJUrfMMCVJGkJPMsx+hHVJkjpmhilJ6lR6kmEaMCVJnTJgSpI0jH7ES+cwJUkahhmmJKlTDslKkjQEA6YkSUMwYEqSNIS+BEwX/UiSNAQzTElSt/qRYBowJUnd6suQrAFTktQpA6YkSUPoS8B00Y8kSUNoLcNMshh4DbATsP5oeVXt1VabkqT+McOEE4DLgO2AtwCXA+e22J4kqY8yw2OWtBkwt6iqY4Fbq+qbVfUPgNmlJOkukszomC1tLvq5tfm5IslTgCuBzVtsT5Kk1rQZMN+eZBPgcOD9wMbAy1tsT5LUQ32Zw2wlYCZZANyvqk4Hrgf2bKMdSVL/tR0wk6wPnA2sxyDufbqqjkiyHfApYAvgfOCgqvrT6uppZQ6zqm4HntNG3ZKkOab9RT+3AHtV1c7AEmCfJLsD7wTeW1X3Ba4DXjBRJW0u+vl2kg8keXSSh4weLbYnSeqhthf91MCNzdt1mqMYLET9dFN+PPCMieppcw5zSfPzrWPKRjsoSdKsaaYKzwfuC3wQ+Dnwu6q6rTnl18A9J6qjtYBZVc5bSpImNdM5zCRLgaVjipZV1bKx5zRThUuSbAqcAtx/qu20udPPFsARwKMYZJbnAG+tqmvbalOS1D8zDZhNcFw26YmDc3+X5Czg4cCmSRY2Wea9gCsmurbNOcxPAdcAfws8q3l9UovtSZJ6qO05zCSLm8ySJBsAT2CwE91ZDOITwMHA5yeqp805zG2q6m1j3r89yQEttidJ6qP2b8PcBji+mcccAU6uqtOTXAp8KsnbgR8Ax05USZsB88wkzwZObt4/C/hyi+1JkvR/VNVFwC6rKP8FsNuw9bQZMF8EHAZ8onk/AtyU5BAGq3w3brFtSVJPzOudfgCqaqO26pYkzR3zPmACJHkwsO3Ydqrqs222KUnql3kfMJN8BHgwcAlwR1NcgAFTktQ7bWaYu1fVTi3WL0maC/qRYLZ6H+Z3kxgwJUkT8gHS8DEGQfMqBjvFh8Hq2Ae32KYkqWfm/RwmgxtADwIu5s9zmOrIeusu5KvHHsa66y5k4YIFnPLVH/D2D53BV489jEUbrg/AVptvxHnLL2f/VxzTcW+l4Vy1YgVveN2r+e2110LCs/bbnwMPOrjrbmmKDJhwTVWd2mL9moJb/nQb+yz9D266+U8sXDjC1z/yCs789qU8/gVH3XnOie9+Iad946LuOilN0YKFC3jlq1/LX+30AG666Uaevd/fsvvDH8kO971v113THNRmwPxBkk8CpzEYkgW8raRLN908eJD4OgsXsHDhAqrqzs822nB9HvuwHVl6xCdWd7m01lm8eCsWL94KgA03XMT222/PypVXGzB7xgwTNmAQKPceU+ZtJR0aGQnf+eRr2OEvFvPhk87m3OW/uvOzp+35YL7x/R9zw01/7LCH0vRdccWv+dFll/GgB+/cdVc0Vf2Il63u9PP8qV4z9plmC++1Bwu3fMAa79d8dscdxe7PfgebLNqAk97zInbaYRsu/fkKAPbf56Ecd8p3O+6hND1/uOkmDj/spbzqta9n0aJFXXdHU9SXDLO120qS3CvJKUlWNsdnktxromuqallV7VpVuxos23P9jTfzzfN+wt6PGNz1s8WmG7LrA7bli99a3nHPpKm79dZbecVhL+XJT3kaj3/C3pNfoLVOX24rafM+zI8CpwL3aI7TmjJ1YMvNFrHJog0AWH+9dXjcX9+fH19+NQD7Pn4Xvvit5dzyp9u67KI0ZVXFm9/0Brbffnv+/nlTHtSSpqTNOczFVTU2QB6X5LAW29ME7r7lxhzz1oNYMDLCyEj4zFcuuDOj3O+JD+XdHz2z4x5KU/eDC87n9FM/z/123JH9n/l0AA497BU8+jGP7bhnmoqejMi2GjCvTfJc4MTm/XOAa1tsTxNY/tMrefhz3rnKz574ovfNcm+kNeMhD92VH17y4667oRma93OYwD8A+wNXASsYPEDaMRNJ0l0kMztmS5urZH8F/E1b9UuSNJvWeIaZ5F1JDllF+SFJ3rGm25Mk9dt8XiW7F7BsFeXHAE9toT1JUo/N5yHZ9WrsnmuNqrojfZnZlSTNmpGRfoSGNjLMm5Pcb3xhU3ZzC+1JknpsPmeYbwK+mOTtwPlN2a7A64DDWmhPkqTWrfGAWVVfTPIM4FXAoU3xcuBvq+riNd2eJKnf+jJb18ptJVW1HPAprpKkSfUkXra6048kSZOa1xmmJEnD6kvAbHNrPEmS5ozZeB7mNcM+D1OSNP/05baS2Xge5jb4PExJ0mrM563xRi2uqo9W1W3NcRywuMX2JEk9ZIbZPA8zyYLmeC4+D1OS1FM+D1OS1Km+DMn6PExJUqd6clfJmg+YSd40wcdVVW9b021KkvqrL/dhtpFh3rSKsg2BFwBbAAZMSdKdehIvW9l8/cjR10k2Al7GYO7yU8CRq7tOkqS1WStzmEk2B14BHAgcDzykqq5roy1JUr/1ZUh2ja+STfIu4FzgBuBBVfVmg6UkaXXavg8zyV8kOSvJpUkuSfKypvzNSa5IcmFzPHmietrIMA8HbgHeCLxhzL8cwmDRz8YttClJ6qlZyDBvAw6vqguaqcLzk3yl+ey9VfXuYSppYw7TDd0lSUNrO15W1QoG+wFQVTckuQy451TrMbhJknotydIk5405lk5w7rbALsD3mqKXJLkoyUeSbDZROwZMSVKnZrrTT1Utq6pdxxzLVtPOIuAzwGFV9XvgaGAHYAmDDHTCOzl8gLQkqVOzsUg2yToMguUJVfVZgKq6esznxwCnT1SHAVOS1Km2F/1k0MCxwGVV9Z4x5ds085sA+wLLJ6rHgClJmuseCRwEXJzkwqbs9cBzkiwBCrgcOGSiSgyYkqROtZ1hVtU5DG5tHO+MqdRjwJQkdaonG/0YMCVJ3erL1ngGTElSp3oSL70PU5KkYZhhSpI65ZCsJElD6Em8NGBKkro10pOIacCUJHWqJ/HSRT+SJA3DDFOS1CkX/UiSNISRfsRLA6YkqVt9yTCdw5QkaQhmmJKkTvUkwTRgSpK6lVU+eWvtY8CUJHXKRT+SJA3BRT+SJM0hZpiSpE71JME0YEqSuuXm65IkDaEn8dI5TEmShmGGKUnqVF9WyRowJUmd6km8NGBKkrrloh9JkobQj3Dpoh9JkoZihilJ6pSLfiRJGoKbr0uSNAQzTEmShtCTeOmiH0mShmGGKUnqVO+HZJO8H6jVfV5VL22lR5KkeWUuLPo5b9Z6IUmat3qfYVbV8bPZEUmS1maTzmEmWQy8BtgJWH+0vKr2arFfkqR5oh/55XCrZE8ALgO2A94CXA6c22KfJEnzyEgyo2PW+jnEOVtU1bHArVX1zar6B8DsUpK0RiQzOyavP3+R5Kwklya5JMnLmvLNk3wlyU+bn5tNVM8wAfPW5ueKJE9Jsguw+RDXSZI0qSQzOoZwG3B4Ve0E7A78c5KdgNcCX6uq+wFfa96v1jD3Yb49ySbA4cD7gY2Blw/TQ0mSulZVK4AVzesbklwG3BN4OrBHc9rxwDcYrNlZpUkDZlWd3ry8Hthz2j2WJGkVZjoNmWQpsHRM0bKqWraac7cFdgG+B2zdBFOAq4CtJ2pnmFWyH2UVGxg0c5mSJM3ITBfuNMFxlQFyrCSLgM8Ah1XV78cO51ZVJVntZj0w3JDs6WNerw/sC1w5xHWSJE1qNha6JlmHQbA8oao+2xRfnWSbqlqRZBtg5UR1DDMk+5lxjZ4InDPNPkuSdBdt7/STQQPHApdV1XvGfHQqcDDwjubn5yeqZzqbr98P2Goa10mS1IVHAgcBFye5sCl7PYNAeXKSFwC/AvafqJJh5jBv4K5zmFcxwSqiNeWX33hv201Is+LU5c5gqP/2X3KP1upu+zmTVXUOq99Q6HHD1jPMkOxGw1YmSdJU9WXz9UkDe5KvDVMmSdJ0jGRmx2yZ6HmY6wN3A7Zstgsa7dbGDG74lCRp3phoSPYQ4DDgHsD5/Dlg/h74QLvdkiTNF71/gHRVvQ94X5JDq+r9s9gnSdI8MmfmMIE7kmw6+ibJZkn+qb0uSZLmk77MYQ4TMF9UVb8bfVNV1wEvaq1HkqR5pe3He60pwwTMBRmTLydZAKzbXpckSVr7DLPTz5eAk5J8uHl/CPDF9rokSZpPZrr5+mwZJmC+hsFjU17cvL8IuHtrPZIkzStt7/Szpkzaz6q6g8Fzwy4HdgP2Ai5rt1uSpPmiL3OYE21csCPwnOb4DXASQFX5EGlJ0hozF4ZkfwR8C3hqVf0MIMnLZ6VXkiStZSYakn0msAI4K8kxSR7H6nd7lyRpWvoyJLvagFlVn6uqZwP3B85isE3eVkmOTrL3LPVPkjTHzZmNC6rqpqr6ZFU9DbgX8ANm4XmYkqT5YSSZ0TFr/ZzKyVV1XVUtq6qhH7gpSdJcMMx9mJIktaYni2QNmJKkbvX+8V6SJM2G9OQGDAOmJKlTfckw+7KFnyRJnTLDlCR1qi8ZpgFTktSp9GSZrAFTktQpM0xJkobQkwTTRT+SJA3DDFOS1Km58DxMSZJa5xymJElD6EmC6RymJEnDMMOUJHVqxL1kJUmaXF+GZA2YkqROuehHkqQh9OW2Ehf9SJI0BDNMSVKnepJgmmFKkro1kszomEySjyRZmWT5mLI3J7kiyYXN8eRJ+znDP6ckSTOSzOwYwnHAPqsof29VLWmOMyarxCFZSVKn2s7cqursJNvOtB4zTEnSfPWSJBc1Q7abTXayAVOS1KkkMz2WJjlvzLF0iGaPBnYAlgArgCMnu8AhWUlSp2a6SLaqlgHLpnjN1Xe2nxwDnD7ZNQZMSVKnuti4IMk2VbWiebsvsHyi88GAKUma45KcCOwBbJnk18ARwB5JlgAFXA4cMlk9BkxJUqfazi+r6jmrKD52qvUYMCVJnerLTj8GTElSp9KTiGnAlCR1qi/3N/aln5IkdcoMU5LUKYdkJUkaQj/CpQFTktSxvmSYzmFKkjQEM0xJUqf6krkZMCVJnerLkKwBU5LUqX6ESwOmJKljPUkwezN0LElSp8wwJUmdGunJoKwBU5LUqb4MyRowJUmdihmmJEmTM8McI8lWwPqj76vqf2ejXUmS1pRWA2aSvwGOBO4BrATuA1wGPKDNdiVJ/dGXRT9t31byNmB34CdVtR3wOOB/Wm5TktQjycyO2dJ2wLy1qq4FRpKMVNVZwK4ttylJ6pG+BMy25zB/l2QRcDZwQpKVwE0ttylJ0hrXdob5dOAPwMuBLwE/B57WcpuSpB7JDP+bLa1lmEkWAKdX1Z7AHcDxbbUlSeqvkX6s+WkvYFbV7UnuSLJJVV3fVjuSpH5z44KBG4GLk3yFMXOXVfXSltuVJPWEGxcMfLY5JEnqtVYDZlUdn2Rd4P5AAT+uqj+12aYkqV8ckgWSPBn4MIPVsQG2S3JIVX2xzXYlSf0x7xf9NN4D7FlVPwNIsgPwBcCAKUkCzDBH3TAaLBu/AG5ouU0N4YCn780Gd9uQBSMjLFiwgGUfO7nrLklDOeXod/LjC/6HDTfelEOP/OhdPvv2aSfzpU8czWuP+RwbbrxJRz3UVLnoZ+C8JGcAJzOYw9wPODfJMwGqygVBHTrq6I+w6aabdd0NaUp2eew+/PUT9+UzH/y3u5Rf/5uV/Oyic9lky6076pnmurZ3+lkfuBp4LLAHcA2wAYPdfp7actuS5qBtd9qZDRZt/H/Kz/jYB9n7wEN6k63ozzLDY7a0vUr2+W3Wr5kIrzx0KUl42r778Tf77td1h6Rpu+zcc9h48y3ZZtv7dt0VTcNIT/6V0/Yq2e2AQ4Ftx7ZVVX+zmvOXAksB/v2o/+Sg572wze7Nax845mMs3mprrvvttRz+khdxn/tsx84P8UEy6p8/3fJHzv7cCRz8hnd13RVNUz/CZftzmJ8DjgVOY7Cf7ISqahmwDOCq62+tVns2zy3eajDPs9nmW/DoPR7HZZdebMBUL/326iu5buVVfPDVg39g//7aazj6tUs55F+PZqNNN++4d5pL2g6Yf6yq/2i5DU3RzTf/gbqjuNuGG3LzzX/g3O99h4Nf+I9dd0ualrvfe3tee8wpd74/8iXP5sX/+mFXyfZJT1LMtgPm+5IcAZwJ3DJaWFUXtNyuJnDdb6/lja96GQC33347j3/ik/nrhz+q415Jwzn5fW/jl5deyB9uuJ53/eN+7LXf83joXk/puluagb7ch5mq9kY+k/wbcBCDnX5Gh2Srqvaa7FqHZDVXnP3La7rugjRj+y+5R2tR7fu/uH5Gv+93236TCfuW5CMM7sxYWVUPbMo2B05isMbmcmD/qrpuonravq1kP2D7qnpsVe3ZHJMGS0nS/DELt5UcB+wzruy1wNeq6n7A15r3E2o7YC4HNm25DUmSVquqzgZ+O6746cDxzevjgWdMVk/bc5ibAj9Kci53ncNc5W0lkqR5aIaDvWNvSWwsa+66mMjWVbWieX0VMOkWUW0HzCNarl+S1HMzXfQz9pbEaV5fSSadR217p59vJtkaeFhT9P2qWtlmm5Kkfuloo5+rk2xTVSuSbANMGptancNMsj/wfQaLf/YHvpfkWW22KUnql472kj0VOLh5fTDw+ckuaHtI9g3Aw0azyiSLga8Cn265XUmSAEhyIoMHgGyZ5NcMpgvfAZyc5AXArxgkdRNqO2COjBuCvZb2V+ZKkvqk5SHZqnrOaj563FTqaTtgfinJl4ETm/cHAGe03KYkqUf6stNPKwEzyX0ZLNl9VfOw6NF9174LnNBGm5KkfurJ071ayzCPAl4HUFWfBT4LkORBzWdPa6ldSZJa0VbA3LqqLh5fWFUXJ9m2pTYlST3UkwSztYC56QSfbdBSm5KkPupJxGxrxep5SV40vjDJC4HzW2pTktRDmeF/s6WtDPMw4JQkB/LnALkrsC6wb0ttSpJ6aF4v+qmqq4FHJNkTeGBT/IWq+nob7UmS1La295I9CzirzTYkSf3WkwSz9Y0LJEmaWE8ipgFTktSpeb3TjyRJw+rLoh83QpckaQhmmJKkTvUkwTRgSpI61pOIacCUJHWqL4t+nMOUJGkIZpiSpE71ZZWsAVOS1KmexEsDpiSpYz2JmAZMSVKnXPQjSdIcYoYpSeqUi34kSRpCT+KlAVOS1LGeREwDpiSpUy76kSRpDjHDlCR1ykU/kiQNoSfx0oApSepYTyKmc5iSJA3BDFOS1Km+rJI1YEqSOuWiH0mShtCTeGnAlCR1qy8Zpot+JEkaghmmJKlj/UgxDZiSpE7NxpBsksuBG4Dbgduqatep1mHAlCR1ahbzyz2r6jfTvdiAKUnqlIt+JElaexRwZpLzkyydTgVmmJKkTs10p58mAI4Ngsuqatm40x5VVVck2Qr4SpIfVdXZU2nHgClJ6tYMh2Sb4Dg+QI4/54rm58okpwC7AVMKmA7JSpI6lRkek9afbJhko9HXwN7A8qn20wxTkjTXbQ2cksHqooXAJ6vqS1OtxIApSepU26tkq+oXwM4zrceAKUnqlI/3kiRpGP2IlwZMSVK3ehIvXSUrSdIwzDAlSZ3qy9Z4BkxJUqdc9CNJ0hD6kmE6hylJ0hAMmJIkDcEhWUlSp/oyJGvAlCR1ykU/kiQNoS8ZpnOYkiQNwQxTktSpniSYBkxJUsd6EjENmJKkTrnoR5KkIbjoR5KkOcQMU5LUqZ4kmAZMSVLHehIxDZiSpE71ZdGPc5iSJA3BDFOS1Km+rJJNVXXdB3UkydKqWtZ1P6SZ8rus2eCQ7Py2tOsOSGuI32W1zoApSdIQDJiSJA3BgDm/OeejucLvslrnoh9JkoZghilJ0hAMmGuhJJXkyDHvX5nkzVOs40lJzktyaZIfjK1PWlskuXuSTyX5eZLzk5yRZMeu+yWtigFz7XQL8MwkW07n4iQPBD4APLeqdgJ2BX62Bvs3WftuiKFJJQlwCvCNqtqhqh4KvA7Yehba9juqKTNgrp1uY7CI4eXjP0iybZKvJ7koydeS3HsV178a+Jeq+hFAVd1eVUdPdH2S45IcneR/kvwiyR5JPpLksiTHjWn/xiTvTXJJc/3ipvwbSY5Kch7wsiRPS/K9Jrv9apLWfwmqd/YEbq2qD40WVNUPgXOSvCvJ8iQXJzkAoPlOfjPJ55vv6DuSHJjk+815OzTnHZfkQ80Iy0+SPLUpf16SU5N8HfhakkXNd/iC5vqnd/B3oB4xYK69PggcmGSTceXvB46vqgcDJwD/sYprHwicv5p6J7p+M+DhDAL1qcB7gQcAD0qypDlnQ+C8qnoA8E3giDHXr1tVu1bVkcA5wO5VtQvwKQZBXBprdd/TZwJLgJ2BxwPvSrJN89nOwIuBvwIOAnasqt2A/wIOHVPHtsBuwFOADyVZvyl/CPCsqnos8Edg36p6CIPgfWST9UqrZMBcS1XV74GPAS8d99HDgU82rz8OPGqKVU90/Wk1WDZ9MXB1VV1cVXcAlzD4BQRwB3BS8/oT464/aczrewFfTnIx8CoGgVcaxqOAE5uRkasZ/MPsYc1n51bViqq6Bfg5cGZTfjF//o4CnFxVd1TVT4FfAPdvyr9SVb9tXgf41yQXAV8F7sksDAervwyYa7ejgBcwyOqm4hLgodNo75bm5x1jXo++X92cz9j7km4a8/r9wAeq6kHAIcD6SHc1ne/p+O/l2O/s2O/o+PvlRt+P/Y4eCCwGHlpVS4Cr8XuqCRgw12LNv4RPZhA0R30HeHbz+kDgW6u49F3A60dXGyYZSfLiKVw/kRHgWc3rv2Mw9LoqmwBXNK8PnmIbmh++DqyX5M59YJM8GPgdcECSBc0c+WOA70+x7v2a7/0OwPbAj1dxzibAyqq6NcmewH2m84fQ/OFKsbXfkcBLxrw/FPhoklcB1wDPH39BVV2U5DDgxCR3Y/Cv69OHvX4SNwG7JXkjsBI4YDXnvRn47yTXMfjFuN0U29EcV1WVZF/gqCSvYTCneDlwGLAI+CGD7+6rq+qqJPdfXV2r8L8MguzGwIur6o+rmJ48ATitmTY4D/jRDP44mgfc6UdTkuTGqlrUdT+k1WlWdZ9eVZ/uui+aWxySlSRpCGaYkiQNwQxTkqQhGDAlSRqCAVOSpCEYMCUgye1JLmz2L/3v5nac6dZ1XJJnNa//K8lOE5y7R5JHTKONy6e7Ob+k6TFgSgM3V9WSqnog8CcG+5XeabpPt6iqF1bVpROcsgcw5YApafYZMKX/61vAfZvs71tJTgUubXaeeVeSc5unvRwCg8dUJflAkh8n+Sqw1WhFzVNcdm1e79M8GeOHzVMytmUQmF/eZLePTrI4yWeaNs5N8sjm2i2SnNk8Jea/GOyDKmkWudOPNEaTST4J+FJT9BDggVX1y2YLt+ur6mFJ1gO+neRMYBfgL4GdGGzefSnwkXH1LgaOAR7T1LV5Vf02yYeAG6vq3c15nwTeW1XnZPDotS8zeDLHEcA5VfXWJE/hrtslSpoFBkxpYIMkFzavvwUcy2Co9PtV9cumfG/gwaPzkwz2Ir0fg71OT6yq24Erm+ctjrc7cPZoXWOemDHe44GdxmzjtnGSRU0bz2yu/UKz5aCkWWTAlAZubp5YcacmaI19ukWAQ6vqy+POe/Ia7McIg+eI/nEVfZHUIecwpeF9GfjHJOsAJNkxyYbA2fz56RrbMHgY8Xj/AzwmyXbNtZs35TcAG40570zGPAh5zIO7z2bwdBiSPInBw74lzSIDpjS8/2IwP3lBkuXAhxmM0pwC/LT57GPAd8dfWFXXAEuBzyb5IX9+2PZpwL6ji34YPDB812ZR0aX8ebXuWxgE3EsYDM3+b0t/Rkmr4V6ykiQNwQxTkqQhGDAlSRqCAVOSpCEYMCVJGoIBU5KkIRgwJUkaggFTkqQhGDAlSRrC/wdIq+OsTKROKQAAAABJRU5ErkJggg==\n",
       "datasetInfos": [],
       "metadata": {},
       "removedWidgets": [],
       "type": "image"
      }
     },
     "output_type": "display_data"
    }
   ],
   "source": [
    "import matplotlib.pyplot as plt\n",
    "import seaborn as sns\n",
    "from sklearn.metrics import confusion_matrix\n",
    "\n",
    "predictions = cvModel.transform(testDF)\n",
    "\n",
    "y_true = predictions.select(\"Compra\").collect()\n",
    "y_pred = predictions.select(\"prediction\").collect()\n",
    "\n",
    "conf_matrix = confusion_matrix(y_true, y_pred)\n",
    "\n",
    "plt.figure(figsize=(8, 6))\n",
    "sns.heatmap(conf_matrix, annot=True, fmt=\"d\", cmap=\"Blues\", xticklabels=[\"No Compra\", \"Compra\"], yticklabels=[\"No Compra\", \"Compra\"])\n",
    "plt.xlabel(\"Predicted\")\n",
    "plt.ylabel(\"Actual\")\n",
    "plt.title(\"Confusion Matrix\")\n",
    "plt.show()"
   ]
  },
  {
   "cell_type": "code",
   "execution_count": 0,
   "metadata": {
    "application/vnd.databricks.v1+cell": {
     "cellMetadata": {
      "byteLimit": 2048000,
      "rowLimit": 10000
     },
     "inputWidgets": {},
     "nuid": "d6649648-0a49-4a3d-af69-df689ed4c685",
     "showTitle": false,
     "title": ""
    }
   },
   "outputs": [
    {
     "output_type": "stream",
     "name": "stdout",
     "output_type": "stream",
     "text": [
      "              precision    recall  f1-score   support\n\n           0       0.88      0.95      0.91        39\n           1       0.88      0.74      0.80        19\n\n    accuracy                           0.88        58\n   macro avg       0.88      0.84      0.86        58\nweighted avg       0.88      0.88      0.88        58\n\n"
     ]
    }
   ],
   "source": [
    "from sklearn.metrics import classification_report\n",
    "\n",
    "report = classification_report(y_true, y_pred)\n",
    "\n",
    "print(report)"
   ]
  },
  {
   "cell_type": "code",
   "execution_count": 0,
   "metadata": {
    "application/vnd.databricks.v1+cell": {
     "cellMetadata": {
      "byteLimit": 2048000,
      "rowLimit": 10000
     },
     "inputWidgets": {},
     "nuid": "50473658-e935-46b0-a811-0f05f342b256",
     "showTitle": false,
     "title": ""
    }
   },
   "outputs": [],
   "source": [
    "## Creamos una tabla temporal de las predicciones\n",
    "cvPredDF.createOrReplaceTempView(\"finalPredictions\")"
   ]
  },
  {
   "cell_type": "code",
   "execution_count": 0,
   "metadata": {
    "application/vnd.databricks.v1+cell": {
     "cellMetadata": {
      "byteLimit": 2048000,
      "implicitDf": true,
      "rowLimit": 10000
     },
     "inputWidgets": {},
     "nuid": "c36b6973-535f-460c-afaf-abb2552c56ae",
     "showTitle": false,
     "title": ""
    }
   },
   "outputs": [
    {
     "output_type": "display_data",
     "data": {
      "text/html": [
       "<style scoped>\n",
       "  .table-result-container {\n",
       "    max-height: 300px;\n",
       "    overflow: auto;\n",
       "  }\n",
       "  table, th, td {\n",
       "    border: 1px solid black;\n",
       "    border-collapse: collapse;\n",
       "  }\n",
       "  th, td {\n",
       "    padding: 5px;\n",
       "  }\n",
       "  th {\n",
       "    text-align: left;\n",
       "  }\n",
       "</style><div class='table-result-container'><table class='table-result'><thead style='background-color: white'><tr><th>Genero</th><th>prediction</th><th>count</th></tr></thead><tbody><tr><td>Female</td><td>0.0</td><td>18</td></tr><tr><td>Female</td><td>1.0</td><td>12</td></tr><tr><td>Male</td><td>0.0</td><td>24</td></tr><tr><td>Male</td><td>1.0</td><td>4</td></tr></tbody></table></div>"
      ]
     },
     "metadata": {
      "application/vnd.databricks.v1+output": {
       "addedWidgets": {},
       "aggData": [],
       "aggError": "",
       "aggOverflow": false,
       "aggSchema": [],
       "aggSeriesLimitReached": false,
       "aggType": "",
       "arguments": {},
       "columnCustomDisplayInfos": {},
       "data": [
        [
         "Female",
         0.0,
         18
        ],
        [
         "Female",
         1.0,
         12
        ],
        [
         "Male",
         0.0,
         24
        ],
        [
         "Male",
         1.0,
         4
        ]
       ],
       "datasetInfos": [],
       "dbfsResultPath": null,
       "isJsonSchema": true,
       "metadata": {},
       "overflow": false,
       "plotOptions": {
        "customPlotOptions": {},
        "displayType": "table",
        "pivotAggregation": null,
        "pivotColumns": null,
        "xColumns": null,
        "yColumns": null
       },
       "removedWidgets": [],
       "schema": [
        {
         "metadata": "{}",
         "name": "Genero",
         "type": "\"string\""
        },
        {
         "metadata": "{\"ml_attr\":{\"type\":\"nominal\",\"num_vals\":2}}",
         "name": "prediction",
         "type": "\"double\""
        },
        {
         "metadata": "{}",
         "name": "count",
         "type": "\"long\""
        }
       ],
       "type": "table"
      }
     },
     "output_type": "display_data"
    },
    {
     "output_type": "display_data",
     "data": {
      "text/plain": [
       "Databricks visualization. Run in Databricks to view."
      ]
     },
     "metadata": {
      "application/vnd.databricks.v1.subcommand+json": {
       "bindings": {},
       "collapsed": false,
       "command": "%sql WITH q AS (SELECT Genero, prediction, count(*) AS count\nFROM finalPredictions\nGROUP BY Genero, prediction\nORDER BY Genero) SELECT `prediction`,SUM(`count`) `column_14a93d8289`,`Genero` FROM q GROUP BY `Genero`,`prediction`",
       "commandTitle": "Visualización 1",
       "commandType": "auto",
       "commandVersion": 0,
       "commentThread": [],
       "commentsVisible": false,
       "contentSha256Hex": null,
       "customPlotOptions": {
        "redashChart": [
         {
          "key": "type",
          "value": "CHART"
         },
         {
          "key": "options",
          "value": {
           "alignYAxesAtZero": true,
           "coefficient": 1,
           "columnConfigurationMap": {
            "series": {
             "column": "prediction",
             "id": "column_14a93d8297"
            },
            "x": {
             "column": "Genero",
             "id": "column_14a93d8296"
            },
            "y": [
             {
              "column": "count",
              "id": "column_14a93d8289",
              "transform": "SUM"
             }
            ]
           },
           "dateTimeFormat": "DD/MM/YYYY HH:mm",
           "direction": {
            "type": "counterclockwise"
           },
           "error_y": {
            "type": "data",
            "visible": true
           },
           "globalSeriesType": "column",
           "isAggregationOn": true,
           "legend": {
            "traceorder": "normal"
           },
           "missingValuesAsZero": true,
           "numberFormat": "0,0[.]00000",
           "percentFormat": "0[.]00%",
           "series": {
            "error_y": {
             "type": "data",
             "visible": true
            },
            "stacking": null
           },
           "seriesOptions": {
            "column_14a93d8289": {
             "name": "count",
             "type": "column",
             "yAxis": 0
            }
           },
           "showDataLabels": false,
           "sizemode": "diameter",
           "sortX": true,
           "sortY": true,
           "swappedAxes": false,
           "textFormat": "",
           "useAggregationsUi": true,
           "valuesOptions": {},
           "version": 2,
           "xAxis": {
            "labels": {
             "enabled": true
            },
            "type": "-"
           },
           "yAxis": [
            {
             "type": "-"
            },
            {
             "opposite": true,
             "type": "-"
            }
           ]
          }
         }
        ]
       },
       "datasetPreviewNameToCmdIdMap": {},
       "diffDeletes": [],
       "diffInserts": [],
       "displayType": "redashChart",
       "error": null,
       "errorSummary": null,
       "errorTraceType": null,
       "finishTime": 0,
       "globalVars": {},
       "guid": "a0e6cdce-bb0c-42c7-98b3-11b8904bdc46",
       "height": "auto",
       "hideCommandCode": false,
       "hideCommandResult": false,
       "iPythonMetadata": null,
       "inputWidgets": {},
       "isLockedInExamMode": false,
       "latestUser": "a user",
       "latestUserId": null,
       "listResultMetadata": null,
       "metadata": {},
       "nuid": "49b5b945-c068-4319-a861-73c09e7aff3c",
       "origId": 4368615918732632,
       "parentHierarchy": [
        "dc28e605-565f-478e-9b27-4d940b9d1eb1"
       ],
       "pivotAggregation": null,
       "pivotColumns": null,
       "position": 38.0,
       "resultDbfsErrorMessage": null,
       "resultDbfsStatus": "INLINED_IN_TREE",
       "results": null,
       "showCommandTitle": false,
       "startTime": 0,
       "state": "input",
       "streamStates": {},
       "subcommandOptions": {
        "queryPlan": {
         "groups": [
          {
           "column": "Genero",
           "type": "column"
          },
          {
           "column": "prediction",
           "type": "column"
          }
         ],
         "selects": [
          {
           "column": "Genero",
           "type": "column"
          },
          {
           "alias": "column_14a93d8289",
           "args": [
            {
             "column": "count",
             "type": "column"
            }
           ],
           "function": "SUM",
           "type": "function"
          },
          {
           "column": "prediction",
           "type": "column"
          }
         ]
        }
       },
       "submitTime": 0,
       "subtype": "tableResultSubCmd.visualization",
       "tableResultIndex": 0,
       "useConsistentColors": false,
       "version": "CommandV1",
       "width": "auto",
       "workflows": [],
       "xColumns": null,
       "yColumns": null
      }
     },
     "output_type": "display_data"
    }
   ],
   "source": [
    "%sql\n",
    "SELECT Genero, prediction, count(*) AS count\n",
    "FROM finalPredictions\n",
    "GROUP BY Genero, prediction\n",
    "ORDER BY Genero"
   ]
  }
 ],
 "metadata": {
  "application/vnd.databricks.v1+notebook": {
   "dashboards": [],
   "language": "python",
   "notebookMetadata": {
    "mostRecentlyExecutedCommandWithImplicitDF": {
     "commandId": 4368615918732630,
     "dataframes": [
      "_sqldf"
     ]
    },
    "pythonIndentUnit": 4
   },
   "notebookName": "Clasificacion-Example",
   "widgets": {}
  }
 },
 "nbformat": 4,
 "nbformat_minor": 0
}
