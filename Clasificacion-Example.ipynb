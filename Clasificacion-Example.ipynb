{
 "cells": [
  {
   "cell_type": "markdown",
   "metadata": {
    "application/vnd.databricks.v1+cell": {
     "cellMetadata": {},
     "inputWidgets": {},
     "nuid": "96816ed7-b08a-4ca3-abb9-f99880c3535d",
     "showTitle": false,
     "title": ""
    }
   },
   "source": [
    "## Modelo de Clasificación para la compra\n",
    "\n",
    "Este notebook incluye los siguientes pasos:\n",
    "\n",
    "* Cargar el conjunto de datos\n",
    "* Preprocesamiento de funciones\n",
    "* Definir el modelo\n",
    "* Construye la tubería\n",
    "* Evaluar el modelo\n",
    "* Ajuste de hiperparámetros\n",
    "* Realizacion predicciones y evaluacion el rendimiento del modelo"
   ]
  },
  {
   "cell_type": "code",
   "execution_count": 0,
   "metadata": {
    "application/vnd.databricks.v1+cell": {
     "cellMetadata": {
      "byteLimit": 2048000,
      "rowLimit": 10000
     },
     "inputWidgets": {},
     "nuid": "6482be4c-f067-47c9-b0ac-35c938b94601",
     "showTitle": false,
     "title": ""
    }
   },
   "outputs": [
    {
     "output_type": "display_data",
     "data": {
      "text/html": [
       "<style scoped>\n",
       "  .table-result-container {\n",
       "    max-height: 300px;\n",
       "    overflow: auto;\n",
       "  }\n",
       "  table, th, td {\n",
       "    border: 1px solid black;\n",
       "    border-collapse: collapse;\n",
       "  }\n",
       "  th, td {\n",
       "    padding: 5px;\n",
       "  }\n",
       "  th {\n",
       "    text-align: left;\n",
       "  }\n",
       "</style><div class='table-result-container'><table class='table-result'><thead style='background-color: white'><tr><th>User ID</th><th>Genero</th><th>Edad</th><th>Salario</th><th>Compra</th></tr></thead><tbody><tr><td>15624510</td><td>Male</td><td>19</td><td>19000</td><td>0</td></tr><tr><td>15810944</td><td>Male</td><td>35</td><td>20000</td><td>0</td></tr><tr><td>15668575</td><td>Female</td><td>26</td><td>43000</td><td>0</td></tr><tr><td>15603246</td><td>Female</td><td>27</td><td>57000</td><td>0</td></tr><tr><td>15804002</td><td>Male</td><td>19</td><td>76000</td><td>0</td></tr><tr><td>15728773</td><td>Male</td><td>27</td><td>58000</td><td>0</td></tr><tr><td>15598044</td><td>Female</td><td>27</td><td>84000</td><td>0</td></tr><tr><td>15694829</td><td>Female</td><td>32</td><td>150000</td><td>1</td></tr><tr><td>15600575</td><td>Male</td><td>25</td><td>33000</td><td>0</td></tr><tr><td>15727311</td><td>Female</td><td>35</td><td>65000</td><td>0</td></tr><tr><td>15570769</td><td>Female</td><td>26</td><td>80000</td><td>0</td></tr><tr><td>15606274</td><td>Female</td><td>26</td><td>52000</td><td>0</td></tr><tr><td>15746139</td><td>Male</td><td>20</td><td>86000</td><td>0</td></tr><tr><td>15704987</td><td>Male</td><td>32</td><td>18000</td><td>0</td></tr><tr><td>15628972</td><td>Male</td><td>18</td><td>82000</td><td>0</td></tr><tr><td>15697686</td><td>Male</td><td>29</td><td>80000</td><td>0</td></tr><tr><td>15733883</td><td>Male</td><td>47</td><td>25000</td><td>1</td></tr><tr><td>15617482</td><td>Male</td><td>45</td><td>26000</td><td>1</td></tr><tr><td>15704583</td><td>Male</td><td>46</td><td>28000</td><td>1</td></tr><tr><td>15621083</td><td>Female</td><td>48</td><td>29000</td><td>1</td></tr><tr><td>15649487</td><td>Male</td><td>45</td><td>22000</td><td>1</td></tr><tr><td>15736760</td><td>Female</td><td>47</td><td>49000</td><td>1</td></tr><tr><td>15714658</td><td>Male</td><td>48</td><td>41000</td><td>1</td></tr><tr><td>15599081</td><td>Female</td><td>45</td><td>22000</td><td>1</td></tr><tr><td>15705113</td><td>Male</td><td>46</td><td>23000</td><td>1</td></tr><tr><td>15631159</td><td>Male</td><td>47</td><td>20000</td><td>1</td></tr><tr><td>15792818</td><td>Male</td><td>49</td><td>28000</td><td>1</td></tr><tr><td>15633531</td><td>Female</td><td>47</td><td>30000</td><td>1</td></tr><tr><td>15744529</td><td>Male</td><td>29</td><td>43000</td><td>0</td></tr><tr><td>15669656</td><td>Male</td><td>31</td><td>18000</td><td>0</td></tr><tr><td>15581198</td><td>Male</td><td>31</td><td>74000</td><td>0</td></tr><tr><td>15729054</td><td>Female</td><td>27</td><td>137000</td><td>1</td></tr><tr><td>15573452</td><td>Female</td><td>21</td><td>16000</td><td>0</td></tr><tr><td>15776733</td><td>Female</td><td>28</td><td>44000</td><td>0</td></tr><tr><td>15724858</td><td>Male</td><td>27</td><td>90000</td><td>0</td></tr><tr><td>15713144</td><td>Male</td><td>35</td><td>27000</td><td>0</td></tr><tr><td>15690188</td><td>Female</td><td>33</td><td>28000</td><td>0</td></tr><tr><td>15689425</td><td>Male</td><td>30</td><td>49000</td><td>0</td></tr><tr><td>15671766</td><td>Female</td><td>26</td><td>72000</td><td>0</td></tr><tr><td>15782806</td><td>Female</td><td>27</td><td>31000</td><td>0</td></tr><tr><td>15764419</td><td>Female</td><td>27</td><td>17000</td><td>0</td></tr><tr><td>15591915</td><td>Female</td><td>33</td><td>51000</td><td>0</td></tr><tr><td>15772798</td><td>Male</td><td>35</td><td>108000</td><td>0</td></tr><tr><td>15792008</td><td>Male</td><td>30</td><td>15000</td><td>0</td></tr><tr><td>15715541</td><td>Female</td><td>28</td><td>84000</td><td>0</td></tr><tr><td>15639277</td><td>Male</td><td>23</td><td>20000</td><td>0</td></tr><tr><td>15798850</td><td>Male</td><td>25</td><td>79000</td><td>0</td></tr><tr><td>15776348</td><td>Female</td><td>27</td><td>54000</td><td>0</td></tr><tr><td>15727696</td><td>Male</td><td>30</td><td>135000</td><td>1</td></tr><tr><td>15793813</td><td>Female</td><td>31</td><td>89000</td><td>0</td></tr><tr><td>15694395</td><td>Female</td><td>24</td><td>32000</td><td>0</td></tr><tr><td>15764195</td><td>Female</td><td>18</td><td>44000</td><td>0</td></tr><tr><td>15744919</td><td>Female</td><td>29</td><td>83000</td><td>0</td></tr><tr><td>15671655</td><td>Female</td><td>35</td><td>23000</td><td>0</td></tr><tr><td>15654901</td><td>Female</td><td>27</td><td>58000</td><td>0</td></tr><tr><td>15649136</td><td>Female</td><td>24</td><td>55000</td><td>0</td></tr><tr><td>15775562</td><td>Female</td><td>23</td><td>48000</td><td>0</td></tr><tr><td>15807481</td><td>Male</td><td>28</td><td>79000</td><td>0</td></tr><tr><td>15642885</td><td>Male</td><td>22</td><td>18000</td><td>0</td></tr><tr><td>15789109</td><td>Female</td><td>32</td><td>117000</td><td>0</td></tr><tr><td>15814004</td><td>Male</td><td>27</td><td>20000</td><td>0</td></tr><tr><td>15673619</td><td>Male</td><td>25</td><td>87000</td><td>0</td></tr><tr><td>15595135</td><td>Female</td><td>23</td><td>66000</td><td>0</td></tr><tr><td>15583681</td><td>Male</td><td>32</td><td>120000</td><td>1</td></tr><tr><td>15605000</td><td>Female</td><td>59</td><td>83000</td><td>0</td></tr><tr><td>15718071</td><td>Male</td><td>24</td><td>58000</td><td>0</td></tr><tr><td>15679760</td><td>Male</td><td>24</td><td>19000</td><td>0</td></tr><tr><td>15654574</td><td>Female</td><td>23</td><td>82000</td><td>0</td></tr><tr><td>15577178</td><td>Female</td><td>22</td><td>63000</td><td>0</td></tr><tr><td>15595324</td><td>Female</td><td>31</td><td>68000</td><td>0</td></tr><tr><td>15756932</td><td>Male</td><td>25</td><td>80000</td><td>0</td></tr><tr><td>15726358</td><td>Female</td><td>24</td><td>27000</td><td>0</td></tr><tr><td>15595228</td><td>Female</td><td>20</td><td>23000</td><td>0</td></tr><tr><td>15782530</td><td>Female</td><td>33</td><td>113000</td><td>0</td></tr><tr><td>15592877</td><td>Male</td><td>32</td><td>18000</td><td>0</td></tr><tr><td>15651983</td><td>Male</td><td>34</td><td>112000</td><td>1</td></tr><tr><td>15746737</td><td>Male</td><td>18</td><td>52000</td><td>0</td></tr><tr><td>15774179</td><td>Female</td><td>22</td><td>27000</td><td>0</td></tr><tr><td>15667265</td><td>Female</td><td>28</td><td>87000</td><td>0</td></tr><tr><td>15655123</td><td>Female</td><td>26</td><td>17000</td><td>0</td></tr><tr><td>15595917</td><td>Male</td><td>30</td><td>80000</td><td>0</td></tr><tr><td>15668385</td><td>Male</td><td>39</td><td>42000</td><td>0</td></tr><tr><td>15709476</td><td>Male</td><td>20</td><td>49000</td><td>0</td></tr><tr><td>15711218</td><td>Male</td><td>35</td><td>88000</td><td>0</td></tr><tr><td>15798659</td><td>Female</td><td>30</td><td>62000</td><td>0</td></tr><tr><td>15663939</td><td>Female</td><td>31</td><td>118000</td><td>1</td></tr><tr><td>15694946</td><td>Male</td><td>24</td><td>55000</td><td>0</td></tr><tr><td>15631912</td><td>Female</td><td>28</td><td>85000</td><td>0</td></tr><tr><td>15768816</td><td>Male</td><td>26</td><td>81000</td><td>0</td></tr><tr><td>15682268</td><td>Male</td><td>35</td><td>50000</td><td>0</td></tr><tr><td>15684801</td><td>Male</td><td>22</td><td>81000</td><td>0</td></tr><tr><td>15636428</td><td>Female</td><td>30</td><td>116000</td><td>0</td></tr><tr><td>15809823</td><td>Male</td><td>26</td><td>15000</td><td>0</td></tr><tr><td>15699284</td><td>Female</td><td>29</td><td>28000</td><td>0</td></tr><tr><td>15786993</td><td>Female</td><td>29</td><td>83000</td><td>0</td></tr><tr><td>15709441</td><td>Female</td><td>35</td><td>44000</td><td>0</td></tr><tr><td>15710257</td><td>Female</td><td>35</td><td>25000</td><td>0</td></tr><tr><td>15582492</td><td>Male</td><td>28</td><td>123000</td><td>1</td></tr><tr><td>15575694</td><td>Male</td><td>35</td><td>73000</td><td>0</td></tr><tr><td>15756820</td><td>Female</td><td>28</td><td>37000</td><td>0</td></tr><tr><td>15766289</td><td>Male</td><td>27</td><td>88000</td><td>0</td></tr><tr><td>15593014</td><td>Male</td><td>28</td><td>59000</td><td>0</td></tr><tr><td>15584545</td><td>Female</td><td>32</td><td>86000</td><td>0</td></tr><tr><td>15675949</td><td>Female</td><td>33</td><td>149000</td><td>1</td></tr><tr><td>15672091</td><td>Female</td><td>19</td><td>21000</td><td>0</td></tr><tr><td>15801658</td><td>Male</td><td>21</td><td>72000</td><td>0</td></tr><tr><td>15706185</td><td>Female</td><td>26</td><td>35000</td><td>0</td></tr><tr><td>15789863</td><td>Male</td><td>27</td><td>89000</td><td>0</td></tr><tr><td>15720943</td><td>Male</td><td>26</td><td>86000</td><td>0</td></tr><tr><td>15697997</td><td>Female</td><td>38</td><td>80000</td><td>0</td></tr><tr><td>15665416</td><td>Female</td><td>39</td><td>71000</td><td>0</td></tr><tr><td>15660200</td><td>Female</td><td>37</td><td>71000</td><td>0</td></tr><tr><td>15619653</td><td>Male</td><td>38</td><td>61000</td><td>0</td></tr><tr><td>15773447</td><td>Male</td><td>37</td><td>55000</td><td>0</td></tr><tr><td>15739160</td><td>Male</td><td>42</td><td>80000</td><td>0</td></tr><tr><td>15689237</td><td>Male</td><td>40</td><td>57000</td><td>0</td></tr><tr><td>15679297</td><td>Male</td><td>35</td><td>75000</td><td>0</td></tr><tr><td>15591433</td><td>Male</td><td>36</td><td>52000</td><td>0</td></tr><tr><td>15642725</td><td>Male</td><td>40</td><td>59000</td><td>0</td></tr><tr><td>15701962</td><td>Male</td><td>41</td><td>59000</td><td>0</td></tr><tr><td>15811613</td><td>Female</td><td>36</td><td>75000</td><td>0</td></tr><tr><td>15741049</td><td>Male</td><td>37</td><td>72000</td><td>0</td></tr><tr><td>15724423</td><td>Female</td><td>40</td><td>75000</td><td>0</td></tr><tr><td>15574305</td><td>Male</td><td>35</td><td>53000</td><td>0</td></tr><tr><td>15678168</td><td>Female</td><td>41</td><td>51000</td><td>0</td></tr><tr><td>15697020</td><td>Female</td><td>39</td><td>61000</td><td>0</td></tr><tr><td>15610801</td><td>Male</td><td>42</td><td>65000</td><td>0</td></tr><tr><td>15745232</td><td>Male</td><td>26</td><td>32000</td><td>0</td></tr><tr><td>15722758</td><td>Male</td><td>30</td><td>17000</td><td>0</td></tr><tr><td>15792102</td><td>Female</td><td>26</td><td>84000</td><td>0</td></tr><tr><td>15675185</td><td>Male</td><td>31</td><td>58000</td><td>0</td></tr><tr><td>15801247</td><td>Male</td><td>33</td><td>31000</td><td>0</td></tr><tr><td>15725660</td><td>Male</td><td>30</td><td>87000</td><td>0</td></tr><tr><td>15638963</td><td>Female</td><td>21</td><td>68000</td><td>0</td></tr><tr><td>15800061</td><td>Female</td><td>28</td><td>55000</td><td>0</td></tr><tr><td>15578006</td><td>Male</td><td>23</td><td>63000</td><td>0</td></tr><tr><td>15668504</td><td>Female</td><td>20</td><td>82000</td><td>0</td></tr><tr><td>15687491</td><td>Male</td><td>30</td><td>107000</td><td>1</td></tr><tr><td>15610403</td><td>Female</td><td>28</td><td>59000</td><td>0</td></tr><tr><td>15741094</td><td>Male</td><td>19</td><td>25000</td><td>0</td></tr><tr><td>15807909</td><td>Male</td><td>19</td><td>85000</td><td>0</td></tr><tr><td>15666141</td><td>Female</td><td>18</td><td>68000</td><td>0</td></tr><tr><td>15617134</td><td>Male</td><td>35</td><td>59000</td><td>0</td></tr><tr><td>15783029</td><td>Male</td><td>30</td><td>89000</td><td>0</td></tr><tr><td>15622833</td><td>Female</td><td>34</td><td>25000</td><td>0</td></tr><tr><td>15746422</td><td>Female</td><td>24</td><td>89000</td><td>0</td></tr><tr><td>15750839</td><td>Female</td><td>27</td><td>96000</td><td>1</td></tr><tr><td>15749130</td><td>Female</td><td>41</td><td>30000</td><td>0</td></tr><tr><td>15779862</td><td>Male</td><td>29</td><td>61000</td><td>0</td></tr><tr><td>15767871</td><td>Male</td><td>20</td><td>74000</td><td>0</td></tr><tr><td>15679651</td><td>Female</td><td>26</td><td>15000</td><td>0</td></tr><tr><td>15576219</td><td>Male</td><td>41</td><td>45000</td><td>0</td></tr><tr><td>15699247</td><td>Male</td><td>31</td><td>76000</td><td>0</td></tr><tr><td>15619087</td><td>Female</td><td>36</td><td>50000</td><td>0</td></tr><tr><td>15605327</td><td>Male</td><td>40</td><td>47000</td><td>0</td></tr><tr><td>15610140</td><td>Female</td><td>31</td><td>15000</td><td>0</td></tr><tr><td>15791174</td><td>Male</td><td>46</td><td>59000</td><td>0</td></tr><tr><td>15602373</td><td>Male</td><td>29</td><td>75000</td><td>0</td></tr><tr><td>15762605</td><td>Male</td><td>26</td><td>30000</td><td>0</td></tr><tr><td>15598840</td><td>Female</td><td>32</td><td>135000</td><td>1</td></tr><tr><td>15744279</td><td>Male</td><td>32</td><td>100000</td><td>1</td></tr><tr><td>15670619</td><td>Male</td><td>25</td><td>90000</td><td>0</td></tr><tr><td>15599533</td><td>Female</td><td>37</td><td>33000</td><td>0</td></tr><tr><td>15757837</td><td>Male</td><td>35</td><td>38000</td><td>0</td></tr><tr><td>15697574</td><td>Female</td><td>33</td><td>69000</td><td>0</td></tr><tr><td>15578738</td><td>Female</td><td>18</td><td>86000</td><td>0</td></tr><tr><td>15762228</td><td>Female</td><td>22</td><td>55000</td><td>0</td></tr><tr><td>15614827</td><td>Female</td><td>35</td><td>71000</td><td>0</td></tr><tr><td>15789815</td><td>Male</td><td>29</td><td>148000</td><td>1</td></tr><tr><td>15579781</td><td>Female</td><td>29</td><td>47000</td><td>0</td></tr><tr><td>15587013</td><td>Male</td><td>21</td><td>88000</td><td>0</td></tr><tr><td>15570932</td><td>Male</td><td>34</td><td>115000</td><td>0</td></tr><tr><td>15794661</td><td>Female</td><td>26</td><td>118000</td><td>0</td></tr><tr><td>15581654</td><td>Female</td><td>34</td><td>43000</td><td>0</td></tr><tr><td>15644296</td><td>Female</td><td>34</td><td>72000</td><td>0</td></tr><tr><td>15614420</td><td>Female</td><td>23</td><td>28000</td><td>0</td></tr><tr><td>15609653</td><td>Female</td><td>35</td><td>47000</td><td>0</td></tr><tr><td>15594577</td><td>Male</td><td>25</td><td>22000</td><td>0</td></tr><tr><td>15584114</td><td>Male</td><td>24</td><td>23000</td><td>0</td></tr><tr><td>15673367</td><td>Female</td><td>31</td><td>34000</td><td>0</td></tr><tr><td>15685576</td><td>Male</td><td>26</td><td>16000</td><td>0</td></tr><tr><td>15774727</td><td>Female</td><td>31</td><td>71000</td><td>0</td></tr><tr><td>15694288</td><td>Female</td><td>32</td><td>117000</td><td>1</td></tr><tr><td>15603319</td><td>Male</td><td>33</td><td>43000</td><td>0</td></tr><tr><td>15759066</td><td>Female</td><td>33</td><td>60000</td><td>0</td></tr><tr><td>15814816</td><td>Male</td><td>31</td><td>66000</td><td>0</td></tr><tr><td>15724402</td><td>Female</td><td>20</td><td>82000</td><td>0</td></tr><tr><td>15571059</td><td>Female</td><td>33</td><td>41000</td><td>0</td></tr><tr><td>15674206</td><td>Male</td><td>35</td><td>72000</td><td>0</td></tr><tr><td>15715160</td><td>Male</td><td>28</td><td>32000</td><td>0</td></tr><tr><td>15730448</td><td>Male</td><td>24</td><td>84000</td><td>0</td></tr><tr><td>15662067</td><td>Female</td><td>19</td><td>26000</td><td>0</td></tr><tr><td>15779581</td><td>Male</td><td>29</td><td>43000</td><td>0</td></tr><tr><td>15662901</td><td>Male</td><td>19</td><td>70000</td><td>0</td></tr><tr><td>15689751</td><td>Male</td><td>28</td><td>89000</td><td>0</td></tr><tr><td>15667742</td><td>Male</td><td>34</td><td>43000</td><td>0</td></tr><tr><td>15738448</td><td>Female</td><td>30</td><td>79000</td><td>0</td></tr><tr><td>15680243</td><td>Female</td><td>20</td><td>36000</td><td>0</td></tr><tr><td>15745083</td><td>Male</td><td>26</td><td>80000</td><td>0</td></tr><tr><td>15708228</td><td>Male</td><td>35</td><td>22000</td><td>0</td></tr><tr><td>15628523</td><td>Male</td><td>35</td><td>39000</td><td>0</td></tr><tr><td>15708196</td><td>Male</td><td>49</td><td>74000</td><td>0</td></tr><tr><td>15735549</td><td>Female</td><td>39</td><td>134000</td><td>1</td></tr><tr><td>15809347</td><td>Female</td><td>41</td><td>71000</td><td>0</td></tr><tr><td>15660866</td><td>Female</td><td>58</td><td>101000</td><td>1</td></tr><tr><td>15766609</td><td>Female</td><td>47</td><td>47000</td><td>0</td></tr><tr><td>15654230</td><td>Female</td><td>55</td><td>130000</td><td>1</td></tr><tr><td>15794566</td><td>Female</td><td>52</td><td>114000</td><td>0</td></tr><tr><td>15800890</td><td>Female</td><td>40</td><td>142000</td><td>1</td></tr><tr><td>15697424</td><td>Female</td><td>46</td><td>22000</td><td>0</td></tr><tr><td>15724536</td><td>Female</td><td>48</td><td>96000</td><td>1</td></tr><tr><td>15735878</td><td>Male</td><td>52</td><td>150000</td><td>1</td></tr><tr><td>15707596</td><td>Female</td><td>59</td><td>42000</td><td>0</td></tr><tr><td>15657163</td><td>Male</td><td>35</td><td>58000</td><td>0</td></tr><tr><td>15622478</td><td>Male</td><td>47</td><td>43000</td><td>0</td></tr><tr><td>15779529</td><td>Female</td><td>60</td><td>108000</td><td>1</td></tr><tr><td>15636023</td><td>Male</td><td>49</td><td>65000</td><td>0</td></tr><tr><td>15582066</td><td>Male</td><td>40</td><td>78000</td><td>0</td></tr><tr><td>15666675</td><td>Female</td><td>46</td><td>96000</td><td>0</td></tr><tr><td>15732987</td><td>Male</td><td>59</td><td>143000</td><td>1</td></tr><tr><td>15789432</td><td>Female</td><td>41</td><td>80000</td><td>0</td></tr><tr><td>15663161</td><td>Male</td><td>35</td><td>91000</td><td>1</td></tr><tr><td>15694879</td><td>Male</td><td>37</td><td>144000</td><td>1</td></tr><tr><td>15593715</td><td>Male</td><td>60</td><td>102000</td><td>1</td></tr><tr><td>15575002</td><td>Female</td><td>35</td><td>60000</td><td>0</td></tr><tr><td>15622171</td><td>Male</td><td>37</td><td>53000</td><td>0</td></tr><tr><td>15795224</td><td>Female</td><td>36</td><td>126000</td><td>1</td></tr><tr><td>15685346</td><td>Male</td><td>56</td><td>133000</td><td>1</td></tr><tr><td>15691808</td><td>Female</td><td>40</td><td>72000</td><td>0</td></tr><tr><td>15721007</td><td>Female</td><td>42</td><td>80000</td><td>1</td></tr><tr><td>15794253</td><td>Female</td><td>35</td><td>147000</td><td>1</td></tr><tr><td>15694453</td><td>Male</td><td>39</td><td>42000</td><td>0</td></tr><tr><td>15813113</td><td>Male</td><td>40</td><td>107000</td><td>1</td></tr><tr><td>15614187</td><td>Male</td><td>49</td><td>86000</td><td>1</td></tr><tr><td>15619407</td><td>Female</td><td>38</td><td>112000</td><td>0</td></tr><tr><td>15646227</td><td>Male</td><td>46</td><td>79000</td><td>1</td></tr><tr><td>15660541</td><td>Male</td><td>40</td><td>57000</td><td>0</td></tr><tr><td>15753874</td><td>Female</td><td>37</td><td>80000</td><td>0</td></tr><tr><td>15617877</td><td>Female</td><td>46</td><td>82000</td><td>0</td></tr><tr><td>15772073</td><td>Female</td><td>53</td><td>143000</td><td>1</td></tr><tr><td>15701537</td><td>Male</td><td>42</td><td>149000</td><td>1</td></tr><tr><td>15736228</td><td>Male</td><td>38</td><td>59000</td><td>0</td></tr><tr><td>15780572</td><td>Female</td><td>50</td><td>88000</td><td>1</td></tr><tr><td>15769596</td><td>Female</td><td>56</td><td>104000</td><td>1</td></tr><tr><td>15586996</td><td>Female</td><td>41</td><td>72000</td><td>0</td></tr><tr><td>15722061</td><td>Female</td><td>51</td><td>146000</td><td>1</td></tr><tr><td>15638003</td><td>Female</td><td>35</td><td>50000</td><td>0</td></tr><tr><td>15775590</td><td>Female</td><td>57</td><td>122000</td><td>1</td></tr><tr><td>15730688</td><td>Male</td><td>41</td><td>52000</td><td>0</td></tr><tr><td>15753102</td><td>Female</td><td>35</td><td>97000</td><td>1</td></tr><tr><td>15810075</td><td>Female</td><td>44</td><td>39000</td><td>0</td></tr><tr><td>15723373</td><td>Male</td><td>37</td><td>52000</td><td>0</td></tr><tr><td>15795298</td><td>Female</td><td>48</td><td>134000</td><td>1</td></tr><tr><td>15584320</td><td>Female</td><td>37</td><td>146000</td><td>1</td></tr><tr><td>15724161</td><td>Female</td><td>50</td><td>44000</td><td>0</td></tr><tr><td>15750056</td><td>Female</td><td>52</td><td>90000</td><td>1</td></tr><tr><td>15609637</td><td>Female</td><td>41</td><td>72000</td><td>0</td></tr><tr><td>15794493</td><td>Male</td><td>40</td><td>57000</td><td>0</td></tr><tr><td>15569641</td><td>Female</td><td>58</td><td>95000</td><td>1</td></tr><tr><td>15815236</td><td>Female</td><td>45</td><td>131000</td><td>1</td></tr><tr><td>15811177</td><td>Female</td><td>35</td><td>77000</td><td>0</td></tr><tr><td>15680587</td><td>Male</td><td>36</td><td>144000</td><td>1</td></tr><tr><td>15672821</td><td>Female</td><td>55</td><td>125000</td><td>1</td></tr><tr><td>15767681</td><td>Female</td><td>35</td><td>72000</td><td>0</td></tr><tr><td>15600379</td><td>Male</td><td>48</td><td>90000</td><td>1</td></tr><tr><td>15801336</td><td>Female</td><td>42</td><td>108000</td><td>1</td></tr><tr><td>15721592</td><td>Male</td><td>40</td><td>75000</td><td>0</td></tr><tr><td>15581282</td><td>Male</td><td>37</td><td>74000</td><td>0</td></tr><tr><td>15746203</td><td>Female</td><td>47</td><td>144000</td><td>1</td></tr><tr><td>15583137</td><td>Male</td><td>40</td><td>61000</td><td>0</td></tr><tr><td>15680752</td><td>Female</td><td>43</td><td>133000</td><td>0</td></tr><tr><td>15688172</td><td>Female</td><td>59</td><td>76000</td><td>1</td></tr><tr><td>15791373</td><td>Male</td><td>60</td><td>42000</td><td>1</td></tr><tr><td>15589449</td><td>Male</td><td>39</td><td>106000</td><td>1</td></tr><tr><td>15692819</td><td>Female</td><td>57</td><td>26000</td><td>1</td></tr><tr><td>15727467</td><td>Male</td><td>57</td><td>74000</td><td>1</td></tr><tr><td>15734312</td><td>Male</td><td>38</td><td>71000</td><td>0</td></tr><tr><td>15764604</td><td>Male</td><td>49</td><td>88000</td><td>1</td></tr><tr><td>15613014</td><td>Female</td><td>52</td><td>38000</td><td>1</td></tr><tr><td>15759684</td><td>Female</td><td>50</td><td>36000</td><td>1</td></tr><tr><td>15609669</td><td>Female</td><td>59</td><td>88000</td><td>1</td></tr><tr><td>15685536</td><td>Male</td><td>35</td><td>61000</td><td>0</td></tr><tr><td>15750447</td><td>Male</td><td>37</td><td>70000</td><td>1</td></tr><tr><td>15663249</td><td>Female</td><td>52</td><td>21000</td><td>1</td></tr><tr><td>15638646</td><td>Male</td><td>48</td><td>141000</td><td>0</td></tr><tr><td>15734161</td><td>Female</td><td>37</td><td>93000</td><td>1</td></tr><tr><td>15631070</td><td>Female</td><td>37</td><td>62000</td><td>0</td></tr><tr><td>15761950</td><td>Female</td><td>48</td><td>138000</td><td>1</td></tr><tr><td>15649668</td><td>Male</td><td>41</td><td>79000</td><td>0</td></tr><tr><td>15713912</td><td>Female</td><td>37</td><td>78000</td><td>1</td></tr><tr><td>15586757</td><td>Male</td><td>39</td><td>134000</td><td>1</td></tr><tr><td>15596522</td><td>Male</td><td>49</td><td>89000</td><td>1</td></tr><tr><td>15625395</td><td>Male</td><td>55</td><td>39000</td><td>1</td></tr><tr><td>15760570</td><td>Male</td><td>37</td><td>77000</td><td>0</td></tr><tr><td>15566689</td><td>Female</td><td>35</td><td>57000</td><td>0</td></tr><tr><td>15725794</td><td>Female</td><td>36</td><td>63000</td><td>0</td></tr><tr><td>15673539</td><td>Male</td><td>42</td><td>73000</td><td>1</td></tr><tr><td>15705298</td><td>Female</td><td>43</td><td>112000</td><td>1</td></tr><tr><td>15675791</td><td>Male</td><td>45</td><td>79000</td><td>0</td></tr><tr><td>15747043</td><td>Male</td><td>46</td><td>117000</td><td>1</td></tr><tr><td>15736397</td><td>Female</td><td>58</td><td>38000</td><td>1</td></tr><tr><td>15678201</td><td>Male</td><td>48</td><td>74000</td><td>1</td></tr><tr><td>15720745</td><td>Female</td><td>37</td><td>137000</td><td>1</td></tr><tr><td>15637593</td><td>Male</td><td>37</td><td>79000</td><td>1</td></tr><tr><td>15598070</td><td>Female</td><td>40</td><td>60000</td><td>0</td></tr><tr><td>15787550</td><td>Male</td><td>42</td><td>54000</td><td>0</td></tr><tr><td>15603942</td><td>Female</td><td>51</td><td>134000</td><td>0</td></tr><tr><td>15733973</td><td>Female</td><td>47</td><td>113000</td><td>1</td></tr><tr><td>15596761</td><td>Male</td><td>36</td><td>125000</td><td>1</td></tr><tr><td>15652400</td><td>Female</td><td>38</td><td>50000</td><td>0</td></tr><tr><td>15717893</td><td>Female</td><td>42</td><td>70000</td><td>0</td></tr><tr><td>15622585</td><td>Male</td><td>39</td><td>96000</td><td>1</td></tr><tr><td>15733964</td><td>Female</td><td>38</td><td>50000</td><td>0</td></tr><tr><td>15753861</td><td>Female</td><td>49</td><td>141000</td><td>1</td></tr><tr><td>15747097</td><td>Female</td><td>39</td><td>79000</td><td>0</td></tr><tr><td>15594762</td><td>Female</td><td>39</td><td>75000</td><td>1</td></tr><tr><td>15667417</td><td>Female</td><td>54</td><td>104000</td><td>1</td></tr><tr><td>15684861</td><td>Male</td><td>35</td><td>55000</td><td>0</td></tr><tr><td>15742204</td><td>Male</td><td>45</td><td>32000</td><td>1</td></tr><tr><td>15623502</td><td>Male</td><td>36</td><td>60000</td><td>0</td></tr><tr><td>15774872</td><td>Female</td><td>52</td><td>138000</td><td>1</td></tr><tr><td>15611191</td><td>Female</td><td>53</td><td>82000</td><td>1</td></tr><tr><td>15674331</td><td>Male</td><td>41</td><td>52000</td><td>0</td></tr><tr><td>15619465</td><td>Female</td><td>48</td><td>30000</td><td>1</td></tr><tr><td>15575247</td><td>Female</td><td>48</td><td>131000</td><td>1</td></tr><tr><td>15695679</td><td>Female</td><td>41</td><td>60000</td><td>0</td></tr><tr><td>15713463</td><td>Male</td><td>41</td><td>72000</td><td>0</td></tr><tr><td>15785170</td><td>Female</td><td>42</td><td>75000</td><td>0</td></tr><tr><td>15796351</td><td>Male</td><td>36</td><td>118000</td><td>1</td></tr><tr><td>15639576</td><td>Female</td><td>47</td><td>107000</td><td>1</td></tr><tr><td>15693264</td><td>Male</td><td>38</td><td>51000</td><td>0</td></tr><tr><td>15589715</td><td>Female</td><td>48</td><td>119000</td><td>1</td></tr><tr><td>15769902</td><td>Male</td><td>42</td><td>65000</td><td>0</td></tr><tr><td>15587177</td><td>Male</td><td>40</td><td>65000</td><td>0</td></tr><tr><td>15814553</td><td>Male</td><td>57</td><td>60000</td><td>1</td></tr><tr><td>15601550</td><td>Female</td><td>36</td><td>54000</td><td>0</td></tr><tr><td>15664907</td><td>Male</td><td>58</td><td>144000</td><td>1</td></tr><tr><td>15612465</td><td>Male</td><td>35</td><td>79000</td><td>0</td></tr><tr><td>15810800</td><td>Female</td><td>38</td><td>55000</td><td>0</td></tr><tr><td>15665760</td><td>Male</td><td>39</td><td>122000</td><td>1</td></tr><tr><td>15588080</td><td>Female</td><td>53</td><td>104000</td><td>1</td></tr><tr><td>15776844</td><td>Male</td><td>35</td><td>75000</td><td>0</td></tr><tr><td>15717560</td><td>Female</td><td>38</td><td>65000</td><td>0</td></tr><tr><td>15629739</td><td>Female</td><td>47</td><td>51000</td><td>1</td></tr><tr><td>15729908</td><td>Male</td><td>47</td><td>105000</td><td>1</td></tr><tr><td>15716781</td><td>Female</td><td>41</td><td>63000</td><td>0</td></tr><tr><td>15646936</td><td>Male</td><td>53</td><td>72000</td><td>1</td></tr><tr><td>15768151</td><td>Female</td><td>54</td><td>108000</td><td>1</td></tr><tr><td>15579212</td><td>Male</td><td>39</td><td>77000</td><td>0</td></tr><tr><td>15721835</td><td>Male</td><td>38</td><td>61000</td><td>0</td></tr><tr><td>15800515</td><td>Female</td><td>38</td><td>113000</td><td>1</td></tr><tr><td>15591279</td><td>Male</td><td>37</td><td>75000</td><td>0</td></tr><tr><td>15587419</td><td>Female</td><td>42</td><td>90000</td><td>1</td></tr><tr><td>15750335</td><td>Female</td><td>37</td><td>57000</td><td>0</td></tr><tr><td>15699619</td><td>Male</td><td>36</td><td>99000</td><td>1</td></tr><tr><td>15606472</td><td>Male</td><td>60</td><td>34000</td><td>1</td></tr><tr><td>15778368</td><td>Male</td><td>54</td><td>70000</td><td>1</td></tr><tr><td>15671387</td><td>Female</td><td>41</td><td>72000</td><td>0</td></tr><tr><td>15573926</td><td>Male</td><td>40</td><td>71000</td><td>1</td></tr><tr><td>15709183</td><td>Male</td><td>42</td><td>54000</td><td>0</td></tr><tr><td>15577514</td><td>Male</td><td>43</td><td>129000</td><td>1</td></tr><tr><td>15778830</td><td>Female</td><td>53</td><td>34000</td><td>1</td></tr><tr><td>15768072</td><td>Female</td><td>47</td><td>50000</td><td>1</td></tr><tr><td>15768293</td><td>Female</td><td>42</td><td>79000</td><td>0</td></tr><tr><td>15654456</td><td>Male</td><td>42</td><td>104000</td><td>1</td></tr><tr><td>15807525</td><td>Female</td><td>59</td><td>29000</td><td>1</td></tr><tr><td>15574372</td><td>Female</td><td>58</td><td>47000</td><td>1</td></tr><tr><td>15671249</td><td>Male</td><td>46</td><td>88000</td><td>1</td></tr><tr><td>15779744</td><td>Male</td><td>38</td><td>71000</td><td>0</td></tr><tr><td>15624755</td><td>Female</td><td>54</td><td>26000</td><td>1</td></tr><tr><td>15611430</td><td>Female</td><td>60</td><td>46000</td><td>1</td></tr><tr><td>15774744</td><td>Male</td><td>60</td><td>83000</td><td>1</td></tr><tr><td>15629885</td><td>Female</td><td>39</td><td>73000</td><td>0</td></tr><tr><td>15708791</td><td>Male</td><td>59</td><td>130000</td><td>1</td></tr><tr><td>15793890</td><td>Female</td><td>37</td><td>80000</td><td>0</td></tr><tr><td>15646091</td><td>Female</td><td>46</td><td>32000</td><td>1</td></tr><tr><td>15596984</td><td>Female</td><td>46</td><td>74000</td><td>0</td></tr><tr><td>15800215</td><td>Female</td><td>42</td><td>53000</td><td>0</td></tr><tr><td>15577806</td><td>Male</td><td>41</td><td>87000</td><td>1</td></tr><tr><td>15749381</td><td>Female</td><td>58</td><td>23000</td><td>1</td></tr><tr><td>15683758</td><td>Male</td><td>42</td><td>64000</td><td>0</td></tr><tr><td>15670615</td><td>Male</td><td>48</td><td>33000</td><td>1</td></tr><tr><td>15715622</td><td>Female</td><td>44</td><td>139000</td><td>1</td></tr><tr><td>15707634</td><td>Male</td><td>49</td><td>28000</td><td>1</td></tr><tr><td>15806901</td><td>Female</td><td>57</td><td>33000</td><td>1</td></tr><tr><td>15775335</td><td>Male</td><td>56</td><td>60000</td><td>1</td></tr><tr><td>15724150</td><td>Female</td><td>49</td><td>39000</td><td>1</td></tr><tr><td>15627220</td><td>Male</td><td>39</td><td>71000</td><td>0</td></tr><tr><td>15672330</td><td>Male</td><td>47</td><td>34000</td><td>1</td></tr><tr><td>15668521</td><td>Female</td><td>48</td><td>35000</td><td>1</td></tr><tr><td>15807837</td><td>Male</td><td>48</td><td>33000</td><td>1</td></tr><tr><td>15592570</td><td>Male</td><td>47</td><td>23000</td><td>1</td></tr><tr><td>15748589</td><td>Female</td><td>45</td><td>45000</td><td>1</td></tr><tr><td>15635893</td><td>Male</td><td>60</td><td>42000</td><td>1</td></tr><tr><td>15757632</td><td>Female</td><td>39</td><td>59000</td><td>0</td></tr><tr><td>15691863</td><td>Female</td><td>46</td><td>41000</td><td>1</td></tr><tr><td>15706071</td><td>Male</td><td>51</td><td>23000</td><td>1</td></tr><tr><td>15654296</td><td>Female</td><td>50</td><td>20000</td><td>1</td></tr><tr><td>15755018</td><td>Male</td><td>36</td><td>33000</td><td>0</td></tr><tr><td>15594041</td><td>Female</td><td>49</td><td>36000</td><td>1</td></tr></tbody></table></div>"
      ]
     },
     "metadata": {
      "application/vnd.databricks.v1+output": {
       "addedWidgets": {},
       "aggData": [],
       "aggError": "",
       "aggOverflow": false,
       "aggSchema": [],
       "aggSeriesLimitReached": false,
       "aggType": "",
       "arguments": {},
       "columnCustomDisplayInfos": {},
       "data": [
        [
         15624510,
         "Male",
         19,
         19000,
         0
        ],
        [
         15810944,
         "Male",
         35,
         20000,
         0
        ],
        [
         15668575,
         "Female",
         26,
         43000,
         0
        ],
        [
         15603246,
         "Female",
         27,
         57000,
         0
        ],
        [
         15804002,
         "Male",
         19,
         76000,
         0
        ],
        [
         15728773,
         "Male",
         27,
         58000,
         0
        ],
        [
         15598044,
         "Female",
         27,
         84000,
         0
        ],
        [
         15694829,
         "Female",
         32,
         150000,
         1
        ],
        [
         15600575,
         "Male",
         25,
         33000,
         0
        ],
        [
         15727311,
         "Female",
         35,
         65000,
         0
        ],
        [
         15570769,
         "Female",
         26,
         80000,
         0
        ],
        [
         15606274,
         "Female",
         26,
         52000,
         0
        ],
        [
         15746139,
         "Male",
         20,
         86000,
         0
        ],
        [
         15704987,
         "Male",
         32,
         18000,
         0
        ],
        [
         15628972,
         "Male",
         18,
         82000,
         0
        ],
        [
         15697686,
         "Male",
         29,
         80000,
         0
        ],
        [
         15733883,
         "Male",
         47,
         25000,
         1
        ],
        [
         15617482,
         "Male",
         45,
         26000,
         1
        ],
        [
         15704583,
         "Male",
         46,
         28000,
         1
        ],
        [
         15621083,
         "Female",
         48,
         29000,
         1
        ],
        [
         15649487,
         "Male",
         45,
         22000,
         1
        ],
        [
         15736760,
         "Female",
         47,
         49000,
         1
        ],
        [
         15714658,
         "Male",
         48,
         41000,
         1
        ],
        [
         15599081,
         "Female",
         45,
         22000,
         1
        ],
        [
         15705113,
         "Male",
         46,
         23000,
         1
        ],
        [
         15631159,
         "Male",
         47,
         20000,
         1
        ],
        [
         15792818,
         "Male",
         49,
         28000,
         1
        ],
        [
         15633531,
         "Female",
         47,
         30000,
         1
        ],
        [
         15744529,
         "Male",
         29,
         43000,
         0
        ],
        [
         15669656,
         "Male",
         31,
         18000,
         0
        ],
        [
         15581198,
         "Male",
         31,
         74000,
         0
        ],
        [
         15729054,
         "Female",
         27,
         137000,
         1
        ],
        [
         15573452,
         "Female",
         21,
         16000,
         0
        ],
        [
         15776733,
         "Female",
         28,
         44000,
         0
        ],
        [
         15724858,
         "Male",
         27,
         90000,
         0
        ],
        [
         15713144,
         "Male",
         35,
         27000,
         0
        ],
        [
         15690188,
         "Female",
         33,
         28000,
         0
        ],
        [
         15689425,
         "Male",
         30,
         49000,
         0
        ],
        [
         15671766,
         "Female",
         26,
         72000,
         0
        ],
        [
         15782806,
         "Female",
         27,
         31000,
         0
        ],
        [
         15764419,
         "Female",
         27,
         17000,
         0
        ],
        [
         15591915,
         "Female",
         33,
         51000,
         0
        ],
        [
         15772798,
         "Male",
         35,
         108000,
         0
        ],
        [
         15792008,
         "Male",
         30,
         15000,
         0
        ],
        [
         15715541,
         "Female",
         28,
         84000,
         0
        ],
        [
         15639277,
         "Male",
         23,
         20000,
         0
        ],
        [
         15798850,
         "Male",
         25,
         79000,
         0
        ],
        [
         15776348,
         "Female",
         27,
         54000,
         0
        ],
        [
         15727696,
         "Male",
         30,
         135000,
         1
        ],
        [
         15793813,
         "Female",
         31,
         89000,
         0
        ],
        [
         15694395,
         "Female",
         24,
         32000,
         0
        ],
        [
         15764195,
         "Female",
         18,
         44000,
         0
        ],
        [
         15744919,
         "Female",
         29,
         83000,
         0
        ],
        [
         15671655,
         "Female",
         35,
         23000,
         0
        ],
        [
         15654901,
         "Female",
         27,
         58000,
         0
        ],
        [
         15649136,
         "Female",
         24,
         55000,
         0
        ],
        [
         15775562,
         "Female",
         23,
         48000,
         0
        ],
        [
         15807481,
         "Male",
         28,
         79000,
         0
        ],
        [
         15642885,
         "Male",
         22,
         18000,
         0
        ],
        [
         15789109,
         "Female",
         32,
         117000,
         0
        ],
        [
         15814004,
         "Male",
         27,
         20000,
         0
        ],
        [
         15673619,
         "Male",
         25,
         87000,
         0
        ],
        [
         15595135,
         "Female",
         23,
         66000,
         0
        ],
        [
         15583681,
         "Male",
         32,
         120000,
         1
        ],
        [
         15605000,
         "Female",
         59,
         83000,
         0
        ],
        [
         15718071,
         "Male",
         24,
         58000,
         0
        ],
        [
         15679760,
         "Male",
         24,
         19000,
         0
        ],
        [
         15654574,
         "Female",
         23,
         82000,
         0
        ],
        [
         15577178,
         "Female",
         22,
         63000,
         0
        ],
        [
         15595324,
         "Female",
         31,
         68000,
         0
        ],
        [
         15756932,
         "Male",
         25,
         80000,
         0
        ],
        [
         15726358,
         "Female",
         24,
         27000,
         0
        ],
        [
         15595228,
         "Female",
         20,
         23000,
         0
        ],
        [
         15782530,
         "Female",
         33,
         113000,
         0
        ],
        [
         15592877,
         "Male",
         32,
         18000,
         0
        ],
        [
         15651983,
         "Male",
         34,
         112000,
         1
        ],
        [
         15746737,
         "Male",
         18,
         52000,
         0
        ],
        [
         15774179,
         "Female",
         22,
         27000,
         0
        ],
        [
         15667265,
         "Female",
         28,
         87000,
         0
        ],
        [
         15655123,
         "Female",
         26,
         17000,
         0
        ],
        [
         15595917,
         "Male",
         30,
         80000,
         0
        ],
        [
         15668385,
         "Male",
         39,
         42000,
         0
        ],
        [
         15709476,
         "Male",
         20,
         49000,
         0
        ],
        [
         15711218,
         "Male",
         35,
         88000,
         0
        ],
        [
         15798659,
         "Female",
         30,
         62000,
         0
        ],
        [
         15663939,
         "Female",
         31,
         118000,
         1
        ],
        [
         15694946,
         "Male",
         24,
         55000,
         0
        ],
        [
         15631912,
         "Female",
         28,
         85000,
         0
        ],
        [
         15768816,
         "Male",
         26,
         81000,
         0
        ],
        [
         15682268,
         "Male",
         35,
         50000,
         0
        ],
        [
         15684801,
         "Male",
         22,
         81000,
         0
        ],
        [
         15636428,
         "Female",
         30,
         116000,
         0
        ],
        [
         15809823,
         "Male",
         26,
         15000,
         0
        ],
        [
         15699284,
         "Female",
         29,
         28000,
         0
        ],
        [
         15786993,
         "Female",
         29,
         83000,
         0
        ],
        [
         15709441,
         "Female",
         35,
         44000,
         0
        ],
        [
         15710257,
         "Female",
         35,
         25000,
         0
        ],
        [
         15582492,
         "Male",
         28,
         123000,
         1
        ],
        [
         15575694,
         "Male",
         35,
         73000,
         0
        ],
        [
         15756820,
         "Female",
         28,
         37000,
         0
        ],
        [
         15766289,
         "Male",
         27,
         88000,
         0
        ],
        [
         15593014,
         "Male",
         28,
         59000,
         0
        ],
        [
         15584545,
         "Female",
         32,
         86000,
         0
        ],
        [
         15675949,
         "Female",
         33,
         149000,
         1
        ],
        [
         15672091,
         "Female",
         19,
         21000,
         0
        ],
        [
         15801658,
         "Male",
         21,
         72000,
         0
        ],
        [
         15706185,
         "Female",
         26,
         35000,
         0
        ],
        [
         15789863,
         "Male",
         27,
         89000,
         0
        ],
        [
         15720943,
         "Male",
         26,
         86000,
         0
        ],
        [
         15697997,
         "Female",
         38,
         80000,
         0
        ],
        [
         15665416,
         "Female",
         39,
         71000,
         0
        ],
        [
         15660200,
         "Female",
         37,
         71000,
         0
        ],
        [
         15619653,
         "Male",
         38,
         61000,
         0
        ],
        [
         15773447,
         "Male",
         37,
         55000,
         0
        ],
        [
         15739160,
         "Male",
         42,
         80000,
         0
        ],
        [
         15689237,
         "Male",
         40,
         57000,
         0
        ],
        [
         15679297,
         "Male",
         35,
         75000,
         0
        ],
        [
         15591433,
         "Male",
         36,
         52000,
         0
        ],
        [
         15642725,
         "Male",
         40,
         59000,
         0
        ],
        [
         15701962,
         "Male",
         41,
         59000,
         0
        ],
        [
         15811613,
         "Female",
         36,
         75000,
         0
        ],
        [
         15741049,
         "Male",
         37,
         72000,
         0
        ],
        [
         15724423,
         "Female",
         40,
         75000,
         0
        ],
        [
         15574305,
         "Male",
         35,
         53000,
         0
        ],
        [
         15678168,
         "Female",
         41,
         51000,
         0
        ],
        [
         15697020,
         "Female",
         39,
         61000,
         0
        ],
        [
         15610801,
         "Male",
         42,
         65000,
         0
        ],
        [
         15745232,
         "Male",
         26,
         32000,
         0
        ],
        [
         15722758,
         "Male",
         30,
         17000,
         0
        ],
        [
         15792102,
         "Female",
         26,
         84000,
         0
        ],
        [
         15675185,
         "Male",
         31,
         58000,
         0
        ],
        [
         15801247,
         "Male",
         33,
         31000,
         0
        ],
        [
         15725660,
         "Male",
         30,
         87000,
         0
        ],
        [
         15638963,
         "Female",
         21,
         68000,
         0
        ],
        [
         15800061,
         "Female",
         28,
         55000,
         0
        ],
        [
         15578006,
         "Male",
         23,
         63000,
         0
        ],
        [
         15668504,
         "Female",
         20,
         82000,
         0
        ],
        [
         15687491,
         "Male",
         30,
         107000,
         1
        ],
        [
         15610403,
         "Female",
         28,
         59000,
         0
        ],
        [
         15741094,
         "Male",
         19,
         25000,
         0
        ],
        [
         15807909,
         "Male",
         19,
         85000,
         0
        ],
        [
         15666141,
         "Female",
         18,
         68000,
         0
        ],
        [
         15617134,
         "Male",
         35,
         59000,
         0
        ],
        [
         15783029,
         "Male",
         30,
         89000,
         0
        ],
        [
         15622833,
         "Female",
         34,
         25000,
         0
        ],
        [
         15746422,
         "Female",
         24,
         89000,
         0
        ],
        [
         15750839,
         "Female",
         27,
         96000,
         1
        ],
        [
         15749130,
         "Female",
         41,
         30000,
         0
        ],
        [
         15779862,
         "Male",
         29,
         61000,
         0
        ],
        [
         15767871,
         "Male",
         20,
         74000,
         0
        ],
        [
         15679651,
         "Female",
         26,
         15000,
         0
        ],
        [
         15576219,
         "Male",
         41,
         45000,
         0
        ],
        [
         15699247,
         "Male",
         31,
         76000,
         0
        ],
        [
         15619087,
         "Female",
         36,
         50000,
         0
        ],
        [
         15605327,
         "Male",
         40,
         47000,
         0
        ],
        [
         15610140,
         "Female",
         31,
         15000,
         0
        ],
        [
         15791174,
         "Male",
         46,
         59000,
         0
        ],
        [
         15602373,
         "Male",
         29,
         75000,
         0
        ],
        [
         15762605,
         "Male",
         26,
         30000,
         0
        ],
        [
         15598840,
         "Female",
         32,
         135000,
         1
        ],
        [
         15744279,
         "Male",
         32,
         100000,
         1
        ],
        [
         15670619,
         "Male",
         25,
         90000,
         0
        ],
        [
         15599533,
         "Female",
         37,
         33000,
         0
        ],
        [
         15757837,
         "Male",
         35,
         38000,
         0
        ],
        [
         15697574,
         "Female",
         33,
         69000,
         0
        ],
        [
         15578738,
         "Female",
         18,
         86000,
         0
        ],
        [
         15762228,
         "Female",
         22,
         55000,
         0
        ],
        [
         15614827,
         "Female",
         35,
         71000,
         0
        ],
        [
         15789815,
         "Male",
         29,
         148000,
         1
        ],
        [
         15579781,
         "Female",
         29,
         47000,
         0
        ],
        [
         15587013,
         "Male",
         21,
         88000,
         0
        ],
        [
         15570932,
         "Male",
         34,
         115000,
         0
        ],
        [
         15794661,
         "Female",
         26,
         118000,
         0
        ],
        [
         15581654,
         "Female",
         34,
         43000,
         0
        ],
        [
         15644296,
         "Female",
         34,
         72000,
         0
        ],
        [
         15614420,
         "Female",
         23,
         28000,
         0
        ],
        [
         15609653,
         "Female",
         35,
         47000,
         0
        ],
        [
         15594577,
         "Male",
         25,
         22000,
         0
        ],
        [
         15584114,
         "Male",
         24,
         23000,
         0
        ],
        [
         15673367,
         "Female",
         31,
         34000,
         0
        ],
        [
         15685576,
         "Male",
         26,
         16000,
         0
        ],
        [
         15774727,
         "Female",
         31,
         71000,
         0
        ],
        [
         15694288,
         "Female",
         32,
         117000,
         1
        ],
        [
         15603319,
         "Male",
         33,
         43000,
         0
        ],
        [
         15759066,
         "Female",
         33,
         60000,
         0
        ],
        [
         15814816,
         "Male",
         31,
         66000,
         0
        ],
        [
         15724402,
         "Female",
         20,
         82000,
         0
        ],
        [
         15571059,
         "Female",
         33,
         41000,
         0
        ],
        [
         15674206,
         "Male",
         35,
         72000,
         0
        ],
        [
         15715160,
         "Male",
         28,
         32000,
         0
        ],
        [
         15730448,
         "Male",
         24,
         84000,
         0
        ],
        [
         15662067,
         "Female",
         19,
         26000,
         0
        ],
        [
         15779581,
         "Male",
         29,
         43000,
         0
        ],
        [
         15662901,
         "Male",
         19,
         70000,
         0
        ],
        [
         15689751,
         "Male",
         28,
         89000,
         0
        ],
        [
         15667742,
         "Male",
         34,
         43000,
         0
        ],
        [
         15738448,
         "Female",
         30,
         79000,
         0
        ],
        [
         15680243,
         "Female",
         20,
         36000,
         0
        ],
        [
         15745083,
         "Male",
         26,
         80000,
         0
        ],
        [
         15708228,
         "Male",
         35,
         22000,
         0
        ],
        [
         15628523,
         "Male",
         35,
         39000,
         0
        ],
        [
         15708196,
         "Male",
         49,
         74000,
         0
        ],
        [
         15735549,
         "Female",
         39,
         134000,
         1
        ],
        [
         15809347,
         "Female",
         41,
         71000,
         0
        ],
        [
         15660866,
         "Female",
         58,
         101000,
         1
        ],
        [
         15766609,
         "Female",
         47,
         47000,
         0
        ],
        [
         15654230,
         "Female",
         55,
         130000,
         1
        ],
        [
         15794566,
         "Female",
         52,
         114000,
         0
        ],
        [
         15800890,
         "Female",
         40,
         142000,
         1
        ],
        [
         15697424,
         "Female",
         46,
         22000,
         0
        ],
        [
         15724536,
         "Female",
         48,
         96000,
         1
        ],
        [
         15735878,
         "Male",
         52,
         150000,
         1
        ],
        [
         15707596,
         "Female",
         59,
         42000,
         0
        ],
        [
         15657163,
         "Male",
         35,
         58000,
         0
        ],
        [
         15622478,
         "Male",
         47,
         43000,
         0
        ],
        [
         15779529,
         "Female",
         60,
         108000,
         1
        ],
        [
         15636023,
         "Male",
         49,
         65000,
         0
        ],
        [
         15582066,
         "Male",
         40,
         78000,
         0
        ],
        [
         15666675,
         "Female",
         46,
         96000,
         0
        ],
        [
         15732987,
         "Male",
         59,
         143000,
         1
        ],
        [
         15789432,
         "Female",
         41,
         80000,
         0
        ],
        [
         15663161,
         "Male",
         35,
         91000,
         1
        ],
        [
         15694879,
         "Male",
         37,
         144000,
         1
        ],
        [
         15593715,
         "Male",
         60,
         102000,
         1
        ],
        [
         15575002,
         "Female",
         35,
         60000,
         0
        ],
        [
         15622171,
         "Male",
         37,
         53000,
         0
        ],
        [
         15795224,
         "Female",
         36,
         126000,
         1
        ],
        [
         15685346,
         "Male",
         56,
         133000,
         1
        ],
        [
         15691808,
         "Female",
         40,
         72000,
         0
        ],
        [
         15721007,
         "Female",
         42,
         80000,
         1
        ],
        [
         15794253,
         "Female",
         35,
         147000,
         1
        ],
        [
         15694453,
         "Male",
         39,
         42000,
         0
        ],
        [
         15813113,
         "Male",
         40,
         107000,
         1
        ],
        [
         15614187,
         "Male",
         49,
         86000,
         1
        ],
        [
         15619407,
         "Female",
         38,
         112000,
         0
        ],
        [
         15646227,
         "Male",
         46,
         79000,
         1
        ],
        [
         15660541,
         "Male",
         40,
         57000,
         0
        ],
        [
         15753874,
         "Female",
         37,
         80000,
         0
        ],
        [
         15617877,
         "Female",
         46,
         82000,
         0
        ],
        [
         15772073,
         "Female",
         53,
         143000,
         1
        ],
        [
         15701537,
         "Male",
         42,
         149000,
         1
        ],
        [
         15736228,
         "Male",
         38,
         59000,
         0
        ],
        [
         15780572,
         "Female",
         50,
         88000,
         1
        ],
        [
         15769596,
         "Female",
         56,
         104000,
         1
        ],
        [
         15586996,
         "Female",
         41,
         72000,
         0
        ],
        [
         15722061,
         "Female",
         51,
         146000,
         1
        ],
        [
         15638003,
         "Female",
         35,
         50000,
         0
        ],
        [
         15775590,
         "Female",
         57,
         122000,
         1
        ],
        [
         15730688,
         "Male",
         41,
         52000,
         0
        ],
        [
         15753102,
         "Female",
         35,
         97000,
         1
        ],
        [
         15810075,
         "Female",
         44,
         39000,
         0
        ],
        [
         15723373,
         "Male",
         37,
         52000,
         0
        ],
        [
         15795298,
         "Female",
         48,
         134000,
         1
        ],
        [
         15584320,
         "Female",
         37,
         146000,
         1
        ],
        [
         15724161,
         "Female",
         50,
         44000,
         0
        ],
        [
         15750056,
         "Female",
         52,
         90000,
         1
        ],
        [
         15609637,
         "Female",
         41,
         72000,
         0
        ],
        [
         15794493,
         "Male",
         40,
         57000,
         0
        ],
        [
         15569641,
         "Female",
         58,
         95000,
         1
        ],
        [
         15815236,
         "Female",
         45,
         131000,
         1
        ],
        [
         15811177,
         "Female",
         35,
         77000,
         0
        ],
        [
         15680587,
         "Male",
         36,
         144000,
         1
        ],
        [
         15672821,
         "Female",
         55,
         125000,
         1
        ],
        [
         15767681,
         "Female",
         35,
         72000,
         0
        ],
        [
         15600379,
         "Male",
         48,
         90000,
         1
        ],
        [
         15801336,
         "Female",
         42,
         108000,
         1
        ],
        [
         15721592,
         "Male",
         40,
         75000,
         0
        ],
        [
         15581282,
         "Male",
         37,
         74000,
         0
        ],
        [
         15746203,
         "Female",
         47,
         144000,
         1
        ],
        [
         15583137,
         "Male",
         40,
         61000,
         0
        ],
        [
         15680752,
         "Female",
         43,
         133000,
         0
        ],
        [
         15688172,
         "Female",
         59,
         76000,
         1
        ],
        [
         15791373,
         "Male",
         60,
         42000,
         1
        ],
        [
         15589449,
         "Male",
         39,
         106000,
         1
        ],
        [
         15692819,
         "Female",
         57,
         26000,
         1
        ],
        [
         15727467,
         "Male",
         57,
         74000,
         1
        ],
        [
         15734312,
         "Male",
         38,
         71000,
         0
        ],
        [
         15764604,
         "Male",
         49,
         88000,
         1
        ],
        [
         15613014,
         "Female",
         52,
         38000,
         1
        ],
        [
         15759684,
         "Female",
         50,
         36000,
         1
        ],
        [
         15609669,
         "Female",
         59,
         88000,
         1
        ],
        [
         15685536,
         "Male",
         35,
         61000,
         0
        ],
        [
         15750447,
         "Male",
         37,
         70000,
         1
        ],
        [
         15663249,
         "Female",
         52,
         21000,
         1
        ],
        [
         15638646,
         "Male",
         48,
         141000,
         0
        ],
        [
         15734161,
         "Female",
         37,
         93000,
         1
        ],
        [
         15631070,
         "Female",
         37,
         62000,
         0
        ],
        [
         15761950,
         "Female",
         48,
         138000,
         1
        ],
        [
         15649668,
         "Male",
         41,
         79000,
         0
        ],
        [
         15713912,
         "Female",
         37,
         78000,
         1
        ],
        [
         15586757,
         "Male",
         39,
         134000,
         1
        ],
        [
         15596522,
         "Male",
         49,
         89000,
         1
        ],
        [
         15625395,
         "Male",
         55,
         39000,
         1
        ],
        [
         15760570,
         "Male",
         37,
         77000,
         0
        ],
        [
         15566689,
         "Female",
         35,
         57000,
         0
        ],
        [
         15725794,
         "Female",
         36,
         63000,
         0
        ],
        [
         15673539,
         "Male",
         42,
         73000,
         1
        ],
        [
         15705298,
         "Female",
         43,
         112000,
         1
        ],
        [
         15675791,
         "Male",
         45,
         79000,
         0
        ],
        [
         15747043,
         "Male",
         46,
         117000,
         1
        ],
        [
         15736397,
         "Female",
         58,
         38000,
         1
        ],
        [
         15678201,
         "Male",
         48,
         74000,
         1
        ],
        [
         15720745,
         "Female",
         37,
         137000,
         1
        ],
        [
         15637593,
         "Male",
         37,
         79000,
         1
        ],
        [
         15598070,
         "Female",
         40,
         60000,
         0
        ],
        [
         15787550,
         "Male",
         42,
         54000,
         0
        ],
        [
         15603942,
         "Female",
         51,
         134000,
         0
        ],
        [
         15733973,
         "Female",
         47,
         113000,
         1
        ],
        [
         15596761,
         "Male",
         36,
         125000,
         1
        ],
        [
         15652400,
         "Female",
         38,
         50000,
         0
        ],
        [
         15717893,
         "Female",
         42,
         70000,
         0
        ],
        [
         15622585,
         "Male",
         39,
         96000,
         1
        ],
        [
         15733964,
         "Female",
         38,
         50000,
         0
        ],
        [
         15753861,
         "Female",
         49,
         141000,
         1
        ],
        [
         15747097,
         "Female",
         39,
         79000,
         0
        ],
        [
         15594762,
         "Female",
         39,
         75000,
         1
        ],
        [
         15667417,
         "Female",
         54,
         104000,
         1
        ],
        [
         15684861,
         "Male",
         35,
         55000,
         0
        ],
        [
         15742204,
         "Male",
         45,
         32000,
         1
        ],
        [
         15623502,
         "Male",
         36,
         60000,
         0
        ],
        [
         15774872,
         "Female",
         52,
         138000,
         1
        ],
        [
         15611191,
         "Female",
         53,
         82000,
         1
        ],
        [
         15674331,
         "Male",
         41,
         52000,
         0
        ],
        [
         15619465,
         "Female",
         48,
         30000,
         1
        ],
        [
         15575247,
         "Female",
         48,
         131000,
         1
        ],
        [
         15695679,
         "Female",
         41,
         60000,
         0
        ],
        [
         15713463,
         "Male",
         41,
         72000,
         0
        ],
        [
         15785170,
         "Female",
         42,
         75000,
         0
        ],
        [
         15796351,
         "Male",
         36,
         118000,
         1
        ],
        [
         15639576,
         "Female",
         47,
         107000,
         1
        ],
        [
         15693264,
         "Male",
         38,
         51000,
         0
        ],
        [
         15589715,
         "Female",
         48,
         119000,
         1
        ],
        [
         15769902,
         "Male",
         42,
         65000,
         0
        ],
        [
         15587177,
         "Male",
         40,
         65000,
         0
        ],
        [
         15814553,
         "Male",
         57,
         60000,
         1
        ],
        [
         15601550,
         "Female",
         36,
         54000,
         0
        ],
        [
         15664907,
         "Male",
         58,
         144000,
         1
        ],
        [
         15612465,
         "Male",
         35,
         79000,
         0
        ],
        [
         15810800,
         "Female",
         38,
         55000,
         0
        ],
        [
         15665760,
         "Male",
         39,
         122000,
         1
        ],
        [
         15588080,
         "Female",
         53,
         104000,
         1
        ],
        [
         15776844,
         "Male",
         35,
         75000,
         0
        ],
        [
         15717560,
         "Female",
         38,
         65000,
         0
        ],
        [
         15629739,
         "Female",
         47,
         51000,
         1
        ],
        [
         15729908,
         "Male",
         47,
         105000,
         1
        ],
        [
         15716781,
         "Female",
         41,
         63000,
         0
        ],
        [
         15646936,
         "Male",
         53,
         72000,
         1
        ],
        [
         15768151,
         "Female",
         54,
         108000,
         1
        ],
        [
         15579212,
         "Male",
         39,
         77000,
         0
        ],
        [
         15721835,
         "Male",
         38,
         61000,
         0
        ],
        [
         15800515,
         "Female",
         38,
         113000,
         1
        ],
        [
         15591279,
         "Male",
         37,
         75000,
         0
        ],
        [
         15587419,
         "Female",
         42,
         90000,
         1
        ],
        [
         15750335,
         "Female",
         37,
         57000,
         0
        ],
        [
         15699619,
         "Male",
         36,
         99000,
         1
        ],
        [
         15606472,
         "Male",
         60,
         34000,
         1
        ],
        [
         15778368,
         "Male",
         54,
         70000,
         1
        ],
        [
         15671387,
         "Female",
         41,
         72000,
         0
        ],
        [
         15573926,
         "Male",
         40,
         71000,
         1
        ],
        [
         15709183,
         "Male",
         42,
         54000,
         0
        ],
        [
         15577514,
         "Male",
         43,
         129000,
         1
        ],
        [
         15778830,
         "Female",
         53,
         34000,
         1
        ],
        [
         15768072,
         "Female",
         47,
         50000,
         1
        ],
        [
         15768293,
         "Female",
         42,
         79000,
         0
        ],
        [
         15654456,
         "Male",
         42,
         104000,
         1
        ],
        [
         15807525,
         "Female",
         59,
         29000,
         1
        ],
        [
         15574372,
         "Female",
         58,
         47000,
         1
        ],
        [
         15671249,
         "Male",
         46,
         88000,
         1
        ],
        [
         15779744,
         "Male",
         38,
         71000,
         0
        ],
        [
         15624755,
         "Female",
         54,
         26000,
         1
        ],
        [
         15611430,
         "Female",
         60,
         46000,
         1
        ],
        [
         15774744,
         "Male",
         60,
         83000,
         1
        ],
        [
         15629885,
         "Female",
         39,
         73000,
         0
        ],
        [
         15708791,
         "Male",
         59,
         130000,
         1
        ],
        [
         15793890,
         "Female",
         37,
         80000,
         0
        ],
        [
         15646091,
         "Female",
         46,
         32000,
         1
        ],
        [
         15596984,
         "Female",
         46,
         74000,
         0
        ],
        [
         15800215,
         "Female",
         42,
         53000,
         0
        ],
        [
         15577806,
         "Male",
         41,
         87000,
         1
        ],
        [
         15749381,
         "Female",
         58,
         23000,
         1
        ],
        [
         15683758,
         "Male",
         42,
         64000,
         0
        ],
        [
         15670615,
         "Male",
         48,
         33000,
         1
        ],
        [
         15715622,
         "Female",
         44,
         139000,
         1
        ],
        [
         15707634,
         "Male",
         49,
         28000,
         1
        ],
        [
         15806901,
         "Female",
         57,
         33000,
         1
        ],
        [
         15775335,
         "Male",
         56,
         60000,
         1
        ],
        [
         15724150,
         "Female",
         49,
         39000,
         1
        ],
        [
         15627220,
         "Male",
         39,
         71000,
         0
        ],
        [
         15672330,
         "Male",
         47,
         34000,
         1
        ],
        [
         15668521,
         "Female",
         48,
         35000,
         1
        ],
        [
         15807837,
         "Male",
         48,
         33000,
         1
        ],
        [
         15592570,
         "Male",
         47,
         23000,
         1
        ],
        [
         15748589,
         "Female",
         45,
         45000,
         1
        ],
        [
         15635893,
         "Male",
         60,
         42000,
         1
        ],
        [
         15757632,
         "Female",
         39,
         59000,
         0
        ],
        [
         15691863,
         "Female",
         46,
         41000,
         1
        ],
        [
         15706071,
         "Male",
         51,
         23000,
         1
        ],
        [
         15654296,
         "Female",
         50,
         20000,
         1
        ],
        [
         15755018,
         "Male",
         36,
         33000,
         0
        ],
        [
         15594041,
         "Female",
         49,
         36000,
         1
        ]
       ],
       "datasetInfos": [],
       "dbfsResultPath": null,
       "isJsonSchema": true,
       "metadata": {},
       "overflow": false,
       "plotOptions": {
        "customPlotOptions": {},
        "displayType": "table",
        "pivotAggregation": null,
        "pivotColumns": null,
        "xColumns": null,
        "yColumns": null
       },
       "removedWidgets": [],
       "schema": [
        {
         "metadata": "{}",
         "name": "User ID",
         "type": "\"integer\""
        },
        {
         "metadata": "{}",
         "name": "Genero",
         "type": "\"string\""
        },
        {
         "metadata": "{}",
         "name": "Edad",
         "type": "\"integer\""
        },
        {
         "metadata": "{}",
         "name": "Salario",
         "type": "\"integer\""
        },
        {
         "metadata": "{}",
         "name": "Compra",
         "type": "\"integer\""
        }
       ],
       "type": "table"
      }
     },
     "output_type": "display_data"
    }
   ],
   "source": [
    "# File location and type\n",
    "file_location = \"/FileStore/tables/venta.csv\"\n",
    "file_type = \"csv\"\n",
    "\n",
    "# CSV options\n",
    "infer_schema = \"True\"\n",
    "first_row_is_header = \"True\"\n",
    "delimiter = \",\"\n",
    "\n",
    "# The applied options are for CSV files. For other file types, these will be ignored.\n",
    "df = spark.read.format(file_type) \\\n",
    "  .option(\"inferSchema\", infer_schema) \\\n",
    "  .option(\"header\", first_row_is_header) \\\n",
    "  .option(\"sep\", delimiter) \\\n",
    "  .load(file_location)\n",
    "\n",
    "display(df)"
   ]
  },
  {
   "cell_type": "code",
   "execution_count": 0,
   "metadata": {
    "application/vnd.databricks.v1+cell": {
     "cellMetadata": {
      "byteLimit": 2048000,
      "rowLimit": 10000
     },
     "inputWidgets": {},
     "nuid": "56d69663-e758-49a7-a0ea-bd40e6096b0d",
     "showTitle": false,
     "title": ""
    }
   },
   "outputs": [
    {
     "output_type": "stream",
     "name": "stdout",
     "output_type": "stream",
     "text": [
      "Out[2]: ['User ID', 'Genero', 'Edad', 'Salario', 'Compra']"
     ]
    }
   ],
   "source": [
    "df.columns"
   ]
  },
  {
   "cell_type": "code",
   "execution_count": 0,
   "metadata": {
    "application/vnd.databricks.v1+cell": {
     "cellMetadata": {
      "byteLimit": 2048000,
      "rowLimit": 10000
     },
     "inputWidgets": {},
     "nuid": "bd82bb99-1479-4d5c-be10-8c36df0f1d44",
     "showTitle": false,
     "title": ""
    }
   },
   "outputs": [],
   "source": [
    "# Create a view or table\n",
    "\n",
    "temp_table_name = \"venta_csv\"\n",
    "\n",
    "df.createOrReplaceTempView(temp_table_name)"
   ]
  },
  {
   "cell_type": "code",
   "execution_count": 0,
   "metadata": {
    "application/vnd.databricks.v1+cell": {
     "cellMetadata": {
      "implicitDf": true
     },
     "inputWidgets": {},
     "nuid": "b5f66379-6f7f-42ec-8e82-d0e0926a1721",
     "showTitle": false,
     "title": ""
    }
   },
   "outputs": [
    {
     "output_type": "display_data",
     "data": {
      "text/html": [
       "<style scoped>\n",
       "  .table-result-container {\n",
       "    max-height: 300px;\n",
       "    overflow: auto;\n",
       "  }\n",
       "  table, th, td {\n",
       "    border: 1px solid black;\n",
       "    border-collapse: collapse;\n",
       "  }\n",
       "  th, td {\n",
       "    padding: 5px;\n",
       "  }\n",
       "  th {\n",
       "    text-align: left;\n",
       "  }\n",
       "</style><div class='table-result-container'><table class='table-result'><thead style='background-color: white'><tr><th>User ID</th><th>Genero</th><th>Edad</th><th>Salario</th><th>Compra</th></tr></thead><tbody><tr><td>15624510</td><td>Male</td><td>19</td><td>19000</td><td>0</td></tr><tr><td>15810944</td><td>Male</td><td>35</td><td>20000</td><td>0</td></tr><tr><td>15668575</td><td>Female</td><td>26</td><td>43000</td><td>0</td></tr><tr><td>15603246</td><td>Female</td><td>27</td><td>57000</td><td>0</td></tr><tr><td>15804002</td><td>Male</td><td>19</td><td>76000</td><td>0</td></tr><tr><td>15728773</td><td>Male</td><td>27</td><td>58000</td><td>0</td></tr><tr><td>15598044</td><td>Female</td><td>27</td><td>84000</td><td>0</td></tr><tr><td>15694829</td><td>Female</td><td>32</td><td>150000</td><td>1</td></tr><tr><td>15600575</td><td>Male</td><td>25</td><td>33000</td><td>0</td></tr><tr><td>15727311</td><td>Female</td><td>35</td><td>65000</td><td>0</td></tr><tr><td>15570769</td><td>Female</td><td>26</td><td>80000</td><td>0</td></tr><tr><td>15606274</td><td>Female</td><td>26</td><td>52000</td><td>0</td></tr><tr><td>15746139</td><td>Male</td><td>20</td><td>86000</td><td>0</td></tr><tr><td>15704987</td><td>Male</td><td>32</td><td>18000</td><td>0</td></tr><tr><td>15628972</td><td>Male</td><td>18</td><td>82000</td><td>0</td></tr><tr><td>15697686</td><td>Male</td><td>29</td><td>80000</td><td>0</td></tr><tr><td>15733883</td><td>Male</td><td>47</td><td>25000</td><td>1</td></tr><tr><td>15617482</td><td>Male</td><td>45</td><td>26000</td><td>1</td></tr><tr><td>15704583</td><td>Male</td><td>46</td><td>28000</td><td>1</td></tr><tr><td>15621083</td><td>Female</td><td>48</td><td>29000</td><td>1</td></tr><tr><td>15649487</td><td>Male</td><td>45</td><td>22000</td><td>1</td></tr><tr><td>15736760</td><td>Female</td><td>47</td><td>49000</td><td>1</td></tr><tr><td>15714658</td><td>Male</td><td>48</td><td>41000</td><td>1</td></tr><tr><td>15599081</td><td>Female</td><td>45</td><td>22000</td><td>1</td></tr><tr><td>15705113</td><td>Male</td><td>46</td><td>23000</td><td>1</td></tr><tr><td>15631159</td><td>Male</td><td>47</td><td>20000</td><td>1</td></tr><tr><td>15792818</td><td>Male</td><td>49</td><td>28000</td><td>1</td></tr><tr><td>15633531</td><td>Female</td><td>47</td><td>30000</td><td>1</td></tr><tr><td>15744529</td><td>Male</td><td>29</td><td>43000</td><td>0</td></tr><tr><td>15669656</td><td>Male</td><td>31</td><td>18000</td><td>0</td></tr><tr><td>15581198</td><td>Male</td><td>31</td><td>74000</td><td>0</td></tr><tr><td>15729054</td><td>Female</td><td>27</td><td>137000</td><td>1</td></tr><tr><td>15573452</td><td>Female</td><td>21</td><td>16000</td><td>0</td></tr><tr><td>15776733</td><td>Female</td><td>28</td><td>44000</td><td>0</td></tr><tr><td>15724858</td><td>Male</td><td>27</td><td>90000</td><td>0</td></tr><tr><td>15713144</td><td>Male</td><td>35</td><td>27000</td><td>0</td></tr><tr><td>15690188</td><td>Female</td><td>33</td><td>28000</td><td>0</td></tr><tr><td>15689425</td><td>Male</td><td>30</td><td>49000</td><td>0</td></tr><tr><td>15671766</td><td>Female</td><td>26</td><td>72000</td><td>0</td></tr><tr><td>15782806</td><td>Female</td><td>27</td><td>31000</td><td>0</td></tr><tr><td>15764419</td><td>Female</td><td>27</td><td>17000</td><td>0</td></tr><tr><td>15591915</td><td>Female</td><td>33</td><td>51000</td><td>0</td></tr><tr><td>15772798</td><td>Male</td><td>35</td><td>108000</td><td>0</td></tr><tr><td>15792008</td><td>Male</td><td>30</td><td>15000</td><td>0</td></tr><tr><td>15715541</td><td>Female</td><td>28</td><td>84000</td><td>0</td></tr><tr><td>15639277</td><td>Male</td><td>23</td><td>20000</td><td>0</td></tr><tr><td>15798850</td><td>Male</td><td>25</td><td>79000</td><td>0</td></tr><tr><td>15776348</td><td>Female</td><td>27</td><td>54000</td><td>0</td></tr><tr><td>15727696</td><td>Male</td><td>30</td><td>135000</td><td>1</td></tr><tr><td>15793813</td><td>Female</td><td>31</td><td>89000</td><td>0</td></tr><tr><td>15694395</td><td>Female</td><td>24</td><td>32000</td><td>0</td></tr><tr><td>15764195</td><td>Female</td><td>18</td><td>44000</td><td>0</td></tr><tr><td>15744919</td><td>Female</td><td>29</td><td>83000</td><td>0</td></tr><tr><td>15671655</td><td>Female</td><td>35</td><td>23000</td><td>0</td></tr><tr><td>15654901</td><td>Female</td><td>27</td><td>58000</td><td>0</td></tr><tr><td>15649136</td><td>Female</td><td>24</td><td>55000</td><td>0</td></tr><tr><td>15775562</td><td>Female</td><td>23</td><td>48000</td><td>0</td></tr><tr><td>15807481</td><td>Male</td><td>28</td><td>79000</td><td>0</td></tr><tr><td>15642885</td><td>Male</td><td>22</td><td>18000</td><td>0</td></tr><tr><td>15789109</td><td>Female</td><td>32</td><td>117000</td><td>0</td></tr><tr><td>15814004</td><td>Male</td><td>27</td><td>20000</td><td>0</td></tr><tr><td>15673619</td><td>Male</td><td>25</td><td>87000</td><td>0</td></tr><tr><td>15595135</td><td>Female</td><td>23</td><td>66000</td><td>0</td></tr><tr><td>15583681</td><td>Male</td><td>32</td><td>120000</td><td>1</td></tr><tr><td>15605000</td><td>Female</td><td>59</td><td>83000</td><td>0</td></tr><tr><td>15718071</td><td>Male</td><td>24</td><td>58000</td><td>0</td></tr><tr><td>15679760</td><td>Male</td><td>24</td><td>19000</td><td>0</td></tr><tr><td>15654574</td><td>Female</td><td>23</td><td>82000</td><td>0</td></tr><tr><td>15577178</td><td>Female</td><td>22</td><td>63000</td><td>0</td></tr><tr><td>15595324</td><td>Female</td><td>31</td><td>68000</td><td>0</td></tr><tr><td>15756932</td><td>Male</td><td>25</td><td>80000</td><td>0</td></tr><tr><td>15726358</td><td>Female</td><td>24</td><td>27000</td><td>0</td></tr><tr><td>15595228</td><td>Female</td><td>20</td><td>23000</td><td>0</td></tr><tr><td>15782530</td><td>Female</td><td>33</td><td>113000</td><td>0</td></tr><tr><td>15592877</td><td>Male</td><td>32</td><td>18000</td><td>0</td></tr><tr><td>15651983</td><td>Male</td><td>34</td><td>112000</td><td>1</td></tr><tr><td>15746737</td><td>Male</td><td>18</td><td>52000</td><td>0</td></tr><tr><td>15774179</td><td>Female</td><td>22</td><td>27000</td><td>0</td></tr><tr><td>15667265</td><td>Female</td><td>28</td><td>87000</td><td>0</td></tr><tr><td>15655123</td><td>Female</td><td>26</td><td>17000</td><td>0</td></tr><tr><td>15595917</td><td>Male</td><td>30</td><td>80000</td><td>0</td></tr><tr><td>15668385</td><td>Male</td><td>39</td><td>42000</td><td>0</td></tr><tr><td>15709476</td><td>Male</td><td>20</td><td>49000</td><td>0</td></tr><tr><td>15711218</td><td>Male</td><td>35</td><td>88000</td><td>0</td></tr><tr><td>15798659</td><td>Female</td><td>30</td><td>62000</td><td>0</td></tr><tr><td>15663939</td><td>Female</td><td>31</td><td>118000</td><td>1</td></tr><tr><td>15694946</td><td>Male</td><td>24</td><td>55000</td><td>0</td></tr><tr><td>15631912</td><td>Female</td><td>28</td><td>85000</td><td>0</td></tr><tr><td>15768816</td><td>Male</td><td>26</td><td>81000</td><td>0</td></tr><tr><td>15682268</td><td>Male</td><td>35</td><td>50000</td><td>0</td></tr><tr><td>15684801</td><td>Male</td><td>22</td><td>81000</td><td>0</td></tr><tr><td>15636428</td><td>Female</td><td>30</td><td>116000</td><td>0</td></tr><tr><td>15809823</td><td>Male</td><td>26</td><td>15000</td><td>0</td></tr><tr><td>15699284</td><td>Female</td><td>29</td><td>28000</td><td>0</td></tr><tr><td>15786993</td><td>Female</td><td>29</td><td>83000</td><td>0</td></tr><tr><td>15709441</td><td>Female</td><td>35</td><td>44000</td><td>0</td></tr><tr><td>15710257</td><td>Female</td><td>35</td><td>25000</td><td>0</td></tr><tr><td>15582492</td><td>Male</td><td>28</td><td>123000</td><td>1</td></tr><tr><td>15575694</td><td>Male</td><td>35</td><td>73000</td><td>0</td></tr><tr><td>15756820</td><td>Female</td><td>28</td><td>37000</td><td>0</td></tr><tr><td>15766289</td><td>Male</td><td>27</td><td>88000</td><td>0</td></tr><tr><td>15593014</td><td>Male</td><td>28</td><td>59000</td><td>0</td></tr><tr><td>15584545</td><td>Female</td><td>32</td><td>86000</td><td>0</td></tr><tr><td>15675949</td><td>Female</td><td>33</td><td>149000</td><td>1</td></tr><tr><td>15672091</td><td>Female</td><td>19</td><td>21000</td><td>0</td></tr><tr><td>15801658</td><td>Male</td><td>21</td><td>72000</td><td>0</td></tr><tr><td>15706185</td><td>Female</td><td>26</td><td>35000</td><td>0</td></tr><tr><td>15789863</td><td>Male</td><td>27</td><td>89000</td><td>0</td></tr><tr><td>15720943</td><td>Male</td><td>26</td><td>86000</td><td>0</td></tr><tr><td>15697997</td><td>Female</td><td>38</td><td>80000</td><td>0</td></tr><tr><td>15665416</td><td>Female</td><td>39</td><td>71000</td><td>0</td></tr><tr><td>15660200</td><td>Female</td><td>37</td><td>71000</td><td>0</td></tr><tr><td>15619653</td><td>Male</td><td>38</td><td>61000</td><td>0</td></tr><tr><td>15773447</td><td>Male</td><td>37</td><td>55000</td><td>0</td></tr><tr><td>15739160</td><td>Male</td><td>42</td><td>80000</td><td>0</td></tr><tr><td>15689237</td><td>Male</td><td>40</td><td>57000</td><td>0</td></tr><tr><td>15679297</td><td>Male</td><td>35</td><td>75000</td><td>0</td></tr><tr><td>15591433</td><td>Male</td><td>36</td><td>52000</td><td>0</td></tr><tr><td>15642725</td><td>Male</td><td>40</td><td>59000</td><td>0</td></tr><tr><td>15701962</td><td>Male</td><td>41</td><td>59000</td><td>0</td></tr><tr><td>15811613</td><td>Female</td><td>36</td><td>75000</td><td>0</td></tr><tr><td>15741049</td><td>Male</td><td>37</td><td>72000</td><td>0</td></tr><tr><td>15724423</td><td>Female</td><td>40</td><td>75000</td><td>0</td></tr><tr><td>15574305</td><td>Male</td><td>35</td><td>53000</td><td>0</td></tr><tr><td>15678168</td><td>Female</td><td>41</td><td>51000</td><td>0</td></tr><tr><td>15697020</td><td>Female</td><td>39</td><td>61000</td><td>0</td></tr><tr><td>15610801</td><td>Male</td><td>42</td><td>65000</td><td>0</td></tr><tr><td>15745232</td><td>Male</td><td>26</td><td>32000</td><td>0</td></tr><tr><td>15722758</td><td>Male</td><td>30</td><td>17000</td><td>0</td></tr><tr><td>15792102</td><td>Female</td><td>26</td><td>84000</td><td>0</td></tr><tr><td>15675185</td><td>Male</td><td>31</td><td>58000</td><td>0</td></tr><tr><td>15801247</td><td>Male</td><td>33</td><td>31000</td><td>0</td></tr><tr><td>15725660</td><td>Male</td><td>30</td><td>87000</td><td>0</td></tr><tr><td>15638963</td><td>Female</td><td>21</td><td>68000</td><td>0</td></tr><tr><td>15800061</td><td>Female</td><td>28</td><td>55000</td><td>0</td></tr><tr><td>15578006</td><td>Male</td><td>23</td><td>63000</td><td>0</td></tr><tr><td>15668504</td><td>Female</td><td>20</td><td>82000</td><td>0</td></tr><tr><td>15687491</td><td>Male</td><td>30</td><td>107000</td><td>1</td></tr><tr><td>15610403</td><td>Female</td><td>28</td><td>59000</td><td>0</td></tr><tr><td>15741094</td><td>Male</td><td>19</td><td>25000</td><td>0</td></tr><tr><td>15807909</td><td>Male</td><td>19</td><td>85000</td><td>0</td></tr><tr><td>15666141</td><td>Female</td><td>18</td><td>68000</td><td>0</td></tr><tr><td>15617134</td><td>Male</td><td>35</td><td>59000</td><td>0</td></tr><tr><td>15783029</td><td>Male</td><td>30</td><td>89000</td><td>0</td></tr><tr><td>15622833</td><td>Female</td><td>34</td><td>25000</td><td>0</td></tr><tr><td>15746422</td><td>Female</td><td>24</td><td>89000</td><td>0</td></tr><tr><td>15750839</td><td>Female</td><td>27</td><td>96000</td><td>1</td></tr><tr><td>15749130</td><td>Female</td><td>41</td><td>30000</td><td>0</td></tr><tr><td>15779862</td><td>Male</td><td>29</td><td>61000</td><td>0</td></tr><tr><td>15767871</td><td>Male</td><td>20</td><td>74000</td><td>0</td></tr><tr><td>15679651</td><td>Female</td><td>26</td><td>15000</td><td>0</td></tr><tr><td>15576219</td><td>Male</td><td>41</td><td>45000</td><td>0</td></tr><tr><td>15699247</td><td>Male</td><td>31</td><td>76000</td><td>0</td></tr><tr><td>15619087</td><td>Female</td><td>36</td><td>50000</td><td>0</td></tr><tr><td>15605327</td><td>Male</td><td>40</td><td>47000</td><td>0</td></tr><tr><td>15610140</td><td>Female</td><td>31</td><td>15000</td><td>0</td></tr><tr><td>15791174</td><td>Male</td><td>46</td><td>59000</td><td>0</td></tr><tr><td>15602373</td><td>Male</td><td>29</td><td>75000</td><td>0</td></tr><tr><td>15762605</td><td>Male</td><td>26</td><td>30000</td><td>0</td></tr><tr><td>15598840</td><td>Female</td><td>32</td><td>135000</td><td>1</td></tr><tr><td>15744279</td><td>Male</td><td>32</td><td>100000</td><td>1</td></tr><tr><td>15670619</td><td>Male</td><td>25</td><td>90000</td><td>0</td></tr><tr><td>15599533</td><td>Female</td><td>37</td><td>33000</td><td>0</td></tr><tr><td>15757837</td><td>Male</td><td>35</td><td>38000</td><td>0</td></tr><tr><td>15697574</td><td>Female</td><td>33</td><td>69000</td><td>0</td></tr><tr><td>15578738</td><td>Female</td><td>18</td><td>86000</td><td>0</td></tr><tr><td>15762228</td><td>Female</td><td>22</td><td>55000</td><td>0</td></tr><tr><td>15614827</td><td>Female</td><td>35</td><td>71000</td><td>0</td></tr><tr><td>15789815</td><td>Male</td><td>29</td><td>148000</td><td>1</td></tr><tr><td>15579781</td><td>Female</td><td>29</td><td>47000</td><td>0</td></tr><tr><td>15587013</td><td>Male</td><td>21</td><td>88000</td><td>0</td></tr><tr><td>15570932</td><td>Male</td><td>34</td><td>115000</td><td>0</td></tr><tr><td>15794661</td><td>Female</td><td>26</td><td>118000</td><td>0</td></tr><tr><td>15581654</td><td>Female</td><td>34</td><td>43000</td><td>0</td></tr><tr><td>15644296</td><td>Female</td><td>34</td><td>72000</td><td>0</td></tr><tr><td>15614420</td><td>Female</td><td>23</td><td>28000</td><td>0</td></tr><tr><td>15609653</td><td>Female</td><td>35</td><td>47000</td><td>0</td></tr><tr><td>15594577</td><td>Male</td><td>25</td><td>22000</td><td>0</td></tr><tr><td>15584114</td><td>Male</td><td>24</td><td>23000</td><td>0</td></tr><tr><td>15673367</td><td>Female</td><td>31</td><td>34000</td><td>0</td></tr><tr><td>15685576</td><td>Male</td><td>26</td><td>16000</td><td>0</td></tr><tr><td>15774727</td><td>Female</td><td>31</td><td>71000</td><td>0</td></tr><tr><td>15694288</td><td>Female</td><td>32</td><td>117000</td><td>1</td></tr><tr><td>15603319</td><td>Male</td><td>33</td><td>43000</td><td>0</td></tr><tr><td>15759066</td><td>Female</td><td>33</td><td>60000</td><td>0</td></tr><tr><td>15814816</td><td>Male</td><td>31</td><td>66000</td><td>0</td></tr><tr><td>15724402</td><td>Female</td><td>20</td><td>82000</td><td>0</td></tr><tr><td>15571059</td><td>Female</td><td>33</td><td>41000</td><td>0</td></tr><tr><td>15674206</td><td>Male</td><td>35</td><td>72000</td><td>0</td></tr><tr><td>15715160</td><td>Male</td><td>28</td><td>32000</td><td>0</td></tr><tr><td>15730448</td><td>Male</td><td>24</td><td>84000</td><td>0</td></tr><tr><td>15662067</td><td>Female</td><td>19</td><td>26000</td><td>0</td></tr><tr><td>15779581</td><td>Male</td><td>29</td><td>43000</td><td>0</td></tr><tr><td>15662901</td><td>Male</td><td>19</td><td>70000</td><td>0</td></tr><tr><td>15689751</td><td>Male</td><td>28</td><td>89000</td><td>0</td></tr><tr><td>15667742</td><td>Male</td><td>34</td><td>43000</td><td>0</td></tr><tr><td>15738448</td><td>Female</td><td>30</td><td>79000</td><td>0</td></tr><tr><td>15680243</td><td>Female</td><td>20</td><td>36000</td><td>0</td></tr><tr><td>15745083</td><td>Male</td><td>26</td><td>80000</td><td>0</td></tr><tr><td>15708228</td><td>Male</td><td>35</td><td>22000</td><td>0</td></tr><tr><td>15628523</td><td>Male</td><td>35</td><td>39000</td><td>0</td></tr><tr><td>15708196</td><td>Male</td><td>49</td><td>74000</td><td>0</td></tr><tr><td>15735549</td><td>Female</td><td>39</td><td>134000</td><td>1</td></tr><tr><td>15809347</td><td>Female</td><td>41</td><td>71000</td><td>0</td></tr><tr><td>15660866</td><td>Female</td><td>58</td><td>101000</td><td>1</td></tr><tr><td>15766609</td><td>Female</td><td>47</td><td>47000</td><td>0</td></tr><tr><td>15654230</td><td>Female</td><td>55</td><td>130000</td><td>1</td></tr><tr><td>15794566</td><td>Female</td><td>52</td><td>114000</td><td>0</td></tr><tr><td>15800890</td><td>Female</td><td>40</td><td>142000</td><td>1</td></tr><tr><td>15697424</td><td>Female</td><td>46</td><td>22000</td><td>0</td></tr><tr><td>15724536</td><td>Female</td><td>48</td><td>96000</td><td>1</td></tr><tr><td>15735878</td><td>Male</td><td>52</td><td>150000</td><td>1</td></tr><tr><td>15707596</td><td>Female</td><td>59</td><td>42000</td><td>0</td></tr><tr><td>15657163</td><td>Male</td><td>35</td><td>58000</td><td>0</td></tr><tr><td>15622478</td><td>Male</td><td>47</td><td>43000</td><td>0</td></tr><tr><td>15779529</td><td>Female</td><td>60</td><td>108000</td><td>1</td></tr><tr><td>15636023</td><td>Male</td><td>49</td><td>65000</td><td>0</td></tr><tr><td>15582066</td><td>Male</td><td>40</td><td>78000</td><td>0</td></tr><tr><td>15666675</td><td>Female</td><td>46</td><td>96000</td><td>0</td></tr><tr><td>15732987</td><td>Male</td><td>59</td><td>143000</td><td>1</td></tr><tr><td>15789432</td><td>Female</td><td>41</td><td>80000</td><td>0</td></tr><tr><td>15663161</td><td>Male</td><td>35</td><td>91000</td><td>1</td></tr><tr><td>15694879</td><td>Male</td><td>37</td><td>144000</td><td>1</td></tr><tr><td>15593715</td><td>Male</td><td>60</td><td>102000</td><td>1</td></tr><tr><td>15575002</td><td>Female</td><td>35</td><td>60000</td><td>0</td></tr><tr><td>15622171</td><td>Male</td><td>37</td><td>53000</td><td>0</td></tr><tr><td>15795224</td><td>Female</td><td>36</td><td>126000</td><td>1</td></tr><tr><td>15685346</td><td>Male</td><td>56</td><td>133000</td><td>1</td></tr><tr><td>15691808</td><td>Female</td><td>40</td><td>72000</td><td>0</td></tr><tr><td>15721007</td><td>Female</td><td>42</td><td>80000</td><td>1</td></tr><tr><td>15794253</td><td>Female</td><td>35</td><td>147000</td><td>1</td></tr><tr><td>15694453</td><td>Male</td><td>39</td><td>42000</td><td>0</td></tr><tr><td>15813113</td><td>Male</td><td>40</td><td>107000</td><td>1</td></tr><tr><td>15614187</td><td>Male</td><td>49</td><td>86000</td><td>1</td></tr><tr><td>15619407</td><td>Female</td><td>38</td><td>112000</td><td>0</td></tr><tr><td>15646227</td><td>Male</td><td>46</td><td>79000</td><td>1</td></tr><tr><td>15660541</td><td>Male</td><td>40</td><td>57000</td><td>0</td></tr><tr><td>15753874</td><td>Female</td><td>37</td><td>80000</td><td>0</td></tr><tr><td>15617877</td><td>Female</td><td>46</td><td>82000</td><td>0</td></tr><tr><td>15772073</td><td>Female</td><td>53</td><td>143000</td><td>1</td></tr><tr><td>15701537</td><td>Male</td><td>42</td><td>149000</td><td>1</td></tr><tr><td>15736228</td><td>Male</td><td>38</td><td>59000</td><td>0</td></tr><tr><td>15780572</td><td>Female</td><td>50</td><td>88000</td><td>1</td></tr><tr><td>15769596</td><td>Female</td><td>56</td><td>104000</td><td>1</td></tr><tr><td>15586996</td><td>Female</td><td>41</td><td>72000</td><td>0</td></tr><tr><td>15722061</td><td>Female</td><td>51</td><td>146000</td><td>1</td></tr><tr><td>15638003</td><td>Female</td><td>35</td><td>50000</td><td>0</td></tr><tr><td>15775590</td><td>Female</td><td>57</td><td>122000</td><td>1</td></tr><tr><td>15730688</td><td>Male</td><td>41</td><td>52000</td><td>0</td></tr><tr><td>15753102</td><td>Female</td><td>35</td><td>97000</td><td>1</td></tr><tr><td>15810075</td><td>Female</td><td>44</td><td>39000</td><td>0</td></tr><tr><td>15723373</td><td>Male</td><td>37</td><td>52000</td><td>0</td></tr><tr><td>15795298</td><td>Female</td><td>48</td><td>134000</td><td>1</td></tr><tr><td>15584320</td><td>Female</td><td>37</td><td>146000</td><td>1</td></tr><tr><td>15724161</td><td>Female</td><td>50</td><td>44000</td><td>0</td></tr><tr><td>15750056</td><td>Female</td><td>52</td><td>90000</td><td>1</td></tr><tr><td>15609637</td><td>Female</td><td>41</td><td>72000</td><td>0</td></tr><tr><td>15794493</td><td>Male</td><td>40</td><td>57000</td><td>0</td></tr><tr><td>15569641</td><td>Female</td><td>58</td><td>95000</td><td>1</td></tr><tr><td>15815236</td><td>Female</td><td>45</td><td>131000</td><td>1</td></tr><tr><td>15811177</td><td>Female</td><td>35</td><td>77000</td><td>0</td></tr><tr><td>15680587</td><td>Male</td><td>36</td><td>144000</td><td>1</td></tr><tr><td>15672821</td><td>Female</td><td>55</td><td>125000</td><td>1</td></tr><tr><td>15767681</td><td>Female</td><td>35</td><td>72000</td><td>0</td></tr><tr><td>15600379</td><td>Male</td><td>48</td><td>90000</td><td>1</td></tr><tr><td>15801336</td><td>Female</td><td>42</td><td>108000</td><td>1</td></tr><tr><td>15721592</td><td>Male</td><td>40</td><td>75000</td><td>0</td></tr><tr><td>15581282</td><td>Male</td><td>37</td><td>74000</td><td>0</td></tr><tr><td>15746203</td><td>Female</td><td>47</td><td>144000</td><td>1</td></tr><tr><td>15583137</td><td>Male</td><td>40</td><td>61000</td><td>0</td></tr><tr><td>15680752</td><td>Female</td><td>43</td><td>133000</td><td>0</td></tr><tr><td>15688172</td><td>Female</td><td>59</td><td>76000</td><td>1</td></tr><tr><td>15791373</td><td>Male</td><td>60</td><td>42000</td><td>1</td></tr><tr><td>15589449</td><td>Male</td><td>39</td><td>106000</td><td>1</td></tr><tr><td>15692819</td><td>Female</td><td>57</td><td>26000</td><td>1</td></tr><tr><td>15727467</td><td>Male</td><td>57</td><td>74000</td><td>1</td></tr><tr><td>15734312</td><td>Male</td><td>38</td><td>71000</td><td>0</td></tr><tr><td>15764604</td><td>Male</td><td>49</td><td>88000</td><td>1</td></tr><tr><td>15613014</td><td>Female</td><td>52</td><td>38000</td><td>1</td></tr><tr><td>15759684</td><td>Female</td><td>50</td><td>36000</td><td>1</td></tr><tr><td>15609669</td><td>Female</td><td>59</td><td>88000</td><td>1</td></tr><tr><td>15685536</td><td>Male</td><td>35</td><td>61000</td><td>0</td></tr><tr><td>15750447</td><td>Male</td><td>37</td><td>70000</td><td>1</td></tr><tr><td>15663249</td><td>Female</td><td>52</td><td>21000</td><td>1</td></tr><tr><td>15638646</td><td>Male</td><td>48</td><td>141000</td><td>0</td></tr><tr><td>15734161</td><td>Female</td><td>37</td><td>93000</td><td>1</td></tr><tr><td>15631070</td><td>Female</td><td>37</td><td>62000</td><td>0</td></tr><tr><td>15761950</td><td>Female</td><td>48</td><td>138000</td><td>1</td></tr><tr><td>15649668</td><td>Male</td><td>41</td><td>79000</td><td>0</td></tr><tr><td>15713912</td><td>Female</td><td>37</td><td>78000</td><td>1</td></tr><tr><td>15586757</td><td>Male</td><td>39</td><td>134000</td><td>1</td></tr><tr><td>15596522</td><td>Male</td><td>49</td><td>89000</td><td>1</td></tr><tr><td>15625395</td><td>Male</td><td>55</td><td>39000</td><td>1</td></tr><tr><td>15760570</td><td>Male</td><td>37</td><td>77000</td><td>0</td></tr><tr><td>15566689</td><td>Female</td><td>35</td><td>57000</td><td>0</td></tr><tr><td>15725794</td><td>Female</td><td>36</td><td>63000</td><td>0</td></tr><tr><td>15673539</td><td>Male</td><td>42</td><td>73000</td><td>1</td></tr><tr><td>15705298</td><td>Female</td><td>43</td><td>112000</td><td>1</td></tr><tr><td>15675791</td><td>Male</td><td>45</td><td>79000</td><td>0</td></tr><tr><td>15747043</td><td>Male</td><td>46</td><td>117000</td><td>1</td></tr><tr><td>15736397</td><td>Female</td><td>58</td><td>38000</td><td>1</td></tr><tr><td>15678201</td><td>Male</td><td>48</td><td>74000</td><td>1</td></tr><tr><td>15720745</td><td>Female</td><td>37</td><td>137000</td><td>1</td></tr><tr><td>15637593</td><td>Male</td><td>37</td><td>79000</td><td>1</td></tr><tr><td>15598070</td><td>Female</td><td>40</td><td>60000</td><td>0</td></tr><tr><td>15787550</td><td>Male</td><td>42</td><td>54000</td><td>0</td></tr><tr><td>15603942</td><td>Female</td><td>51</td><td>134000</td><td>0</td></tr><tr><td>15733973</td><td>Female</td><td>47</td><td>113000</td><td>1</td></tr><tr><td>15596761</td><td>Male</td><td>36</td><td>125000</td><td>1</td></tr><tr><td>15652400</td><td>Female</td><td>38</td><td>50000</td><td>0</td></tr><tr><td>15717893</td><td>Female</td><td>42</td><td>70000</td><td>0</td></tr><tr><td>15622585</td><td>Male</td><td>39</td><td>96000</td><td>1</td></tr><tr><td>15733964</td><td>Female</td><td>38</td><td>50000</td><td>0</td></tr><tr><td>15753861</td><td>Female</td><td>49</td><td>141000</td><td>1</td></tr><tr><td>15747097</td><td>Female</td><td>39</td><td>79000</td><td>0</td></tr><tr><td>15594762</td><td>Female</td><td>39</td><td>75000</td><td>1</td></tr><tr><td>15667417</td><td>Female</td><td>54</td><td>104000</td><td>1</td></tr><tr><td>15684861</td><td>Male</td><td>35</td><td>55000</td><td>0</td></tr><tr><td>15742204</td><td>Male</td><td>45</td><td>32000</td><td>1</td></tr><tr><td>15623502</td><td>Male</td><td>36</td><td>60000</td><td>0</td></tr><tr><td>15774872</td><td>Female</td><td>52</td><td>138000</td><td>1</td></tr><tr><td>15611191</td><td>Female</td><td>53</td><td>82000</td><td>1</td></tr><tr><td>15674331</td><td>Male</td><td>41</td><td>52000</td><td>0</td></tr><tr><td>15619465</td><td>Female</td><td>48</td><td>30000</td><td>1</td></tr><tr><td>15575247</td><td>Female</td><td>48</td><td>131000</td><td>1</td></tr><tr><td>15695679</td><td>Female</td><td>41</td><td>60000</td><td>0</td></tr><tr><td>15713463</td><td>Male</td><td>41</td><td>72000</td><td>0</td></tr><tr><td>15785170</td><td>Female</td><td>42</td><td>75000</td><td>0</td></tr><tr><td>15796351</td><td>Male</td><td>36</td><td>118000</td><td>1</td></tr><tr><td>15639576</td><td>Female</td><td>47</td><td>107000</td><td>1</td></tr><tr><td>15693264</td><td>Male</td><td>38</td><td>51000</td><td>0</td></tr><tr><td>15589715</td><td>Female</td><td>48</td><td>119000</td><td>1</td></tr><tr><td>15769902</td><td>Male</td><td>42</td><td>65000</td><td>0</td></tr><tr><td>15587177</td><td>Male</td><td>40</td><td>65000</td><td>0</td></tr><tr><td>15814553</td><td>Male</td><td>57</td><td>60000</td><td>1</td></tr><tr><td>15601550</td><td>Female</td><td>36</td><td>54000</td><td>0</td></tr><tr><td>15664907</td><td>Male</td><td>58</td><td>144000</td><td>1</td></tr><tr><td>15612465</td><td>Male</td><td>35</td><td>79000</td><td>0</td></tr><tr><td>15810800</td><td>Female</td><td>38</td><td>55000</td><td>0</td></tr><tr><td>15665760</td><td>Male</td><td>39</td><td>122000</td><td>1</td></tr><tr><td>15588080</td><td>Female</td><td>53</td><td>104000</td><td>1</td></tr><tr><td>15776844</td><td>Male</td><td>35</td><td>75000</td><td>0</td></tr><tr><td>15717560</td><td>Female</td><td>38</td><td>65000</td><td>0</td></tr><tr><td>15629739</td><td>Female</td><td>47</td><td>51000</td><td>1</td></tr><tr><td>15729908</td><td>Male</td><td>47</td><td>105000</td><td>1</td></tr><tr><td>15716781</td><td>Female</td><td>41</td><td>63000</td><td>0</td></tr><tr><td>15646936</td><td>Male</td><td>53</td><td>72000</td><td>1</td></tr><tr><td>15768151</td><td>Female</td><td>54</td><td>108000</td><td>1</td></tr><tr><td>15579212</td><td>Male</td><td>39</td><td>77000</td><td>0</td></tr><tr><td>15721835</td><td>Male</td><td>38</td><td>61000</td><td>0</td></tr><tr><td>15800515</td><td>Female</td><td>38</td><td>113000</td><td>1</td></tr><tr><td>15591279</td><td>Male</td><td>37</td><td>75000</td><td>0</td></tr><tr><td>15587419</td><td>Female</td><td>42</td><td>90000</td><td>1</td></tr><tr><td>15750335</td><td>Female</td><td>37</td><td>57000</td><td>0</td></tr><tr><td>15699619</td><td>Male</td><td>36</td><td>99000</td><td>1</td></tr><tr><td>15606472</td><td>Male</td><td>60</td><td>34000</td><td>1</td></tr><tr><td>15778368</td><td>Male</td><td>54</td><td>70000</td><td>1</td></tr><tr><td>15671387</td><td>Female</td><td>41</td><td>72000</td><td>0</td></tr><tr><td>15573926</td><td>Male</td><td>40</td><td>71000</td><td>1</td></tr><tr><td>15709183</td><td>Male</td><td>42</td><td>54000</td><td>0</td></tr><tr><td>15577514</td><td>Male</td><td>43</td><td>129000</td><td>1</td></tr><tr><td>15778830</td><td>Female</td><td>53</td><td>34000</td><td>1</td></tr><tr><td>15768072</td><td>Female</td><td>47</td><td>50000</td><td>1</td></tr><tr><td>15768293</td><td>Female</td><td>42</td><td>79000</td><td>0</td></tr><tr><td>15654456</td><td>Male</td><td>42</td><td>104000</td><td>1</td></tr><tr><td>15807525</td><td>Female</td><td>59</td><td>29000</td><td>1</td></tr><tr><td>15574372</td><td>Female</td><td>58</td><td>47000</td><td>1</td></tr><tr><td>15671249</td><td>Male</td><td>46</td><td>88000</td><td>1</td></tr><tr><td>15779744</td><td>Male</td><td>38</td><td>71000</td><td>0</td></tr><tr><td>15624755</td><td>Female</td><td>54</td><td>26000</td><td>1</td></tr><tr><td>15611430</td><td>Female</td><td>60</td><td>46000</td><td>1</td></tr><tr><td>15774744</td><td>Male</td><td>60</td><td>83000</td><td>1</td></tr><tr><td>15629885</td><td>Female</td><td>39</td><td>73000</td><td>0</td></tr><tr><td>15708791</td><td>Male</td><td>59</td><td>130000</td><td>1</td></tr><tr><td>15793890</td><td>Female</td><td>37</td><td>80000</td><td>0</td></tr><tr><td>15646091</td><td>Female</td><td>46</td><td>32000</td><td>1</td></tr><tr><td>15596984</td><td>Female</td><td>46</td><td>74000</td><td>0</td></tr><tr><td>15800215</td><td>Female</td><td>42</td><td>53000</td><td>0</td></tr><tr><td>15577806</td><td>Male</td><td>41</td><td>87000</td><td>1</td></tr><tr><td>15749381</td><td>Female</td><td>58</td><td>23000</td><td>1</td></tr><tr><td>15683758</td><td>Male</td><td>42</td><td>64000</td><td>0</td></tr><tr><td>15670615</td><td>Male</td><td>48</td><td>33000</td><td>1</td></tr><tr><td>15715622</td><td>Female</td><td>44</td><td>139000</td><td>1</td></tr><tr><td>15707634</td><td>Male</td><td>49</td><td>28000</td><td>1</td></tr><tr><td>15806901</td><td>Female</td><td>57</td><td>33000</td><td>1</td></tr><tr><td>15775335</td><td>Male</td><td>56</td><td>60000</td><td>1</td></tr><tr><td>15724150</td><td>Female</td><td>49</td><td>39000</td><td>1</td></tr><tr><td>15627220</td><td>Male</td><td>39</td><td>71000</td><td>0</td></tr><tr><td>15672330</td><td>Male</td><td>47</td><td>34000</td><td>1</td></tr><tr><td>15668521</td><td>Female</td><td>48</td><td>35000</td><td>1</td></tr><tr><td>15807837</td><td>Male</td><td>48</td><td>33000</td><td>1</td></tr><tr><td>15592570</td><td>Male</td><td>47</td><td>23000</td><td>1</td></tr><tr><td>15748589</td><td>Female</td><td>45</td><td>45000</td><td>1</td></tr><tr><td>15635893</td><td>Male</td><td>60</td><td>42000</td><td>1</td></tr><tr><td>15757632</td><td>Female</td><td>39</td><td>59000</td><td>0</td></tr><tr><td>15691863</td><td>Female</td><td>46</td><td>41000</td><td>1</td></tr><tr><td>15706071</td><td>Male</td><td>51</td><td>23000</td><td>1</td></tr><tr><td>15654296</td><td>Female</td><td>50</td><td>20000</td><td>1</td></tr><tr><td>15755018</td><td>Male</td><td>36</td><td>33000</td><td>0</td></tr><tr><td>15594041</td><td>Female</td><td>49</td><td>36000</td><td>1</td></tr></tbody></table></div>"
      ]
     },
     "metadata": {
      "application/vnd.databricks.v1+output": {
       "addedWidgets": {},
       "aggData": [],
       "aggError": "",
       "aggOverflow": false,
       "aggSchema": [],
       "aggSeriesLimitReached": false,
       "aggType": "",
       "arguments": {},
       "columnCustomDisplayInfos": {},
       "data": [
        [
         15624510,
         "Male",
         19,
         19000,
         0
        ],
        [
         15810944,
         "Male",
         35,
         20000,
         0
        ],
        [
         15668575,
         "Female",
         26,
         43000,
         0
        ],
        [
         15603246,
         "Female",
         27,
         57000,
         0
        ],
        [
         15804002,
         "Male",
         19,
         76000,
         0
        ],
        [
         15728773,
         "Male",
         27,
         58000,
         0
        ],
        [
         15598044,
         "Female",
         27,
         84000,
         0
        ],
        [
         15694829,
         "Female",
         32,
         150000,
         1
        ],
        [
         15600575,
         "Male",
         25,
         33000,
         0
        ],
        [
         15727311,
         "Female",
         35,
         65000,
         0
        ],
        [
         15570769,
         "Female",
         26,
         80000,
         0
        ],
        [
         15606274,
         "Female",
         26,
         52000,
         0
        ],
        [
         15746139,
         "Male",
         20,
         86000,
         0
        ],
        [
         15704987,
         "Male",
         32,
         18000,
         0
        ],
        [
         15628972,
         "Male",
         18,
         82000,
         0
        ],
        [
         15697686,
         "Male",
         29,
         80000,
         0
        ],
        [
         15733883,
         "Male",
         47,
         25000,
         1
        ],
        [
         15617482,
         "Male",
         45,
         26000,
         1
        ],
        [
         15704583,
         "Male",
         46,
         28000,
         1
        ],
        [
         15621083,
         "Female",
         48,
         29000,
         1
        ],
        [
         15649487,
         "Male",
         45,
         22000,
         1
        ],
        [
         15736760,
         "Female",
         47,
         49000,
         1
        ],
        [
         15714658,
         "Male",
         48,
         41000,
         1
        ],
        [
         15599081,
         "Female",
         45,
         22000,
         1
        ],
        [
         15705113,
         "Male",
         46,
         23000,
         1
        ],
        [
         15631159,
         "Male",
         47,
         20000,
         1
        ],
        [
         15792818,
         "Male",
         49,
         28000,
         1
        ],
        [
         15633531,
         "Female",
         47,
         30000,
         1
        ],
        [
         15744529,
         "Male",
         29,
         43000,
         0
        ],
        [
         15669656,
         "Male",
         31,
         18000,
         0
        ],
        [
         15581198,
         "Male",
         31,
         74000,
         0
        ],
        [
         15729054,
         "Female",
         27,
         137000,
         1
        ],
        [
         15573452,
         "Female",
         21,
         16000,
         0
        ],
        [
         15776733,
         "Female",
         28,
         44000,
         0
        ],
        [
         15724858,
         "Male",
         27,
         90000,
         0
        ],
        [
         15713144,
         "Male",
         35,
         27000,
         0
        ],
        [
         15690188,
         "Female",
         33,
         28000,
         0
        ],
        [
         15689425,
         "Male",
         30,
         49000,
         0
        ],
        [
         15671766,
         "Female",
         26,
         72000,
         0
        ],
        [
         15782806,
         "Female",
         27,
         31000,
         0
        ],
        [
         15764419,
         "Female",
         27,
         17000,
         0
        ],
        [
         15591915,
         "Female",
         33,
         51000,
         0
        ],
        [
         15772798,
         "Male",
         35,
         108000,
         0
        ],
        [
         15792008,
         "Male",
         30,
         15000,
         0
        ],
        [
         15715541,
         "Female",
         28,
         84000,
         0
        ],
        [
         15639277,
         "Male",
         23,
         20000,
         0
        ],
        [
         15798850,
         "Male",
         25,
         79000,
         0
        ],
        [
         15776348,
         "Female",
         27,
         54000,
         0
        ],
        [
         15727696,
         "Male",
         30,
         135000,
         1
        ],
        [
         15793813,
         "Female",
         31,
         89000,
         0
        ],
        [
         15694395,
         "Female",
         24,
         32000,
         0
        ],
        [
         15764195,
         "Female",
         18,
         44000,
         0
        ],
        [
         15744919,
         "Female",
         29,
         83000,
         0
        ],
        [
         15671655,
         "Female",
         35,
         23000,
         0
        ],
        [
         15654901,
         "Female",
         27,
         58000,
         0
        ],
        [
         15649136,
         "Female",
         24,
         55000,
         0
        ],
        [
         15775562,
         "Female",
         23,
         48000,
         0
        ],
        [
         15807481,
         "Male",
         28,
         79000,
         0
        ],
        [
         15642885,
         "Male",
         22,
         18000,
         0
        ],
        [
         15789109,
         "Female",
         32,
         117000,
         0
        ],
        [
         15814004,
         "Male",
         27,
         20000,
         0
        ],
        [
         15673619,
         "Male",
         25,
         87000,
         0
        ],
        [
         15595135,
         "Female",
         23,
         66000,
         0
        ],
        [
         15583681,
         "Male",
         32,
         120000,
         1
        ],
        [
         15605000,
         "Female",
         59,
         83000,
         0
        ],
        [
         15718071,
         "Male",
         24,
         58000,
         0
        ],
        [
         15679760,
         "Male",
         24,
         19000,
         0
        ],
        [
         15654574,
         "Female",
         23,
         82000,
         0
        ],
        [
         15577178,
         "Female",
         22,
         63000,
         0
        ],
        [
         15595324,
         "Female",
         31,
         68000,
         0
        ],
        [
         15756932,
         "Male",
         25,
         80000,
         0
        ],
        [
         15726358,
         "Female",
         24,
         27000,
         0
        ],
        [
         15595228,
         "Female",
         20,
         23000,
         0
        ],
        [
         15782530,
         "Female",
         33,
         113000,
         0
        ],
        [
         15592877,
         "Male",
         32,
         18000,
         0
        ],
        [
         15651983,
         "Male",
         34,
         112000,
         1
        ],
        [
         15746737,
         "Male",
         18,
         52000,
         0
        ],
        [
         15774179,
         "Female",
         22,
         27000,
         0
        ],
        [
         15667265,
         "Female",
         28,
         87000,
         0
        ],
        [
         15655123,
         "Female",
         26,
         17000,
         0
        ],
        [
         15595917,
         "Male",
         30,
         80000,
         0
        ],
        [
         15668385,
         "Male",
         39,
         42000,
         0
        ],
        [
         15709476,
         "Male",
         20,
         49000,
         0
        ],
        [
         15711218,
         "Male",
         35,
         88000,
         0
        ],
        [
         15798659,
         "Female",
         30,
         62000,
         0
        ],
        [
         15663939,
         "Female",
         31,
         118000,
         1
        ],
        [
         15694946,
         "Male",
         24,
         55000,
         0
        ],
        [
         15631912,
         "Female",
         28,
         85000,
         0
        ],
        [
         15768816,
         "Male",
         26,
         81000,
         0
        ],
        [
         15682268,
         "Male",
         35,
         50000,
         0
        ],
        [
         15684801,
         "Male",
         22,
         81000,
         0
        ],
        [
         15636428,
         "Female",
         30,
         116000,
         0
        ],
        [
         15809823,
         "Male",
         26,
         15000,
         0
        ],
        [
         15699284,
         "Female",
         29,
         28000,
         0
        ],
        [
         15786993,
         "Female",
         29,
         83000,
         0
        ],
        [
         15709441,
         "Female",
         35,
         44000,
         0
        ],
        [
         15710257,
         "Female",
         35,
         25000,
         0
        ],
        [
         15582492,
         "Male",
         28,
         123000,
         1
        ],
        [
         15575694,
         "Male",
         35,
         73000,
         0
        ],
        [
         15756820,
         "Female",
         28,
         37000,
         0
        ],
        [
         15766289,
         "Male",
         27,
         88000,
         0
        ],
        [
         15593014,
         "Male",
         28,
         59000,
         0
        ],
        [
         15584545,
         "Female",
         32,
         86000,
         0
        ],
        [
         15675949,
         "Female",
         33,
         149000,
         1
        ],
        [
         15672091,
         "Female",
         19,
         21000,
         0
        ],
        [
         15801658,
         "Male",
         21,
         72000,
         0
        ],
        [
         15706185,
         "Female",
         26,
         35000,
         0
        ],
        [
         15789863,
         "Male",
         27,
         89000,
         0
        ],
        [
         15720943,
         "Male",
         26,
         86000,
         0
        ],
        [
         15697997,
         "Female",
         38,
         80000,
         0
        ],
        [
         15665416,
         "Female",
         39,
         71000,
         0
        ],
        [
         15660200,
         "Female",
         37,
         71000,
         0
        ],
        [
         15619653,
         "Male",
         38,
         61000,
         0
        ],
        [
         15773447,
         "Male",
         37,
         55000,
         0
        ],
        [
         15739160,
         "Male",
         42,
         80000,
         0
        ],
        [
         15689237,
         "Male",
         40,
         57000,
         0
        ],
        [
         15679297,
         "Male",
         35,
         75000,
         0
        ],
        [
         15591433,
         "Male",
         36,
         52000,
         0
        ],
        [
         15642725,
         "Male",
         40,
         59000,
         0
        ],
        [
         15701962,
         "Male",
         41,
         59000,
         0
        ],
        [
         15811613,
         "Female",
         36,
         75000,
         0
        ],
        [
         15741049,
         "Male",
         37,
         72000,
         0
        ],
        [
         15724423,
         "Female",
         40,
         75000,
         0
        ],
        [
         15574305,
         "Male",
         35,
         53000,
         0
        ],
        [
         15678168,
         "Female",
         41,
         51000,
         0
        ],
        [
         15697020,
         "Female",
         39,
         61000,
         0
        ],
        [
         15610801,
         "Male",
         42,
         65000,
         0
        ],
        [
         15745232,
         "Male",
         26,
         32000,
         0
        ],
        [
         15722758,
         "Male",
         30,
         17000,
         0
        ],
        [
         15792102,
         "Female",
         26,
         84000,
         0
        ],
        [
         15675185,
         "Male",
         31,
         58000,
         0
        ],
        [
         15801247,
         "Male",
         33,
         31000,
         0
        ],
        [
         15725660,
         "Male",
         30,
         87000,
         0
        ],
        [
         15638963,
         "Female",
         21,
         68000,
         0
        ],
        [
         15800061,
         "Female",
         28,
         55000,
         0
        ],
        [
         15578006,
         "Male",
         23,
         63000,
         0
        ],
        [
         15668504,
         "Female",
         20,
         82000,
         0
        ],
        [
         15687491,
         "Male",
         30,
         107000,
         1
        ],
        [
         15610403,
         "Female",
         28,
         59000,
         0
        ],
        [
         15741094,
         "Male",
         19,
         25000,
         0
        ],
        [
         15807909,
         "Male",
         19,
         85000,
         0
        ],
        [
         15666141,
         "Female",
         18,
         68000,
         0
        ],
        [
         15617134,
         "Male",
         35,
         59000,
         0
        ],
        [
         15783029,
         "Male",
         30,
         89000,
         0
        ],
        [
         15622833,
         "Female",
         34,
         25000,
         0
        ],
        [
         15746422,
         "Female",
         24,
         89000,
         0
        ],
        [
         15750839,
         "Female",
         27,
         96000,
         1
        ],
        [
         15749130,
         "Female",
         41,
         30000,
         0
        ],
        [
         15779862,
         "Male",
         29,
         61000,
         0
        ],
        [
         15767871,
         "Male",
         20,
         74000,
         0
        ],
        [
         15679651,
         "Female",
         26,
         15000,
         0
        ],
        [
         15576219,
         "Male",
         41,
         45000,
         0
        ],
        [
         15699247,
         "Male",
         31,
         76000,
         0
        ],
        [
         15619087,
         "Female",
         36,
         50000,
         0
        ],
        [
         15605327,
         "Male",
         40,
         47000,
         0
        ],
        [
         15610140,
         "Female",
         31,
         15000,
         0
        ],
        [
         15791174,
         "Male",
         46,
         59000,
         0
        ],
        [
         15602373,
         "Male",
         29,
         75000,
         0
        ],
        [
         15762605,
         "Male",
         26,
         30000,
         0
        ],
        [
         15598840,
         "Female",
         32,
         135000,
         1
        ],
        [
         15744279,
         "Male",
         32,
         100000,
         1
        ],
        [
         15670619,
         "Male",
         25,
         90000,
         0
        ],
        [
         15599533,
         "Female",
         37,
         33000,
         0
        ],
        [
         15757837,
         "Male",
         35,
         38000,
         0
        ],
        [
         15697574,
         "Female",
         33,
         69000,
         0
        ],
        [
         15578738,
         "Female",
         18,
         86000,
         0
        ],
        [
         15762228,
         "Female",
         22,
         55000,
         0
        ],
        [
         15614827,
         "Female",
         35,
         71000,
         0
        ],
        [
         15789815,
         "Male",
         29,
         148000,
         1
        ],
        [
         15579781,
         "Female",
         29,
         47000,
         0
        ],
        [
         15587013,
         "Male",
         21,
         88000,
         0
        ],
        [
         15570932,
         "Male",
         34,
         115000,
         0
        ],
        [
         15794661,
         "Female",
         26,
         118000,
         0
        ],
        [
         15581654,
         "Female",
         34,
         43000,
         0
        ],
        [
         15644296,
         "Female",
         34,
         72000,
         0
        ],
        [
         15614420,
         "Female",
         23,
         28000,
         0
        ],
        [
         15609653,
         "Female",
         35,
         47000,
         0
        ],
        [
         15594577,
         "Male",
         25,
         22000,
         0
        ],
        [
         15584114,
         "Male",
         24,
         23000,
         0
        ],
        [
         15673367,
         "Female",
         31,
         34000,
         0
        ],
        [
         15685576,
         "Male",
         26,
         16000,
         0
        ],
        [
         15774727,
         "Female",
         31,
         71000,
         0
        ],
        [
         15694288,
         "Female",
         32,
         117000,
         1
        ],
        [
         15603319,
         "Male",
         33,
         43000,
         0
        ],
        [
         15759066,
         "Female",
         33,
         60000,
         0
        ],
        [
         15814816,
         "Male",
         31,
         66000,
         0
        ],
        [
         15724402,
         "Female",
         20,
         82000,
         0
        ],
        [
         15571059,
         "Female",
         33,
         41000,
         0
        ],
        [
         15674206,
         "Male",
         35,
         72000,
         0
        ],
        [
         15715160,
         "Male",
         28,
         32000,
         0
        ],
        [
         15730448,
         "Male",
         24,
         84000,
         0
        ],
        [
         15662067,
         "Female",
         19,
         26000,
         0
        ],
        [
         15779581,
         "Male",
         29,
         43000,
         0
        ],
        [
         15662901,
         "Male",
         19,
         70000,
         0
        ],
        [
         15689751,
         "Male",
         28,
         89000,
         0
        ],
        [
         15667742,
         "Male",
         34,
         43000,
         0
        ],
        [
         15738448,
         "Female",
         30,
         79000,
         0
        ],
        [
         15680243,
         "Female",
         20,
         36000,
         0
        ],
        [
         15745083,
         "Male",
         26,
         80000,
         0
        ],
        [
         15708228,
         "Male",
         35,
         22000,
         0
        ],
        [
         15628523,
         "Male",
         35,
         39000,
         0
        ],
        [
         15708196,
         "Male",
         49,
         74000,
         0
        ],
        [
         15735549,
         "Female",
         39,
         134000,
         1
        ],
        [
         15809347,
         "Female",
         41,
         71000,
         0
        ],
        [
         15660866,
         "Female",
         58,
         101000,
         1
        ],
        [
         15766609,
         "Female",
         47,
         47000,
         0
        ],
        [
         15654230,
         "Female",
         55,
         130000,
         1
        ],
        [
         15794566,
         "Female",
         52,
         114000,
         0
        ],
        [
         15800890,
         "Female",
         40,
         142000,
         1
        ],
        [
         15697424,
         "Female",
         46,
         22000,
         0
        ],
        [
         15724536,
         "Female",
         48,
         96000,
         1
        ],
        [
         15735878,
         "Male",
         52,
         150000,
         1
        ],
        [
         15707596,
         "Female",
         59,
         42000,
         0
        ],
        [
         15657163,
         "Male",
         35,
         58000,
         0
        ],
        [
         15622478,
         "Male",
         47,
         43000,
         0
        ],
        [
         15779529,
         "Female",
         60,
         108000,
         1
        ],
        [
         15636023,
         "Male",
         49,
         65000,
         0
        ],
        [
         15582066,
         "Male",
         40,
         78000,
         0
        ],
        [
         15666675,
         "Female",
         46,
         96000,
         0
        ],
        [
         15732987,
         "Male",
         59,
         143000,
         1
        ],
        [
         15789432,
         "Female",
         41,
         80000,
         0
        ],
        [
         15663161,
         "Male",
         35,
         91000,
         1
        ],
        [
         15694879,
         "Male",
         37,
         144000,
         1
        ],
        [
         15593715,
         "Male",
         60,
         102000,
         1
        ],
        [
         15575002,
         "Female",
         35,
         60000,
         0
        ],
        [
         15622171,
         "Male",
         37,
         53000,
         0
        ],
        [
         15795224,
         "Female",
         36,
         126000,
         1
        ],
        [
         15685346,
         "Male",
         56,
         133000,
         1
        ],
        [
         15691808,
         "Female",
         40,
         72000,
         0
        ],
        [
         15721007,
         "Female",
         42,
         80000,
         1
        ],
        [
         15794253,
         "Female",
         35,
         147000,
         1
        ],
        [
         15694453,
         "Male",
         39,
         42000,
         0
        ],
        [
         15813113,
         "Male",
         40,
         107000,
         1
        ],
        [
         15614187,
         "Male",
         49,
         86000,
         1
        ],
        [
         15619407,
         "Female",
         38,
         112000,
         0
        ],
        [
         15646227,
         "Male",
         46,
         79000,
         1
        ],
        [
         15660541,
         "Male",
         40,
         57000,
         0
        ],
        [
         15753874,
         "Female",
         37,
         80000,
         0
        ],
        [
         15617877,
         "Female",
         46,
         82000,
         0
        ],
        [
         15772073,
         "Female",
         53,
         143000,
         1
        ],
        [
         15701537,
         "Male",
         42,
         149000,
         1
        ],
        [
         15736228,
         "Male",
         38,
         59000,
         0
        ],
        [
         15780572,
         "Female",
         50,
         88000,
         1
        ],
        [
         15769596,
         "Female",
         56,
         104000,
         1
        ],
        [
         15586996,
         "Female",
         41,
         72000,
         0
        ],
        [
         15722061,
         "Female",
         51,
         146000,
         1
        ],
        [
         15638003,
         "Female",
         35,
         50000,
         0
        ],
        [
         15775590,
         "Female",
         57,
         122000,
         1
        ],
        [
         15730688,
         "Male",
         41,
         52000,
         0
        ],
        [
         15753102,
         "Female",
         35,
         97000,
         1
        ],
        [
         15810075,
         "Female",
         44,
         39000,
         0
        ],
        [
         15723373,
         "Male",
         37,
         52000,
         0
        ],
        [
         15795298,
         "Female",
         48,
         134000,
         1
        ],
        [
         15584320,
         "Female",
         37,
         146000,
         1
        ],
        [
         15724161,
         "Female",
         50,
         44000,
         0
        ],
        [
         15750056,
         "Female",
         52,
         90000,
         1
        ],
        [
         15609637,
         "Female",
         41,
         72000,
         0
        ],
        [
         15794493,
         "Male",
         40,
         57000,
         0
        ],
        [
         15569641,
         "Female",
         58,
         95000,
         1
        ],
        [
         15815236,
         "Female",
         45,
         131000,
         1
        ],
        [
         15811177,
         "Female",
         35,
         77000,
         0
        ],
        [
         15680587,
         "Male",
         36,
         144000,
         1
        ],
        [
         15672821,
         "Female",
         55,
         125000,
         1
        ],
        [
         15767681,
         "Female",
         35,
         72000,
         0
        ],
        [
         15600379,
         "Male",
         48,
         90000,
         1
        ],
        [
         15801336,
         "Female",
         42,
         108000,
         1
        ],
        [
         15721592,
         "Male",
         40,
         75000,
         0
        ],
        [
         15581282,
         "Male",
         37,
         74000,
         0
        ],
        [
         15746203,
         "Female",
         47,
         144000,
         1
        ],
        [
         15583137,
         "Male",
         40,
         61000,
         0
        ],
        [
         15680752,
         "Female",
         43,
         133000,
         0
        ],
        [
         15688172,
         "Female",
         59,
         76000,
         1
        ],
        [
         15791373,
         "Male",
         60,
         42000,
         1
        ],
        [
         15589449,
         "Male",
         39,
         106000,
         1
        ],
        [
         15692819,
         "Female",
         57,
         26000,
         1
        ],
        [
         15727467,
         "Male",
         57,
         74000,
         1
        ],
        [
         15734312,
         "Male",
         38,
         71000,
         0
        ],
        [
         15764604,
         "Male",
         49,
         88000,
         1
        ],
        [
         15613014,
         "Female",
         52,
         38000,
         1
        ],
        [
         15759684,
         "Female",
         50,
         36000,
         1
        ],
        [
         15609669,
         "Female",
         59,
         88000,
         1
        ],
        [
         15685536,
         "Male",
         35,
         61000,
         0
        ],
        [
         15750447,
         "Male",
         37,
         70000,
         1
        ],
        [
         15663249,
         "Female",
         52,
         21000,
         1
        ],
        [
         15638646,
         "Male",
         48,
         141000,
         0
        ],
        [
         15734161,
         "Female",
         37,
         93000,
         1
        ],
        [
         15631070,
         "Female",
         37,
         62000,
         0
        ],
        [
         15761950,
         "Female",
         48,
         138000,
         1
        ],
        [
         15649668,
         "Male",
         41,
         79000,
         0
        ],
        [
         15713912,
         "Female",
         37,
         78000,
         1
        ],
        [
         15586757,
         "Male",
         39,
         134000,
         1
        ],
        [
         15596522,
         "Male",
         49,
         89000,
         1
        ],
        [
         15625395,
         "Male",
         55,
         39000,
         1
        ],
        [
         15760570,
         "Male",
         37,
         77000,
         0
        ],
        [
         15566689,
         "Female",
         35,
         57000,
         0
        ],
        [
         15725794,
         "Female",
         36,
         63000,
         0
        ],
        [
         15673539,
         "Male",
         42,
         73000,
         1
        ],
        [
         15705298,
         "Female",
         43,
         112000,
         1
        ],
        [
         15675791,
         "Male",
         45,
         79000,
         0
        ],
        [
         15747043,
         "Male",
         46,
         117000,
         1
        ],
        [
         15736397,
         "Female",
         58,
         38000,
         1
        ],
        [
         15678201,
         "Male",
         48,
         74000,
         1
        ],
        [
         15720745,
         "Female",
         37,
         137000,
         1
        ],
        [
         15637593,
         "Male",
         37,
         79000,
         1
        ],
        [
         15598070,
         "Female",
         40,
         60000,
         0
        ],
        [
         15787550,
         "Male",
         42,
         54000,
         0
        ],
        [
         15603942,
         "Female",
         51,
         134000,
         0
        ],
        [
         15733973,
         "Female",
         47,
         113000,
         1
        ],
        [
         15596761,
         "Male",
         36,
         125000,
         1
        ],
        [
         15652400,
         "Female",
         38,
         50000,
         0
        ],
        [
         15717893,
         "Female",
         42,
         70000,
         0
        ],
        [
         15622585,
         "Male",
         39,
         96000,
         1
        ],
        [
         15733964,
         "Female",
         38,
         50000,
         0
        ],
        [
         15753861,
         "Female",
         49,
         141000,
         1
        ],
        [
         15747097,
         "Female",
         39,
         79000,
         0
        ],
        [
         15594762,
         "Female",
         39,
         75000,
         1
        ],
        [
         15667417,
         "Female",
         54,
         104000,
         1
        ],
        [
         15684861,
         "Male",
         35,
         55000,
         0
        ],
        [
         15742204,
         "Male",
         45,
         32000,
         1
        ],
        [
         15623502,
         "Male",
         36,
         60000,
         0
        ],
        [
         15774872,
         "Female",
         52,
         138000,
         1
        ],
        [
         15611191,
         "Female",
         53,
         82000,
         1
        ],
        [
         15674331,
         "Male",
         41,
         52000,
         0
        ],
        [
         15619465,
         "Female",
         48,
         30000,
         1
        ],
        [
         15575247,
         "Female",
         48,
         131000,
         1
        ],
        [
         15695679,
         "Female",
         41,
         60000,
         0
        ],
        [
         15713463,
         "Male",
         41,
         72000,
         0
        ],
        [
         15785170,
         "Female",
         42,
         75000,
         0
        ],
        [
         15796351,
         "Male",
         36,
         118000,
         1
        ],
        [
         15639576,
         "Female",
         47,
         107000,
         1
        ],
        [
         15693264,
         "Male",
         38,
         51000,
         0
        ],
        [
         15589715,
         "Female",
         48,
         119000,
         1
        ],
        [
         15769902,
         "Male",
         42,
         65000,
         0
        ],
        [
         15587177,
         "Male",
         40,
         65000,
         0
        ],
        [
         15814553,
         "Male",
         57,
         60000,
         1
        ],
        [
         15601550,
         "Female",
         36,
         54000,
         0
        ],
        [
         15664907,
         "Male",
         58,
         144000,
         1
        ],
        [
         15612465,
         "Male",
         35,
         79000,
         0
        ],
        [
         15810800,
         "Female",
         38,
         55000,
         0
        ],
        [
         15665760,
         "Male",
         39,
         122000,
         1
        ],
        [
         15588080,
         "Female",
         53,
         104000,
         1
        ],
        [
         15776844,
         "Male",
         35,
         75000,
         0
        ],
        [
         15717560,
         "Female",
         38,
         65000,
         0
        ],
        [
         15629739,
         "Female",
         47,
         51000,
         1
        ],
        [
         15729908,
         "Male",
         47,
         105000,
         1
        ],
        [
         15716781,
         "Female",
         41,
         63000,
         0
        ],
        [
         15646936,
         "Male",
         53,
         72000,
         1
        ],
        [
         15768151,
         "Female",
         54,
         108000,
         1
        ],
        [
         15579212,
         "Male",
         39,
         77000,
         0
        ],
        [
         15721835,
         "Male",
         38,
         61000,
         0
        ],
        [
         15800515,
         "Female",
         38,
         113000,
         1
        ],
        [
         15591279,
         "Male",
         37,
         75000,
         0
        ],
        [
         15587419,
         "Female",
         42,
         90000,
         1
        ],
        [
         15750335,
         "Female",
         37,
         57000,
         0
        ],
        [
         15699619,
         "Male",
         36,
         99000,
         1
        ],
        [
         15606472,
         "Male",
         60,
         34000,
         1
        ],
        [
         15778368,
         "Male",
         54,
         70000,
         1
        ],
        [
         15671387,
         "Female",
         41,
         72000,
         0
        ],
        [
         15573926,
         "Male",
         40,
         71000,
         1
        ],
        [
         15709183,
         "Male",
         42,
         54000,
         0
        ],
        [
         15577514,
         "Male",
         43,
         129000,
         1
        ],
        [
         15778830,
         "Female",
         53,
         34000,
         1
        ],
        [
         15768072,
         "Female",
         47,
         50000,
         1
        ],
        [
         15768293,
         "Female",
         42,
         79000,
         0
        ],
        [
         15654456,
         "Male",
         42,
         104000,
         1
        ],
        [
         15807525,
         "Female",
         59,
         29000,
         1
        ],
        [
         15574372,
         "Female",
         58,
         47000,
         1
        ],
        [
         15671249,
         "Male",
         46,
         88000,
         1
        ],
        [
         15779744,
         "Male",
         38,
         71000,
         0
        ],
        [
         15624755,
         "Female",
         54,
         26000,
         1
        ],
        [
         15611430,
         "Female",
         60,
         46000,
         1
        ],
        [
         15774744,
         "Male",
         60,
         83000,
         1
        ],
        [
         15629885,
         "Female",
         39,
         73000,
         0
        ],
        [
         15708791,
         "Male",
         59,
         130000,
         1
        ],
        [
         15793890,
         "Female",
         37,
         80000,
         0
        ],
        [
         15646091,
         "Female",
         46,
         32000,
         1
        ],
        [
         15596984,
         "Female",
         46,
         74000,
         0
        ],
        [
         15800215,
         "Female",
         42,
         53000,
         0
        ],
        [
         15577806,
         "Male",
         41,
         87000,
         1
        ],
        [
         15749381,
         "Female",
         58,
         23000,
         1
        ],
        [
         15683758,
         "Male",
         42,
         64000,
         0
        ],
        [
         15670615,
         "Male",
         48,
         33000,
         1
        ],
        [
         15715622,
         "Female",
         44,
         139000,
         1
        ],
        [
         15707634,
         "Male",
         49,
         28000,
         1
        ],
        [
         15806901,
         "Female",
         57,
         33000,
         1
        ],
        [
         15775335,
         "Male",
         56,
         60000,
         1
        ],
        [
         15724150,
         "Female",
         49,
         39000,
         1
        ],
        [
         15627220,
         "Male",
         39,
         71000,
         0
        ],
        [
         15672330,
         "Male",
         47,
         34000,
         1
        ],
        [
         15668521,
         "Female",
         48,
         35000,
         1
        ],
        [
         15807837,
         "Male",
         48,
         33000,
         1
        ],
        [
         15592570,
         "Male",
         47,
         23000,
         1
        ],
        [
         15748589,
         "Female",
         45,
         45000,
         1
        ],
        [
         15635893,
         "Male",
         60,
         42000,
         1
        ],
        [
         15757632,
         "Female",
         39,
         59000,
         0
        ],
        [
         15691863,
         "Female",
         46,
         41000,
         1
        ],
        [
         15706071,
         "Male",
         51,
         23000,
         1
        ],
        [
         15654296,
         "Female",
         50,
         20000,
         1
        ],
        [
         15755018,
         "Male",
         36,
         33000,
         0
        ],
        [
         15594041,
         "Female",
         49,
         36000,
         1
        ]
       ],
       "datasetInfos": [],
       "dbfsResultPath": null,
       "isJsonSchema": true,
       "metadata": {},
       "overflow": false,
       "plotOptions": {
        "customPlotOptions": {},
        "displayType": "table",
        "pivotAggregation": null,
        "pivotColumns": null,
        "xColumns": null,
        "yColumns": null
       },
       "removedWidgets": [],
       "schema": [
        {
         "metadata": "{}",
         "name": "User ID",
         "type": "\"integer\""
        },
        {
         "metadata": "{}",
         "name": "Genero",
         "type": "\"string\""
        },
        {
         "metadata": "{}",
         "name": "Edad",
         "type": "\"integer\""
        },
        {
         "metadata": "{}",
         "name": "Salario",
         "type": "\"integer\""
        },
        {
         "metadata": "{}",
         "name": "Compra",
         "type": "\"integer\""
        }
       ],
       "type": "table"
      }
     },
     "output_type": "display_data"
    }
   ],
   "source": [
    "%sql\n",
    "\n",
    "/* Query the created temp table in a SQL cell */\n",
    "\n",
    "select * from `venta_csv`"
   ]
  },
  {
   "cell_type": "code",
   "execution_count": 0,
   "metadata": {
    "application/vnd.databricks.v1+cell": {
     "cellMetadata": {},
     "inputWidgets": {},
     "nuid": "db9631f6-bb4a-42ca-8a3c-0d48af932331",
     "showTitle": false,
     "title": ""
    }
   },
   "outputs": [
    {
     "output_type": "display_data",
     "data": {
      "text/html": [
       "<style scoped>\n",
       "  .ansiout {\n",
       "    display: block;\n",
       "    unicode-bidi: embed;\n",
       "    white-space: pre-wrap;\n",
       "    word-wrap: break-word;\n",
       "    word-break: break-all;\n",
       "    font-family: \"Source Code Pro\", \"Menlo\", monospace;;\n",
       "    font-size: 13px;\n",
       "    color: #555;\n",
       "    margin-left: 4px;\n",
       "    line-height: 19px;\n",
       "  }\n",
       "</style>"
      ]
     },
     "metadata": {
      "application/vnd.databricks.v1+output": {
       "arguments": {},
       "data": "",
       "errorSummary": "",
       "errorTraceType": null,
       "metadata": {},
       "type": "ipynbError"
      }
     },
     "output_type": "display_data"
    }
   ],
   "source": [
    "# With this registered as a temp view, it will only be available to this particular notebook. If you'd like other users to be able to query this table, you can also create a table from the DataFrame.\n",
    "# Once saved, this table will persist across cluster restarts as well as allow various users across different notebooks to query this data.\n",
    "# To do so, choose your table name and uncomment the bottom line.\n",
    "\n",
    "permanent_table_name = \"venta_csv\"\n",
    "\n",
    "# df.write.format(\"parquet\").saveAsTable(permanent_table_name)"
   ]
  },
  {
   "cell_type": "markdown",
   "metadata": {
    "application/vnd.databricks.v1+cell": {
     "cellMetadata": {},
     "inputWidgets": {},
     "nuid": "eff862da-8f22-45ef-93fd-0b99a2d941ef",
     "showTitle": false,
     "title": ""
    }
   },
   "source": [
    "## Dividimos el dataset en Train y Test"
   ]
  },
  {
   "cell_type": "code",
   "execution_count": 0,
   "metadata": {
    "application/vnd.databricks.v1+cell": {
     "cellMetadata": {
      "byteLimit": 2048000,
      "rowLimit": 10000
     },
     "inputWidgets": {},
     "nuid": "23421be2-59c0-477a-8406-4637843393f0",
     "showTitle": false,
     "title": ""
    }
   },
   "outputs": [
    {
     "output_type": "stream",
     "name": "stdout",
     "output_type": "stream",
     "text": [
      "342\n58\n"
     ]
    }
   ],
   "source": [
    "trainDF, testDF = df.randomSplit([0.8, 0.2], seed=42)\n",
    "print(trainDF.cache().count()) # Cache because accessing training data multiple times\n",
    "print(testDF.count())"
   ]
  },
  {
   "cell_type": "code",
   "execution_count": 0,
   "metadata": {
    "application/vnd.databricks.v1+cell": {
     "cellMetadata": {
      "byteLimit": 2048000,
      "rowLimit": 10000
     },
     "inputWidgets": {},
     "nuid": "40e60708-55fa-42bf-ac74-7c7f15622056",
     "showTitle": false,
     "title": ""
    }
   },
   "outputs": [
    {
     "output_type": "display_data",
     "data": {
      "text/html": [
       "<style scoped>\n",
       "  .table-result-container {\n",
       "    max-height: 300px;\n",
       "    overflow: auto;\n",
       "  }\n",
       "  table, th, td {\n",
       "    border: 1px solid black;\n",
       "    border-collapse: collapse;\n",
       "  }\n",
       "  th, td {\n",
       "    padding: 5px;\n",
       "  }\n",
       "  th {\n",
       "    text-align: left;\n",
       "  }\n",
       "</style><div class='table-result-container'><table class='table-result'><thead style='background-color: white'><tr><th>User ID</th><th>Genero</th><th>Edad</th><th>Salario</th><th>Compra</th></tr></thead><tbody><tr><td>15566689</td><td>Female</td><td>35</td><td>57000</td><td>0</td></tr><tr><td>15569641</td><td>Female</td><td>58</td><td>95000</td><td>1</td></tr><tr><td>15570932</td><td>Male</td><td>34</td><td>115000</td><td>0</td></tr><tr><td>15571059</td><td>Female</td><td>33</td><td>41000</td><td>0</td></tr><tr><td>15573452</td><td>Female</td><td>21</td><td>16000</td><td>0</td></tr><tr><td>15574305</td><td>Male</td><td>35</td><td>53000</td><td>0</td></tr><tr><td>15575002</td><td>Female</td><td>35</td><td>60000</td><td>0</td></tr><tr><td>15575247</td><td>Female</td><td>48</td><td>131000</td><td>1</td></tr><tr><td>15575694</td><td>Male</td><td>35</td><td>73000</td><td>0</td></tr><tr><td>15576219</td><td>Male</td><td>41</td><td>45000</td><td>0</td></tr><tr><td>15577514</td><td>Male</td><td>43</td><td>129000</td><td>1</td></tr><tr><td>15577806</td><td>Male</td><td>41</td><td>87000</td><td>1</td></tr><tr><td>15578006</td><td>Male</td><td>23</td><td>63000</td><td>0</td></tr><tr><td>15578738</td><td>Female</td><td>18</td><td>86000</td><td>0</td></tr><tr><td>15579212</td><td>Male</td><td>39</td><td>77000</td><td>0</td></tr><tr><td>15581198</td><td>Male</td><td>31</td><td>74000</td><td>0</td></tr><tr><td>15581282</td><td>Male</td><td>37</td><td>74000</td><td>0</td></tr><tr><td>15581654</td><td>Female</td><td>34</td><td>43000</td><td>0</td></tr><tr><td>15582492</td><td>Male</td><td>28</td><td>123000</td><td>1</td></tr><tr><td>15583137</td><td>Male</td><td>40</td><td>61000</td><td>0</td></tr><tr><td>15583681</td><td>Male</td><td>32</td><td>120000</td><td>1</td></tr><tr><td>15584114</td><td>Male</td><td>24</td><td>23000</td><td>0</td></tr><tr><td>15584320</td><td>Female</td><td>37</td><td>146000</td><td>1</td></tr><tr><td>15586757</td><td>Male</td><td>39</td><td>134000</td><td>1</td></tr><tr><td>15586996</td><td>Female</td><td>41</td><td>72000</td><td>0</td></tr><tr><td>15587013</td><td>Male</td><td>21</td><td>88000</td><td>0</td></tr><tr><td>15587177</td><td>Male</td><td>40</td><td>65000</td><td>0</td></tr><tr><td>15587419</td><td>Female</td><td>42</td><td>90000</td><td>1</td></tr><tr><td>15589449</td><td>Male</td><td>39</td><td>106000</td><td>1</td></tr><tr><td>15589715</td><td>Female</td><td>48</td><td>119000</td><td>1</td></tr><tr><td>15591279</td><td>Male</td><td>37</td><td>75000</td><td>0</td></tr><tr><td>15591433</td><td>Male</td><td>36</td><td>52000</td><td>0</td></tr><tr><td>15591915</td><td>Female</td><td>33</td><td>51000</td><td>0</td></tr><tr><td>15592570</td><td>Male</td><td>47</td><td>23000</td><td>1</td></tr><tr><td>15592877</td><td>Male</td><td>32</td><td>18000</td><td>0</td></tr><tr><td>15593014</td><td>Male</td><td>28</td><td>59000</td><td>0</td></tr><tr><td>15593715</td><td>Male</td><td>60</td><td>102000</td><td>1</td></tr><tr><td>15595135</td><td>Female</td><td>23</td><td>66000</td><td>0</td></tr><tr><td>15595324</td><td>Female</td><td>31</td><td>68000</td><td>0</td></tr><tr><td>15596522</td><td>Male</td><td>49</td><td>89000</td><td>1</td></tr><tr><td>15596761</td><td>Male</td><td>36</td><td>125000</td><td>1</td></tr><tr><td>15596984</td><td>Female</td><td>46</td><td>74000</td><td>0</td></tr><tr><td>15598070</td><td>Female</td><td>40</td><td>60000</td><td>0</td></tr><tr><td>15598840</td><td>Female</td><td>32</td><td>135000</td><td>1</td></tr><tr><td>15599081</td><td>Female</td><td>45</td><td>22000</td><td>1</td></tr><tr><td>15599533</td><td>Female</td><td>37</td><td>33000</td><td>0</td></tr><tr><td>15600379</td><td>Male</td><td>48</td><td>90000</td><td>1</td></tr><tr><td>15600575</td><td>Male</td><td>25</td><td>33000</td><td>0</td></tr><tr><td>15602373</td><td>Male</td><td>29</td><td>75000</td><td>0</td></tr><tr><td>15603246</td><td>Female</td><td>27</td><td>57000</td><td>0</td></tr><tr><td>15603319</td><td>Male</td><td>33</td><td>43000</td><td>0</td></tr><tr><td>15603942</td><td>Female</td><td>51</td><td>134000</td><td>0</td></tr><tr><td>15605000</td><td>Female</td><td>59</td><td>83000</td><td>0</td></tr><tr><td>15605327</td><td>Male</td><td>40</td><td>47000</td><td>0</td></tr><tr><td>15606472</td><td>Male</td><td>60</td><td>34000</td><td>1</td></tr><tr><td>15609637</td><td>Female</td><td>41</td><td>72000</td><td>0</td></tr><tr><td>15609653</td><td>Female</td><td>35</td><td>47000</td><td>0</td></tr><tr><td>15609669</td><td>Female</td><td>59</td><td>88000</td><td>1</td></tr><tr><td>15610140</td><td>Female</td><td>31</td><td>15000</td><td>0</td></tr><tr><td>15610403</td><td>Female</td><td>28</td><td>59000</td><td>0</td></tr><tr><td>15610801</td><td>Male</td><td>42</td><td>65000</td><td>0</td></tr><tr><td>15611430</td><td>Female</td><td>60</td><td>46000</td><td>1</td></tr><tr><td>15612465</td><td>Male</td><td>35</td><td>79000</td><td>0</td></tr><tr><td>15613014</td><td>Female</td><td>52</td><td>38000</td><td>1</td></tr><tr><td>15614187</td><td>Male</td><td>49</td><td>86000</td><td>1</td></tr><tr><td>15614420</td><td>Female</td><td>23</td><td>28000</td><td>0</td></tr><tr><td>15614827</td><td>Female</td><td>35</td><td>71000</td><td>0</td></tr><tr><td>15617134</td><td>Male</td><td>35</td><td>59000</td><td>0</td></tr><tr><td>15617482</td><td>Male</td><td>45</td><td>26000</td><td>1</td></tr><tr><td>15617877</td><td>Female</td><td>46</td><td>82000</td><td>0</td></tr><tr><td>15619087</td><td>Female</td><td>36</td><td>50000</td><td>0</td></tr><tr><td>15619407</td><td>Female</td><td>38</td><td>112000</td><td>0</td></tr><tr><td>15619465</td><td>Female</td><td>48</td><td>30000</td><td>1</td></tr><tr><td>15619653</td><td>Male</td><td>38</td><td>61000</td><td>0</td></tr><tr><td>15621083</td><td>Female</td><td>48</td><td>29000</td><td>1</td></tr><tr><td>15622171</td><td>Male</td><td>37</td><td>53000</td><td>0</td></tr><tr><td>15622478</td><td>Male</td><td>47</td><td>43000</td><td>0</td></tr><tr><td>15622585</td><td>Male</td><td>39</td><td>96000</td><td>1</td></tr><tr><td>15622833</td><td>Female</td><td>34</td><td>25000</td><td>0</td></tr><tr><td>15623502</td><td>Male</td><td>36</td><td>60000</td><td>0</td></tr><tr><td>15624510</td><td>Male</td><td>19</td><td>19000</td><td>0</td></tr><tr><td>15624755</td><td>Female</td><td>54</td><td>26000</td><td>1</td></tr><tr><td>15625395</td><td>Male</td><td>55</td><td>39000</td><td>1</td></tr><tr><td>15628523</td><td>Male</td><td>35</td><td>39000</td><td>0</td></tr><tr><td>15628972</td><td>Male</td><td>18</td><td>82000</td><td>0</td></tr><tr><td>15629739</td><td>Female</td><td>47</td><td>51000</td><td>1</td></tr><tr><td>15629885</td><td>Female</td><td>39</td><td>73000</td><td>0</td></tr><tr><td>15631070</td><td>Female</td><td>37</td><td>62000</td><td>0</td></tr><tr><td>15631159</td><td>Male</td><td>47</td><td>20000</td><td>1</td></tr><tr><td>15631912</td><td>Female</td><td>28</td><td>85000</td><td>0</td></tr><tr><td>15633531</td><td>Female</td><td>47</td><td>30000</td><td>1</td></tr><tr><td>15635893</td><td>Male</td><td>60</td><td>42000</td><td>1</td></tr><tr><td>15636023</td><td>Male</td><td>49</td><td>65000</td><td>0</td></tr><tr><td>15636428</td><td>Female</td><td>30</td><td>116000</td><td>0</td></tr><tr><td>15638003</td><td>Female</td><td>35</td><td>50000</td><td>0</td></tr><tr><td>15638646</td><td>Male</td><td>48</td><td>141000</td><td>0</td></tr><tr><td>15638963</td><td>Female</td><td>21</td><td>68000</td><td>0</td></tr><tr><td>15642885</td><td>Male</td><td>22</td><td>18000</td><td>0</td></tr><tr><td>15644296</td><td>Female</td><td>34</td><td>72000</td><td>0</td></tr><tr><td>15646091</td><td>Female</td><td>46</td><td>32000</td><td>1</td></tr><tr><td>15646227</td><td>Male</td><td>46</td><td>79000</td><td>1</td></tr><tr><td>15646936</td><td>Male</td><td>53</td><td>72000</td><td>1</td></tr><tr><td>15649136</td><td>Female</td><td>24</td><td>55000</td><td>0</td></tr><tr><td>15649487</td><td>Male</td><td>45</td><td>22000</td><td>1</td></tr><tr><td>15649668</td><td>Male</td><td>41</td><td>79000</td><td>0</td></tr><tr><td>15651983</td><td>Male</td><td>34</td><td>112000</td><td>1</td></tr><tr><td>15652400</td><td>Female</td><td>38</td><td>50000</td><td>0</td></tr><tr><td>15654296</td><td>Female</td><td>50</td><td>20000</td><td>1</td></tr><tr><td>15654574</td><td>Female</td><td>23</td><td>82000</td><td>0</td></tr><tr><td>15654901</td><td>Female</td><td>27</td><td>58000</td><td>0</td></tr><tr><td>15655123</td><td>Female</td><td>26</td><td>17000</td><td>0</td></tr><tr><td>15657163</td><td>Male</td><td>35</td><td>58000</td><td>0</td></tr><tr><td>15660200</td><td>Female</td><td>37</td><td>71000</td><td>0</td></tr><tr><td>15660541</td><td>Male</td><td>40</td><td>57000</td><td>0</td></tr><tr><td>15660866</td><td>Female</td><td>58</td><td>101000</td><td>1</td></tr><tr><td>15662067</td><td>Female</td><td>19</td><td>26000</td><td>0</td></tr><tr><td>15662901</td><td>Male</td><td>19</td><td>70000</td><td>0</td></tr><tr><td>15663161</td><td>Male</td><td>35</td><td>91000</td><td>1</td></tr><tr><td>15663249</td><td>Female</td><td>52</td><td>21000</td><td>1</td></tr><tr><td>15663939</td><td>Female</td><td>31</td><td>118000</td><td>1</td></tr><tr><td>15664907</td><td>Male</td><td>58</td><td>144000</td><td>1</td></tr><tr><td>15665416</td><td>Female</td><td>39</td><td>71000</td><td>0</td></tr><tr><td>15665760</td><td>Male</td><td>39</td><td>122000</td><td>1</td></tr><tr><td>15666141</td><td>Female</td><td>18</td><td>68000</td><td>0</td></tr><tr><td>15666675</td><td>Female</td><td>46</td><td>96000</td><td>0</td></tr><tr><td>15667265</td><td>Female</td><td>28</td><td>87000</td><td>0</td></tr><tr><td>15667417</td><td>Female</td><td>54</td><td>104000</td><td>1</td></tr><tr><td>15667742</td><td>Male</td><td>34</td><td>43000</td><td>0</td></tr><tr><td>15668504</td><td>Female</td><td>20</td><td>82000</td><td>0</td></tr><tr><td>15668521</td><td>Female</td><td>48</td><td>35000</td><td>1</td></tr><tr><td>15668575</td><td>Female</td><td>26</td><td>43000</td><td>0</td></tr><tr><td>15669656</td><td>Male</td><td>31</td><td>18000</td><td>0</td></tr><tr><td>15670615</td><td>Male</td><td>48</td><td>33000</td><td>1</td></tr><tr><td>15670619</td><td>Male</td><td>25</td><td>90000</td><td>0</td></tr><tr><td>15671249</td><td>Male</td><td>46</td><td>88000</td><td>1</td></tr><tr><td>15671655</td><td>Female</td><td>35</td><td>23000</td><td>0</td></tr><tr><td>15671766</td><td>Female</td><td>26</td><td>72000</td><td>0</td></tr><tr><td>15672091</td><td>Female</td><td>19</td><td>21000</td><td>0</td></tr><tr><td>15672821</td><td>Female</td><td>55</td><td>125000</td><td>1</td></tr><tr><td>15673367</td><td>Female</td><td>31</td><td>34000</td><td>0</td></tr><tr><td>15673539</td><td>Male</td><td>42</td><td>73000</td><td>1</td></tr><tr><td>15674206</td><td>Male</td><td>35</td><td>72000</td><td>0</td></tr><tr><td>15674331</td><td>Male</td><td>41</td><td>52000</td><td>0</td></tr><tr><td>15675791</td><td>Male</td><td>45</td><td>79000</td><td>0</td></tr><tr><td>15675949</td><td>Female</td><td>33</td><td>149000</td><td>1</td></tr><tr><td>15678168</td><td>Female</td><td>41</td><td>51000</td><td>0</td></tr><tr><td>15678201</td><td>Male</td><td>48</td><td>74000</td><td>1</td></tr><tr><td>15679297</td><td>Male</td><td>35</td><td>75000</td><td>0</td></tr><tr><td>15679651</td><td>Female</td><td>26</td><td>15000</td><td>0</td></tr><tr><td>15679760</td><td>Male</td><td>24</td><td>19000</td><td>0</td></tr><tr><td>15680243</td><td>Female</td><td>20</td><td>36000</td><td>0</td></tr><tr><td>15680587</td><td>Male</td><td>36</td><td>144000</td><td>1</td></tr><tr><td>15680752</td><td>Female</td><td>43</td><td>133000</td><td>0</td></tr><tr><td>15682268</td><td>Male</td><td>35</td><td>50000</td><td>0</td></tr><tr><td>15684801</td><td>Male</td><td>22</td><td>81000</td><td>0</td></tr><tr><td>15684861</td><td>Male</td><td>35</td><td>55000</td><td>0</td></tr><tr><td>15685346</td><td>Male</td><td>56</td><td>133000</td><td>1</td></tr><tr><td>15685536</td><td>Male</td><td>35</td><td>61000</td><td>0</td></tr><tr><td>15685576</td><td>Male</td><td>26</td><td>16000</td><td>0</td></tr><tr><td>15688172</td><td>Female</td><td>59</td><td>76000</td><td>1</td></tr><tr><td>15689237</td><td>Male</td><td>40</td><td>57000</td><td>0</td></tr><tr><td>15689425</td><td>Male</td><td>30</td><td>49000</td><td>0</td></tr><tr><td>15689751</td><td>Male</td><td>28</td><td>89000</td><td>0</td></tr><tr><td>15690188</td><td>Female</td><td>33</td><td>28000</td><td>0</td></tr><tr><td>15691808</td><td>Female</td><td>40</td><td>72000</td><td>0</td></tr><tr><td>15691863</td><td>Female</td><td>46</td><td>41000</td><td>1</td></tr><tr><td>15692819</td><td>Female</td><td>57</td><td>26000</td><td>1</td></tr><tr><td>15693264</td><td>Male</td><td>38</td><td>51000</td><td>0</td></tr><tr><td>15694288</td><td>Female</td><td>32</td><td>117000</td><td>1</td></tr><tr><td>15694395</td><td>Female</td><td>24</td><td>32000</td><td>0</td></tr><tr><td>15694453</td><td>Male</td><td>39</td><td>42000</td><td>0</td></tr><tr><td>15694829</td><td>Female</td><td>32</td><td>150000</td><td>1</td></tr><tr><td>15694879</td><td>Male</td><td>37</td><td>144000</td><td>1</td></tr><tr><td>15695679</td><td>Female</td><td>41</td><td>60000</td><td>0</td></tr><tr><td>15697020</td><td>Female</td><td>39</td><td>61000</td><td>0</td></tr><tr><td>15697424</td><td>Female</td><td>46</td><td>22000</td><td>0</td></tr><tr><td>15697574</td><td>Female</td><td>33</td><td>69000</td><td>0</td></tr><tr><td>15697686</td><td>Male</td><td>29</td><td>80000</td><td>0</td></tr><tr><td>15697997</td><td>Female</td><td>38</td><td>80000</td><td>0</td></tr><tr><td>15699284</td><td>Female</td><td>29</td><td>28000</td><td>0</td></tr><tr><td>15699619</td><td>Male</td><td>36</td><td>99000</td><td>1</td></tr><tr><td>15701537</td><td>Male</td><td>42</td><td>149000</td><td>1</td></tr><tr><td>15701962</td><td>Male</td><td>41</td><td>59000</td><td>0</td></tr><tr><td>15704583</td><td>Male</td><td>46</td><td>28000</td><td>1</td></tr><tr><td>15704987</td><td>Male</td><td>32</td><td>18000</td><td>0</td></tr><tr><td>15705113</td><td>Male</td><td>46</td><td>23000</td><td>1</td></tr><tr><td>15706071</td><td>Male</td><td>51</td><td>23000</td><td>1</td></tr><tr><td>15706185</td><td>Female</td><td>26</td><td>35000</td><td>0</td></tr><tr><td>15707596</td><td>Female</td><td>59</td><td>42000</td><td>0</td></tr><tr><td>15707634</td><td>Male</td><td>49</td><td>28000</td><td>1</td></tr><tr><td>15708228</td><td>Male</td><td>35</td><td>22000</td><td>0</td></tr><tr><td>15708791</td><td>Male</td><td>59</td><td>130000</td><td>1</td></tr><tr><td>15709183</td><td>Male</td><td>42</td><td>54000</td><td>0</td></tr><tr><td>15709441</td><td>Female</td><td>35</td><td>44000</td><td>0</td></tr><tr><td>15709476</td><td>Male</td><td>20</td><td>49000</td><td>0</td></tr><tr><td>15710257</td><td>Female</td><td>35</td><td>25000</td><td>0</td></tr><tr><td>15711218</td><td>Male</td><td>35</td><td>88000</td><td>0</td></tr><tr><td>15713144</td><td>Male</td><td>35</td><td>27000</td><td>0</td></tr><tr><td>15713463</td><td>Male</td><td>41</td><td>72000</td><td>0</td></tr><tr><td>15713912</td><td>Female</td><td>37</td><td>78000</td><td>1</td></tr><tr><td>15714658</td><td>Male</td><td>48</td><td>41000</td><td>1</td></tr><tr><td>15715160</td><td>Male</td><td>28</td><td>32000</td><td>0</td></tr><tr><td>15715541</td><td>Female</td><td>28</td><td>84000</td><td>0</td></tr><tr><td>15715622</td><td>Female</td><td>44</td><td>139000</td><td>1</td></tr><tr><td>15716781</td><td>Female</td><td>41</td><td>63000</td><td>0</td></tr><tr><td>15717893</td><td>Female</td><td>42</td><td>70000</td><td>0</td></tr><tr><td>15718071</td><td>Male</td><td>24</td><td>58000</td><td>0</td></tr><tr><td>15720745</td><td>Female</td><td>37</td><td>137000</td><td>1</td></tr><tr><td>15720943</td><td>Male</td><td>26</td><td>86000</td><td>0</td></tr><tr><td>15721007</td><td>Female</td><td>42</td><td>80000</td><td>1</td></tr><tr><td>15721592</td><td>Male</td><td>40</td><td>75000</td><td>0</td></tr><tr><td>15721835</td><td>Male</td><td>38</td><td>61000</td><td>0</td></tr><tr><td>15722061</td><td>Female</td><td>51</td><td>146000</td><td>1</td></tr><tr><td>15722758</td><td>Male</td><td>30</td><td>17000</td><td>0</td></tr><tr><td>15723373</td><td>Male</td><td>37</td><td>52000</td><td>0</td></tr><tr><td>15724150</td><td>Female</td><td>49</td><td>39000</td><td>1</td></tr><tr><td>15724161</td><td>Female</td><td>50</td><td>44000</td><td>0</td></tr><tr><td>15724402</td><td>Female</td><td>20</td><td>82000</td><td>0</td></tr><tr><td>15724536</td><td>Female</td><td>48</td><td>96000</td><td>1</td></tr><tr><td>15724858</td><td>Male</td><td>27</td><td>90000</td><td>0</td></tr><tr><td>15725660</td><td>Male</td><td>30</td><td>87000</td><td>0</td></tr><tr><td>15726358</td><td>Female</td><td>24</td><td>27000</td><td>0</td></tr><tr><td>15727311</td><td>Female</td><td>35</td><td>65000</td><td>0</td></tr><tr><td>15727696</td><td>Male</td><td>30</td><td>135000</td><td>1</td></tr><tr><td>15729054</td><td>Female</td><td>27</td><td>137000</td><td>1</td></tr><tr><td>15729908</td><td>Male</td><td>47</td><td>105000</td><td>1</td></tr><tr><td>15730688</td><td>Male</td><td>41</td><td>52000</td><td>0</td></tr><tr><td>15733883</td><td>Male</td><td>47</td><td>25000</td><td>1</td></tr><tr><td>15733964</td><td>Female</td><td>38</td><td>50000</td><td>0</td></tr><tr><td>15733973</td><td>Female</td><td>47</td><td>113000</td><td>1</td></tr><tr><td>15734161</td><td>Female</td><td>37</td><td>93000</td><td>1</td></tr><tr><td>15734312</td><td>Male</td><td>38</td><td>71000</td><td>0</td></tr><tr><td>15735549</td><td>Female</td><td>39</td><td>134000</td><td>1</td></tr><tr><td>15735878</td><td>Male</td><td>52</td><td>150000</td><td>1</td></tr><tr><td>15736228</td><td>Male</td><td>38</td><td>59000</td><td>0</td></tr><tr><td>15736397</td><td>Female</td><td>58</td><td>38000</td><td>1</td></tr><tr><td>15736760</td><td>Female</td><td>47</td><td>49000</td><td>1</td></tr><tr><td>15738448</td><td>Female</td><td>30</td><td>79000</td><td>0</td></tr><tr><td>15739160</td><td>Male</td><td>42</td><td>80000</td><td>0</td></tr><tr><td>15741049</td><td>Male</td><td>37</td><td>72000</td><td>0</td></tr><tr><td>15741094</td><td>Male</td><td>19</td><td>25000</td><td>0</td></tr><tr><td>15742204</td><td>Male</td><td>45</td><td>32000</td><td>1</td></tr><tr><td>15744279</td><td>Male</td><td>32</td><td>100000</td><td>1</td></tr><tr><td>15744529</td><td>Male</td><td>29</td><td>43000</td><td>0</td></tr><tr><td>15744919</td><td>Female</td><td>29</td><td>83000</td><td>0</td></tr><tr><td>15745083</td><td>Male</td><td>26</td><td>80000</td><td>0</td></tr><tr><td>15746139</td><td>Male</td><td>20</td><td>86000</td><td>0</td></tr><tr><td>15746203</td><td>Female</td><td>47</td><td>144000</td><td>1</td></tr><tr><td>15747043</td><td>Male</td><td>46</td><td>117000</td><td>1</td></tr><tr><td>15747097</td><td>Female</td><td>39</td><td>79000</td><td>0</td></tr><tr><td>15748589</td><td>Female</td><td>45</td><td>45000</td><td>1</td></tr><tr><td>15749381</td><td>Female</td><td>58</td><td>23000</td><td>1</td></tr><tr><td>15750335</td><td>Female</td><td>37</td><td>57000</td><td>0</td></tr><tr><td>15750447</td><td>Male</td><td>37</td><td>70000</td><td>1</td></tr><tr><td>15750839</td><td>Female</td><td>27</td><td>96000</td><td>1</td></tr><tr><td>15753102</td><td>Female</td><td>35</td><td>97000</td><td>1</td></tr><tr><td>15753861</td><td>Female</td><td>49</td><td>141000</td><td>1</td></tr><tr><td>15753874</td><td>Female</td><td>37</td><td>80000</td><td>0</td></tr><tr><td>15755018</td><td>Male</td><td>36</td><td>33000</td><td>0</td></tr><tr><td>15756820</td><td>Female</td><td>28</td><td>37000</td><td>0</td></tr><tr><td>15756932</td><td>Male</td><td>25</td><td>80000</td><td>0</td></tr><tr><td>15757632</td><td>Female</td><td>39</td><td>59000</td><td>0</td></tr><tr><td>15757837</td><td>Male</td><td>35</td><td>38000</td><td>0</td></tr><tr><td>15759684</td><td>Female</td><td>50</td><td>36000</td><td>1</td></tr><tr><td>15761950</td><td>Female</td><td>48</td><td>138000</td><td>1</td></tr><tr><td>15762228</td><td>Female</td><td>22</td><td>55000</td><td>0</td></tr><tr><td>15762605</td><td>Male</td><td>26</td><td>30000</td><td>0</td></tr><tr><td>15764195</td><td>Female</td><td>18</td><td>44000</td><td>0</td></tr><tr><td>15764419</td><td>Female</td><td>27</td><td>17000</td><td>0</td></tr><tr><td>15764604</td><td>Male</td><td>49</td><td>88000</td><td>1</td></tr><tr><td>15766289</td><td>Male</td><td>27</td><td>88000</td><td>0</td></tr><tr><td>15766609</td><td>Female</td><td>47</td><td>47000</td><td>0</td></tr><tr><td>15767681</td><td>Female</td><td>35</td><td>72000</td><td>0</td></tr><tr><td>15767871</td><td>Male</td><td>20</td><td>74000</td><td>0</td></tr><tr><td>15768151</td><td>Female</td><td>54</td><td>108000</td><td>1</td></tr><tr><td>15768293</td><td>Female</td><td>42</td><td>79000</td><td>0</td></tr><tr><td>15768816</td><td>Male</td><td>26</td><td>81000</td><td>0</td></tr><tr><td>15769596</td><td>Female</td><td>56</td><td>104000</td><td>1</td></tr><tr><td>15769902</td><td>Male</td><td>42</td><td>65000</td><td>0</td></tr><tr><td>15772073</td><td>Female</td><td>53</td><td>143000</td><td>1</td></tr><tr><td>15772798</td><td>Male</td><td>35</td><td>108000</td><td>0</td></tr><tr><td>15773447</td><td>Male</td><td>37</td><td>55000</td><td>0</td></tr><tr><td>15774179</td><td>Female</td><td>22</td><td>27000</td><td>0</td></tr><tr><td>15774727</td><td>Female</td><td>31</td><td>71000</td><td>0</td></tr><tr><td>15774744</td><td>Male</td><td>60</td><td>83000</td><td>1</td></tr><tr><td>15775335</td><td>Male</td><td>56</td><td>60000</td><td>1</td></tr><tr><td>15775590</td><td>Female</td><td>57</td><td>122000</td><td>1</td></tr><tr><td>15776348</td><td>Female</td><td>27</td><td>54000</td><td>0</td></tr><tr><td>15776733</td><td>Female</td><td>28</td><td>44000</td><td>0</td></tr><tr><td>15778368</td><td>Male</td><td>54</td><td>70000</td><td>1</td></tr><tr><td>15778830</td><td>Female</td><td>53</td><td>34000</td><td>1</td></tr><tr><td>15779529</td><td>Female</td><td>60</td><td>108000</td><td>1</td></tr><tr><td>15779581</td><td>Male</td><td>29</td><td>43000</td><td>0</td></tr><tr><td>15779744</td><td>Male</td><td>38</td><td>71000</td><td>0</td></tr><tr><td>15779862</td><td>Male</td><td>29</td><td>61000</td><td>0</td></tr><tr><td>15782530</td><td>Female</td><td>33</td><td>113000</td><td>0</td></tr><tr><td>15782806</td><td>Female</td><td>27</td><td>31000</td><td>0</td></tr><tr><td>15783029</td><td>Male</td><td>30</td><td>89000</td><td>0</td></tr><tr><td>15785170</td><td>Female</td><td>42</td><td>75000</td><td>0</td></tr><tr><td>15786993</td><td>Female</td><td>29</td><td>83000</td><td>0</td></tr><tr><td>15787550</td><td>Male</td><td>42</td><td>54000</td><td>0</td></tr><tr><td>15789109</td><td>Female</td><td>32</td><td>117000</td><td>0</td></tr><tr><td>15789432</td><td>Female</td><td>41</td><td>80000</td><td>0</td></tr><tr><td>15789815</td><td>Male</td><td>29</td><td>148000</td><td>1</td></tr><tr><td>15789863</td><td>Male</td><td>27</td><td>89000</td><td>0</td></tr><tr><td>15791174</td><td>Male</td><td>46</td><td>59000</td><td>0</td></tr><tr><td>15791373</td><td>Male</td><td>60</td><td>42000</td><td>1</td></tr><tr><td>15792008</td><td>Male</td><td>30</td><td>15000</td><td>0</td></tr><tr><td>15792102</td><td>Female</td><td>26</td><td>84000</td><td>0</td></tr><tr><td>15792818</td><td>Male</td><td>49</td><td>28000</td><td>1</td></tr><tr><td>15793813</td><td>Female</td><td>31</td><td>89000</td><td>0</td></tr><tr><td>15793890</td><td>Female</td><td>37</td><td>80000</td><td>0</td></tr><tr><td>15794253</td><td>Female</td><td>35</td><td>147000</td><td>1</td></tr><tr><td>15794493</td><td>Male</td><td>40</td><td>57000</td><td>0</td></tr><tr><td>15794661</td><td>Female</td><td>26</td><td>118000</td><td>0</td></tr><tr><td>15795224</td><td>Female</td><td>36</td><td>126000</td><td>1</td></tr><tr><td>15795298</td><td>Female</td><td>48</td><td>134000</td><td>1</td></tr><tr><td>15796351</td><td>Male</td><td>36</td><td>118000</td><td>1</td></tr><tr><td>15798659</td><td>Female</td><td>30</td><td>62000</td><td>0</td></tr><tr><td>15798850</td><td>Male</td><td>25</td><td>79000</td><td>0</td></tr><tr><td>15800061</td><td>Female</td><td>28</td><td>55000</td><td>0</td></tr><tr><td>15800515</td><td>Female</td><td>38</td><td>113000</td><td>1</td></tr><tr><td>15800890</td><td>Female</td><td>40</td><td>142000</td><td>1</td></tr><tr><td>15801247</td><td>Male</td><td>33</td><td>31000</td><td>0</td></tr><tr><td>15801336</td><td>Female</td><td>42</td><td>108000</td><td>1</td></tr><tr><td>15801658</td><td>Male</td><td>21</td><td>72000</td><td>0</td></tr><tr><td>15806901</td><td>Female</td><td>57</td><td>33000</td><td>1</td></tr><tr><td>15807481</td><td>Male</td><td>28</td><td>79000</td><td>0</td></tr><tr><td>15807525</td><td>Female</td><td>59</td><td>29000</td><td>1</td></tr><tr><td>15807837</td><td>Male</td><td>48</td><td>33000</td><td>1</td></tr><tr><td>15807909</td><td>Male</td><td>19</td><td>85000</td><td>0</td></tr><tr><td>15809347</td><td>Female</td><td>41</td><td>71000</td><td>0</td></tr><tr><td>15809823</td><td>Male</td><td>26</td><td>15000</td><td>0</td></tr><tr><td>15810075</td><td>Female</td><td>44</td><td>39000</td><td>0</td></tr><tr><td>15810800</td><td>Female</td><td>38</td><td>55000</td><td>0</td></tr><tr><td>15810944</td><td>Male</td><td>35</td><td>20000</td><td>0</td></tr><tr><td>15811177</td><td>Female</td><td>35</td><td>77000</td><td>0</td></tr><tr><td>15811613</td><td>Female</td><td>36</td><td>75000</td><td>0</td></tr><tr><td>15813113</td><td>Male</td><td>40</td><td>107000</td><td>1</td></tr><tr><td>15814553</td><td>Male</td><td>57</td><td>60000</td><td>1</td></tr><tr><td>15814816</td><td>Male</td><td>31</td><td>66000</td><td>0</td></tr><tr><td>15815236</td><td>Female</td><td>45</td><td>131000</td><td>1</td></tr></tbody></table></div>"
      ]
     },
     "metadata": {
      "application/vnd.databricks.v1+output": {
       "addedWidgets": {},
       "aggData": [],
       "aggError": "",
       "aggOverflow": false,
       "aggSchema": [],
       "aggSeriesLimitReached": false,
       "aggType": "",
       "arguments": {},
       "columnCustomDisplayInfos": {},
       "data": [
        [
         15566689,
         "Female",
         35,
         57000,
         0
        ],
        [
         15569641,
         "Female",
         58,
         95000,
         1
        ],
        [
         15570932,
         "Male",
         34,
         115000,
         0
        ],
        [
         15571059,
         "Female",
         33,
         41000,
         0
        ],
        [
         15573452,
         "Female",
         21,
         16000,
         0
        ],
        [
         15574305,
         "Male",
         35,
         53000,
         0
        ],
        [
         15575002,
         "Female",
         35,
         60000,
         0
        ],
        [
         15575247,
         "Female",
         48,
         131000,
         1
        ],
        [
         15575694,
         "Male",
         35,
         73000,
         0
        ],
        [
         15576219,
         "Male",
         41,
         45000,
         0
        ],
        [
         15577514,
         "Male",
         43,
         129000,
         1
        ],
        [
         15577806,
         "Male",
         41,
         87000,
         1
        ],
        [
         15578006,
         "Male",
         23,
         63000,
         0
        ],
        [
         15578738,
         "Female",
         18,
         86000,
         0
        ],
        [
         15579212,
         "Male",
         39,
         77000,
         0
        ],
        [
         15581198,
         "Male",
         31,
         74000,
         0
        ],
        [
         15581282,
         "Male",
         37,
         74000,
         0
        ],
        [
         15581654,
         "Female",
         34,
         43000,
         0
        ],
        [
         15582492,
         "Male",
         28,
         123000,
         1
        ],
        [
         15583137,
         "Male",
         40,
         61000,
         0
        ],
        [
         15583681,
         "Male",
         32,
         120000,
         1
        ],
        [
         15584114,
         "Male",
         24,
         23000,
         0
        ],
        [
         15584320,
         "Female",
         37,
         146000,
         1
        ],
        [
         15586757,
         "Male",
         39,
         134000,
         1
        ],
        [
         15586996,
         "Female",
         41,
         72000,
         0
        ],
        [
         15587013,
         "Male",
         21,
         88000,
         0
        ],
        [
         15587177,
         "Male",
         40,
         65000,
         0
        ],
        [
         15587419,
         "Female",
         42,
         90000,
         1
        ],
        [
         15589449,
         "Male",
         39,
         106000,
         1
        ],
        [
         15589715,
         "Female",
         48,
         119000,
         1
        ],
        [
         15591279,
         "Male",
         37,
         75000,
         0
        ],
        [
         15591433,
         "Male",
         36,
         52000,
         0
        ],
        [
         15591915,
         "Female",
         33,
         51000,
         0
        ],
        [
         15592570,
         "Male",
         47,
         23000,
         1
        ],
        [
         15592877,
         "Male",
         32,
         18000,
         0
        ],
        [
         15593014,
         "Male",
         28,
         59000,
         0
        ],
        [
         15593715,
         "Male",
         60,
         102000,
         1
        ],
        [
         15595135,
         "Female",
         23,
         66000,
         0
        ],
        [
         15595324,
         "Female",
         31,
         68000,
         0
        ],
        [
         15596522,
         "Male",
         49,
         89000,
         1
        ],
        [
         15596761,
         "Male",
         36,
         125000,
         1
        ],
        [
         15596984,
         "Female",
         46,
         74000,
         0
        ],
        [
         15598070,
         "Female",
         40,
         60000,
         0
        ],
        [
         15598840,
         "Female",
         32,
         135000,
         1
        ],
        [
         15599081,
         "Female",
         45,
         22000,
         1
        ],
        [
         15599533,
         "Female",
         37,
         33000,
         0
        ],
        [
         15600379,
         "Male",
         48,
         90000,
         1
        ],
        [
         15600575,
         "Male",
         25,
         33000,
         0
        ],
        [
         15602373,
         "Male",
         29,
         75000,
         0
        ],
        [
         15603246,
         "Female",
         27,
         57000,
         0
        ],
        [
         15603319,
         "Male",
         33,
         43000,
         0
        ],
        [
         15603942,
         "Female",
         51,
         134000,
         0
        ],
        [
         15605000,
         "Female",
         59,
         83000,
         0
        ],
        [
         15605327,
         "Male",
         40,
         47000,
         0
        ],
        [
         15606472,
         "Male",
         60,
         34000,
         1
        ],
        [
         15609637,
         "Female",
         41,
         72000,
         0
        ],
        [
         15609653,
         "Female",
         35,
         47000,
         0
        ],
        [
         15609669,
         "Female",
         59,
         88000,
         1
        ],
        [
         15610140,
         "Female",
         31,
         15000,
         0
        ],
        [
         15610403,
         "Female",
         28,
         59000,
         0
        ],
        [
         15610801,
         "Male",
         42,
         65000,
         0
        ],
        [
         15611430,
         "Female",
         60,
         46000,
         1
        ],
        [
         15612465,
         "Male",
         35,
         79000,
         0
        ],
        [
         15613014,
         "Female",
         52,
         38000,
         1
        ],
        [
         15614187,
         "Male",
         49,
         86000,
         1
        ],
        [
         15614420,
         "Female",
         23,
         28000,
         0
        ],
        [
         15614827,
         "Female",
         35,
         71000,
         0
        ],
        [
         15617134,
         "Male",
         35,
         59000,
         0
        ],
        [
         15617482,
         "Male",
         45,
         26000,
         1
        ],
        [
         15617877,
         "Female",
         46,
         82000,
         0
        ],
        [
         15619087,
         "Female",
         36,
         50000,
         0
        ],
        [
         15619407,
         "Female",
         38,
         112000,
         0
        ],
        [
         15619465,
         "Female",
         48,
         30000,
         1
        ],
        [
         15619653,
         "Male",
         38,
         61000,
         0
        ],
        [
         15621083,
         "Female",
         48,
         29000,
         1
        ],
        [
         15622171,
         "Male",
         37,
         53000,
         0
        ],
        [
         15622478,
         "Male",
         47,
         43000,
         0
        ],
        [
         15622585,
         "Male",
         39,
         96000,
         1
        ],
        [
         15622833,
         "Female",
         34,
         25000,
         0
        ],
        [
         15623502,
         "Male",
         36,
         60000,
         0
        ],
        [
         15624510,
         "Male",
         19,
         19000,
         0
        ],
        [
         15624755,
         "Female",
         54,
         26000,
         1
        ],
        [
         15625395,
         "Male",
         55,
         39000,
         1
        ],
        [
         15628523,
         "Male",
         35,
         39000,
         0
        ],
        [
         15628972,
         "Male",
         18,
         82000,
         0
        ],
        [
         15629739,
         "Female",
         47,
         51000,
         1
        ],
        [
         15629885,
         "Female",
         39,
         73000,
         0
        ],
        [
         15631070,
         "Female",
         37,
         62000,
         0
        ],
        [
         15631159,
         "Male",
         47,
         20000,
         1
        ],
        [
         15631912,
         "Female",
         28,
         85000,
         0
        ],
        [
         15633531,
         "Female",
         47,
         30000,
         1
        ],
        [
         15635893,
         "Male",
         60,
         42000,
         1
        ],
        [
         15636023,
         "Male",
         49,
         65000,
         0
        ],
        [
         15636428,
         "Female",
         30,
         116000,
         0
        ],
        [
         15638003,
         "Female",
         35,
         50000,
         0
        ],
        [
         15638646,
         "Male",
         48,
         141000,
         0
        ],
        [
         15638963,
         "Female",
         21,
         68000,
         0
        ],
        [
         15642885,
         "Male",
         22,
         18000,
         0
        ],
        [
         15644296,
         "Female",
         34,
         72000,
         0
        ],
        [
         15646091,
         "Female",
         46,
         32000,
         1
        ],
        [
         15646227,
         "Male",
         46,
         79000,
         1
        ],
        [
         15646936,
         "Male",
         53,
         72000,
         1
        ],
        [
         15649136,
         "Female",
         24,
         55000,
         0
        ],
        [
         15649487,
         "Male",
         45,
         22000,
         1
        ],
        [
         15649668,
         "Male",
         41,
         79000,
         0
        ],
        [
         15651983,
         "Male",
         34,
         112000,
         1
        ],
        [
         15652400,
         "Female",
         38,
         50000,
         0
        ],
        [
         15654296,
         "Female",
         50,
         20000,
         1
        ],
        [
         15654574,
         "Female",
         23,
         82000,
         0
        ],
        [
         15654901,
         "Female",
         27,
         58000,
         0
        ],
        [
         15655123,
         "Female",
         26,
         17000,
         0
        ],
        [
         15657163,
         "Male",
         35,
         58000,
         0
        ],
        [
         15660200,
         "Female",
         37,
         71000,
         0
        ],
        [
         15660541,
         "Male",
         40,
         57000,
         0
        ],
        [
         15660866,
         "Female",
         58,
         101000,
         1
        ],
        [
         15662067,
         "Female",
         19,
         26000,
         0
        ],
        [
         15662901,
         "Male",
         19,
         70000,
         0
        ],
        [
         15663161,
         "Male",
         35,
         91000,
         1
        ],
        [
         15663249,
         "Female",
         52,
         21000,
         1
        ],
        [
         15663939,
         "Female",
         31,
         118000,
         1
        ],
        [
         15664907,
         "Male",
         58,
         144000,
         1
        ],
        [
         15665416,
         "Female",
         39,
         71000,
         0
        ],
        [
         15665760,
         "Male",
         39,
         122000,
         1
        ],
        [
         15666141,
         "Female",
         18,
         68000,
         0
        ],
        [
         15666675,
         "Female",
         46,
         96000,
         0
        ],
        [
         15667265,
         "Female",
         28,
         87000,
         0
        ],
        [
         15667417,
         "Female",
         54,
         104000,
         1
        ],
        [
         15667742,
         "Male",
         34,
         43000,
         0
        ],
        [
         15668504,
         "Female",
         20,
         82000,
         0
        ],
        [
         15668521,
         "Female",
         48,
         35000,
         1
        ],
        [
         15668575,
         "Female",
         26,
         43000,
         0
        ],
        [
         15669656,
         "Male",
         31,
         18000,
         0
        ],
        [
         15670615,
         "Male",
         48,
         33000,
         1
        ],
        [
         15670619,
         "Male",
         25,
         90000,
         0
        ],
        [
         15671249,
         "Male",
         46,
         88000,
         1
        ],
        [
         15671655,
         "Female",
         35,
         23000,
         0
        ],
        [
         15671766,
         "Female",
         26,
         72000,
         0
        ],
        [
         15672091,
         "Female",
         19,
         21000,
         0
        ],
        [
         15672821,
         "Female",
         55,
         125000,
         1
        ],
        [
         15673367,
         "Female",
         31,
         34000,
         0
        ],
        [
         15673539,
         "Male",
         42,
         73000,
         1
        ],
        [
         15674206,
         "Male",
         35,
         72000,
         0
        ],
        [
         15674331,
         "Male",
         41,
         52000,
         0
        ],
        [
         15675791,
         "Male",
         45,
         79000,
         0
        ],
        [
         15675949,
         "Female",
         33,
         149000,
         1
        ],
        [
         15678168,
         "Female",
         41,
         51000,
         0
        ],
        [
         15678201,
         "Male",
         48,
         74000,
         1
        ],
        [
         15679297,
         "Male",
         35,
         75000,
         0
        ],
        [
         15679651,
         "Female",
         26,
         15000,
         0
        ],
        [
         15679760,
         "Male",
         24,
         19000,
         0
        ],
        [
         15680243,
         "Female",
         20,
         36000,
         0
        ],
        [
         15680587,
         "Male",
         36,
         144000,
         1
        ],
        [
         15680752,
         "Female",
         43,
         133000,
         0
        ],
        [
         15682268,
         "Male",
         35,
         50000,
         0
        ],
        [
         15684801,
         "Male",
         22,
         81000,
         0
        ],
        [
         15684861,
         "Male",
         35,
         55000,
         0
        ],
        [
         15685346,
         "Male",
         56,
         133000,
         1
        ],
        [
         15685536,
         "Male",
         35,
         61000,
         0
        ],
        [
         15685576,
         "Male",
         26,
         16000,
         0
        ],
        [
         15688172,
         "Female",
         59,
         76000,
         1
        ],
        [
         15689237,
         "Male",
         40,
         57000,
         0
        ],
        [
         15689425,
         "Male",
         30,
         49000,
         0
        ],
        [
         15689751,
         "Male",
         28,
         89000,
         0
        ],
        [
         15690188,
         "Female",
         33,
         28000,
         0
        ],
        [
         15691808,
         "Female",
         40,
         72000,
         0
        ],
        [
         15691863,
         "Female",
         46,
         41000,
         1
        ],
        [
         15692819,
         "Female",
         57,
         26000,
         1
        ],
        [
         15693264,
         "Male",
         38,
         51000,
         0
        ],
        [
         15694288,
         "Female",
         32,
         117000,
         1
        ],
        [
         15694395,
         "Female",
         24,
         32000,
         0
        ],
        [
         15694453,
         "Male",
         39,
         42000,
         0
        ],
        [
         15694829,
         "Female",
         32,
         150000,
         1
        ],
        [
         15694879,
         "Male",
         37,
         144000,
         1
        ],
        [
         15695679,
         "Female",
         41,
         60000,
         0
        ],
        [
         15697020,
         "Female",
         39,
         61000,
         0
        ],
        [
         15697424,
         "Female",
         46,
         22000,
         0
        ],
        [
         15697574,
         "Female",
         33,
         69000,
         0
        ],
        [
         15697686,
         "Male",
         29,
         80000,
         0
        ],
        [
         15697997,
         "Female",
         38,
         80000,
         0
        ],
        [
         15699284,
         "Female",
         29,
         28000,
         0
        ],
        [
         15699619,
         "Male",
         36,
         99000,
         1
        ],
        [
         15701537,
         "Male",
         42,
         149000,
         1
        ],
        [
         15701962,
         "Male",
         41,
         59000,
         0
        ],
        [
         15704583,
         "Male",
         46,
         28000,
         1
        ],
        [
         15704987,
         "Male",
         32,
         18000,
         0
        ],
        [
         15705113,
         "Male",
         46,
         23000,
         1
        ],
        [
         15706071,
         "Male",
         51,
         23000,
         1
        ],
        [
         15706185,
         "Female",
         26,
         35000,
         0
        ],
        [
         15707596,
         "Female",
         59,
         42000,
         0
        ],
        [
         15707634,
         "Male",
         49,
         28000,
         1
        ],
        [
         15708228,
         "Male",
         35,
         22000,
         0
        ],
        [
         15708791,
         "Male",
         59,
         130000,
         1
        ],
        [
         15709183,
         "Male",
         42,
         54000,
         0
        ],
        [
         15709441,
         "Female",
         35,
         44000,
         0
        ],
        [
         15709476,
         "Male",
         20,
         49000,
         0
        ],
        [
         15710257,
         "Female",
         35,
         25000,
         0
        ],
        [
         15711218,
         "Male",
         35,
         88000,
         0
        ],
        [
         15713144,
         "Male",
         35,
         27000,
         0
        ],
        [
         15713463,
         "Male",
         41,
         72000,
         0
        ],
        [
         15713912,
         "Female",
         37,
         78000,
         1
        ],
        [
         15714658,
         "Male",
         48,
         41000,
         1
        ],
        [
         15715160,
         "Male",
         28,
         32000,
         0
        ],
        [
         15715541,
         "Female",
         28,
         84000,
         0
        ],
        [
         15715622,
         "Female",
         44,
         139000,
         1
        ],
        [
         15716781,
         "Female",
         41,
         63000,
         0
        ],
        [
         15717893,
         "Female",
         42,
         70000,
         0
        ],
        [
         15718071,
         "Male",
         24,
         58000,
         0
        ],
        [
         15720745,
         "Female",
         37,
         137000,
         1
        ],
        [
         15720943,
         "Male",
         26,
         86000,
         0
        ],
        [
         15721007,
         "Female",
         42,
         80000,
         1
        ],
        [
         15721592,
         "Male",
         40,
         75000,
         0
        ],
        [
         15721835,
         "Male",
         38,
         61000,
         0
        ],
        [
         15722061,
         "Female",
         51,
         146000,
         1
        ],
        [
         15722758,
         "Male",
         30,
         17000,
         0
        ],
        [
         15723373,
         "Male",
         37,
         52000,
         0
        ],
        [
         15724150,
         "Female",
         49,
         39000,
         1
        ],
        [
         15724161,
         "Female",
         50,
         44000,
         0
        ],
        [
         15724402,
         "Female",
         20,
         82000,
         0
        ],
        [
         15724536,
         "Female",
         48,
         96000,
         1
        ],
        [
         15724858,
         "Male",
         27,
         90000,
         0
        ],
        [
         15725660,
         "Male",
         30,
         87000,
         0
        ],
        [
         15726358,
         "Female",
         24,
         27000,
         0
        ],
        [
         15727311,
         "Female",
         35,
         65000,
         0
        ],
        [
         15727696,
         "Male",
         30,
         135000,
         1
        ],
        [
         15729054,
         "Female",
         27,
         137000,
         1
        ],
        [
         15729908,
         "Male",
         47,
         105000,
         1
        ],
        [
         15730688,
         "Male",
         41,
         52000,
         0
        ],
        [
         15733883,
         "Male",
         47,
         25000,
         1
        ],
        [
         15733964,
         "Female",
         38,
         50000,
         0
        ],
        [
         15733973,
         "Female",
         47,
         113000,
         1
        ],
        [
         15734161,
         "Female",
         37,
         93000,
         1
        ],
        [
         15734312,
         "Male",
         38,
         71000,
         0
        ],
        [
         15735549,
         "Female",
         39,
         134000,
         1
        ],
        [
         15735878,
         "Male",
         52,
         150000,
         1
        ],
        [
         15736228,
         "Male",
         38,
         59000,
         0
        ],
        [
         15736397,
         "Female",
         58,
         38000,
         1
        ],
        [
         15736760,
         "Female",
         47,
         49000,
         1
        ],
        [
         15738448,
         "Female",
         30,
         79000,
         0
        ],
        [
         15739160,
         "Male",
         42,
         80000,
         0
        ],
        [
         15741049,
         "Male",
         37,
         72000,
         0
        ],
        [
         15741094,
         "Male",
         19,
         25000,
         0
        ],
        [
         15742204,
         "Male",
         45,
         32000,
         1
        ],
        [
         15744279,
         "Male",
         32,
         100000,
         1
        ],
        [
         15744529,
         "Male",
         29,
         43000,
         0
        ],
        [
         15744919,
         "Female",
         29,
         83000,
         0
        ],
        [
         15745083,
         "Male",
         26,
         80000,
         0
        ],
        [
         15746139,
         "Male",
         20,
         86000,
         0
        ],
        [
         15746203,
         "Female",
         47,
         144000,
         1
        ],
        [
         15747043,
         "Male",
         46,
         117000,
         1
        ],
        [
         15747097,
         "Female",
         39,
         79000,
         0
        ],
        [
         15748589,
         "Female",
         45,
         45000,
         1
        ],
        [
         15749381,
         "Female",
         58,
         23000,
         1
        ],
        [
         15750335,
         "Female",
         37,
         57000,
         0
        ],
        [
         15750447,
         "Male",
         37,
         70000,
         1
        ],
        [
         15750839,
         "Female",
         27,
         96000,
         1
        ],
        [
         15753102,
         "Female",
         35,
         97000,
         1
        ],
        [
         15753861,
         "Female",
         49,
         141000,
         1
        ],
        [
         15753874,
         "Female",
         37,
         80000,
         0
        ],
        [
         15755018,
         "Male",
         36,
         33000,
         0
        ],
        [
         15756820,
         "Female",
         28,
         37000,
         0
        ],
        [
         15756932,
         "Male",
         25,
         80000,
         0
        ],
        [
         15757632,
         "Female",
         39,
         59000,
         0
        ],
        [
         15757837,
         "Male",
         35,
         38000,
         0
        ],
        [
         15759684,
         "Female",
         50,
         36000,
         1
        ],
        [
         15761950,
         "Female",
         48,
         138000,
         1
        ],
        [
         15762228,
         "Female",
         22,
         55000,
         0
        ],
        [
         15762605,
         "Male",
         26,
         30000,
         0
        ],
        [
         15764195,
         "Female",
         18,
         44000,
         0
        ],
        [
         15764419,
         "Female",
         27,
         17000,
         0
        ],
        [
         15764604,
         "Male",
         49,
         88000,
         1
        ],
        [
         15766289,
         "Male",
         27,
         88000,
         0
        ],
        [
         15766609,
         "Female",
         47,
         47000,
         0
        ],
        [
         15767681,
         "Female",
         35,
         72000,
         0
        ],
        [
         15767871,
         "Male",
         20,
         74000,
         0
        ],
        [
         15768151,
         "Female",
         54,
         108000,
         1
        ],
        [
         15768293,
         "Female",
         42,
         79000,
         0
        ],
        [
         15768816,
         "Male",
         26,
         81000,
         0
        ],
        [
         15769596,
         "Female",
         56,
         104000,
         1
        ],
        [
         15769902,
         "Male",
         42,
         65000,
         0
        ],
        [
         15772073,
         "Female",
         53,
         143000,
         1
        ],
        [
         15772798,
         "Male",
         35,
         108000,
         0
        ],
        [
         15773447,
         "Male",
         37,
         55000,
         0
        ],
        [
         15774179,
         "Female",
         22,
         27000,
         0
        ],
        [
         15774727,
         "Female",
         31,
         71000,
         0
        ],
        [
         15774744,
         "Male",
         60,
         83000,
         1
        ],
        [
         15775335,
         "Male",
         56,
         60000,
         1
        ],
        [
         15775590,
         "Female",
         57,
         122000,
         1
        ],
        [
         15776348,
         "Female",
         27,
         54000,
         0
        ],
        [
         15776733,
         "Female",
         28,
         44000,
         0
        ],
        [
         15778368,
         "Male",
         54,
         70000,
         1
        ],
        [
         15778830,
         "Female",
         53,
         34000,
         1
        ],
        [
         15779529,
         "Female",
         60,
         108000,
         1
        ],
        [
         15779581,
         "Male",
         29,
         43000,
         0
        ],
        [
         15779744,
         "Male",
         38,
         71000,
         0
        ],
        [
         15779862,
         "Male",
         29,
         61000,
         0
        ],
        [
         15782530,
         "Female",
         33,
         113000,
         0
        ],
        [
         15782806,
         "Female",
         27,
         31000,
         0
        ],
        [
         15783029,
         "Male",
         30,
         89000,
         0
        ],
        [
         15785170,
         "Female",
         42,
         75000,
         0
        ],
        [
         15786993,
         "Female",
         29,
         83000,
         0
        ],
        [
         15787550,
         "Male",
         42,
         54000,
         0
        ],
        [
         15789109,
         "Female",
         32,
         117000,
         0
        ],
        [
         15789432,
         "Female",
         41,
         80000,
         0
        ],
        [
         15789815,
         "Male",
         29,
         148000,
         1
        ],
        [
         15789863,
         "Male",
         27,
         89000,
         0
        ],
        [
         15791174,
         "Male",
         46,
         59000,
         0
        ],
        [
         15791373,
         "Male",
         60,
         42000,
         1
        ],
        [
         15792008,
         "Male",
         30,
         15000,
         0
        ],
        [
         15792102,
         "Female",
         26,
         84000,
         0
        ],
        [
         15792818,
         "Male",
         49,
         28000,
         1
        ],
        [
         15793813,
         "Female",
         31,
         89000,
         0
        ],
        [
         15793890,
         "Female",
         37,
         80000,
         0
        ],
        [
         15794253,
         "Female",
         35,
         147000,
         1
        ],
        [
         15794493,
         "Male",
         40,
         57000,
         0
        ],
        [
         15794661,
         "Female",
         26,
         118000,
         0
        ],
        [
         15795224,
         "Female",
         36,
         126000,
         1
        ],
        [
         15795298,
         "Female",
         48,
         134000,
         1
        ],
        [
         15796351,
         "Male",
         36,
         118000,
         1
        ],
        [
         15798659,
         "Female",
         30,
         62000,
         0
        ],
        [
         15798850,
         "Male",
         25,
         79000,
         0
        ],
        [
         15800061,
         "Female",
         28,
         55000,
         0
        ],
        [
         15800515,
         "Female",
         38,
         113000,
         1
        ],
        [
         15800890,
         "Female",
         40,
         142000,
         1
        ],
        [
         15801247,
         "Male",
         33,
         31000,
         0
        ],
        [
         15801336,
         "Female",
         42,
         108000,
         1
        ],
        [
         15801658,
         "Male",
         21,
         72000,
         0
        ],
        [
         15806901,
         "Female",
         57,
         33000,
         1
        ],
        [
         15807481,
         "Male",
         28,
         79000,
         0
        ],
        [
         15807525,
         "Female",
         59,
         29000,
         1
        ],
        [
         15807837,
         "Male",
         48,
         33000,
         1
        ],
        [
         15807909,
         "Male",
         19,
         85000,
         0
        ],
        [
         15809347,
         "Female",
         41,
         71000,
         0
        ],
        [
         15809823,
         "Male",
         26,
         15000,
         0
        ],
        [
         15810075,
         "Female",
         44,
         39000,
         0
        ],
        [
         15810800,
         "Female",
         38,
         55000,
         0
        ],
        [
         15810944,
         "Male",
         35,
         20000,
         0
        ],
        [
         15811177,
         "Female",
         35,
         77000,
         0
        ],
        [
         15811613,
         "Female",
         36,
         75000,
         0
        ],
        [
         15813113,
         "Male",
         40,
         107000,
         1
        ],
        [
         15814553,
         "Male",
         57,
         60000,
         1
        ],
        [
         15814816,
         "Male",
         31,
         66000,
         0
        ],
        [
         15815236,
         "Female",
         45,
         131000,
         1
        ]
       ],
       "datasetInfos": [],
       "dbfsResultPath": null,
       "isJsonSchema": true,
       "metadata": {},
       "overflow": false,
       "plotOptions": {
        "customPlotOptions": {},
        "displayType": "table",
        "pivotAggregation": null,
        "pivotColumns": null,
        "xColumns": null,
        "yColumns": null
       },
       "removedWidgets": [],
       "schema": [
        {
         "metadata": "{}",
         "name": "User ID",
         "type": "\"integer\""
        },
        {
         "metadata": "{}",
         "name": "Genero",
         "type": "\"string\""
        },
        {
         "metadata": "{}",
         "name": "Edad",
         "type": "\"integer\""
        },
        {
         "metadata": "{}",
         "name": "Salario",
         "type": "\"integer\""
        },
        {
         "metadata": "{}",
         "name": "Compra",
         "type": "\"integer\""
        }
       ],
       "type": "table"
      }
     },
     "output_type": "display_data"
    }
   ],
   "source": [
    "display(trainDF)"
   ]
  },
  {
   "cell_type": "code",
   "execution_count": 0,
   "metadata": {
    "application/vnd.databricks.v1+cell": {
     "cellMetadata": {
      "byteLimit": 2048000,
      "rowLimit": 10000
     },
     "inputWidgets": {},
     "nuid": "ffcf02be-5963-44af-a0f2-cd1cd99af21f",
     "showTitle": false,
     "title": ""
    }
   },
   "outputs": [
    {
     "output_type": "display_data",
     "data": {
      "text/html": [
       "<style scoped>\n",
       "  .table-result-container {\n",
       "    max-height: 300px;\n",
       "    overflow: auto;\n",
       "  }\n",
       "  table, th, td {\n",
       "    border: 1px solid black;\n",
       "    border-collapse: collapse;\n",
       "  }\n",
       "  th, td {\n",
       "    padding: 5px;\n",
       "  }\n",
       "  th {\n",
       "    text-align: left;\n",
       "  }\n",
       "</style><div class='table-result-container'><table class='table-result'><thead style='background-color: white'><tr><th>Genero</th><th>count</th></tr></thead><tbody><tr><td>Female</td><td>174</td></tr><tr><td>Male</td><td>168</td></tr></tbody></table></div>"
      ]
     },
     "metadata": {
      "application/vnd.databricks.v1+output": {
       "addedWidgets": {},
       "aggData": [],
       "aggError": "",
       "aggOverflow": false,
       "aggSchema": [],
       "aggSeriesLimitReached": false,
       "aggType": "",
       "arguments": {},
       "columnCustomDisplayInfos": {},
       "data": [
        [
         "Female",
         174
        ],
        [
         "Male",
         168
        ]
       ],
       "datasetInfos": [],
       "dbfsResultPath": null,
       "isJsonSchema": true,
       "metadata": {},
       "overflow": false,
       "plotOptions": {
        "customPlotOptions": {},
        "displayType": "table",
        "pivotAggregation": null,
        "pivotColumns": null,
        "xColumns": null,
        "yColumns": null
       },
       "removedWidgets": [],
       "schema": [
        {
         "metadata": "{}",
         "name": "Genero",
         "type": "\"string\""
        },
        {
         "metadata": "{}",
         "name": "count",
         "type": "\"long\""
        }
       ],
       "type": "table"
      }
     },
     "output_type": "display_data"
    }
   ],
   "source": [
    "display(trainDF\n",
    "        .groupBy(\"Genero\")\n",
    "        .count()\n",
    "        .sort(\"count\", ascending=False))"
   ]
  },
  {
   "cell_type": "markdown",
   "metadata": {
    "application/vnd.databricks.v1+cell": {
     "cellMetadata": {},
     "inputWidgets": {},
     "nuid": "d891427d-7f76-4d24-b53f-b8e344b32572",
     "showTitle": false,
     "title": ""
    }
   },
   "source": [
    "## Transformadores, estimadores y tuberías\n",
    "\n",
    "Tres conceptos importantes en el aprendizaje automático de MLlib que se ilustran en este notebook son **Transformers**, **estimadores** y **Pipelines**.\n",
    "\n",
    "- **Transformer**: Toma un DataFrame como entrada y devuelve un nuevo DataFrame. Los transformadores no aprenden ningún parámetro de los datos y simplemente aplican transformaciones basadas en reglas para preparar los datos para el entrenamiento del modelo o generar predicciones usando un modelo MLlib entrenado. Llamas a un transformador con un método `.transform ()`.\n",
    "\n",
    "- **Estimador**: aprende los parámetros del DataFrame a través de un método `.fit ()` y devuelve un modelo, que es un transformador.\n",
    "\n",
    "- **Pipeline**: combina varios pasos en un solo flujo de trabajo que se puede ejecutar fácilmente. La creación de un modelo de aprendizaje automático generalmente implica configurar muchos pasos diferentes e iterar sobre ellos. Los pipelines  ayudan a automatizar este proceso."
   ]
  },
  {
   "cell_type": "markdown",
   "metadata": {
    "application/vnd.databricks.v1+cell": {
     "cellMetadata": {},
     "inputWidgets": {},
     "nuid": "d383b703-4151-42f2-aa03-30d8865672da",
     "showTitle": false,
     "title": ""
    }
   },
   "source": [
    "## Convertimos la variable categorica en numerica"
   ]
  },
  {
   "cell_type": "code",
   "execution_count": 0,
   "metadata": {
    "application/vnd.databricks.v1+cell": {
     "cellMetadata": {
      "byteLimit": 2048000,
      "rowLimit": 10000
     },
     "inputWidgets": {},
     "nuid": "a9158372-0f24-444c-bb97-9cecc66ba2d8",
     "showTitle": false,
     "title": ""
    }
   },
   "outputs": [
    {
     "output_type": "stream",
     "name": "stdout",
     "output_type": "stream",
     "text": [
      "Out[12]: ['User ID', 'Genero', 'Edad', 'Salario', 'Compra']"
     ]
    }
   ],
   "source": [
    "df.columns"
   ]
  },
  {
   "cell_type": "code",
   "execution_count": 0,
   "metadata": {
    "application/vnd.databricks.v1+cell": {
     "cellMetadata": {
      "byteLimit": 2048000,
      "rowLimit": 10000
     },
     "inputWidgets": {},
     "nuid": "043ba60d-357d-4fed-8cc4-f0272930c29a",
     "showTitle": false,
     "title": ""
    }
   },
   "outputs": [],
   "source": [
    "from pyspark.ml.feature import StringIndexer, OneHotEncoder\n",
    "\n",
    "categoricalCols = [\"Genero\"]\n",
    "\n",
    "# The following two lines are estimators. They return functions that we will later apply to transform the dataset.\n",
    "stringIndexer = StringIndexer(inputCols=categoricalCols, outputCols=[x + \"Index\" for x in categoricalCols]) \n",
    "encoder = OneHotEncoder(inputCols=stringIndexer.getOutputCols(), outputCols=[x + \"OHE\" for x in categoricalCols]) \n"
   ]
  },
  {
   "cell_type": "code",
   "execution_count": 0,
   "metadata": {
    "application/vnd.databricks.v1+cell": {
     "cellMetadata": {
      "byteLimit": 2048000,
      "rowLimit": 10000
     },
     "inputWidgets": {},
     "nuid": "2dd07915-ee5d-4e00-afa5-c65eff1c1973",
     "showTitle": false,
     "title": ""
    }
   },
   "outputs": [
    {
     "output_type": "display_data",
     "data": {
      "text/html": [
       "<style scoped>\n",
       "  .table-result-container {\n",
       "    max-height: 300px;\n",
       "    overflow: auto;\n",
       "  }\n",
       "  table, th, td {\n",
       "    border: 1px solid black;\n",
       "    border-collapse: collapse;\n",
       "  }\n",
       "  th, td {\n",
       "    padding: 5px;\n",
       "  }\n",
       "  th {\n",
       "    text-align: left;\n",
       "  }\n",
       "</style><div class='table-result-container'><table class='table-result'><thead style='background-color: white'><tr><th>User ID</th><th>Genero</th><th>Edad</th><th>Salario</th><th>Compra</th><th>GeneroIndex</th></tr></thead><tbody><tr><td>15566689</td><td>Female</td><td>35</td><td>57000</td><td>0</td><td>0.0</td></tr><tr><td>15569641</td><td>Female</td><td>58</td><td>95000</td><td>1</td><td>0.0</td></tr><tr><td>15570932</td><td>Male</td><td>34</td><td>115000</td><td>0</td><td>1.0</td></tr><tr><td>15571059</td><td>Female</td><td>33</td><td>41000</td><td>0</td><td>0.0</td></tr><tr><td>15573452</td><td>Female</td><td>21</td><td>16000</td><td>0</td><td>0.0</td></tr><tr><td>15574305</td><td>Male</td><td>35</td><td>53000</td><td>0</td><td>1.0</td></tr><tr><td>15575002</td><td>Female</td><td>35</td><td>60000</td><td>0</td><td>0.0</td></tr><tr><td>15575247</td><td>Female</td><td>48</td><td>131000</td><td>1</td><td>0.0</td></tr><tr><td>15575694</td><td>Male</td><td>35</td><td>73000</td><td>0</td><td>1.0</td></tr><tr><td>15576219</td><td>Male</td><td>41</td><td>45000</td><td>0</td><td>1.0</td></tr><tr><td>15577514</td><td>Male</td><td>43</td><td>129000</td><td>1</td><td>1.0</td></tr><tr><td>15577806</td><td>Male</td><td>41</td><td>87000</td><td>1</td><td>1.0</td></tr><tr><td>15578006</td><td>Male</td><td>23</td><td>63000</td><td>0</td><td>1.0</td></tr><tr><td>15578738</td><td>Female</td><td>18</td><td>86000</td><td>0</td><td>0.0</td></tr><tr><td>15579212</td><td>Male</td><td>39</td><td>77000</td><td>0</td><td>1.0</td></tr><tr><td>15581198</td><td>Male</td><td>31</td><td>74000</td><td>0</td><td>1.0</td></tr><tr><td>15581282</td><td>Male</td><td>37</td><td>74000</td><td>0</td><td>1.0</td></tr><tr><td>15581654</td><td>Female</td><td>34</td><td>43000</td><td>0</td><td>0.0</td></tr><tr><td>15582492</td><td>Male</td><td>28</td><td>123000</td><td>1</td><td>1.0</td></tr><tr><td>15583137</td><td>Male</td><td>40</td><td>61000</td><td>0</td><td>1.0</td></tr><tr><td>15583681</td><td>Male</td><td>32</td><td>120000</td><td>1</td><td>1.0</td></tr><tr><td>15584114</td><td>Male</td><td>24</td><td>23000</td><td>0</td><td>1.0</td></tr><tr><td>15584320</td><td>Female</td><td>37</td><td>146000</td><td>1</td><td>0.0</td></tr><tr><td>15586757</td><td>Male</td><td>39</td><td>134000</td><td>1</td><td>1.0</td></tr><tr><td>15586996</td><td>Female</td><td>41</td><td>72000</td><td>0</td><td>0.0</td></tr><tr><td>15587013</td><td>Male</td><td>21</td><td>88000</td><td>0</td><td>1.0</td></tr><tr><td>15587177</td><td>Male</td><td>40</td><td>65000</td><td>0</td><td>1.0</td></tr><tr><td>15587419</td><td>Female</td><td>42</td><td>90000</td><td>1</td><td>0.0</td></tr><tr><td>15589449</td><td>Male</td><td>39</td><td>106000</td><td>1</td><td>1.0</td></tr><tr><td>15589715</td><td>Female</td><td>48</td><td>119000</td><td>1</td><td>0.0</td></tr><tr><td>15591279</td><td>Male</td><td>37</td><td>75000</td><td>0</td><td>1.0</td></tr><tr><td>15591433</td><td>Male</td><td>36</td><td>52000</td><td>0</td><td>1.0</td></tr><tr><td>15591915</td><td>Female</td><td>33</td><td>51000</td><td>0</td><td>0.0</td></tr><tr><td>15592570</td><td>Male</td><td>47</td><td>23000</td><td>1</td><td>1.0</td></tr><tr><td>15592877</td><td>Male</td><td>32</td><td>18000</td><td>0</td><td>1.0</td></tr><tr><td>15593014</td><td>Male</td><td>28</td><td>59000</td><td>0</td><td>1.0</td></tr><tr><td>15593715</td><td>Male</td><td>60</td><td>102000</td><td>1</td><td>1.0</td></tr><tr><td>15595135</td><td>Female</td><td>23</td><td>66000</td><td>0</td><td>0.0</td></tr><tr><td>15595324</td><td>Female</td><td>31</td><td>68000</td><td>0</td><td>0.0</td></tr><tr><td>15596522</td><td>Male</td><td>49</td><td>89000</td><td>1</td><td>1.0</td></tr><tr><td>15596761</td><td>Male</td><td>36</td><td>125000</td><td>1</td><td>1.0</td></tr><tr><td>15596984</td><td>Female</td><td>46</td><td>74000</td><td>0</td><td>0.0</td></tr><tr><td>15598070</td><td>Female</td><td>40</td><td>60000</td><td>0</td><td>0.0</td></tr><tr><td>15598840</td><td>Female</td><td>32</td><td>135000</td><td>1</td><td>0.0</td></tr><tr><td>15599081</td><td>Female</td><td>45</td><td>22000</td><td>1</td><td>0.0</td></tr><tr><td>15599533</td><td>Female</td><td>37</td><td>33000</td><td>0</td><td>0.0</td></tr><tr><td>15600379</td><td>Male</td><td>48</td><td>90000</td><td>1</td><td>1.0</td></tr><tr><td>15600575</td><td>Male</td><td>25</td><td>33000</td><td>0</td><td>1.0</td></tr><tr><td>15602373</td><td>Male</td><td>29</td><td>75000</td><td>0</td><td>1.0</td></tr><tr><td>15603246</td><td>Female</td><td>27</td><td>57000</td><td>0</td><td>0.0</td></tr><tr><td>15603319</td><td>Male</td><td>33</td><td>43000</td><td>0</td><td>1.0</td></tr><tr><td>15603942</td><td>Female</td><td>51</td><td>134000</td><td>0</td><td>0.0</td></tr><tr><td>15605000</td><td>Female</td><td>59</td><td>83000</td><td>0</td><td>0.0</td></tr><tr><td>15605327</td><td>Male</td><td>40</td><td>47000</td><td>0</td><td>1.0</td></tr><tr><td>15606472</td><td>Male</td><td>60</td><td>34000</td><td>1</td><td>1.0</td></tr><tr><td>15609637</td><td>Female</td><td>41</td><td>72000</td><td>0</td><td>0.0</td></tr><tr><td>15609653</td><td>Female</td><td>35</td><td>47000</td><td>0</td><td>0.0</td></tr><tr><td>15609669</td><td>Female</td><td>59</td><td>88000</td><td>1</td><td>0.0</td></tr><tr><td>15610140</td><td>Female</td><td>31</td><td>15000</td><td>0</td><td>0.0</td></tr><tr><td>15610403</td><td>Female</td><td>28</td><td>59000</td><td>0</td><td>0.0</td></tr><tr><td>15610801</td><td>Male</td><td>42</td><td>65000</td><td>0</td><td>1.0</td></tr><tr><td>15611430</td><td>Female</td><td>60</td><td>46000</td><td>1</td><td>0.0</td></tr><tr><td>15612465</td><td>Male</td><td>35</td><td>79000</td><td>0</td><td>1.0</td></tr><tr><td>15613014</td><td>Female</td><td>52</td><td>38000</td><td>1</td><td>0.0</td></tr><tr><td>15614187</td><td>Male</td><td>49</td><td>86000</td><td>1</td><td>1.0</td></tr><tr><td>15614420</td><td>Female</td><td>23</td><td>28000</td><td>0</td><td>0.0</td></tr><tr><td>15614827</td><td>Female</td><td>35</td><td>71000</td><td>0</td><td>0.0</td></tr><tr><td>15617134</td><td>Male</td><td>35</td><td>59000</td><td>0</td><td>1.0</td></tr><tr><td>15617482</td><td>Male</td><td>45</td><td>26000</td><td>1</td><td>1.0</td></tr><tr><td>15617877</td><td>Female</td><td>46</td><td>82000</td><td>0</td><td>0.0</td></tr><tr><td>15619087</td><td>Female</td><td>36</td><td>50000</td><td>0</td><td>0.0</td></tr><tr><td>15619407</td><td>Female</td><td>38</td><td>112000</td><td>0</td><td>0.0</td></tr><tr><td>15619465</td><td>Female</td><td>48</td><td>30000</td><td>1</td><td>0.0</td></tr><tr><td>15619653</td><td>Male</td><td>38</td><td>61000</td><td>0</td><td>1.0</td></tr><tr><td>15621083</td><td>Female</td><td>48</td><td>29000</td><td>1</td><td>0.0</td></tr><tr><td>15622171</td><td>Male</td><td>37</td><td>53000</td><td>0</td><td>1.0</td></tr><tr><td>15622478</td><td>Male</td><td>47</td><td>43000</td><td>0</td><td>1.0</td></tr><tr><td>15622585</td><td>Male</td><td>39</td><td>96000</td><td>1</td><td>1.0</td></tr><tr><td>15622833</td><td>Female</td><td>34</td><td>25000</td><td>0</td><td>0.0</td></tr><tr><td>15623502</td><td>Male</td><td>36</td><td>60000</td><td>0</td><td>1.0</td></tr><tr><td>15624510</td><td>Male</td><td>19</td><td>19000</td><td>0</td><td>1.0</td></tr><tr><td>15624755</td><td>Female</td><td>54</td><td>26000</td><td>1</td><td>0.0</td></tr><tr><td>15625395</td><td>Male</td><td>55</td><td>39000</td><td>1</td><td>1.0</td></tr><tr><td>15628523</td><td>Male</td><td>35</td><td>39000</td><td>0</td><td>1.0</td></tr><tr><td>15628972</td><td>Male</td><td>18</td><td>82000</td><td>0</td><td>1.0</td></tr><tr><td>15629739</td><td>Female</td><td>47</td><td>51000</td><td>1</td><td>0.0</td></tr><tr><td>15629885</td><td>Female</td><td>39</td><td>73000</td><td>0</td><td>0.0</td></tr><tr><td>15631070</td><td>Female</td><td>37</td><td>62000</td><td>0</td><td>0.0</td></tr><tr><td>15631159</td><td>Male</td><td>47</td><td>20000</td><td>1</td><td>1.0</td></tr><tr><td>15631912</td><td>Female</td><td>28</td><td>85000</td><td>0</td><td>0.0</td></tr><tr><td>15633531</td><td>Female</td><td>47</td><td>30000</td><td>1</td><td>0.0</td></tr><tr><td>15635893</td><td>Male</td><td>60</td><td>42000</td><td>1</td><td>1.0</td></tr><tr><td>15636023</td><td>Male</td><td>49</td><td>65000</td><td>0</td><td>1.0</td></tr><tr><td>15636428</td><td>Female</td><td>30</td><td>116000</td><td>0</td><td>0.0</td></tr><tr><td>15638003</td><td>Female</td><td>35</td><td>50000</td><td>0</td><td>0.0</td></tr><tr><td>15638646</td><td>Male</td><td>48</td><td>141000</td><td>0</td><td>1.0</td></tr><tr><td>15638963</td><td>Female</td><td>21</td><td>68000</td><td>0</td><td>0.0</td></tr><tr><td>15642885</td><td>Male</td><td>22</td><td>18000</td><td>0</td><td>1.0</td></tr><tr><td>15644296</td><td>Female</td><td>34</td><td>72000</td><td>0</td><td>0.0</td></tr><tr><td>15646091</td><td>Female</td><td>46</td><td>32000</td><td>1</td><td>0.0</td></tr><tr><td>15646227</td><td>Male</td><td>46</td><td>79000</td><td>1</td><td>1.0</td></tr><tr><td>15646936</td><td>Male</td><td>53</td><td>72000</td><td>1</td><td>1.0</td></tr><tr><td>15649136</td><td>Female</td><td>24</td><td>55000</td><td>0</td><td>0.0</td></tr><tr><td>15649487</td><td>Male</td><td>45</td><td>22000</td><td>1</td><td>1.0</td></tr><tr><td>15649668</td><td>Male</td><td>41</td><td>79000</td><td>0</td><td>1.0</td></tr><tr><td>15651983</td><td>Male</td><td>34</td><td>112000</td><td>1</td><td>1.0</td></tr><tr><td>15652400</td><td>Female</td><td>38</td><td>50000</td><td>0</td><td>0.0</td></tr><tr><td>15654296</td><td>Female</td><td>50</td><td>20000</td><td>1</td><td>0.0</td></tr><tr><td>15654574</td><td>Female</td><td>23</td><td>82000</td><td>0</td><td>0.0</td></tr><tr><td>15654901</td><td>Female</td><td>27</td><td>58000</td><td>0</td><td>0.0</td></tr><tr><td>15655123</td><td>Female</td><td>26</td><td>17000</td><td>0</td><td>0.0</td></tr><tr><td>15657163</td><td>Male</td><td>35</td><td>58000</td><td>0</td><td>1.0</td></tr><tr><td>15660200</td><td>Female</td><td>37</td><td>71000</td><td>0</td><td>0.0</td></tr><tr><td>15660541</td><td>Male</td><td>40</td><td>57000</td><td>0</td><td>1.0</td></tr><tr><td>15660866</td><td>Female</td><td>58</td><td>101000</td><td>1</td><td>0.0</td></tr><tr><td>15662067</td><td>Female</td><td>19</td><td>26000</td><td>0</td><td>0.0</td></tr><tr><td>15662901</td><td>Male</td><td>19</td><td>70000</td><td>0</td><td>1.0</td></tr><tr><td>15663161</td><td>Male</td><td>35</td><td>91000</td><td>1</td><td>1.0</td></tr><tr><td>15663249</td><td>Female</td><td>52</td><td>21000</td><td>1</td><td>0.0</td></tr><tr><td>15663939</td><td>Female</td><td>31</td><td>118000</td><td>1</td><td>0.0</td></tr><tr><td>15664907</td><td>Male</td><td>58</td><td>144000</td><td>1</td><td>1.0</td></tr><tr><td>15665416</td><td>Female</td><td>39</td><td>71000</td><td>0</td><td>0.0</td></tr><tr><td>15665760</td><td>Male</td><td>39</td><td>122000</td><td>1</td><td>1.0</td></tr><tr><td>15666141</td><td>Female</td><td>18</td><td>68000</td><td>0</td><td>0.0</td></tr><tr><td>15666675</td><td>Female</td><td>46</td><td>96000</td><td>0</td><td>0.0</td></tr><tr><td>15667265</td><td>Female</td><td>28</td><td>87000</td><td>0</td><td>0.0</td></tr><tr><td>15667417</td><td>Female</td><td>54</td><td>104000</td><td>1</td><td>0.0</td></tr><tr><td>15667742</td><td>Male</td><td>34</td><td>43000</td><td>0</td><td>1.0</td></tr><tr><td>15668504</td><td>Female</td><td>20</td><td>82000</td><td>0</td><td>0.0</td></tr><tr><td>15668521</td><td>Female</td><td>48</td><td>35000</td><td>1</td><td>0.0</td></tr><tr><td>15668575</td><td>Female</td><td>26</td><td>43000</td><td>0</td><td>0.0</td></tr><tr><td>15669656</td><td>Male</td><td>31</td><td>18000</td><td>0</td><td>1.0</td></tr><tr><td>15670615</td><td>Male</td><td>48</td><td>33000</td><td>1</td><td>1.0</td></tr><tr><td>15670619</td><td>Male</td><td>25</td><td>90000</td><td>0</td><td>1.0</td></tr><tr><td>15671249</td><td>Male</td><td>46</td><td>88000</td><td>1</td><td>1.0</td></tr><tr><td>15671655</td><td>Female</td><td>35</td><td>23000</td><td>0</td><td>0.0</td></tr><tr><td>15671766</td><td>Female</td><td>26</td><td>72000</td><td>0</td><td>0.0</td></tr><tr><td>15672091</td><td>Female</td><td>19</td><td>21000</td><td>0</td><td>0.0</td></tr><tr><td>15672821</td><td>Female</td><td>55</td><td>125000</td><td>1</td><td>0.0</td></tr><tr><td>15673367</td><td>Female</td><td>31</td><td>34000</td><td>0</td><td>0.0</td></tr><tr><td>15673539</td><td>Male</td><td>42</td><td>73000</td><td>1</td><td>1.0</td></tr><tr><td>15674206</td><td>Male</td><td>35</td><td>72000</td><td>0</td><td>1.0</td></tr><tr><td>15674331</td><td>Male</td><td>41</td><td>52000</td><td>0</td><td>1.0</td></tr><tr><td>15675791</td><td>Male</td><td>45</td><td>79000</td><td>0</td><td>1.0</td></tr><tr><td>15675949</td><td>Female</td><td>33</td><td>149000</td><td>1</td><td>0.0</td></tr><tr><td>15678168</td><td>Female</td><td>41</td><td>51000</td><td>0</td><td>0.0</td></tr><tr><td>15678201</td><td>Male</td><td>48</td><td>74000</td><td>1</td><td>1.0</td></tr><tr><td>15679297</td><td>Male</td><td>35</td><td>75000</td><td>0</td><td>1.0</td></tr><tr><td>15679651</td><td>Female</td><td>26</td><td>15000</td><td>0</td><td>0.0</td></tr><tr><td>15679760</td><td>Male</td><td>24</td><td>19000</td><td>0</td><td>1.0</td></tr><tr><td>15680243</td><td>Female</td><td>20</td><td>36000</td><td>0</td><td>0.0</td></tr><tr><td>15680587</td><td>Male</td><td>36</td><td>144000</td><td>1</td><td>1.0</td></tr><tr><td>15680752</td><td>Female</td><td>43</td><td>133000</td><td>0</td><td>0.0</td></tr><tr><td>15682268</td><td>Male</td><td>35</td><td>50000</td><td>0</td><td>1.0</td></tr><tr><td>15684801</td><td>Male</td><td>22</td><td>81000</td><td>0</td><td>1.0</td></tr><tr><td>15684861</td><td>Male</td><td>35</td><td>55000</td><td>0</td><td>1.0</td></tr><tr><td>15685346</td><td>Male</td><td>56</td><td>133000</td><td>1</td><td>1.0</td></tr><tr><td>15685536</td><td>Male</td><td>35</td><td>61000</td><td>0</td><td>1.0</td></tr><tr><td>15685576</td><td>Male</td><td>26</td><td>16000</td><td>0</td><td>1.0</td></tr><tr><td>15688172</td><td>Female</td><td>59</td><td>76000</td><td>1</td><td>0.0</td></tr><tr><td>15689237</td><td>Male</td><td>40</td><td>57000</td><td>0</td><td>1.0</td></tr><tr><td>15689425</td><td>Male</td><td>30</td><td>49000</td><td>0</td><td>1.0</td></tr><tr><td>15689751</td><td>Male</td><td>28</td><td>89000</td><td>0</td><td>1.0</td></tr><tr><td>15690188</td><td>Female</td><td>33</td><td>28000</td><td>0</td><td>0.0</td></tr><tr><td>15691808</td><td>Female</td><td>40</td><td>72000</td><td>0</td><td>0.0</td></tr><tr><td>15691863</td><td>Female</td><td>46</td><td>41000</td><td>1</td><td>0.0</td></tr><tr><td>15692819</td><td>Female</td><td>57</td><td>26000</td><td>1</td><td>0.0</td></tr><tr><td>15693264</td><td>Male</td><td>38</td><td>51000</td><td>0</td><td>1.0</td></tr><tr><td>15694288</td><td>Female</td><td>32</td><td>117000</td><td>1</td><td>0.0</td></tr><tr><td>15694395</td><td>Female</td><td>24</td><td>32000</td><td>0</td><td>0.0</td></tr><tr><td>15694453</td><td>Male</td><td>39</td><td>42000</td><td>0</td><td>1.0</td></tr><tr><td>15694829</td><td>Female</td><td>32</td><td>150000</td><td>1</td><td>0.0</td></tr><tr><td>15694879</td><td>Male</td><td>37</td><td>144000</td><td>1</td><td>1.0</td></tr><tr><td>15695679</td><td>Female</td><td>41</td><td>60000</td><td>0</td><td>0.0</td></tr><tr><td>15697020</td><td>Female</td><td>39</td><td>61000</td><td>0</td><td>0.0</td></tr><tr><td>15697424</td><td>Female</td><td>46</td><td>22000</td><td>0</td><td>0.0</td></tr><tr><td>15697574</td><td>Female</td><td>33</td><td>69000</td><td>0</td><td>0.0</td></tr><tr><td>15697686</td><td>Male</td><td>29</td><td>80000</td><td>0</td><td>1.0</td></tr><tr><td>15697997</td><td>Female</td><td>38</td><td>80000</td><td>0</td><td>0.0</td></tr><tr><td>15699284</td><td>Female</td><td>29</td><td>28000</td><td>0</td><td>0.0</td></tr><tr><td>15699619</td><td>Male</td><td>36</td><td>99000</td><td>1</td><td>1.0</td></tr><tr><td>15701537</td><td>Male</td><td>42</td><td>149000</td><td>1</td><td>1.0</td></tr><tr><td>15701962</td><td>Male</td><td>41</td><td>59000</td><td>0</td><td>1.0</td></tr><tr><td>15704583</td><td>Male</td><td>46</td><td>28000</td><td>1</td><td>1.0</td></tr><tr><td>15704987</td><td>Male</td><td>32</td><td>18000</td><td>0</td><td>1.0</td></tr><tr><td>15705113</td><td>Male</td><td>46</td><td>23000</td><td>1</td><td>1.0</td></tr><tr><td>15706071</td><td>Male</td><td>51</td><td>23000</td><td>1</td><td>1.0</td></tr><tr><td>15706185</td><td>Female</td><td>26</td><td>35000</td><td>0</td><td>0.0</td></tr><tr><td>15707596</td><td>Female</td><td>59</td><td>42000</td><td>0</td><td>0.0</td></tr><tr><td>15707634</td><td>Male</td><td>49</td><td>28000</td><td>1</td><td>1.0</td></tr><tr><td>15708228</td><td>Male</td><td>35</td><td>22000</td><td>0</td><td>1.0</td></tr><tr><td>15708791</td><td>Male</td><td>59</td><td>130000</td><td>1</td><td>1.0</td></tr><tr><td>15709183</td><td>Male</td><td>42</td><td>54000</td><td>0</td><td>1.0</td></tr><tr><td>15709441</td><td>Female</td><td>35</td><td>44000</td><td>0</td><td>0.0</td></tr><tr><td>15709476</td><td>Male</td><td>20</td><td>49000</td><td>0</td><td>1.0</td></tr><tr><td>15710257</td><td>Female</td><td>35</td><td>25000</td><td>0</td><td>0.0</td></tr><tr><td>15711218</td><td>Male</td><td>35</td><td>88000</td><td>0</td><td>1.0</td></tr><tr><td>15713144</td><td>Male</td><td>35</td><td>27000</td><td>0</td><td>1.0</td></tr><tr><td>15713463</td><td>Male</td><td>41</td><td>72000</td><td>0</td><td>1.0</td></tr><tr><td>15713912</td><td>Female</td><td>37</td><td>78000</td><td>1</td><td>0.0</td></tr><tr><td>15714658</td><td>Male</td><td>48</td><td>41000</td><td>1</td><td>1.0</td></tr><tr><td>15715160</td><td>Male</td><td>28</td><td>32000</td><td>0</td><td>1.0</td></tr><tr><td>15715541</td><td>Female</td><td>28</td><td>84000</td><td>0</td><td>0.0</td></tr><tr><td>15715622</td><td>Female</td><td>44</td><td>139000</td><td>1</td><td>0.0</td></tr><tr><td>15716781</td><td>Female</td><td>41</td><td>63000</td><td>0</td><td>0.0</td></tr><tr><td>15717893</td><td>Female</td><td>42</td><td>70000</td><td>0</td><td>0.0</td></tr><tr><td>15718071</td><td>Male</td><td>24</td><td>58000</td><td>0</td><td>1.0</td></tr><tr><td>15720745</td><td>Female</td><td>37</td><td>137000</td><td>1</td><td>0.0</td></tr><tr><td>15720943</td><td>Male</td><td>26</td><td>86000</td><td>0</td><td>1.0</td></tr><tr><td>15721007</td><td>Female</td><td>42</td><td>80000</td><td>1</td><td>0.0</td></tr><tr><td>15721592</td><td>Male</td><td>40</td><td>75000</td><td>0</td><td>1.0</td></tr><tr><td>15721835</td><td>Male</td><td>38</td><td>61000</td><td>0</td><td>1.0</td></tr><tr><td>15722061</td><td>Female</td><td>51</td><td>146000</td><td>1</td><td>0.0</td></tr><tr><td>15722758</td><td>Male</td><td>30</td><td>17000</td><td>0</td><td>1.0</td></tr><tr><td>15723373</td><td>Male</td><td>37</td><td>52000</td><td>0</td><td>1.0</td></tr><tr><td>15724150</td><td>Female</td><td>49</td><td>39000</td><td>1</td><td>0.0</td></tr><tr><td>15724161</td><td>Female</td><td>50</td><td>44000</td><td>0</td><td>0.0</td></tr><tr><td>15724402</td><td>Female</td><td>20</td><td>82000</td><td>0</td><td>0.0</td></tr><tr><td>15724536</td><td>Female</td><td>48</td><td>96000</td><td>1</td><td>0.0</td></tr><tr><td>15724858</td><td>Male</td><td>27</td><td>90000</td><td>0</td><td>1.0</td></tr><tr><td>15725660</td><td>Male</td><td>30</td><td>87000</td><td>0</td><td>1.0</td></tr><tr><td>15726358</td><td>Female</td><td>24</td><td>27000</td><td>0</td><td>0.0</td></tr><tr><td>15727311</td><td>Female</td><td>35</td><td>65000</td><td>0</td><td>0.0</td></tr><tr><td>15727696</td><td>Male</td><td>30</td><td>135000</td><td>1</td><td>1.0</td></tr><tr><td>15729054</td><td>Female</td><td>27</td><td>137000</td><td>1</td><td>0.0</td></tr><tr><td>15729908</td><td>Male</td><td>47</td><td>105000</td><td>1</td><td>1.0</td></tr><tr><td>15730688</td><td>Male</td><td>41</td><td>52000</td><td>0</td><td>1.0</td></tr><tr><td>15733883</td><td>Male</td><td>47</td><td>25000</td><td>1</td><td>1.0</td></tr><tr><td>15733964</td><td>Female</td><td>38</td><td>50000</td><td>0</td><td>0.0</td></tr><tr><td>15733973</td><td>Female</td><td>47</td><td>113000</td><td>1</td><td>0.0</td></tr><tr><td>15734161</td><td>Female</td><td>37</td><td>93000</td><td>1</td><td>0.0</td></tr><tr><td>15734312</td><td>Male</td><td>38</td><td>71000</td><td>0</td><td>1.0</td></tr><tr><td>15735549</td><td>Female</td><td>39</td><td>134000</td><td>1</td><td>0.0</td></tr><tr><td>15735878</td><td>Male</td><td>52</td><td>150000</td><td>1</td><td>1.0</td></tr><tr><td>15736228</td><td>Male</td><td>38</td><td>59000</td><td>0</td><td>1.0</td></tr><tr><td>15736397</td><td>Female</td><td>58</td><td>38000</td><td>1</td><td>0.0</td></tr><tr><td>15736760</td><td>Female</td><td>47</td><td>49000</td><td>1</td><td>0.0</td></tr><tr><td>15738448</td><td>Female</td><td>30</td><td>79000</td><td>0</td><td>0.0</td></tr><tr><td>15739160</td><td>Male</td><td>42</td><td>80000</td><td>0</td><td>1.0</td></tr><tr><td>15741049</td><td>Male</td><td>37</td><td>72000</td><td>0</td><td>1.0</td></tr><tr><td>15741094</td><td>Male</td><td>19</td><td>25000</td><td>0</td><td>1.0</td></tr><tr><td>15742204</td><td>Male</td><td>45</td><td>32000</td><td>1</td><td>1.0</td></tr><tr><td>15744279</td><td>Male</td><td>32</td><td>100000</td><td>1</td><td>1.0</td></tr><tr><td>15744529</td><td>Male</td><td>29</td><td>43000</td><td>0</td><td>1.0</td></tr><tr><td>15744919</td><td>Female</td><td>29</td><td>83000</td><td>0</td><td>0.0</td></tr><tr><td>15745083</td><td>Male</td><td>26</td><td>80000</td><td>0</td><td>1.0</td></tr><tr><td>15746139</td><td>Male</td><td>20</td><td>86000</td><td>0</td><td>1.0</td></tr><tr><td>15746203</td><td>Female</td><td>47</td><td>144000</td><td>1</td><td>0.0</td></tr><tr><td>15747043</td><td>Male</td><td>46</td><td>117000</td><td>1</td><td>1.0</td></tr><tr><td>15747097</td><td>Female</td><td>39</td><td>79000</td><td>0</td><td>0.0</td></tr><tr><td>15748589</td><td>Female</td><td>45</td><td>45000</td><td>1</td><td>0.0</td></tr><tr><td>15749381</td><td>Female</td><td>58</td><td>23000</td><td>1</td><td>0.0</td></tr><tr><td>15750335</td><td>Female</td><td>37</td><td>57000</td><td>0</td><td>0.0</td></tr><tr><td>15750447</td><td>Male</td><td>37</td><td>70000</td><td>1</td><td>1.0</td></tr><tr><td>15750839</td><td>Female</td><td>27</td><td>96000</td><td>1</td><td>0.0</td></tr><tr><td>15753102</td><td>Female</td><td>35</td><td>97000</td><td>1</td><td>0.0</td></tr><tr><td>15753861</td><td>Female</td><td>49</td><td>141000</td><td>1</td><td>0.0</td></tr><tr><td>15753874</td><td>Female</td><td>37</td><td>80000</td><td>0</td><td>0.0</td></tr><tr><td>15755018</td><td>Male</td><td>36</td><td>33000</td><td>0</td><td>1.0</td></tr><tr><td>15756820</td><td>Female</td><td>28</td><td>37000</td><td>0</td><td>0.0</td></tr><tr><td>15756932</td><td>Male</td><td>25</td><td>80000</td><td>0</td><td>1.0</td></tr><tr><td>15757632</td><td>Female</td><td>39</td><td>59000</td><td>0</td><td>0.0</td></tr><tr><td>15757837</td><td>Male</td><td>35</td><td>38000</td><td>0</td><td>1.0</td></tr><tr><td>15759684</td><td>Female</td><td>50</td><td>36000</td><td>1</td><td>0.0</td></tr><tr><td>15761950</td><td>Female</td><td>48</td><td>138000</td><td>1</td><td>0.0</td></tr><tr><td>15762228</td><td>Female</td><td>22</td><td>55000</td><td>0</td><td>0.0</td></tr><tr><td>15762605</td><td>Male</td><td>26</td><td>30000</td><td>0</td><td>1.0</td></tr><tr><td>15764195</td><td>Female</td><td>18</td><td>44000</td><td>0</td><td>0.0</td></tr><tr><td>15764419</td><td>Female</td><td>27</td><td>17000</td><td>0</td><td>0.0</td></tr><tr><td>15764604</td><td>Male</td><td>49</td><td>88000</td><td>1</td><td>1.0</td></tr><tr><td>15766289</td><td>Male</td><td>27</td><td>88000</td><td>0</td><td>1.0</td></tr><tr><td>15766609</td><td>Female</td><td>47</td><td>47000</td><td>0</td><td>0.0</td></tr><tr><td>15767681</td><td>Female</td><td>35</td><td>72000</td><td>0</td><td>0.0</td></tr><tr><td>15767871</td><td>Male</td><td>20</td><td>74000</td><td>0</td><td>1.0</td></tr><tr><td>15768151</td><td>Female</td><td>54</td><td>108000</td><td>1</td><td>0.0</td></tr><tr><td>15768293</td><td>Female</td><td>42</td><td>79000</td><td>0</td><td>0.0</td></tr><tr><td>15768816</td><td>Male</td><td>26</td><td>81000</td><td>0</td><td>1.0</td></tr><tr><td>15769596</td><td>Female</td><td>56</td><td>104000</td><td>1</td><td>0.0</td></tr><tr><td>15769902</td><td>Male</td><td>42</td><td>65000</td><td>0</td><td>1.0</td></tr><tr><td>15772073</td><td>Female</td><td>53</td><td>143000</td><td>1</td><td>0.0</td></tr><tr><td>15772798</td><td>Male</td><td>35</td><td>108000</td><td>0</td><td>1.0</td></tr><tr><td>15773447</td><td>Male</td><td>37</td><td>55000</td><td>0</td><td>1.0</td></tr><tr><td>15774179</td><td>Female</td><td>22</td><td>27000</td><td>0</td><td>0.0</td></tr><tr><td>15774727</td><td>Female</td><td>31</td><td>71000</td><td>0</td><td>0.0</td></tr><tr><td>15774744</td><td>Male</td><td>60</td><td>83000</td><td>1</td><td>1.0</td></tr><tr><td>15775335</td><td>Male</td><td>56</td><td>60000</td><td>1</td><td>1.0</td></tr><tr><td>15775590</td><td>Female</td><td>57</td><td>122000</td><td>1</td><td>0.0</td></tr><tr><td>15776348</td><td>Female</td><td>27</td><td>54000</td><td>0</td><td>0.0</td></tr><tr><td>15776733</td><td>Female</td><td>28</td><td>44000</td><td>0</td><td>0.0</td></tr><tr><td>15778368</td><td>Male</td><td>54</td><td>70000</td><td>1</td><td>1.0</td></tr><tr><td>15778830</td><td>Female</td><td>53</td><td>34000</td><td>1</td><td>0.0</td></tr><tr><td>15779529</td><td>Female</td><td>60</td><td>108000</td><td>1</td><td>0.0</td></tr><tr><td>15779581</td><td>Male</td><td>29</td><td>43000</td><td>0</td><td>1.0</td></tr><tr><td>15779744</td><td>Male</td><td>38</td><td>71000</td><td>0</td><td>1.0</td></tr><tr><td>15779862</td><td>Male</td><td>29</td><td>61000</td><td>0</td><td>1.0</td></tr><tr><td>15782530</td><td>Female</td><td>33</td><td>113000</td><td>0</td><td>0.0</td></tr><tr><td>15782806</td><td>Female</td><td>27</td><td>31000</td><td>0</td><td>0.0</td></tr><tr><td>15783029</td><td>Male</td><td>30</td><td>89000</td><td>0</td><td>1.0</td></tr><tr><td>15785170</td><td>Female</td><td>42</td><td>75000</td><td>0</td><td>0.0</td></tr><tr><td>15786993</td><td>Female</td><td>29</td><td>83000</td><td>0</td><td>0.0</td></tr><tr><td>15787550</td><td>Male</td><td>42</td><td>54000</td><td>0</td><td>1.0</td></tr><tr><td>15789109</td><td>Female</td><td>32</td><td>117000</td><td>0</td><td>0.0</td></tr><tr><td>15789432</td><td>Female</td><td>41</td><td>80000</td><td>0</td><td>0.0</td></tr><tr><td>15789815</td><td>Male</td><td>29</td><td>148000</td><td>1</td><td>1.0</td></tr><tr><td>15789863</td><td>Male</td><td>27</td><td>89000</td><td>0</td><td>1.0</td></tr><tr><td>15791174</td><td>Male</td><td>46</td><td>59000</td><td>0</td><td>1.0</td></tr><tr><td>15791373</td><td>Male</td><td>60</td><td>42000</td><td>1</td><td>1.0</td></tr><tr><td>15792008</td><td>Male</td><td>30</td><td>15000</td><td>0</td><td>1.0</td></tr><tr><td>15792102</td><td>Female</td><td>26</td><td>84000</td><td>0</td><td>0.0</td></tr><tr><td>15792818</td><td>Male</td><td>49</td><td>28000</td><td>1</td><td>1.0</td></tr><tr><td>15793813</td><td>Female</td><td>31</td><td>89000</td><td>0</td><td>0.0</td></tr><tr><td>15793890</td><td>Female</td><td>37</td><td>80000</td><td>0</td><td>0.0</td></tr><tr><td>15794253</td><td>Female</td><td>35</td><td>147000</td><td>1</td><td>0.0</td></tr><tr><td>15794493</td><td>Male</td><td>40</td><td>57000</td><td>0</td><td>1.0</td></tr><tr><td>15794661</td><td>Female</td><td>26</td><td>118000</td><td>0</td><td>0.0</td></tr><tr><td>15795224</td><td>Female</td><td>36</td><td>126000</td><td>1</td><td>0.0</td></tr><tr><td>15795298</td><td>Female</td><td>48</td><td>134000</td><td>1</td><td>0.0</td></tr><tr><td>15796351</td><td>Male</td><td>36</td><td>118000</td><td>1</td><td>1.0</td></tr><tr><td>15798659</td><td>Female</td><td>30</td><td>62000</td><td>0</td><td>0.0</td></tr><tr><td>15798850</td><td>Male</td><td>25</td><td>79000</td><td>0</td><td>1.0</td></tr><tr><td>15800061</td><td>Female</td><td>28</td><td>55000</td><td>0</td><td>0.0</td></tr><tr><td>15800515</td><td>Female</td><td>38</td><td>113000</td><td>1</td><td>0.0</td></tr><tr><td>15800890</td><td>Female</td><td>40</td><td>142000</td><td>1</td><td>0.0</td></tr><tr><td>15801247</td><td>Male</td><td>33</td><td>31000</td><td>0</td><td>1.0</td></tr><tr><td>15801336</td><td>Female</td><td>42</td><td>108000</td><td>1</td><td>0.0</td></tr><tr><td>15801658</td><td>Male</td><td>21</td><td>72000</td><td>0</td><td>1.0</td></tr><tr><td>15806901</td><td>Female</td><td>57</td><td>33000</td><td>1</td><td>0.0</td></tr><tr><td>15807481</td><td>Male</td><td>28</td><td>79000</td><td>0</td><td>1.0</td></tr><tr><td>15807525</td><td>Female</td><td>59</td><td>29000</td><td>1</td><td>0.0</td></tr><tr><td>15807837</td><td>Male</td><td>48</td><td>33000</td><td>1</td><td>1.0</td></tr><tr><td>15807909</td><td>Male</td><td>19</td><td>85000</td><td>0</td><td>1.0</td></tr><tr><td>15809347</td><td>Female</td><td>41</td><td>71000</td><td>0</td><td>0.0</td></tr><tr><td>15809823</td><td>Male</td><td>26</td><td>15000</td><td>0</td><td>1.0</td></tr><tr><td>15810075</td><td>Female</td><td>44</td><td>39000</td><td>0</td><td>0.0</td></tr><tr><td>15810800</td><td>Female</td><td>38</td><td>55000</td><td>0</td><td>0.0</td></tr><tr><td>15810944</td><td>Male</td><td>35</td><td>20000</td><td>0</td><td>1.0</td></tr><tr><td>15811177</td><td>Female</td><td>35</td><td>77000</td><td>0</td><td>0.0</td></tr><tr><td>15811613</td><td>Female</td><td>36</td><td>75000</td><td>0</td><td>0.0</td></tr><tr><td>15813113</td><td>Male</td><td>40</td><td>107000</td><td>1</td><td>1.0</td></tr><tr><td>15814553</td><td>Male</td><td>57</td><td>60000</td><td>1</td><td>1.0</td></tr><tr><td>15814816</td><td>Male</td><td>31</td><td>66000</td><td>0</td><td>1.0</td></tr><tr><td>15815236</td><td>Female</td><td>45</td><td>131000</td><td>1</td><td>0.0</td></tr></tbody></table></div>"
      ]
     },
     "metadata": {
      "application/vnd.databricks.v1+output": {
       "addedWidgets": {},
       "aggData": [],
       "aggError": "",
       "aggOverflow": false,
       "aggSchema": [],
       "aggSeriesLimitReached": false,
       "aggType": "",
       "arguments": {},
       "columnCustomDisplayInfos": {},
       "data": [
        [
         15566689,
         "Female",
         35,
         57000,
         0,
         0.0
        ],
        [
         15569641,
         "Female",
         58,
         95000,
         1,
         0.0
        ],
        [
         15570932,
         "Male",
         34,
         115000,
         0,
         1.0
        ],
        [
         15571059,
         "Female",
         33,
         41000,
         0,
         0.0
        ],
        [
         15573452,
         "Female",
         21,
         16000,
         0,
         0.0
        ],
        [
         15574305,
         "Male",
         35,
         53000,
         0,
         1.0
        ],
        [
         15575002,
         "Female",
         35,
         60000,
         0,
         0.0
        ],
        [
         15575247,
         "Female",
         48,
         131000,
         1,
         0.0
        ],
        [
         15575694,
         "Male",
         35,
         73000,
         0,
         1.0
        ],
        [
         15576219,
         "Male",
         41,
         45000,
         0,
         1.0
        ],
        [
         15577514,
         "Male",
         43,
         129000,
         1,
         1.0
        ],
        [
         15577806,
         "Male",
         41,
         87000,
         1,
         1.0
        ],
        [
         15578006,
         "Male",
         23,
         63000,
         0,
         1.0
        ],
        [
         15578738,
         "Female",
         18,
         86000,
         0,
         0.0
        ],
        [
         15579212,
         "Male",
         39,
         77000,
         0,
         1.0
        ],
        [
         15581198,
         "Male",
         31,
         74000,
         0,
         1.0
        ],
        [
         15581282,
         "Male",
         37,
         74000,
         0,
         1.0
        ],
        [
         15581654,
         "Female",
         34,
         43000,
         0,
         0.0
        ],
        [
         15582492,
         "Male",
         28,
         123000,
         1,
         1.0
        ],
        [
         15583137,
         "Male",
         40,
         61000,
         0,
         1.0
        ],
        [
         15583681,
         "Male",
         32,
         120000,
         1,
         1.0
        ],
        [
         15584114,
         "Male",
         24,
         23000,
         0,
         1.0
        ],
        [
         15584320,
         "Female",
         37,
         146000,
         1,
         0.0
        ],
        [
         15586757,
         "Male",
         39,
         134000,
         1,
         1.0
        ],
        [
         15586996,
         "Female",
         41,
         72000,
         0,
         0.0
        ],
        [
         15587013,
         "Male",
         21,
         88000,
         0,
         1.0
        ],
        [
         15587177,
         "Male",
         40,
         65000,
         0,
         1.0
        ],
        [
         15587419,
         "Female",
         42,
         90000,
         1,
         0.0
        ],
        [
         15589449,
         "Male",
         39,
         106000,
         1,
         1.0
        ],
        [
         15589715,
         "Female",
         48,
         119000,
         1,
         0.0
        ],
        [
         15591279,
         "Male",
         37,
         75000,
         0,
         1.0
        ],
        [
         15591433,
         "Male",
         36,
         52000,
         0,
         1.0
        ],
        [
         15591915,
         "Female",
         33,
         51000,
         0,
         0.0
        ],
        [
         15592570,
         "Male",
         47,
         23000,
         1,
         1.0
        ],
        [
         15592877,
         "Male",
         32,
         18000,
         0,
         1.0
        ],
        [
         15593014,
         "Male",
         28,
         59000,
         0,
         1.0
        ],
        [
         15593715,
         "Male",
         60,
         102000,
         1,
         1.0
        ],
        [
         15595135,
         "Female",
         23,
         66000,
         0,
         0.0
        ],
        [
         15595324,
         "Female",
         31,
         68000,
         0,
         0.0
        ],
        [
         15596522,
         "Male",
         49,
         89000,
         1,
         1.0
        ],
        [
         15596761,
         "Male",
         36,
         125000,
         1,
         1.0
        ],
        [
         15596984,
         "Female",
         46,
         74000,
         0,
         0.0
        ],
        [
         15598070,
         "Female",
         40,
         60000,
         0,
         0.0
        ],
        [
         15598840,
         "Female",
         32,
         135000,
         1,
         0.0
        ],
        [
         15599081,
         "Female",
         45,
         22000,
         1,
         0.0
        ],
        [
         15599533,
         "Female",
         37,
         33000,
         0,
         0.0
        ],
        [
         15600379,
         "Male",
         48,
         90000,
         1,
         1.0
        ],
        [
         15600575,
         "Male",
         25,
         33000,
         0,
         1.0
        ],
        [
         15602373,
         "Male",
         29,
         75000,
         0,
         1.0
        ],
        [
         15603246,
         "Female",
         27,
         57000,
         0,
         0.0
        ],
        [
         15603319,
         "Male",
         33,
         43000,
         0,
         1.0
        ],
        [
         15603942,
         "Female",
         51,
         134000,
         0,
         0.0
        ],
        [
         15605000,
         "Female",
         59,
         83000,
         0,
         0.0
        ],
        [
         15605327,
         "Male",
         40,
         47000,
         0,
         1.0
        ],
        [
         15606472,
         "Male",
         60,
         34000,
         1,
         1.0
        ],
        [
         15609637,
         "Female",
         41,
         72000,
         0,
         0.0
        ],
        [
         15609653,
         "Female",
         35,
         47000,
         0,
         0.0
        ],
        [
         15609669,
         "Female",
         59,
         88000,
         1,
         0.0
        ],
        [
         15610140,
         "Female",
         31,
         15000,
         0,
         0.0
        ],
        [
         15610403,
         "Female",
         28,
         59000,
         0,
         0.0
        ],
        [
         15610801,
         "Male",
         42,
         65000,
         0,
         1.0
        ],
        [
         15611430,
         "Female",
         60,
         46000,
         1,
         0.0
        ],
        [
         15612465,
         "Male",
         35,
         79000,
         0,
         1.0
        ],
        [
         15613014,
         "Female",
         52,
         38000,
         1,
         0.0
        ],
        [
         15614187,
         "Male",
         49,
         86000,
         1,
         1.0
        ],
        [
         15614420,
         "Female",
         23,
         28000,
         0,
         0.0
        ],
        [
         15614827,
         "Female",
         35,
         71000,
         0,
         0.0
        ],
        [
         15617134,
         "Male",
         35,
         59000,
         0,
         1.0
        ],
        [
         15617482,
         "Male",
         45,
         26000,
         1,
         1.0
        ],
        [
         15617877,
         "Female",
         46,
         82000,
         0,
         0.0
        ],
        [
         15619087,
         "Female",
         36,
         50000,
         0,
         0.0
        ],
        [
         15619407,
         "Female",
         38,
         112000,
         0,
         0.0
        ],
        [
         15619465,
         "Female",
         48,
         30000,
         1,
         0.0
        ],
        [
         15619653,
         "Male",
         38,
         61000,
         0,
         1.0
        ],
        [
         15621083,
         "Female",
         48,
         29000,
         1,
         0.0
        ],
        [
         15622171,
         "Male",
         37,
         53000,
         0,
         1.0
        ],
        [
         15622478,
         "Male",
         47,
         43000,
         0,
         1.0
        ],
        [
         15622585,
         "Male",
         39,
         96000,
         1,
         1.0
        ],
        [
         15622833,
         "Female",
         34,
         25000,
         0,
         0.0
        ],
        [
         15623502,
         "Male",
         36,
         60000,
         0,
         1.0
        ],
        [
         15624510,
         "Male",
         19,
         19000,
         0,
         1.0
        ],
        [
         15624755,
         "Female",
         54,
         26000,
         1,
         0.0
        ],
        [
         15625395,
         "Male",
         55,
         39000,
         1,
         1.0
        ],
        [
         15628523,
         "Male",
         35,
         39000,
         0,
         1.0
        ],
        [
         15628972,
         "Male",
         18,
         82000,
         0,
         1.0
        ],
        [
         15629739,
         "Female",
         47,
         51000,
         1,
         0.0
        ],
        [
         15629885,
         "Female",
         39,
         73000,
         0,
         0.0
        ],
        [
         15631070,
         "Female",
         37,
         62000,
         0,
         0.0
        ],
        [
         15631159,
         "Male",
         47,
         20000,
         1,
         1.0
        ],
        [
         15631912,
         "Female",
         28,
         85000,
         0,
         0.0
        ],
        [
         15633531,
         "Female",
         47,
         30000,
         1,
         0.0
        ],
        [
         15635893,
         "Male",
         60,
         42000,
         1,
         1.0
        ],
        [
         15636023,
         "Male",
         49,
         65000,
         0,
         1.0
        ],
        [
         15636428,
         "Female",
         30,
         116000,
         0,
         0.0
        ],
        [
         15638003,
         "Female",
         35,
         50000,
         0,
         0.0
        ],
        [
         15638646,
         "Male",
         48,
         141000,
         0,
         1.0
        ],
        [
         15638963,
         "Female",
         21,
         68000,
         0,
         0.0
        ],
        [
         15642885,
         "Male",
         22,
         18000,
         0,
         1.0
        ],
        [
         15644296,
         "Female",
         34,
         72000,
         0,
         0.0
        ],
        [
         15646091,
         "Female",
         46,
         32000,
         1,
         0.0
        ],
        [
         15646227,
         "Male",
         46,
         79000,
         1,
         1.0
        ],
        [
         15646936,
         "Male",
         53,
         72000,
         1,
         1.0
        ],
        [
         15649136,
         "Female",
         24,
         55000,
         0,
         0.0
        ],
        [
         15649487,
         "Male",
         45,
         22000,
         1,
         1.0
        ],
        [
         15649668,
         "Male",
         41,
         79000,
         0,
         1.0
        ],
        [
         15651983,
         "Male",
         34,
         112000,
         1,
         1.0
        ],
        [
         15652400,
         "Female",
         38,
         50000,
         0,
         0.0
        ],
        [
         15654296,
         "Female",
         50,
         20000,
         1,
         0.0
        ],
        [
         15654574,
         "Female",
         23,
         82000,
         0,
         0.0
        ],
        [
         15654901,
         "Female",
         27,
         58000,
         0,
         0.0
        ],
        [
         15655123,
         "Female",
         26,
         17000,
         0,
         0.0
        ],
        [
         15657163,
         "Male",
         35,
         58000,
         0,
         1.0
        ],
        [
         15660200,
         "Female",
         37,
         71000,
         0,
         0.0
        ],
        [
         15660541,
         "Male",
         40,
         57000,
         0,
         1.0
        ],
        [
         15660866,
         "Female",
         58,
         101000,
         1,
         0.0
        ],
        [
         15662067,
         "Female",
         19,
         26000,
         0,
         0.0
        ],
        [
         15662901,
         "Male",
         19,
         70000,
         0,
         1.0
        ],
        [
         15663161,
         "Male",
         35,
         91000,
         1,
         1.0
        ],
        [
         15663249,
         "Female",
         52,
         21000,
         1,
         0.0
        ],
        [
         15663939,
         "Female",
         31,
         118000,
         1,
         0.0
        ],
        [
         15664907,
         "Male",
         58,
         144000,
         1,
         1.0
        ],
        [
         15665416,
         "Female",
         39,
         71000,
         0,
         0.0
        ],
        [
         15665760,
         "Male",
         39,
         122000,
         1,
         1.0
        ],
        [
         15666141,
         "Female",
         18,
         68000,
         0,
         0.0
        ],
        [
         15666675,
         "Female",
         46,
         96000,
         0,
         0.0
        ],
        [
         15667265,
         "Female",
         28,
         87000,
         0,
         0.0
        ],
        [
         15667417,
         "Female",
         54,
         104000,
         1,
         0.0
        ],
        [
         15667742,
         "Male",
         34,
         43000,
         0,
         1.0
        ],
        [
         15668504,
         "Female",
         20,
         82000,
         0,
         0.0
        ],
        [
         15668521,
         "Female",
         48,
         35000,
         1,
         0.0
        ],
        [
         15668575,
         "Female",
         26,
         43000,
         0,
         0.0
        ],
        [
         15669656,
         "Male",
         31,
         18000,
         0,
         1.0
        ],
        [
         15670615,
         "Male",
         48,
         33000,
         1,
         1.0
        ],
        [
         15670619,
         "Male",
         25,
         90000,
         0,
         1.0
        ],
        [
         15671249,
         "Male",
         46,
         88000,
         1,
         1.0
        ],
        [
         15671655,
         "Female",
         35,
         23000,
         0,
         0.0
        ],
        [
         15671766,
         "Female",
         26,
         72000,
         0,
         0.0
        ],
        [
         15672091,
         "Female",
         19,
         21000,
         0,
         0.0
        ],
        [
         15672821,
         "Female",
         55,
         125000,
         1,
         0.0
        ],
        [
         15673367,
         "Female",
         31,
         34000,
         0,
         0.0
        ],
        [
         15673539,
         "Male",
         42,
         73000,
         1,
         1.0
        ],
        [
         15674206,
         "Male",
         35,
         72000,
         0,
         1.0
        ],
        [
         15674331,
         "Male",
         41,
         52000,
         0,
         1.0
        ],
        [
         15675791,
         "Male",
         45,
         79000,
         0,
         1.0
        ],
        [
         15675949,
         "Female",
         33,
         149000,
         1,
         0.0
        ],
        [
         15678168,
         "Female",
         41,
         51000,
         0,
         0.0
        ],
        [
         15678201,
         "Male",
         48,
         74000,
         1,
         1.0
        ],
        [
         15679297,
         "Male",
         35,
         75000,
         0,
         1.0
        ],
        [
         15679651,
         "Female",
         26,
         15000,
         0,
         0.0
        ],
        [
         15679760,
         "Male",
         24,
         19000,
         0,
         1.0
        ],
        [
         15680243,
         "Female",
         20,
         36000,
         0,
         0.0
        ],
        [
         15680587,
         "Male",
         36,
         144000,
         1,
         1.0
        ],
        [
         15680752,
         "Female",
         43,
         133000,
         0,
         0.0
        ],
        [
         15682268,
         "Male",
         35,
         50000,
         0,
         1.0
        ],
        [
         15684801,
         "Male",
         22,
         81000,
         0,
         1.0
        ],
        [
         15684861,
         "Male",
         35,
         55000,
         0,
         1.0
        ],
        [
         15685346,
         "Male",
         56,
         133000,
         1,
         1.0
        ],
        [
         15685536,
         "Male",
         35,
         61000,
         0,
         1.0
        ],
        [
         15685576,
         "Male",
         26,
         16000,
         0,
         1.0
        ],
        [
         15688172,
         "Female",
         59,
         76000,
         1,
         0.0
        ],
        [
         15689237,
         "Male",
         40,
         57000,
         0,
         1.0
        ],
        [
         15689425,
         "Male",
         30,
         49000,
         0,
         1.0
        ],
        [
         15689751,
         "Male",
         28,
         89000,
         0,
         1.0
        ],
        [
         15690188,
         "Female",
         33,
         28000,
         0,
         0.0
        ],
        [
         15691808,
         "Female",
         40,
         72000,
         0,
         0.0
        ],
        [
         15691863,
         "Female",
         46,
         41000,
         1,
         0.0
        ],
        [
         15692819,
         "Female",
         57,
         26000,
         1,
         0.0
        ],
        [
         15693264,
         "Male",
         38,
         51000,
         0,
         1.0
        ],
        [
         15694288,
         "Female",
         32,
         117000,
         1,
         0.0
        ],
        [
         15694395,
         "Female",
         24,
         32000,
         0,
         0.0
        ],
        [
         15694453,
         "Male",
         39,
         42000,
         0,
         1.0
        ],
        [
         15694829,
         "Female",
         32,
         150000,
         1,
         0.0
        ],
        [
         15694879,
         "Male",
         37,
         144000,
         1,
         1.0
        ],
        [
         15695679,
         "Female",
         41,
         60000,
         0,
         0.0
        ],
        [
         15697020,
         "Female",
         39,
         61000,
         0,
         0.0
        ],
        [
         15697424,
         "Female",
         46,
         22000,
         0,
         0.0
        ],
        [
         15697574,
         "Female",
         33,
         69000,
         0,
         0.0
        ],
        [
         15697686,
         "Male",
         29,
         80000,
         0,
         1.0
        ],
        [
         15697997,
         "Female",
         38,
         80000,
         0,
         0.0
        ],
        [
         15699284,
         "Female",
         29,
         28000,
         0,
         0.0
        ],
        [
         15699619,
         "Male",
         36,
         99000,
         1,
         1.0
        ],
        [
         15701537,
         "Male",
         42,
         149000,
         1,
         1.0
        ],
        [
         15701962,
         "Male",
         41,
         59000,
         0,
         1.0
        ],
        [
         15704583,
         "Male",
         46,
         28000,
         1,
         1.0
        ],
        [
         15704987,
         "Male",
         32,
         18000,
         0,
         1.0
        ],
        [
         15705113,
         "Male",
         46,
         23000,
         1,
         1.0
        ],
        [
         15706071,
         "Male",
         51,
         23000,
         1,
         1.0
        ],
        [
         15706185,
         "Female",
         26,
         35000,
         0,
         0.0
        ],
        [
         15707596,
         "Female",
         59,
         42000,
         0,
         0.0
        ],
        [
         15707634,
         "Male",
         49,
         28000,
         1,
         1.0
        ],
        [
         15708228,
         "Male",
         35,
         22000,
         0,
         1.0
        ],
        [
         15708791,
         "Male",
         59,
         130000,
         1,
         1.0
        ],
        [
         15709183,
         "Male",
         42,
         54000,
         0,
         1.0
        ],
        [
         15709441,
         "Female",
         35,
         44000,
         0,
         0.0
        ],
        [
         15709476,
         "Male",
         20,
         49000,
         0,
         1.0
        ],
        [
         15710257,
         "Female",
         35,
         25000,
         0,
         0.0
        ],
        [
         15711218,
         "Male",
         35,
         88000,
         0,
         1.0
        ],
        [
         15713144,
         "Male",
         35,
         27000,
         0,
         1.0
        ],
        [
         15713463,
         "Male",
         41,
         72000,
         0,
         1.0
        ],
        [
         15713912,
         "Female",
         37,
         78000,
         1,
         0.0
        ],
        [
         15714658,
         "Male",
         48,
         41000,
         1,
         1.0
        ],
        [
         15715160,
         "Male",
         28,
         32000,
         0,
         1.0
        ],
        [
         15715541,
         "Female",
         28,
         84000,
         0,
         0.0
        ],
        [
         15715622,
         "Female",
         44,
         139000,
         1,
         0.0
        ],
        [
         15716781,
         "Female",
         41,
         63000,
         0,
         0.0
        ],
        [
         15717893,
         "Female",
         42,
         70000,
         0,
         0.0
        ],
        [
         15718071,
         "Male",
         24,
         58000,
         0,
         1.0
        ],
        [
         15720745,
         "Female",
         37,
         137000,
         1,
         0.0
        ],
        [
         15720943,
         "Male",
         26,
         86000,
         0,
         1.0
        ],
        [
         15721007,
         "Female",
         42,
         80000,
         1,
         0.0
        ],
        [
         15721592,
         "Male",
         40,
         75000,
         0,
         1.0
        ],
        [
         15721835,
         "Male",
         38,
         61000,
         0,
         1.0
        ],
        [
         15722061,
         "Female",
         51,
         146000,
         1,
         0.0
        ],
        [
         15722758,
         "Male",
         30,
         17000,
         0,
         1.0
        ],
        [
         15723373,
         "Male",
         37,
         52000,
         0,
         1.0
        ],
        [
         15724150,
         "Female",
         49,
         39000,
         1,
         0.0
        ],
        [
         15724161,
         "Female",
         50,
         44000,
         0,
         0.0
        ],
        [
         15724402,
         "Female",
         20,
         82000,
         0,
         0.0
        ],
        [
         15724536,
         "Female",
         48,
         96000,
         1,
         0.0
        ],
        [
         15724858,
         "Male",
         27,
         90000,
         0,
         1.0
        ],
        [
         15725660,
         "Male",
         30,
         87000,
         0,
         1.0
        ],
        [
         15726358,
         "Female",
         24,
         27000,
         0,
         0.0
        ],
        [
         15727311,
         "Female",
         35,
         65000,
         0,
         0.0
        ],
        [
         15727696,
         "Male",
         30,
         135000,
         1,
         1.0
        ],
        [
         15729054,
         "Female",
         27,
         137000,
         1,
         0.0
        ],
        [
         15729908,
         "Male",
         47,
         105000,
         1,
         1.0
        ],
        [
         15730688,
         "Male",
         41,
         52000,
         0,
         1.0
        ],
        [
         15733883,
         "Male",
         47,
         25000,
         1,
         1.0
        ],
        [
         15733964,
         "Female",
         38,
         50000,
         0,
         0.0
        ],
        [
         15733973,
         "Female",
         47,
         113000,
         1,
         0.0
        ],
        [
         15734161,
         "Female",
         37,
         93000,
         1,
         0.0
        ],
        [
         15734312,
         "Male",
         38,
         71000,
         0,
         1.0
        ],
        [
         15735549,
         "Female",
         39,
         134000,
         1,
         0.0
        ],
        [
         15735878,
         "Male",
         52,
         150000,
         1,
         1.0
        ],
        [
         15736228,
         "Male",
         38,
         59000,
         0,
         1.0
        ],
        [
         15736397,
         "Female",
         58,
         38000,
         1,
         0.0
        ],
        [
         15736760,
         "Female",
         47,
         49000,
         1,
         0.0
        ],
        [
         15738448,
         "Female",
         30,
         79000,
         0,
         0.0
        ],
        [
         15739160,
         "Male",
         42,
         80000,
         0,
         1.0
        ],
        [
         15741049,
         "Male",
         37,
         72000,
         0,
         1.0
        ],
        [
         15741094,
         "Male",
         19,
         25000,
         0,
         1.0
        ],
        [
         15742204,
         "Male",
         45,
         32000,
         1,
         1.0
        ],
        [
         15744279,
         "Male",
         32,
         100000,
         1,
         1.0
        ],
        [
         15744529,
         "Male",
         29,
         43000,
         0,
         1.0
        ],
        [
         15744919,
         "Female",
         29,
         83000,
         0,
         0.0
        ],
        [
         15745083,
         "Male",
         26,
         80000,
         0,
         1.0
        ],
        [
         15746139,
         "Male",
         20,
         86000,
         0,
         1.0
        ],
        [
         15746203,
         "Female",
         47,
         144000,
         1,
         0.0
        ],
        [
         15747043,
         "Male",
         46,
         117000,
         1,
         1.0
        ],
        [
         15747097,
         "Female",
         39,
         79000,
         0,
         0.0
        ],
        [
         15748589,
         "Female",
         45,
         45000,
         1,
         0.0
        ],
        [
         15749381,
         "Female",
         58,
         23000,
         1,
         0.0
        ],
        [
         15750335,
         "Female",
         37,
         57000,
         0,
         0.0
        ],
        [
         15750447,
         "Male",
         37,
         70000,
         1,
         1.0
        ],
        [
         15750839,
         "Female",
         27,
         96000,
         1,
         0.0
        ],
        [
         15753102,
         "Female",
         35,
         97000,
         1,
         0.0
        ],
        [
         15753861,
         "Female",
         49,
         141000,
         1,
         0.0
        ],
        [
         15753874,
         "Female",
         37,
         80000,
         0,
         0.0
        ],
        [
         15755018,
         "Male",
         36,
         33000,
         0,
         1.0
        ],
        [
         15756820,
         "Female",
         28,
         37000,
         0,
         0.0
        ],
        [
         15756932,
         "Male",
         25,
         80000,
         0,
         1.0
        ],
        [
         15757632,
         "Female",
         39,
         59000,
         0,
         0.0
        ],
        [
         15757837,
         "Male",
         35,
         38000,
         0,
         1.0
        ],
        [
         15759684,
         "Female",
         50,
         36000,
         1,
         0.0
        ],
        [
         15761950,
         "Female",
         48,
         138000,
         1,
         0.0
        ],
        [
         15762228,
         "Female",
         22,
         55000,
         0,
         0.0
        ],
        [
         15762605,
         "Male",
         26,
         30000,
         0,
         1.0
        ],
        [
         15764195,
         "Female",
         18,
         44000,
         0,
         0.0
        ],
        [
         15764419,
         "Female",
         27,
         17000,
         0,
         0.0
        ],
        [
         15764604,
         "Male",
         49,
         88000,
         1,
         1.0
        ],
        [
         15766289,
         "Male",
         27,
         88000,
         0,
         1.0
        ],
        [
         15766609,
         "Female",
         47,
         47000,
         0,
         0.0
        ],
        [
         15767681,
         "Female",
         35,
         72000,
         0,
         0.0
        ],
        [
         15767871,
         "Male",
         20,
         74000,
         0,
         1.0
        ],
        [
         15768151,
         "Female",
         54,
         108000,
         1,
         0.0
        ],
        [
         15768293,
         "Female",
         42,
         79000,
         0,
         0.0
        ],
        [
         15768816,
         "Male",
         26,
         81000,
         0,
         1.0
        ],
        [
         15769596,
         "Female",
         56,
         104000,
         1,
         0.0
        ],
        [
         15769902,
         "Male",
         42,
         65000,
         0,
         1.0
        ],
        [
         15772073,
         "Female",
         53,
         143000,
         1,
         0.0
        ],
        [
         15772798,
         "Male",
         35,
         108000,
         0,
         1.0
        ],
        [
         15773447,
         "Male",
         37,
         55000,
         0,
         1.0
        ],
        [
         15774179,
         "Female",
         22,
         27000,
         0,
         0.0
        ],
        [
         15774727,
         "Female",
         31,
         71000,
         0,
         0.0
        ],
        [
         15774744,
         "Male",
         60,
         83000,
         1,
         1.0
        ],
        [
         15775335,
         "Male",
         56,
         60000,
         1,
         1.0
        ],
        [
         15775590,
         "Female",
         57,
         122000,
         1,
         0.0
        ],
        [
         15776348,
         "Female",
         27,
         54000,
         0,
         0.0
        ],
        [
         15776733,
         "Female",
         28,
         44000,
         0,
         0.0
        ],
        [
         15778368,
         "Male",
         54,
         70000,
         1,
         1.0
        ],
        [
         15778830,
         "Female",
         53,
         34000,
         1,
         0.0
        ],
        [
         15779529,
         "Female",
         60,
         108000,
         1,
         0.0
        ],
        [
         15779581,
         "Male",
         29,
         43000,
         0,
         1.0
        ],
        [
         15779744,
         "Male",
         38,
         71000,
         0,
         1.0
        ],
        [
         15779862,
         "Male",
         29,
         61000,
         0,
         1.0
        ],
        [
         15782530,
         "Female",
         33,
         113000,
         0,
         0.0
        ],
        [
         15782806,
         "Female",
         27,
         31000,
         0,
         0.0
        ],
        [
         15783029,
         "Male",
         30,
         89000,
         0,
         1.0
        ],
        [
         15785170,
         "Female",
         42,
         75000,
         0,
         0.0
        ],
        [
         15786993,
         "Female",
         29,
         83000,
         0,
         0.0
        ],
        [
         15787550,
         "Male",
         42,
         54000,
         0,
         1.0
        ],
        [
         15789109,
         "Female",
         32,
         117000,
         0,
         0.0
        ],
        [
         15789432,
         "Female",
         41,
         80000,
         0,
         0.0
        ],
        [
         15789815,
         "Male",
         29,
         148000,
         1,
         1.0
        ],
        [
         15789863,
         "Male",
         27,
         89000,
         0,
         1.0
        ],
        [
         15791174,
         "Male",
         46,
         59000,
         0,
         1.0
        ],
        [
         15791373,
         "Male",
         60,
         42000,
         1,
         1.0
        ],
        [
         15792008,
         "Male",
         30,
         15000,
         0,
         1.0
        ],
        [
         15792102,
         "Female",
         26,
         84000,
         0,
         0.0
        ],
        [
         15792818,
         "Male",
         49,
         28000,
         1,
         1.0
        ],
        [
         15793813,
         "Female",
         31,
         89000,
         0,
         0.0
        ],
        [
         15793890,
         "Female",
         37,
         80000,
         0,
         0.0
        ],
        [
         15794253,
         "Female",
         35,
         147000,
         1,
         0.0
        ],
        [
         15794493,
         "Male",
         40,
         57000,
         0,
         1.0
        ],
        [
         15794661,
         "Female",
         26,
         118000,
         0,
         0.0
        ],
        [
         15795224,
         "Female",
         36,
         126000,
         1,
         0.0
        ],
        [
         15795298,
         "Female",
         48,
         134000,
         1,
         0.0
        ],
        [
         15796351,
         "Male",
         36,
         118000,
         1,
         1.0
        ],
        [
         15798659,
         "Female",
         30,
         62000,
         0,
         0.0
        ],
        [
         15798850,
         "Male",
         25,
         79000,
         0,
         1.0
        ],
        [
         15800061,
         "Female",
         28,
         55000,
         0,
         0.0
        ],
        [
         15800515,
         "Female",
         38,
         113000,
         1,
         0.0
        ],
        [
         15800890,
         "Female",
         40,
         142000,
         1,
         0.0
        ],
        [
         15801247,
         "Male",
         33,
         31000,
         0,
         1.0
        ],
        [
         15801336,
         "Female",
         42,
         108000,
         1,
         0.0
        ],
        [
         15801658,
         "Male",
         21,
         72000,
         0,
         1.0
        ],
        [
         15806901,
         "Female",
         57,
         33000,
         1,
         0.0
        ],
        [
         15807481,
         "Male",
         28,
         79000,
         0,
         1.0
        ],
        [
         15807525,
         "Female",
         59,
         29000,
         1,
         0.0
        ],
        [
         15807837,
         "Male",
         48,
         33000,
         1,
         1.0
        ],
        [
         15807909,
         "Male",
         19,
         85000,
         0,
         1.0
        ],
        [
         15809347,
         "Female",
         41,
         71000,
         0,
         0.0
        ],
        [
         15809823,
         "Male",
         26,
         15000,
         0,
         1.0
        ],
        [
         15810075,
         "Female",
         44,
         39000,
         0,
         0.0
        ],
        [
         15810800,
         "Female",
         38,
         55000,
         0,
         0.0
        ],
        [
         15810944,
         "Male",
         35,
         20000,
         0,
         1.0
        ],
        [
         15811177,
         "Female",
         35,
         77000,
         0,
         0.0
        ],
        [
         15811613,
         "Female",
         36,
         75000,
         0,
         0.0
        ],
        [
         15813113,
         "Male",
         40,
         107000,
         1,
         1.0
        ],
        [
         15814553,
         "Male",
         57,
         60000,
         1,
         1.0
        ],
        [
         15814816,
         "Male",
         31,
         66000,
         0,
         1.0
        ],
        [
         15815236,
         "Female",
         45,
         131000,
         1,
         0.0
        ]
       ],
       "datasetInfos": [],
       "dbfsResultPath": null,
       "isJsonSchema": true,
       "metadata": {},
       "overflow": false,
       "plotOptions": {
        "customPlotOptions": {},
        "displayType": "table",
        "pivotAggregation": null,
        "pivotColumns": null,
        "xColumns": null,
        "yColumns": null
       },
       "removedWidgets": [],
       "schema": [
        {
         "metadata": "{}",
         "name": "User ID",
         "type": "\"integer\""
        },
        {
         "metadata": "{}",
         "name": "Genero",
         "type": "\"string\""
        },
        {
         "metadata": "{}",
         "name": "Edad",
         "type": "\"integer\""
        },
        {
         "metadata": "{}",
         "name": "Salario",
         "type": "\"integer\""
        },
        {
         "metadata": "{}",
         "name": "Compra",
         "type": "\"integer\""
        },
        {
         "metadata": "{\"ml_attr\":{\"vals\":[\"Female\",\"Male\"],\"type\":\"nominal\",\"name\":\"GeneroIndex\"}}",
         "name": "GeneroIndex",
         "type": "\"double\""
        }
       ],
       "type": "table"
      }
     },
     "output_type": "display_data"
    }
   ],
   "source": [
    "stringIndexerModel = stringIndexer.fit(trainDF)\n",
    "display(stringIndexerModel.transform(trainDF))"
   ]
  },
  {
   "cell_type": "markdown",
   "metadata": {
    "application/vnd.databricks.v1+cell": {
     "cellMetadata": {},
     "inputWidgets": {},
     "nuid": "24dca21e-2dc0-43f1-8196-b041d449c5db",
     "showTitle": false,
     "title": ""
    }
   },
   "source": [
    "## Combina todas las columnas de características en un solo vector de características"
   ]
  },
  {
   "cell_type": "code",
   "execution_count": 0,
   "metadata": {
    "application/vnd.databricks.v1+cell": {
     "cellMetadata": {
      "byteLimit": 2048000,
      "rowLimit": 10000
     },
     "inputWidgets": {},
     "nuid": "55d12d3a-8cfd-4404-9ba5-5c67f956e73a",
     "showTitle": false,
     "title": ""
    }
   },
   "outputs": [],
   "source": [
    "from pyspark.ml.feature import VectorAssembler\n",
    "\n",
    "# This includes both the numeric columns and the one-hot encoded binary vector columns in our dataset.\n",
    "numericCols = [\"Salario\", \"Edad\"]\n",
    "assemblerInputs = [c + \"OHE\" for c in categoricalCols] + numericCols\n",
    "vecAssembler = VectorAssembler(inputCols=assemblerInputs, outputCol=\"features\")"
   ]
  },
  {
   "cell_type": "markdown",
   "metadata": {
    "application/vnd.databricks.v1+cell": {
     "cellMetadata": {},
     "inputWidgets": {},
     "nuid": "643e00e9-a8ef-47a8-9ffe-2460eeb9cba5",
     "showTitle": false,
     "title": ""
    }
   },
   "source": [
    "## Aplicamos el modelo de regresión Logística"
   ]
  },
  {
   "cell_type": "code",
   "execution_count": 0,
   "metadata": {
    "application/vnd.databricks.v1+cell": {
     "cellMetadata": {
      "byteLimit": 2048000,
      "rowLimit": 10000
     },
     "inputWidgets": {},
     "nuid": "dec6d73b-2f93-4700-9735-bc5e4cf040f4",
     "showTitle": false,
     "title": ""
    }
   },
   "outputs": [],
   "source": [
    "from pyspark.ml.classification import LogisticRegression\n",
    "\n",
    "lr = LogisticRegression(featuresCol=\"features\", labelCol=\"Compra\", regParam=1.0)"
   ]
  },
  {
   "cell_type": "markdown",
   "metadata": {
    "application/vnd.databricks.v1+cell": {
     "cellMetadata": {},
     "inputWidgets": {},
     "nuid": "95a99d5e-a882-4ae4-bc07-d9ef1a3125a0",
     "showTitle": false,
     "title": ""
    }
   },
   "source": [
    "## Construimos la canalización con Pipeline"
   ]
  },
  {
   "cell_type": "code",
   "execution_count": 0,
   "metadata": {
    "application/vnd.databricks.v1+cell": {
     "cellMetadata": {
      "byteLimit": 2048000,
      "rowLimit": 10000
     },
     "inputWidgets": {},
     "nuid": "536e068d-72d1-44fe-9ab6-7f3a26f2773a",
     "showTitle": false,
     "title": ""
    }
   },
   "outputs": [],
   "source": [
    "from pyspark.ml import Pipeline\n",
    "\n",
    "# Define the pipeline based on the stages created in previous steps.\n",
    "pipeline = Pipeline(stages=[stringIndexer, encoder,vecAssembler, lr])\n",
    "\n",
    "# Define the pipeline model.\n",
    "pipelineModel = pipeline.fit(trainDF)\n",
    " \n",
    "# Apply the pipeline model to the test dataset.\n",
    "predDF = pipelineModel.transform(testDF)"
   ]
  },
  {
   "cell_type": "code",
   "execution_count": 0,
   "metadata": {
    "application/vnd.databricks.v1+cell": {
     "cellMetadata": {
      "byteLimit": 2048000,
      "rowLimit": 10000
     },
     "inputWidgets": {},
     "nuid": "29007392-bb6a-4b31-8316-689855c402c4",
     "showTitle": false,
     "title": ""
    }
   },
   "outputs": [
    {
     "output_type": "display_data",
     "data": {
      "text/html": [
       "<style scoped>\n",
       "  .table-result-container {\n",
       "    max-height: 300px;\n",
       "    overflow: auto;\n",
       "  }\n",
       "  table, th, td {\n",
       "    border: 1px solid black;\n",
       "    border-collapse: collapse;\n",
       "  }\n",
       "  th, td {\n",
       "    padding: 5px;\n",
       "  }\n",
       "  th {\n",
       "    text-align: left;\n",
       "  }\n",
       "</style><div class='table-result-container'><table class='table-result'><thead style='background-color: white'><tr><th>User ID</th><th>Genero</th><th>Edad</th><th>Salario</th><th>Compra</th><th>GeneroIndex</th><th>GeneroOHE</th><th>features</th><th>rawPrediction</th><th>probability</th><th>prediction</th></tr></thead><tbody><tr><td>15570769</td><td>Female</td><td>26</td><td>80000</td><td>0</td><td>0.0</td><td>Map(vectorType -> sparse, length -> 1, indices -> List(0), values -> List(1.0))</td><td>Map(vectorType -> dense, length -> 3, values -> List(1.0, 80000.0, 26.0))</td><td>Map(vectorType -> dense, length -> 2, values -> List(0.7976763850114337, -0.7976763850114337))</td><td>Map(vectorType -> dense, length -> 2, values -> List(0.6894772180686981, 0.3105227819313019))</td><td>0.0</td></tr><tr><td>15573926</td><td>Male</td><td>40</td><td>71000</td><td>1</td><td>1.0</td><td>Map(vectorType -> sparse, length -> 1, indices -> List(), values -> List())</td><td>Map(vectorType -> dense, length -> 3, values -> List(0.0, 71000.0, 40.0))</td><td>Map(vectorType -> dense, length -> 2, values -> List(0.524229613913215, -0.524229613913215))</td><td>Map(vectorType -> dense, length -> 2, values -> List(0.628136258436915, 0.371863741563085))</td><td>0.0</td></tr><tr><td>15574372</td><td>Female</td><td>58</td><td>47000</td><td>1</td><td>0.0</td><td>Map(vectorType -> sparse, length -> 1, indices -> List(0), values -> List(1.0))</td><td>Map(vectorType -> dense, length -> 3, values -> List(1.0, 47000.0, 58.0))</td><td>Map(vectorType -> dense, length -> 2, values -> List(0.1941311867100608, -0.1941311867100608))</td><td>Map(vectorType -> dense, length -> 2, values -> List(0.5483809479635257, 0.45161905203647434))</td><td>0.0</td></tr><tr><td>15577178</td><td>Female</td><td>22</td><td>63000</td><td>0</td><td>0.0</td><td>Map(vectorType -> sparse, length -> 1, indices -> List(0), values -> List(1.0))</td><td>Map(vectorType -> dense, length -> 3, values -> List(1.0, 63000.0, 22.0))</td><td>Map(vectorType -> dense, length -> 2, values -> List(0.9532339093203595, -0.9532339093203595))</td><td>Map(vectorType -> dense, length -> 2, values -> List(0.7217650780227889, 0.2782349219772111))</td><td>0.0</td></tr><tr><td>15579781</td><td>Female</td><td>29</td><td>47000</td><td>0</td><td>0.0</td><td>Map(vectorType -> sparse, length -> 1, indices -> List(0), values -> List(1.0))</td><td>Map(vectorType -> dense, length -> 3, values -> List(1.0, 47000.0, 29.0))</td><td>Map(vectorType -> dense, length -> 2, values -> List(0.8545103783168935, -0.8545103783168935))</td><td>Map(vectorType -> dense, length -> 2, values -> List(0.7015124405079024, 0.2984875594920976))</td><td>0.0</td></tr><tr><td>15582066</td><td>Male</td><td>40</td><td>78000</td><td>0</td><td>1.0</td><td>Map(vectorType -> sparse, length -> 1, indices -> List(), values -> List())</td><td>Map(vectorType -> dense, length -> 3, values -> List(0.0, 78000.0, 40.0))</td><td>Map(vectorType -> dense, length -> 2, values -> List(0.4976828389239236, -0.4976828389239236))</td><td>Map(vectorType -> dense, length -> 2, values -> List(0.6219146354291435, 0.3780853645708565))</td><td>0.0</td></tr><tr><td>15584545</td><td>Female</td><td>32</td><td>86000</td><td>0</td><td>0.0</td><td>Map(vectorType -> sparse, length -> 1, indices -> List(0), values -> List(1.0))</td><td>Map(vectorType -> dense, length -> 3, values -> List(1.0, 86000.0, 32.0))</td><td>Map(vectorType -> dense, length -> 2, values -> List(0.6382918288753565, -0.6382918288753565))</td><td>Map(vectorType -> dense, length -> 2, values -> List(0.6543672241835928, 0.34563277581640717))</td><td>0.0</td></tr><tr><td>15588080</td><td>Female</td><td>53</td><td>104000</td><td>1</td><td>0.0</td><td>Map(vectorType -> sparse, length -> 1, indices -> List(0), values -> List(1.0))</td><td>Map(vectorType -> dense, length -> 3, values -> List(1.0, 104000.0, 53.0))</td><td>Map(vectorType -> dense, length -> 2, values -> List(0.09182307168021109, -0.09182307168021109))</td><td>Map(vectorType -> dense, length -> 2, values -> List(0.5229396522563343, 0.4770603477436657))</td><td>0.0</td></tr><tr><td>15594041</td><td>Female</td><td>49</td><td>36000</td><td>1</td><td>0.0</td><td>Map(vectorType -> sparse, length -> 1, indices -> List(0), values -> List(1.0))</td><td>Map(vectorType -> dense, length -> 3, values -> List(1.0, 36000.0, 49.0))</td><td>Map(vectorType -> dense, length -> 2, values -> List(0.44079281376825974, -0.44079281376825974))</td><td>Map(vectorType -> dense, length -> 2, values -> List(0.6084479261745052, 0.39155207382549484))</td><td>0.0</td></tr><tr><td>15594577</td><td>Male</td><td>25</td><td>22000</td><td>0</td><td>1.0</td><td>Map(vectorType -> sparse, length -> 1, indices -> List(), values -> List())</td><td>Map(vectorType -> dense, length -> 3, values -> List(0.0, 22000.0, 25.0))</td><td>Map(vectorType -> dense, length -> 2, values -> List(1.0516324827728232, -1.0516324827728232))</td><td>Map(vectorType -> dense, length -> 2, values -> List(0.7410882574443345, 0.2589117425556655))</td><td>0.0</td></tr><tr><td>15594762</td><td>Female</td><td>39</td><td>75000</td><td>1</td><td>0.0</td><td>Map(vectorType -> sparse, length -> 1, indices -> List(0), values -> List(1.0))</td><td>Map(vectorType -> dense, length -> 3, values -> List(1.0, 75000.0, 39.0))</td><td>Map(vectorType -> dense, length -> 2, values -> List(0.5206063157366823, -0.5206063157366823))</td><td>Map(vectorType -> dense, length -> 2, values -> List(0.6272895322776569, 0.37271046772234306))</td><td>0.0</td></tr><tr><td>15595228</td><td>Female</td><td>20</td><td>23000</td><td>0</td><td>0.0</td><td>Map(vectorType -> sparse, length -> 1, indices -> List(0), values -> List(1.0))</td><td>Map(vectorType -> dense, length -> 3, values -> List(1.0, 23000.0, 20.0))</td><td>Map(vectorType -> dense, length -> 2, values -> List(1.1504731589266337, -1.1504731589266337))</td><td>Map(vectorType -> dense, length -> 2, values -> List(0.7595973307470799, 0.2404026692529201))</td><td>0.0</td></tr><tr><td>15595917</td><td>Male</td><td>30</td><td>80000</td><td>0</td><td>1.0</td><td>Map(vectorType -> sparse, length -> 1, indices -> List(), values -> List())</td><td>Map(vectorType -> dense, length -> 3, values -> List(0.0, 80000.0, 30.0))</td><td>Map(vectorType -> dense, length -> 2, values -> List(0.7178150086928861, -0.7178150086928861))</td><td>Map(vectorType -> dense, length -> 2, values -> List(0.6721256857452849, 0.32787431425471514))</td><td>0.0</td></tr><tr><td>15598044</td><td>Female</td><td>27</td><td>84000</td><td>0</td><td>0.0</td><td>Map(vectorType -> sparse, length -> 1, indices -> List(0), values -> List(1.0))</td><td>Map(vectorType -> dense, length -> 3, values -> List(1.0, 84000.0, 27.0))</td><td>Map(vectorType -> dense, length -> 2, values -> List(0.7597351030409626, -0.7597351030409626))</td><td>Map(vectorType -> dense, length -> 2, values -> List(0.6812962190294992, 0.3187037809705008))</td><td>0.0</td></tr><tr><td>15601550</td><td>Female</td><td>36</td><td>54000</td><td>0</td><td>0.0</td><td>Map(vectorType -> sparse, length -> 1, indices -> List(0), values -> List(1.0))</td><td>Map(vectorType -> dense, length -> 3, values -> List(1.0, 54000.0, 36.0))</td><td>Map(vectorType -> dense, length -> 2, values -> List(0.6685617294914701, -0.6685617294914701))</td><td>Map(vectorType -> dense, length -> 2, values -> List(0.6611810316044955, 0.3388189683955045))</td><td>0.0</td></tr><tr><td>15606274</td><td>Female</td><td>26</td><td>52000</td><td>0</td><td>0.0</td><td>Map(vectorType -> sparse, length -> 1, indices -> List(0), values -> List(1.0))</td><td>Map(vectorType -> dense, length -> 3, values -> List(1.0, 52000.0, 26.0))</td><td>Map(vectorType -> dense, length -> 2, values -> List(0.9038634849685991, -0.9038634849685991))</td><td>Map(vectorType -> dense, length -> 2, values -> List(0.7117428024471572, 0.28825719755284285))</td><td>0.0</td></tr><tr><td>15611191</td><td>Female</td><td>53</td><td>82000</td><td>1</td><td>0.0</td><td>Map(vectorType -> sparse, length -> 1, indices -> List(0), values -> List(1.0))</td><td>Map(vectorType -> dense, length -> 3, values -> List(1.0, 82000.0, 53.0))</td><td>Map(vectorType -> dense, length -> 2, values -> List(0.17525579307512684, -0.17525579307512684))</td><td>Map(vectorType -> dense, length -> 2, values -> List(0.5437021476814272, 0.4562978523185728))</td><td>0.0</td></tr><tr><td>15627220</td><td>Male</td><td>39</td><td>71000</td><td>0</td><td>1.0</td><td>Map(vectorType -> sparse, length -> 1, indices -> List(), values -> List())</td><td>Map(vectorType -> dense, length -> 3, values -> List(0.0, 71000.0, 39.0))</td><td>Map(vectorType -> dense, length -> 2, values -> List(0.5470013101755196, -0.5470013101755196))</td><td>Map(vectorType -> dense, length -> 2, values -> List(0.6334395926212552, 0.36656040737874485))</td><td>0.0</td></tr><tr><td>15637593</td><td>Male</td><td>37</td><td>79000</td><td>1</td><td>1.0</td><td>Map(vectorType -> sparse, length -> 1, indices -> List(), values -> List())</td><td>Map(vectorType -> dense, length -> 3, values -> List(0.0, 79000.0, 37.0))</td><td>Map(vectorType -> dense, length -> 2, values -> List(0.5622055312837957, -0.5622055312837957))</td><td>Map(vectorType -> dense, length -> 2, values -> List(0.6369627039225315, 0.3630372960774685))</td><td>0.0</td></tr><tr><td>15639277</td><td>Male</td><td>23</td><td>20000</td><td>0</td><td>1.0</td><td>Map(vectorType -> sparse, length -> 1, indices -> List(), values -> List())</td><td>Map(vectorType -> dense, length -> 3, values -> List(0.0, 20000.0, 23.0))</td><td>Map(vectorType -> dense, length -> 2, values -> List(1.1047606681515156, -1.1047606681515156))</td><td>Map(vectorType -> dense, length -> 2, values -> List(0.7511510482567209, 0.24884895174327915))</td><td>0.0</td></tr><tr><td>15639576</td><td>Female</td><td>47</td><td>107000</td><td>1</td><td>0.0</td><td>Map(vectorType -> sparse, length -> 1, indices -> List(0), values -> List(1.0))</td><td>Map(vectorType -> dense, length -> 3, values -> List(1.0, 107000.0, 47.0))</td><td>Map(vectorType -> dense, length -> 2, values -> List(0.21707605997291357, -0.21707605997291357))</td><td>Map(vectorType -> dense, length -> 2, values -> List(0.5540569089749464, 0.4459430910250536))</td><td>0.0</td></tr><tr><td>15642725</td><td>Male</td><td>40</td><td>59000</td><td>0</td><td>1.0</td><td>Map(vectorType -> sparse, length -> 1, indices -> List(), values -> List())</td><td>Map(vectorType -> dense, length -> 3, values -> List(0.0, 59000.0, 40.0))</td><td>Map(vectorType -> dense, length -> 2, values -> List(0.5697383710377144, -0.5697383710377144))</td><td>Map(vectorType -> dense, length -> 2, values -> List(0.6387028034397596, 0.3612971965602404))</td><td>0.0</td></tr><tr><td>15654230</td><td>Female</td><td>55</td><td>130000</td><td>1</td><td>0.0</td><td>Map(vectorType -> sparse, length -> 1, indices -> List(0), values -> List(1.0))</td><td>Map(vectorType -> dense, length -> 3, values -> List(1.0, 130000.0, 55.0))</td><td>Map(vectorType -> dense, length -> 2, values -> List(-0.05232262794748044, 0.05232262794748044))</td><td>Map(vectorType -> dense, length -> 2, values -> List(0.48692232639283, 0.51307767360717))</td><td>1.0</td></tr><tr><td>15654456</td><td>Male</td><td>42</td><td>104000</td><td>1</td><td>1.0</td><td>Map(vectorType -> sparse, length -> 1, indices -> List(), values -> List())</td><td>Map(vectorType -> dense, length -> 3, values -> List(0.0, 104000.0, 42.0))</td><td>Map(vectorType -> dense, length -> 2, values -> List(0.3535371392962321, -0.3535371392962321))</td><td>Map(vectorType -> dense, length -> 2, values -> List(0.5874750623740294, 0.41252493762597064))</td><td>0.0</td></tr><tr><td>15668385</td><td>Male</td><td>39</td><td>42000</td><td>0</td><td>1.0</td><td>Map(vectorType -> sparse, length -> 1, indices -> List(), values -> List())</td><td>Map(vectorType -> dense, length -> 3, values -> List(0.0, 42000.0, 39.0))</td><td>Map(vectorType -> dense, length -> 2, values -> List(0.6569808065597267, -0.6569808065597267))</td><td>Map(vectorType -> dense, length -> 2, values -> List(0.6585818427702034, 0.3414181572297966))</td><td>0.0</td></tr><tr><td>15671387</td><td>Female</td><td>41</td><td>72000</td><td>0</td><td>0.0</td><td>Map(vectorType -> sparse, length -> 1, indices -> List(0), values -> List(1.0))</td><td>Map(vectorType -> dense, length -> 3, values -> List(1.0, 72000.0, 41.0))</td><td>Map(vectorType -> dense, length -> 2, values -> List(0.4864401124931981, -0.4864401124931981))</td><td>Map(vectorType -> dense, length -> 2, values -> List(0.6192674559884981, 0.3807325440115019))</td><td>0.0</td></tr><tr><td>15672330</td><td>Male</td><td>47</td><td>34000</td><td>1</td><td>1.0</td><td>Map(vectorType -> sparse, length -> 1, indices -> List(), values -> List())</td><td>Map(vectorType -> dense, length -> 3, values -> List(0.0, 34000.0, 47.0))</td><td>Map(vectorType -> dense, length -> 2, values -> List(0.5051464078776229, -0.5051464078776229))</td><td>Map(vectorType -> dense, length -> 2, values -> List(0.6236679917610274, 0.3763320082389726))</td><td>0.0</td></tr><tr><td>15673619</td><td>Male</td><td>25</td><td>87000</td><td>0</td><td>1.0</td><td>Map(vectorType -> sparse, length -> 1, indices -> List(), values -> List())</td><td>Map(vectorType -> dense, length -> 3, values -> List(0.0, 87000.0, 25.0))</td><td>Map(vectorType -> dense, length -> 2, values -> List(0.8051267150151176, -0.8051267150151176))</td><td>Map(vectorType -> dense, length -> 2, values -> List(0.6910700657418359, 0.30892993425816406))</td><td>0.0</td></tr><tr><td>15675185</td><td>Male</td><td>31</td><td>58000</td><td>0</td><td>1.0</td><td>Map(vectorType -> sparse, length -> 1, indices -> List(), values -> List())</td><td>Map(vectorType -> dense, length -> 3, values -> List(0.0, 58000.0, 31.0))</td><td>Map(vectorType -> dense, length -> 2, values -> List(0.7784760338254972, -0.7784760338254972))</td><td>Map(vectorType -> dense, length -> 2, values -> List(0.6853515714318471, 0.3146484285681529))</td><td>0.0</td></tr><tr><td>15683758</td><td>Male</td><td>42</td><td>64000</td><td>0</td><td>1.0</td><td>Map(vectorType -> sparse, length -> 1, indices -> List(), values -> List())</td><td>Map(vectorType -> dense, length -> 3, values -> List(0.0, 64000.0, 42.0))</td><td>Map(vectorType -> dense, length -> 2, values -> List(0.5052329963778972, -0.5052329963778972))</td><td>Map(vectorType -> dense, length -> 2, values -> List(0.6236883144036668, 0.3763116855963332))</td><td>0.0</td></tr><tr><td>15687491</td><td>Male</td><td>30</td><td>107000</td><td>1</td><td>1.0</td><td>Map(vectorType -> sparse, length -> 1, indices -> List(), values -> List())</td><td>Map(vectorType -> dense, length -> 3, values -> List(0.0, 107000.0, 30.0))</td><td>Map(vectorType -> dense, length -> 2, values -> List(0.6154203051627622, -0.6154203051627622))</td><td>Map(vectorType -> dense, length -> 2, values -> List(0.6491762532521597, 0.35082374674784034))</td><td>0.0</td></tr><tr><td>15694946</td><td>Male</td><td>24</td><td>55000</td><td>0</td><td>1.0</td><td>Map(vectorType -> sparse, length -> 1, indices -> List(), values -> List())</td><td>Map(vectorType -> dense, length -> 3, values -> List(0.0, 55000.0, 24.0))</td><td>Map(vectorType -> dense, length -> 2, values -> List(0.9492550969427541, -0.9492550969427541))</td><td>Map(vectorType -> dense, length -> 2, values -> List(0.7209653473290971, 0.2790346526709029))</td><td>0.0</td></tr><tr><td>15699247</td><td>Male</td><td>31</td><td>76000</td><td>0</td><td>1.0</td><td>Map(vectorType -> sparse, length -> 1, indices -> List(), values -> List())</td><td>Map(vectorType -> dense, length -> 3, values -> List(0.0, 76000.0, 31.0))</td><td>Map(vectorType -> dense, length -> 2, values -> List(0.710212898138748, -0.710212898138748))</td><td>Map(vectorType -> dense, length -> 2, values -> List(0.670448200808249, 0.32955179919175104))</td><td>0.0</td></tr><tr><td>15705298</td><td>Female</td><td>43</td><td>112000</td><td>1</td><td>0.0</td><td>Map(vectorType -> sparse, length -> 1, indices -> List(0), values -> List(1.0))</td><td>Map(vectorType -> dense, length -> 3, values -> List(1.0, 112000.0, 43.0))</td><td>Map(vectorType -> dense, length -> 2, values -> List(0.2892008628869238, -0.2892008628869238))</td><td>Map(vectorType -> dense, length -> 2, values -> List(0.5718004796885957, 0.4281995203114043))</td><td>0.0</td></tr><tr><td>15708196</td><td>Male</td><td>49</td><td>74000</td><td>0</td><td>1.0</td><td>Map(vectorType -> sparse, length -> 1, indices -> List(), values -> List())</td><td>Map(vectorType -> dense, length -> 3, values -> List(0.0, 74000.0, 49.0))</td><td>Map(vectorType -> dense, length -> 2, values -> List(0.30790715827134885, -0.30790715827134885))</td><td>Map(vectorType -> dense, length -> 2, values -> List(0.5763743401808484, 0.42362565981915157))</td><td>0.0</td></tr><tr><td>15717560</td><td>Female</td><td>38</td><td>65000</td><td>0</td><td>0.0</td><td>Map(vectorType -> sparse, length -> 1, indices -> List(0), values -> List(1.0))</td><td>Map(vectorType -> dense, length -> 3, values -> List(1.0, 65000.0, 38.0))</td><td>Map(vectorType -> dense, length -> 2, values -> List(0.5813019762694029, -0.5813019762694029))</td><td>Map(vectorType -> dense, length -> 2, values -> List(0.6413669360014593, 0.35863306399854067))</td><td>0.0</td></tr><tr><td>15724423</td><td>Female</td><td>40</td><td>75000</td><td>0</td><td>0.0</td><td>Map(vectorType -> sparse, length -> 1, indices -> List(0), values -> List(1.0))</td><td>Map(vectorType -> dense, length -> 3, values -> List(1.0, 75000.0, 40.0))</td><td>Map(vectorType -> dense, length -> 2, values -> List(0.4978346194743777, -0.4978346194743777))</td><td>Map(vectorType -> dense, length -> 2, values -> List(0.6219503239649096, 0.37804967603509043))</td><td>0.0</td></tr><tr><td>15725794</td><td>Female</td><td>36</td><td>63000</td><td>0</td><td>0.0</td><td>Map(vectorType -> sparse, length -> 1, indices -> List(0), values -> List(1.0))</td><td>Map(vectorType -> dense, length -> 3, values -> List(1.0, 63000.0, 36.0))</td><td>Map(vectorType -> dense, length -> 2, values -> List(0.6344301616480954, -0.6344301616480954))</td><td>Map(vectorType -> dense, length -> 2, values -> List(0.653493308103225, 0.34650669189677497))</td><td>0.0</td></tr><tr><td>15727467</td><td>Male</td><td>57</td><td>74000</td><td>1</td><td>1.0</td><td>Map(vectorType -> sparse, length -> 1, indices -> List(), values -> List())</td><td>Map(vectorType -> dense, length -> 3, values -> List(0.0, 74000.0, 57.0))</td><td>Map(vectorType -> dense, length -> 2, values -> List(0.12573358817291225, -0.12573358817291225))</td><td>Map(vectorType -> dense, length -> 2, values -> List(0.5313920516931933, 0.46860794830680674))</td><td>0.0</td></tr><tr><td>15728773</td><td>Male</td><td>27</td><td>58000</td><td>0</td><td>1.0</td><td>Map(vectorType -> sparse, length -> 1, indices -> List(), values -> List())</td><td>Map(vectorType -> dense, length -> 3, values -> List(0.0, 58000.0, 27.0))</td><td>Map(vectorType -> dense, length -> 2, values -> List(0.8695628188747155, -0.8695628188747155))</td><td>Map(vectorType -> dense, length -> 2, values -> List(0.7046547215577188, 0.2953452784422812))</td><td>0.0</td></tr><tr><td>15730448</td><td>Male</td><td>24</td><td>84000</td><td>0</td><td>1.0</td><td>Map(vectorType -> sparse, length -> 1, indices -> List(), values -> List())</td><td>Map(vectorType -> dense, length -> 3, values -> List(0.0, 84000.0, 24.0))</td><td>Map(vectorType -> dense, length -> 2, values -> List(0.8392756005585471, -0.8392756005585471))</td><td>Map(vectorType -> dense, length -> 2, values -> List(0.6983126271768016, 0.30168737282319835))</td><td>0.0</td></tr><tr><td>15732987</td><td>Male</td><td>59</td><td>143000</td><td>1</td><td>1.0</td><td>Map(vectorType -> sparse, length -> 1, indices -> List(), values -> List())</td><td>Map(vectorType -> dense, length -> 3, values -> List(0.0, 143000.0, 59.0))</td><td>Map(vectorType -> dense, length -> 2, values -> List(-0.18148515781756913, 0.18148515781756913))</td><td>Map(vectorType -> dense, length -> 2, values -> List(0.4547528340645853, 0.5452471659354148))</td><td>1.0</td></tr><tr><td>15745232</td><td>Male</td><td>26</td><td>32000</td><td>0</td><td>1.0</td><td>Map(vectorType -> sparse, length -> 1, indices -> List(), values -> List())</td><td>Map(vectorType -> dense, length -> 3, values -> List(0.0, 32000.0, 26.0))</td><td>Map(vectorType -> dense, length -> 2, values -> List(0.9909368222401023, -0.9909368222401023))</td><td>Map(vectorType -> dense, length -> 2, values -> List(0.7292729225653417, 0.2707270774346583))</td><td>0.0</td></tr><tr><td>15746422</td><td>Female</td><td>24</td><td>89000</td><td>0</td><td>0.0</td><td>Map(vectorType -> sparse, length -> 1, indices -> List(0), values -> List(1.0))</td><td>Map(vectorType -> dense, length -> 3, values -> List(1.0, 89000.0, 24.0))</td><td>Map(vectorType -> dense, length -> 2, values -> List(0.8090882096926681, -0.8090882096926681))</td><td>Map(vectorType -> dense, length -> 2, values -> List(0.6919151732879895, 0.30808482671201054))</td><td>0.0</td></tr><tr><td>15746737</td><td>Male</td><td>18</td><td>52000</td><td>0</td><td>1.0</td><td>Map(vectorType -> sparse, length -> 1, indices -> List(), values -> List())</td><td>Map(vectorType -> dense, length -> 3, values -> List(0.0, 52000.0, 18.0))</td><td>Map(vectorType -> dense, length -> 2, values -> List(1.0972624637977064, -1.0972624637977064))</td><td>Map(vectorType -> dense, length -> 2, values -> List(0.7497468224388986, 0.25025317756110144))</td><td>0.0</td></tr><tr><td>15749130</td><td>Female</td><td>41</td><td>30000</td><td>0</td><td>0.0</td><td>Map(vectorType -> sparse, length -> 1, indices -> List(0), values -> List(1.0))</td><td>Map(vectorType -> dense, length -> 3, values -> List(1.0, 30000.0, 41.0))</td><td>Map(vectorType -> dense, length -> 2, values -> List(0.6457207624289463, -0.6457207624289463))</td><td>Map(vectorType -> dense, length -> 2, values -> List(0.6560454993946865, 0.3439545006053135))</td><td>0.0</td></tr><tr><td>15750056</td><td>Female</td><td>52</td><td>90000</td><td>1</td><td>0.0</td><td>Map(vectorType -> sparse, length -> 1, indices -> List(0), values -> List(1.0))</td><td>Map(vectorType -> dense, length -> 3, values -> List(1.0, 90000.0, 52.0))</td><td>Map(vectorType -> dense, length -> 2, values -> List(0.1676883179210984, -0.1676883179210984))</td><td>Map(vectorType -> dense, length -> 2, values -> List(0.5418241197155506, 0.45817588028444944))</td><td>0.0</td></tr><tr><td>15759066</td><td>Female</td><td>33</td><td>60000</td><td>0</td><td>0.0</td><td>Map(vectorType -> sparse, length -> 1, indices -> List(0), values -> List(1.0))</td><td>Map(vectorType -> dense, length -> 3, values -> List(1.0, 60000.0, 33.0))</td><td>Map(vectorType -> dense, length -> 2, values -> List(0.7141224397161341, -0.7141224397161341))</td><td>Map(vectorType -> dense, length -> 2, values -> List(0.6713114275656983, 0.3286885724343017))</td><td>0.0</td></tr><tr><td>15760570</td><td>Male</td><td>37</td><td>77000</td><td>0</td><td>1.0</td><td>Map(vectorType -> sparse, length -> 1, indices -> List(), values -> List())</td><td>Map(vectorType -> dense, length -> 3, values -> List(0.0, 77000.0, 37.0))</td><td>Map(vectorType -> dense, length -> 2, values -> List(0.569790324137879, -0.569790324137879))</td><td>Map(vectorType -> dense, length -> 2, values -> List(0.6387147921303685, 0.3612852078696315))</td><td>0.0</td></tr><tr><td>15768072</td><td>Female</td><td>47</td><td>50000</td><td>1</td><td>0.0</td><td>Map(vectorType -> sparse, length -> 1, indices -> List(0), values -> List(1.0))</td><td>Map(vectorType -> dense, length -> 3, values -> List(1.0, 50000.0, 47.0))</td><td>Map(vectorType -> dense, length -> 2, values -> List(0.43324265631428616, -0.43324265631428616))</td><td>Map(vectorType -> dense, length -> 2, values -> List(0.6066477183991733, 0.3933522816008267))</td><td>0.0</td></tr><tr><td>15774872</td><td>Female</td><td>52</td><td>138000</td><td>1</td><td>0.0</td><td>Map(vectorType -> sparse, length -> 1, indices -> List(0), values -> List(1.0))</td><td>Map(vectorType -> dense, length -> 3, values -> List(1.0, 138000.0, 52.0))</td><td>Map(vectorType -> dense, length -> 2, values -> List(-0.014346710576899735, 0.014346710576899735))</td><td>Map(vectorType -> dense, length -> 2, values -> List(0.49641338387443057, 0.5035866161255694))</td><td>1.0</td></tr><tr><td>15775562</td><td>Female</td><td>23</td><td>48000</td><td>0</td><td>0.0</td><td>Map(vectorType -> sparse, length -> 1, indices -> List(0), values -> List(1.0))</td><td>Map(vectorType -> dense, length -> 3, values -> List(1.0, 48000.0, 23.0))</td><td>Map(vectorType -> dense, length -> 2, values -> List(0.9873481594636793, -0.9873481594636793))</td><td>Map(vectorType -> dense, length -> 2, values -> List(0.7285638161009224, 0.27143618389907764))</td><td>0.0</td></tr><tr><td>15776844</td><td>Male</td><td>35</td><td>75000</td><td>0</td><td>1.0</td><td>Map(vectorType -> sparse, length -> 1, indices -> List(), values -> List())</td><td>Map(vectorType -> dense, length -> 3, values -> List(0.0, 75000.0, 35.0))</td><td>Map(vectorType -> dense, length -> 2, values -> List(0.6229185095165712, -0.6229185095165712))</td><td>Map(vectorType -> dense, length -> 2, values -> List(0.6508820266494271, 0.34911797335057293))</td><td>0.0</td></tr><tr><td>15780572</td><td>Female</td><td>50</td><td>88000</td><td>1</td><td>0.0</td><td>Map(vectorType -> sparse, length -> 1, indices -> List(0), values -> List(1.0))</td><td>Map(vectorType -> dense, length -> 3, values -> List(1.0, 88000.0, 50.0))</td><td>Map(vectorType -> dense, length -> 2, values -> List(0.22081650329979086, -0.22081650329979086))</td><td>Map(vectorType -> dense, length -> 2, values -> List(0.554980901766731, 0.445019098233269))</td><td>0.0</td></tr><tr><td>15794566</td><td>Female</td><td>52</td><td>114000</td><td>0</td><td>0.0</td><td>Map(vectorType -> sparse, length -> 1, indices -> List(0), values -> List(1.0))</td><td>Map(vectorType -> dense, length -> 3, values -> List(1.0, 114000.0, 52.0))</td><td>Map(vectorType -> dense, length -> 2, values -> List(0.07667080367209933, -0.07667080367209933))</td><td>Map(vectorType -> dense, length -> 2, values -> List(0.5191583167972184, 0.48084168320278164))</td><td>0.0</td></tr><tr><td>15800215</td><td>Female</td><td>42</td><td>53000</td><td>0</td><td>0.0</td><td>Map(vectorType -> sparse, length -> 1, indices -> List(0), values -> List(1.0))</td><td>Map(vectorType -> dense, length -> 3, values -> List(1.0, 53000.0, 42.0))</td><td>Map(vectorType -> dense, length -> 2, values -> List(0.5357239483446843, -0.5357239483446843))</td><td>Map(vectorType -> dense, length -> 2, values -> List(0.630817139680631, 0.369182860319369))</td><td>0.0</td></tr><tr><td>15804002</td><td>Male</td><td>19</td><td>76000</td><td>0</td><td>1.0</td><td>Map(vectorType -> sparse, length -> 1, indices -> List(), values -> List())</td><td>Map(vectorType -> dense, length -> 3, values -> List(0.0, 76000.0, 19.0))</td><td>Map(vectorType -> dense, length -> 2, values -> List(0.983473253286403, -0.983473253286403))</td><td>Map(vectorType -> dense, length -> 2, values -> List(0.7277968418287117, 0.27220315817128826))</td><td>0.0</td></tr><tr><td>15814004</td><td>Male</td><td>27</td><td>20000</td><td>0</td><td>1.0</td><td>Map(vectorType -> sparse, length -> 1, indices -> List(), values -> List())</td><td>Map(vectorType -> dense, length -> 3, values -> List(0.0, 20000.0, 27.0))</td><td>Map(vectorType -> dense, length -> 2, values -> List(1.0136738831022973, -1.0136738831022973))</td><td>Map(vectorType -> dense, length -> 2, values -> List(0.733738518281414, 0.266261481718586))</td><td>0.0</td></tr></tbody></table></div>"
      ]
     },
     "metadata": {
      "application/vnd.databricks.v1+output": {
       "addedWidgets": {},
       "aggData": [],
       "aggError": "",
       "aggOverflow": false,
       "aggSchema": [],
       "aggSeriesLimitReached": false,
       "aggType": "",
       "arguments": {},
       "columnCustomDisplayInfos": {},
       "data": [
        [
         15570769,
         "Female",
         26,
         80000,
         0,
         0.0,
         {
          "indices": [
           0
          ],
          "length": 1,
          "values": [
           1.0
          ],
          "vectorType": "sparse"
         },
         {
          "length": 3,
          "values": [
           1.0,
           80000.0,
           26.0
          ],
          "vectorType": "dense"
         },
         {
          "length": 2,
          "values": [
           0.7976763850114337,
           -0.7976763850114337
          ],
          "vectorType": "dense"
         },
         {
          "length": 2,
          "values": [
           0.6894772180686981,
           0.3105227819313019
          ],
          "vectorType": "dense"
         },
         0.0
        ],
        [
         15573926,
         "Male",
         40,
         71000,
         1,
         1.0,
         {
          "indices": [],
          "length": 1,
          "values": [],
          "vectorType": "sparse"
         },
         {
          "length": 3,
          "values": [
           0.0,
           71000.0,
           40.0
          ],
          "vectorType": "dense"
         },
         {
          "length": 2,
          "values": [
           0.524229613913215,
           -0.524229613913215
          ],
          "vectorType": "dense"
         },
         {
          "length": 2,
          "values": [
           0.628136258436915,
           0.371863741563085
          ],
          "vectorType": "dense"
         },
         0.0
        ],
        [
         15574372,
         "Female",
         58,
         47000,
         1,
         0.0,
         {
          "indices": [
           0
          ],
          "length": 1,
          "values": [
           1.0
          ],
          "vectorType": "sparse"
         },
         {
          "length": 3,
          "values": [
           1.0,
           47000.0,
           58.0
          ],
          "vectorType": "dense"
         },
         {
          "length": 2,
          "values": [
           0.1941311867100608,
           -0.1941311867100608
          ],
          "vectorType": "dense"
         },
         {
          "length": 2,
          "values": [
           0.5483809479635257,
           0.45161905203647434
          ],
          "vectorType": "dense"
         },
         0.0
        ],
        [
         15577178,
         "Female",
         22,
         63000,
         0,
         0.0,
         {
          "indices": [
           0
          ],
          "length": 1,
          "values": [
           1.0
          ],
          "vectorType": "sparse"
         },
         {
          "length": 3,
          "values": [
           1.0,
           63000.0,
           22.0
          ],
          "vectorType": "dense"
         },
         {
          "length": 2,
          "values": [
           0.9532339093203595,
           -0.9532339093203595
          ],
          "vectorType": "dense"
         },
         {
          "length": 2,
          "values": [
           0.7217650780227889,
           0.2782349219772111
          ],
          "vectorType": "dense"
         },
         0.0
        ],
        [
         15579781,
         "Female",
         29,
         47000,
         0,
         0.0,
         {
          "indices": [
           0
          ],
          "length": 1,
          "values": [
           1.0
          ],
          "vectorType": "sparse"
         },
         {
          "length": 3,
          "values": [
           1.0,
           47000.0,
           29.0
          ],
          "vectorType": "dense"
         },
         {
          "length": 2,
          "values": [
           0.8545103783168935,
           -0.8545103783168935
          ],
          "vectorType": "dense"
         },
         {
          "length": 2,
          "values": [
           0.7015124405079024,
           0.2984875594920976
          ],
          "vectorType": "dense"
         },
         0.0
        ],
        [
         15582066,
         "Male",
         40,
         78000,
         0,
         1.0,
         {
          "indices": [],
          "length": 1,
          "values": [],
          "vectorType": "sparse"
         },
         {
          "length": 3,
          "values": [
           0.0,
           78000.0,
           40.0
          ],
          "vectorType": "dense"
         },
         {
          "length": 2,
          "values": [
           0.4976828389239236,
           -0.4976828389239236
          ],
          "vectorType": "dense"
         },
         {
          "length": 2,
          "values": [
           0.6219146354291435,
           0.3780853645708565
          ],
          "vectorType": "dense"
         },
         0.0
        ],
        [
         15584545,
         "Female",
         32,
         86000,
         0,
         0.0,
         {
          "indices": [
           0
          ],
          "length": 1,
          "values": [
           1.0
          ],
          "vectorType": "sparse"
         },
         {
          "length": 3,
          "values": [
           1.0,
           86000.0,
           32.0
          ],
          "vectorType": "dense"
         },
         {
          "length": 2,
          "values": [
           0.6382918288753565,
           -0.6382918288753565
          ],
          "vectorType": "dense"
         },
         {
          "length": 2,
          "values": [
           0.6543672241835928,
           0.34563277581640717
          ],
          "vectorType": "dense"
         },
         0.0
        ],
        [
         15588080,
         "Female",
         53,
         104000,
         1,
         0.0,
         {
          "indices": [
           0
          ],
          "length": 1,
          "values": [
           1.0
          ],
          "vectorType": "sparse"
         },
         {
          "length": 3,
          "values": [
           1.0,
           104000.0,
           53.0
          ],
          "vectorType": "dense"
         },
         {
          "length": 2,
          "values": [
           0.09182307168021109,
           -0.09182307168021109
          ],
          "vectorType": "dense"
         },
         {
          "length": 2,
          "values": [
           0.5229396522563343,
           0.4770603477436657
          ],
          "vectorType": "dense"
         },
         0.0
        ],
        [
         15594041,
         "Female",
         49,
         36000,
         1,
         0.0,
         {
          "indices": [
           0
          ],
          "length": 1,
          "values": [
           1.0
          ],
          "vectorType": "sparse"
         },
         {
          "length": 3,
          "values": [
           1.0,
           36000.0,
           49.0
          ],
          "vectorType": "dense"
         },
         {
          "length": 2,
          "values": [
           0.44079281376825974,
           -0.44079281376825974
          ],
          "vectorType": "dense"
         },
         {
          "length": 2,
          "values": [
           0.6084479261745052,
           0.39155207382549484
          ],
          "vectorType": "dense"
         },
         0.0
        ],
        [
         15594577,
         "Male",
         25,
         22000,
         0,
         1.0,
         {
          "indices": [],
          "length": 1,
          "values": [],
          "vectorType": "sparse"
         },
         {
          "length": 3,
          "values": [
           0.0,
           22000.0,
           25.0
          ],
          "vectorType": "dense"
         },
         {
          "length": 2,
          "values": [
           1.0516324827728232,
           -1.0516324827728232
          ],
          "vectorType": "dense"
         },
         {
          "length": 2,
          "values": [
           0.7410882574443345,
           0.2589117425556655
          ],
          "vectorType": "dense"
         },
         0.0
        ],
        [
         15594762,
         "Female",
         39,
         75000,
         1,
         0.0,
         {
          "indices": [
           0
          ],
          "length": 1,
          "values": [
           1.0
          ],
          "vectorType": "sparse"
         },
         {
          "length": 3,
          "values": [
           1.0,
           75000.0,
           39.0
          ],
          "vectorType": "dense"
         },
         {
          "length": 2,
          "values": [
           0.5206063157366823,
           -0.5206063157366823
          ],
          "vectorType": "dense"
         },
         {
          "length": 2,
          "values": [
           0.6272895322776569,
           0.37271046772234306
          ],
          "vectorType": "dense"
         },
         0.0
        ],
        [
         15595228,
         "Female",
         20,
         23000,
         0,
         0.0,
         {
          "indices": [
           0
          ],
          "length": 1,
          "values": [
           1.0
          ],
          "vectorType": "sparse"
         },
         {
          "length": 3,
          "values": [
           1.0,
           23000.0,
           20.0
          ],
          "vectorType": "dense"
         },
         {
          "length": 2,
          "values": [
           1.1504731589266337,
           -1.1504731589266337
          ],
          "vectorType": "dense"
         },
         {
          "length": 2,
          "values": [
           0.7595973307470799,
           0.2404026692529201
          ],
          "vectorType": "dense"
         },
         0.0
        ],
        [
         15595917,
         "Male",
         30,
         80000,
         0,
         1.0,
         {
          "indices": [],
          "length": 1,
          "values": [],
          "vectorType": "sparse"
         },
         {
          "length": 3,
          "values": [
           0.0,
           80000.0,
           30.0
          ],
          "vectorType": "dense"
         },
         {
          "length": 2,
          "values": [
           0.7178150086928861,
           -0.7178150086928861
          ],
          "vectorType": "dense"
         },
         {
          "length": 2,
          "values": [
           0.6721256857452849,
           0.32787431425471514
          ],
          "vectorType": "dense"
         },
         0.0
        ],
        [
         15598044,
         "Female",
         27,
         84000,
         0,
         0.0,
         {
          "indices": [
           0
          ],
          "length": 1,
          "values": [
           1.0
          ],
          "vectorType": "sparse"
         },
         {
          "length": 3,
          "values": [
           1.0,
           84000.0,
           27.0
          ],
          "vectorType": "dense"
         },
         {
          "length": 2,
          "values": [
           0.7597351030409626,
           -0.7597351030409626
          ],
          "vectorType": "dense"
         },
         {
          "length": 2,
          "values": [
           0.6812962190294992,
           0.3187037809705008
          ],
          "vectorType": "dense"
         },
         0.0
        ],
        [
         15601550,
         "Female",
         36,
         54000,
         0,
         0.0,
         {
          "indices": [
           0
          ],
          "length": 1,
          "values": [
           1.0
          ],
          "vectorType": "sparse"
         },
         {
          "length": 3,
          "values": [
           1.0,
           54000.0,
           36.0
          ],
          "vectorType": "dense"
         },
         {
          "length": 2,
          "values": [
           0.6685617294914701,
           -0.6685617294914701
          ],
          "vectorType": "dense"
         },
         {
          "length": 2,
          "values": [
           0.6611810316044955,
           0.3388189683955045
          ],
          "vectorType": "dense"
         },
         0.0
        ],
        [
         15606274,
         "Female",
         26,
         52000,
         0,
         0.0,
         {
          "indices": [
           0
          ],
          "length": 1,
          "values": [
           1.0
          ],
          "vectorType": "sparse"
         },
         {
          "length": 3,
          "values": [
           1.0,
           52000.0,
           26.0
          ],
          "vectorType": "dense"
         },
         {
          "length": 2,
          "values": [
           0.9038634849685991,
           -0.9038634849685991
          ],
          "vectorType": "dense"
         },
         {
          "length": 2,
          "values": [
           0.7117428024471572,
           0.28825719755284285
          ],
          "vectorType": "dense"
         },
         0.0
        ],
        [
         15611191,
         "Female",
         53,
         82000,
         1,
         0.0,
         {
          "indices": [
           0
          ],
          "length": 1,
          "values": [
           1.0
          ],
          "vectorType": "sparse"
         },
         {
          "length": 3,
          "values": [
           1.0,
           82000.0,
           53.0
          ],
          "vectorType": "dense"
         },
         {
          "length": 2,
          "values": [
           0.17525579307512684,
           -0.17525579307512684
          ],
          "vectorType": "dense"
         },
         {
          "length": 2,
          "values": [
           0.5437021476814272,
           0.4562978523185728
          ],
          "vectorType": "dense"
         },
         0.0
        ],
        [
         15627220,
         "Male",
         39,
         71000,
         0,
         1.0,
         {
          "indices": [],
          "length": 1,
          "values": [],
          "vectorType": "sparse"
         },
         {
          "length": 3,
          "values": [
           0.0,
           71000.0,
           39.0
          ],
          "vectorType": "dense"
         },
         {
          "length": 2,
          "values": [
           0.5470013101755196,
           -0.5470013101755196
          ],
          "vectorType": "dense"
         },
         {
          "length": 2,
          "values": [
           0.6334395926212552,
           0.36656040737874485
          ],
          "vectorType": "dense"
         },
         0.0
        ],
        [
         15637593,
         "Male",
         37,
         79000,
         1,
         1.0,
         {
          "indices": [],
          "length": 1,
          "values": [],
          "vectorType": "sparse"
         },
         {
          "length": 3,
          "values": [
           0.0,
           79000.0,
           37.0
          ],
          "vectorType": "dense"
         },
         {
          "length": 2,
          "values": [
           0.5622055312837957,
           -0.5622055312837957
          ],
          "vectorType": "dense"
         },
         {
          "length": 2,
          "values": [
           0.6369627039225315,
           0.3630372960774685
          ],
          "vectorType": "dense"
         },
         0.0
        ],
        [
         15639277,
         "Male",
         23,
         20000,
         0,
         1.0,
         {
          "indices": [],
          "length": 1,
          "values": [],
          "vectorType": "sparse"
         },
         {
          "length": 3,
          "values": [
           0.0,
           20000.0,
           23.0
          ],
          "vectorType": "dense"
         },
         {
          "length": 2,
          "values": [
           1.1047606681515156,
           -1.1047606681515156
          ],
          "vectorType": "dense"
         },
         {
          "length": 2,
          "values": [
           0.7511510482567209,
           0.24884895174327915
          ],
          "vectorType": "dense"
         },
         0.0
        ],
        [
         15639576,
         "Female",
         47,
         107000,
         1,
         0.0,
         {
          "indices": [
           0
          ],
          "length": 1,
          "values": [
           1.0
          ],
          "vectorType": "sparse"
         },
         {
          "length": 3,
          "values": [
           1.0,
           107000.0,
           47.0
          ],
          "vectorType": "dense"
         },
         {
          "length": 2,
          "values": [
           0.21707605997291357,
           -0.21707605997291357
          ],
          "vectorType": "dense"
         },
         {
          "length": 2,
          "values": [
           0.5540569089749464,
           0.4459430910250536
          ],
          "vectorType": "dense"
         },
         0.0
        ],
        [
         15642725,
         "Male",
         40,
         59000,
         0,
         1.0,
         {
          "indices": [],
          "length": 1,
          "values": [],
          "vectorType": "sparse"
         },
         {
          "length": 3,
          "values": [
           0.0,
           59000.0,
           40.0
          ],
          "vectorType": "dense"
         },
         {
          "length": 2,
          "values": [
           0.5697383710377144,
           -0.5697383710377144
          ],
          "vectorType": "dense"
         },
         {
          "length": 2,
          "values": [
           0.6387028034397596,
           0.3612971965602404
          ],
          "vectorType": "dense"
         },
         0.0
        ],
        [
         15654230,
         "Female",
         55,
         130000,
         1,
         0.0,
         {
          "indices": [
           0
          ],
          "length": 1,
          "values": [
           1.0
          ],
          "vectorType": "sparse"
         },
         {
          "length": 3,
          "values": [
           1.0,
           130000.0,
           55.0
          ],
          "vectorType": "dense"
         },
         {
          "length": 2,
          "values": [
           -0.05232262794748044,
           0.05232262794748044
          ],
          "vectorType": "dense"
         },
         {
          "length": 2,
          "values": [
           0.48692232639283,
           0.51307767360717
          ],
          "vectorType": "dense"
         },
         1.0
        ],
        [
         15654456,
         "Male",
         42,
         104000,
         1,
         1.0,
         {
          "indices": [],
          "length": 1,
          "values": [],
          "vectorType": "sparse"
         },
         {
          "length": 3,
          "values": [
           0.0,
           104000.0,
           42.0
          ],
          "vectorType": "dense"
         },
         {
          "length": 2,
          "values": [
           0.3535371392962321,
           -0.3535371392962321
          ],
          "vectorType": "dense"
         },
         {
          "length": 2,
          "values": [
           0.5874750623740294,
           0.41252493762597064
          ],
          "vectorType": "dense"
         },
         0.0
        ],
        [
         15668385,
         "Male",
         39,
         42000,
         0,
         1.0,
         {
          "indices": [],
          "length": 1,
          "values": [],
          "vectorType": "sparse"
         },
         {
          "length": 3,
          "values": [
           0.0,
           42000.0,
           39.0
          ],
          "vectorType": "dense"
         },
         {
          "length": 2,
          "values": [
           0.6569808065597267,
           -0.6569808065597267
          ],
          "vectorType": "dense"
         },
         {
          "length": 2,
          "values": [
           0.6585818427702034,
           0.3414181572297966
          ],
          "vectorType": "dense"
         },
         0.0
        ],
        [
         15671387,
         "Female",
         41,
         72000,
         0,
         0.0,
         {
          "indices": [
           0
          ],
          "length": 1,
          "values": [
           1.0
          ],
          "vectorType": "sparse"
         },
         {
          "length": 3,
          "values": [
           1.0,
           72000.0,
           41.0
          ],
          "vectorType": "dense"
         },
         {
          "length": 2,
          "values": [
           0.4864401124931981,
           -0.4864401124931981
          ],
          "vectorType": "dense"
         },
         {
          "length": 2,
          "values": [
           0.6192674559884981,
           0.3807325440115019
          ],
          "vectorType": "dense"
         },
         0.0
        ],
        [
         15672330,
         "Male",
         47,
         34000,
         1,
         1.0,
         {
          "indices": [],
          "length": 1,
          "values": [],
          "vectorType": "sparse"
         },
         {
          "length": 3,
          "values": [
           0.0,
           34000.0,
           47.0
          ],
          "vectorType": "dense"
         },
         {
          "length": 2,
          "values": [
           0.5051464078776229,
           -0.5051464078776229
          ],
          "vectorType": "dense"
         },
         {
          "length": 2,
          "values": [
           0.6236679917610274,
           0.3763320082389726
          ],
          "vectorType": "dense"
         },
         0.0
        ],
        [
         15673619,
         "Male",
         25,
         87000,
         0,
         1.0,
         {
          "indices": [],
          "length": 1,
          "values": [],
          "vectorType": "sparse"
         },
         {
          "length": 3,
          "values": [
           0.0,
           87000.0,
           25.0
          ],
          "vectorType": "dense"
         },
         {
          "length": 2,
          "values": [
           0.8051267150151176,
           -0.8051267150151176
          ],
          "vectorType": "dense"
         },
         {
          "length": 2,
          "values": [
           0.6910700657418359,
           0.30892993425816406
          ],
          "vectorType": "dense"
         },
         0.0
        ],
        [
         15675185,
         "Male",
         31,
         58000,
         0,
         1.0,
         {
          "indices": [],
          "length": 1,
          "values": [],
          "vectorType": "sparse"
         },
         {
          "length": 3,
          "values": [
           0.0,
           58000.0,
           31.0
          ],
          "vectorType": "dense"
         },
         {
          "length": 2,
          "values": [
           0.7784760338254972,
           -0.7784760338254972
          ],
          "vectorType": "dense"
         },
         {
          "length": 2,
          "values": [
           0.6853515714318471,
           0.3146484285681529
          ],
          "vectorType": "dense"
         },
         0.0
        ],
        [
         15683758,
         "Male",
         42,
         64000,
         0,
         1.0,
         {
          "indices": [],
          "length": 1,
          "values": [],
          "vectorType": "sparse"
         },
         {
          "length": 3,
          "values": [
           0.0,
           64000.0,
           42.0
          ],
          "vectorType": "dense"
         },
         {
          "length": 2,
          "values": [
           0.5052329963778972,
           -0.5052329963778972
          ],
          "vectorType": "dense"
         },
         {
          "length": 2,
          "values": [
           0.6236883144036668,
           0.3763116855963332
          ],
          "vectorType": "dense"
         },
         0.0
        ],
        [
         15687491,
         "Male",
         30,
         107000,
         1,
         1.0,
         {
          "indices": [],
          "length": 1,
          "values": [],
          "vectorType": "sparse"
         },
         {
          "length": 3,
          "values": [
           0.0,
           107000.0,
           30.0
          ],
          "vectorType": "dense"
         },
         {
          "length": 2,
          "values": [
           0.6154203051627622,
           -0.6154203051627622
          ],
          "vectorType": "dense"
         },
         {
          "length": 2,
          "values": [
           0.6491762532521597,
           0.35082374674784034
          ],
          "vectorType": "dense"
         },
         0.0
        ],
        [
         15694946,
         "Male",
         24,
         55000,
         0,
         1.0,
         {
          "indices": [],
          "length": 1,
          "values": [],
          "vectorType": "sparse"
         },
         {
          "length": 3,
          "values": [
           0.0,
           55000.0,
           24.0
          ],
          "vectorType": "dense"
         },
         {
          "length": 2,
          "values": [
           0.9492550969427541,
           -0.9492550969427541
          ],
          "vectorType": "dense"
         },
         {
          "length": 2,
          "values": [
           0.7209653473290971,
           0.2790346526709029
          ],
          "vectorType": "dense"
         },
         0.0
        ],
        [
         15699247,
         "Male",
         31,
         76000,
         0,
         1.0,
         {
          "indices": [],
          "length": 1,
          "values": [],
          "vectorType": "sparse"
         },
         {
          "length": 3,
          "values": [
           0.0,
           76000.0,
           31.0
          ],
          "vectorType": "dense"
         },
         {
          "length": 2,
          "values": [
           0.710212898138748,
           -0.710212898138748
          ],
          "vectorType": "dense"
         },
         {
          "length": 2,
          "values": [
           0.670448200808249,
           0.32955179919175104
          ],
          "vectorType": "dense"
         },
         0.0
        ],
        [
         15705298,
         "Female",
         43,
         112000,
         1,
         0.0,
         {
          "indices": [
           0
          ],
          "length": 1,
          "values": [
           1.0
          ],
          "vectorType": "sparse"
         },
         {
          "length": 3,
          "values": [
           1.0,
           112000.0,
           43.0
          ],
          "vectorType": "dense"
         },
         {
          "length": 2,
          "values": [
           0.2892008628869238,
           -0.2892008628869238
          ],
          "vectorType": "dense"
         },
         {
          "length": 2,
          "values": [
           0.5718004796885957,
           0.4281995203114043
          ],
          "vectorType": "dense"
         },
         0.0
        ],
        [
         15708196,
         "Male",
         49,
         74000,
         0,
         1.0,
         {
          "indices": [],
          "length": 1,
          "values": [],
          "vectorType": "sparse"
         },
         {
          "length": 3,
          "values": [
           0.0,
           74000.0,
           49.0
          ],
          "vectorType": "dense"
         },
         {
          "length": 2,
          "values": [
           0.30790715827134885,
           -0.30790715827134885
          ],
          "vectorType": "dense"
         },
         {
          "length": 2,
          "values": [
           0.5763743401808484,
           0.42362565981915157
          ],
          "vectorType": "dense"
         },
         0.0
        ],
        [
         15717560,
         "Female",
         38,
         65000,
         0,
         0.0,
         {
          "indices": [
           0
          ],
          "length": 1,
          "values": [
           1.0
          ],
          "vectorType": "sparse"
         },
         {
          "length": 3,
          "values": [
           1.0,
           65000.0,
           38.0
          ],
          "vectorType": "dense"
         },
         {
          "length": 2,
          "values": [
           0.5813019762694029,
           -0.5813019762694029
          ],
          "vectorType": "dense"
         },
         {
          "length": 2,
          "values": [
           0.6413669360014593,
           0.35863306399854067
          ],
          "vectorType": "dense"
         },
         0.0
        ],
        [
         15724423,
         "Female",
         40,
         75000,
         0,
         0.0,
         {
          "indices": [
           0
          ],
          "length": 1,
          "values": [
           1.0
          ],
          "vectorType": "sparse"
         },
         {
          "length": 3,
          "values": [
           1.0,
           75000.0,
           40.0
          ],
          "vectorType": "dense"
         },
         {
          "length": 2,
          "values": [
           0.4978346194743777,
           -0.4978346194743777
          ],
          "vectorType": "dense"
         },
         {
          "length": 2,
          "values": [
           0.6219503239649096,
           0.37804967603509043
          ],
          "vectorType": "dense"
         },
         0.0
        ],
        [
         15725794,
         "Female",
         36,
         63000,
         0,
         0.0,
         {
          "indices": [
           0
          ],
          "length": 1,
          "values": [
           1.0
          ],
          "vectorType": "sparse"
         },
         {
          "length": 3,
          "values": [
           1.0,
           63000.0,
           36.0
          ],
          "vectorType": "dense"
         },
         {
          "length": 2,
          "values": [
           0.6344301616480954,
           -0.6344301616480954
          ],
          "vectorType": "dense"
         },
         {
          "length": 2,
          "values": [
           0.653493308103225,
           0.34650669189677497
          ],
          "vectorType": "dense"
         },
         0.0
        ],
        [
         15727467,
         "Male",
         57,
         74000,
         1,
         1.0,
         {
          "indices": [],
          "length": 1,
          "values": [],
          "vectorType": "sparse"
         },
         {
          "length": 3,
          "values": [
           0.0,
           74000.0,
           57.0
          ],
          "vectorType": "dense"
         },
         {
          "length": 2,
          "values": [
           0.12573358817291225,
           -0.12573358817291225
          ],
          "vectorType": "dense"
         },
         {
          "length": 2,
          "values": [
           0.5313920516931933,
           0.46860794830680674
          ],
          "vectorType": "dense"
         },
         0.0
        ],
        [
         15728773,
         "Male",
         27,
         58000,
         0,
         1.0,
         {
          "indices": [],
          "length": 1,
          "values": [],
          "vectorType": "sparse"
         },
         {
          "length": 3,
          "values": [
           0.0,
           58000.0,
           27.0
          ],
          "vectorType": "dense"
         },
         {
          "length": 2,
          "values": [
           0.8695628188747155,
           -0.8695628188747155
          ],
          "vectorType": "dense"
         },
         {
          "length": 2,
          "values": [
           0.7046547215577188,
           0.2953452784422812
          ],
          "vectorType": "dense"
         },
         0.0
        ],
        [
         15730448,
         "Male",
         24,
         84000,
         0,
         1.0,
         {
          "indices": [],
          "length": 1,
          "values": [],
          "vectorType": "sparse"
         },
         {
          "length": 3,
          "values": [
           0.0,
           84000.0,
           24.0
          ],
          "vectorType": "dense"
         },
         {
          "length": 2,
          "values": [
           0.8392756005585471,
           -0.8392756005585471
          ],
          "vectorType": "dense"
         },
         {
          "length": 2,
          "values": [
           0.6983126271768016,
           0.30168737282319835
          ],
          "vectorType": "dense"
         },
         0.0
        ],
        [
         15732987,
         "Male",
         59,
         143000,
         1,
         1.0,
         {
          "indices": [],
          "length": 1,
          "values": [],
          "vectorType": "sparse"
         },
         {
          "length": 3,
          "values": [
           0.0,
           143000.0,
           59.0
          ],
          "vectorType": "dense"
         },
         {
          "length": 2,
          "values": [
           -0.18148515781756913,
           0.18148515781756913
          ],
          "vectorType": "dense"
         },
         {
          "length": 2,
          "values": [
           0.4547528340645853,
           0.5452471659354148
          ],
          "vectorType": "dense"
         },
         1.0
        ],
        [
         15745232,
         "Male",
         26,
         32000,
         0,
         1.0,
         {
          "indices": [],
          "length": 1,
          "values": [],
          "vectorType": "sparse"
         },
         {
          "length": 3,
          "values": [
           0.0,
           32000.0,
           26.0
          ],
          "vectorType": "dense"
         },
         {
          "length": 2,
          "values": [
           0.9909368222401023,
           -0.9909368222401023
          ],
          "vectorType": "dense"
         },
         {
          "length": 2,
          "values": [
           0.7292729225653417,
           0.2707270774346583
          ],
          "vectorType": "dense"
         },
         0.0
        ],
        [
         15746422,
         "Female",
         24,
         89000,
         0,
         0.0,
         {
          "indices": [
           0
          ],
          "length": 1,
          "values": [
           1.0
          ],
          "vectorType": "sparse"
         },
         {
          "length": 3,
          "values": [
           1.0,
           89000.0,
           24.0
          ],
          "vectorType": "dense"
         },
         {
          "length": 2,
          "values": [
           0.8090882096926681,
           -0.8090882096926681
          ],
          "vectorType": "dense"
         },
         {
          "length": 2,
          "values": [
           0.6919151732879895,
           0.30808482671201054
          ],
          "vectorType": "dense"
         },
         0.0
        ],
        [
         15746737,
         "Male",
         18,
         52000,
         0,
         1.0,
         {
          "indices": [],
          "length": 1,
          "values": [],
          "vectorType": "sparse"
         },
         {
          "length": 3,
          "values": [
           0.0,
           52000.0,
           18.0
          ],
          "vectorType": "dense"
         },
         {
          "length": 2,
          "values": [
           1.0972624637977064,
           -1.0972624637977064
          ],
          "vectorType": "dense"
         },
         {
          "length": 2,
          "values": [
           0.7497468224388986,
           0.25025317756110144
          ],
          "vectorType": "dense"
         },
         0.0
        ],
        [
         15749130,
         "Female",
         41,
         30000,
         0,
         0.0,
         {
          "indices": [
           0
          ],
          "length": 1,
          "values": [
           1.0
          ],
          "vectorType": "sparse"
         },
         {
          "length": 3,
          "values": [
           1.0,
           30000.0,
           41.0
          ],
          "vectorType": "dense"
         },
         {
          "length": 2,
          "values": [
           0.6457207624289463,
           -0.6457207624289463
          ],
          "vectorType": "dense"
         },
         {
          "length": 2,
          "values": [
           0.6560454993946865,
           0.3439545006053135
          ],
          "vectorType": "dense"
         },
         0.0
        ],
        [
         15750056,
         "Female",
         52,
         90000,
         1,
         0.0,
         {
          "indices": [
           0
          ],
          "length": 1,
          "values": [
           1.0
          ],
          "vectorType": "sparse"
         },
         {
          "length": 3,
          "values": [
           1.0,
           90000.0,
           52.0
          ],
          "vectorType": "dense"
         },
         {
          "length": 2,
          "values": [
           0.1676883179210984,
           -0.1676883179210984
          ],
          "vectorType": "dense"
         },
         {
          "length": 2,
          "values": [
           0.5418241197155506,
           0.45817588028444944
          ],
          "vectorType": "dense"
         },
         0.0
        ],
        [
         15759066,
         "Female",
         33,
         60000,
         0,
         0.0,
         {
          "indices": [
           0
          ],
          "length": 1,
          "values": [
           1.0
          ],
          "vectorType": "sparse"
         },
         {
          "length": 3,
          "values": [
           1.0,
           60000.0,
           33.0
          ],
          "vectorType": "dense"
         },
         {
          "length": 2,
          "values": [
           0.7141224397161341,
           -0.7141224397161341
          ],
          "vectorType": "dense"
         },
         {
          "length": 2,
          "values": [
           0.6713114275656983,
           0.3286885724343017
          ],
          "vectorType": "dense"
         },
         0.0
        ],
        [
         15760570,
         "Male",
         37,
         77000,
         0,
         1.0,
         {
          "indices": [],
          "length": 1,
          "values": [],
          "vectorType": "sparse"
         },
         {
          "length": 3,
          "values": [
           0.0,
           77000.0,
           37.0
          ],
          "vectorType": "dense"
         },
         {
          "length": 2,
          "values": [
           0.569790324137879,
           -0.569790324137879
          ],
          "vectorType": "dense"
         },
         {
          "length": 2,
          "values": [
           0.6387147921303685,
           0.3612852078696315
          ],
          "vectorType": "dense"
         },
         0.0
        ],
        [
         15768072,
         "Female",
         47,
         50000,
         1,
         0.0,
         {
          "indices": [
           0
          ],
          "length": 1,
          "values": [
           1.0
          ],
          "vectorType": "sparse"
         },
         {
          "length": 3,
          "values": [
           1.0,
           50000.0,
           47.0
          ],
          "vectorType": "dense"
         },
         {
          "length": 2,
          "values": [
           0.43324265631428616,
           -0.43324265631428616
          ],
          "vectorType": "dense"
         },
         {
          "length": 2,
          "values": [
           0.6066477183991733,
           0.3933522816008267
          ],
          "vectorType": "dense"
         },
         0.0
        ],
        [
         15774872,
         "Female",
         52,
         138000,
         1,
         0.0,
         {
          "indices": [
           0
          ],
          "length": 1,
          "values": [
           1.0
          ],
          "vectorType": "sparse"
         },
         {
          "length": 3,
          "values": [
           1.0,
           138000.0,
           52.0
          ],
          "vectorType": "dense"
         },
         {
          "length": 2,
          "values": [
           -0.014346710576899735,
           0.014346710576899735
          ],
          "vectorType": "dense"
         },
         {
          "length": 2,
          "values": [
           0.49641338387443057,
           0.5035866161255694
          ],
          "vectorType": "dense"
         },
         1.0
        ],
        [
         15775562,
         "Female",
         23,
         48000,
         0,
         0.0,
         {
          "indices": [
           0
          ],
          "length": 1,
          "values": [
           1.0
          ],
          "vectorType": "sparse"
         },
         {
          "length": 3,
          "values": [
           1.0,
           48000.0,
           23.0
          ],
          "vectorType": "dense"
         },
         {
          "length": 2,
          "values": [
           0.9873481594636793,
           -0.9873481594636793
          ],
          "vectorType": "dense"
         },
         {
          "length": 2,
          "values": [
           0.7285638161009224,
           0.27143618389907764
          ],
          "vectorType": "dense"
         },
         0.0
        ],
        [
         15776844,
         "Male",
         35,
         75000,
         0,
         1.0,
         {
          "indices": [],
          "length": 1,
          "values": [],
          "vectorType": "sparse"
         },
         {
          "length": 3,
          "values": [
           0.0,
           75000.0,
           35.0
          ],
          "vectorType": "dense"
         },
         {
          "length": 2,
          "values": [
           0.6229185095165712,
           -0.6229185095165712
          ],
          "vectorType": "dense"
         },
         {
          "length": 2,
          "values": [
           0.6508820266494271,
           0.34911797335057293
          ],
          "vectorType": "dense"
         },
         0.0
        ],
        [
         15780572,
         "Female",
         50,
         88000,
         1,
         0.0,
         {
          "indices": [
           0
          ],
          "length": 1,
          "values": [
           1.0
          ],
          "vectorType": "sparse"
         },
         {
          "length": 3,
          "values": [
           1.0,
           88000.0,
           50.0
          ],
          "vectorType": "dense"
         },
         {
          "length": 2,
          "values": [
           0.22081650329979086,
           -0.22081650329979086
          ],
          "vectorType": "dense"
         },
         {
          "length": 2,
          "values": [
           0.554980901766731,
           0.445019098233269
          ],
          "vectorType": "dense"
         },
         0.0
        ],
        [
         15794566,
         "Female",
         52,
         114000,
         0,
         0.0,
         {
          "indices": [
           0
          ],
          "length": 1,
          "values": [
           1.0
          ],
          "vectorType": "sparse"
         },
         {
          "length": 3,
          "values": [
           1.0,
           114000.0,
           52.0
          ],
          "vectorType": "dense"
         },
         {
          "length": 2,
          "values": [
           0.07667080367209933,
           -0.07667080367209933
          ],
          "vectorType": "dense"
         },
         {
          "length": 2,
          "values": [
           0.5191583167972184,
           0.48084168320278164
          ],
          "vectorType": "dense"
         },
         0.0
        ],
        [
         15800215,
         "Female",
         42,
         53000,
         0,
         0.0,
         {
          "indices": [
           0
          ],
          "length": 1,
          "values": [
           1.0
          ],
          "vectorType": "sparse"
         },
         {
          "length": 3,
          "values": [
           1.0,
           53000.0,
           42.0
          ],
          "vectorType": "dense"
         },
         {
          "length": 2,
          "values": [
           0.5357239483446843,
           -0.5357239483446843
          ],
          "vectorType": "dense"
         },
         {
          "length": 2,
          "values": [
           0.630817139680631,
           0.369182860319369
          ],
          "vectorType": "dense"
         },
         0.0
        ],
        [
         15804002,
         "Male",
         19,
         76000,
         0,
         1.0,
         {
          "indices": [],
          "length": 1,
          "values": [],
          "vectorType": "sparse"
         },
         {
          "length": 3,
          "values": [
           0.0,
           76000.0,
           19.0
          ],
          "vectorType": "dense"
         },
         {
          "length": 2,
          "values": [
           0.983473253286403,
           -0.983473253286403
          ],
          "vectorType": "dense"
         },
         {
          "length": 2,
          "values": [
           0.7277968418287117,
           0.27220315817128826
          ],
          "vectorType": "dense"
         },
         0.0
        ],
        [
         15814004,
         "Male",
         27,
         20000,
         0,
         1.0,
         {
          "indices": [],
          "length": 1,
          "values": [],
          "vectorType": "sparse"
         },
         {
          "length": 3,
          "values": [
           0.0,
           20000.0,
           27.0
          ],
          "vectorType": "dense"
         },
         {
          "length": 2,
          "values": [
           1.0136738831022973,
           -1.0136738831022973
          ],
          "vectorType": "dense"
         },
         {
          "length": 2,
          "values": [
           0.733738518281414,
           0.266261481718586
          ],
          "vectorType": "dense"
         },
         0.0
        ]
       ],
       "datasetInfos": [],
       "dbfsResultPath": null,
       "isJsonSchema": true,
       "metadata": {},
       "overflow": false,
       "plotOptions": {
        "customPlotOptions": {},
        "displayType": "table",
        "pivotAggregation": null,
        "pivotColumns": null,
        "xColumns": null,
        "yColumns": null
       },
       "removedWidgets": [],
       "schema": [
        {
         "metadata": "{}",
         "name": "User ID",
         "type": "\"integer\""
        },
        {
         "metadata": "{}",
         "name": "Genero",
         "type": "\"string\""
        },
        {
         "metadata": "{}",
         "name": "Edad",
         "type": "\"integer\""
        },
        {
         "metadata": "{}",
         "name": "Salario",
         "type": "\"integer\""
        },
        {
         "metadata": "{}",
         "name": "Compra",
         "type": "\"integer\""
        },
        {
         "metadata": "{\"ml_attr\":{\"vals\":[\"Female\",\"Male\"],\"type\":\"nominal\",\"name\":\"GeneroIndex\"}}",
         "name": "GeneroIndex",
         "type": "\"double\""
        },
        {
         "metadata": "{\"ml_attr\":{\"attrs\":{\"binary\":[{\"idx\":0,\"name\":\"Female\"}]},\"num_attrs\":1}}",
         "name": "GeneroOHE",
         "type": "{\"type\":\"udt\",\"class\":\"org.apache.spark.ml.linalg.VectorUDT\",\"pyClass\":\"pyspark.ml.linalg.VectorUDT\",\"sqlType\":{\"type\":\"struct\",\"fields\":[{\"name\":\"type\",\"type\":\"byte\",\"nullable\":false,\"metadata\":{}},{\"name\":\"size\",\"type\":\"integer\",\"nullable\":true,\"metadata\":{}},{\"name\":\"indices\",\"type\":{\"type\":\"array\",\"elementType\":\"integer\",\"containsNull\":false},\"nullable\":true,\"metadata\":{}},{\"name\":\"values\",\"type\":{\"type\":\"array\",\"elementType\":\"double\",\"containsNull\":false},\"nullable\":true,\"metadata\":{}}]}}"
        },
        {
         "metadata": "{\"ml_attr\":{\"attrs\":{\"numeric\":[{\"idx\":1,\"name\":\"Salario\"},{\"idx\":2,\"name\":\"Edad\"}],\"binary\":[{\"idx\":0,\"name\":\"GeneroOHE_Female\"}]},\"num_attrs\":3}}",
         "name": "features",
         "type": "{\"type\":\"udt\",\"class\":\"org.apache.spark.ml.linalg.VectorUDT\",\"pyClass\":\"pyspark.ml.linalg.VectorUDT\",\"sqlType\":{\"type\":\"struct\",\"fields\":[{\"name\":\"type\",\"type\":\"byte\",\"nullable\":false,\"metadata\":{}},{\"name\":\"size\",\"type\":\"integer\",\"nullable\":true,\"metadata\":{}},{\"name\":\"indices\",\"type\":{\"type\":\"array\",\"elementType\":\"integer\",\"containsNull\":false},\"nullable\":true,\"metadata\":{}},{\"name\":\"values\",\"type\":{\"type\":\"array\",\"elementType\":\"double\",\"containsNull\":false},\"nullable\":true,\"metadata\":{}}]}}"
        },
        {
         "metadata": "{\"ml_attr\":{\"num_attrs\":2}}",
         "name": "rawPrediction",
         "type": "{\"type\":\"udt\",\"class\":\"org.apache.spark.ml.linalg.VectorUDT\",\"pyClass\":\"pyspark.ml.linalg.VectorUDT\",\"sqlType\":{\"type\":\"struct\",\"fields\":[{\"name\":\"type\",\"type\":\"byte\",\"nullable\":false,\"metadata\":{}},{\"name\":\"size\",\"type\":\"integer\",\"nullable\":true,\"metadata\":{}},{\"name\":\"indices\",\"type\":{\"type\":\"array\",\"elementType\":\"integer\",\"containsNull\":false},\"nullable\":true,\"metadata\":{}},{\"name\":\"values\",\"type\":{\"type\":\"array\",\"elementType\":\"double\",\"containsNull\":false},\"nullable\":true,\"metadata\":{}}]}}"
        },
        {
         "metadata": "{\"ml_attr\":{\"num_attrs\":2}}",
         "name": "probability",
         "type": "{\"type\":\"udt\",\"class\":\"org.apache.spark.ml.linalg.VectorUDT\",\"pyClass\":\"pyspark.ml.linalg.VectorUDT\",\"sqlType\":{\"type\":\"struct\",\"fields\":[{\"name\":\"type\",\"type\":\"byte\",\"nullable\":false,\"metadata\":{}},{\"name\":\"size\",\"type\":\"integer\",\"nullable\":true,\"metadata\":{}},{\"name\":\"indices\",\"type\":{\"type\":\"array\",\"elementType\":\"integer\",\"containsNull\":false},\"nullable\":true,\"metadata\":{}},{\"name\":\"values\",\"type\":{\"type\":\"array\",\"elementType\":\"double\",\"containsNull\":false},\"nullable\":true,\"metadata\":{}}]}}"
        },
        {
         "metadata": "{\"ml_attr\":{\"type\":\"nominal\",\"num_vals\":2}}",
         "name": "prediction",
         "type": "\"double\""
        }
       ],
       "type": "table"
      }
     },
     "output_type": "display_data"
    }
   ],
   "source": [
    "display(predDF)"
   ]
  },
  {
   "cell_type": "code",
   "execution_count": 0,
   "metadata": {
    "application/vnd.databricks.v1+cell": {
     "cellMetadata": {
      "byteLimit": 2048000,
      "rowLimit": 10000
     },
     "inputWidgets": {},
     "nuid": "1251e72f-87fc-4c8f-ac1c-ec3e16cc2203",
     "showTitle": false,
     "title": ""
    }
   },
   "outputs": [
    {
     "output_type": "display_data",
     "data": {
      "text/html": [
       "<style scoped>\n",
       "  .table-result-container {\n",
       "    max-height: 300px;\n",
       "    overflow: auto;\n",
       "  }\n",
       "  table, th, td {\n",
       "    border: 1px solid black;\n",
       "    border-collapse: collapse;\n",
       "  }\n",
       "  th, td {\n",
       "    padding: 5px;\n",
       "  }\n",
       "  th {\n",
       "    text-align: left;\n",
       "  }\n",
       "</style><div class='table-result-container'><table class='table-result'><thead style='background-color: white'><tr><th>features</th><th>Compra</th><th>prediction</th><th>probability</th></tr></thead><tbody><tr><td>Map(vectorType -> dense, length -> 3, values -> List(1.0, 80000.0, 26.0))</td><td>0</td><td>0.0</td><td>Map(vectorType -> dense, length -> 2, values -> List(0.6894772180686981, 0.3105227819313019))</td></tr><tr><td>Map(vectorType -> dense, length -> 3, values -> List(0.0, 71000.0, 40.0))</td><td>1</td><td>0.0</td><td>Map(vectorType -> dense, length -> 2, values -> List(0.628136258436915, 0.371863741563085))</td></tr><tr><td>Map(vectorType -> dense, length -> 3, values -> List(1.0, 47000.0, 58.0))</td><td>1</td><td>0.0</td><td>Map(vectorType -> dense, length -> 2, values -> List(0.5483809479635257, 0.45161905203647434))</td></tr><tr><td>Map(vectorType -> dense, length -> 3, values -> List(1.0, 63000.0, 22.0))</td><td>0</td><td>0.0</td><td>Map(vectorType -> dense, length -> 2, values -> List(0.7217650780227889, 0.2782349219772111))</td></tr><tr><td>Map(vectorType -> dense, length -> 3, values -> List(1.0, 47000.0, 29.0))</td><td>0</td><td>0.0</td><td>Map(vectorType -> dense, length -> 2, values -> List(0.7015124405079024, 0.2984875594920976))</td></tr><tr><td>Map(vectorType -> dense, length -> 3, values -> List(0.0, 78000.0, 40.0))</td><td>0</td><td>0.0</td><td>Map(vectorType -> dense, length -> 2, values -> List(0.6219146354291435, 0.3780853645708565))</td></tr><tr><td>Map(vectorType -> dense, length -> 3, values -> List(1.0, 86000.0, 32.0))</td><td>0</td><td>0.0</td><td>Map(vectorType -> dense, length -> 2, values -> List(0.6543672241835928, 0.34563277581640717))</td></tr><tr><td>Map(vectorType -> dense, length -> 3, values -> List(1.0, 104000.0, 53.0))</td><td>1</td><td>0.0</td><td>Map(vectorType -> dense, length -> 2, values -> List(0.5229396522563343, 0.4770603477436657))</td></tr><tr><td>Map(vectorType -> dense, length -> 3, values -> List(1.0, 36000.0, 49.0))</td><td>1</td><td>0.0</td><td>Map(vectorType -> dense, length -> 2, values -> List(0.6084479261745052, 0.39155207382549484))</td></tr><tr><td>Map(vectorType -> dense, length -> 3, values -> List(0.0, 22000.0, 25.0))</td><td>0</td><td>0.0</td><td>Map(vectorType -> dense, length -> 2, values -> List(0.7410882574443345, 0.2589117425556655))</td></tr><tr><td>Map(vectorType -> dense, length -> 3, values -> List(1.0, 75000.0, 39.0))</td><td>1</td><td>0.0</td><td>Map(vectorType -> dense, length -> 2, values -> List(0.6272895322776569, 0.37271046772234306))</td></tr><tr><td>Map(vectorType -> dense, length -> 3, values -> List(1.0, 23000.0, 20.0))</td><td>0</td><td>0.0</td><td>Map(vectorType -> dense, length -> 2, values -> List(0.7595973307470799, 0.2404026692529201))</td></tr><tr><td>Map(vectorType -> dense, length -> 3, values -> List(0.0, 80000.0, 30.0))</td><td>0</td><td>0.0</td><td>Map(vectorType -> dense, length -> 2, values -> List(0.6721256857452849, 0.32787431425471514))</td></tr><tr><td>Map(vectorType -> dense, length -> 3, values -> List(1.0, 84000.0, 27.0))</td><td>0</td><td>0.0</td><td>Map(vectorType -> dense, length -> 2, values -> List(0.6812962190294992, 0.3187037809705008))</td></tr><tr><td>Map(vectorType -> dense, length -> 3, values -> List(1.0, 54000.0, 36.0))</td><td>0</td><td>0.0</td><td>Map(vectorType -> dense, length -> 2, values -> List(0.6611810316044955, 0.3388189683955045))</td></tr><tr><td>Map(vectorType -> dense, length -> 3, values -> List(1.0, 52000.0, 26.0))</td><td>0</td><td>0.0</td><td>Map(vectorType -> dense, length -> 2, values -> List(0.7117428024471572, 0.28825719755284285))</td></tr><tr><td>Map(vectorType -> dense, length -> 3, values -> List(1.0, 82000.0, 53.0))</td><td>1</td><td>0.0</td><td>Map(vectorType -> dense, length -> 2, values -> List(0.5437021476814272, 0.4562978523185728))</td></tr><tr><td>Map(vectorType -> dense, length -> 3, values -> List(0.0, 71000.0, 39.0))</td><td>0</td><td>0.0</td><td>Map(vectorType -> dense, length -> 2, values -> List(0.6334395926212552, 0.36656040737874485))</td></tr><tr><td>Map(vectorType -> dense, length -> 3, values -> List(0.0, 79000.0, 37.0))</td><td>1</td><td>0.0</td><td>Map(vectorType -> dense, length -> 2, values -> List(0.6369627039225315, 0.3630372960774685))</td></tr><tr><td>Map(vectorType -> dense, length -> 3, values -> List(0.0, 20000.0, 23.0))</td><td>0</td><td>0.0</td><td>Map(vectorType -> dense, length -> 2, values -> List(0.7511510482567209, 0.24884895174327915))</td></tr><tr><td>Map(vectorType -> dense, length -> 3, values -> List(1.0, 107000.0, 47.0))</td><td>1</td><td>0.0</td><td>Map(vectorType -> dense, length -> 2, values -> List(0.5540569089749464, 0.4459430910250536))</td></tr><tr><td>Map(vectorType -> dense, length -> 3, values -> List(0.0, 59000.0, 40.0))</td><td>0</td><td>0.0</td><td>Map(vectorType -> dense, length -> 2, values -> List(0.6387028034397596, 0.3612971965602404))</td></tr><tr><td>Map(vectorType -> dense, length -> 3, values -> List(1.0, 130000.0, 55.0))</td><td>1</td><td>1.0</td><td>Map(vectorType -> dense, length -> 2, values -> List(0.48692232639283, 0.51307767360717))</td></tr><tr><td>Map(vectorType -> dense, length -> 3, values -> List(0.0, 104000.0, 42.0))</td><td>1</td><td>0.0</td><td>Map(vectorType -> dense, length -> 2, values -> List(0.5874750623740294, 0.41252493762597064))</td></tr><tr><td>Map(vectorType -> dense, length -> 3, values -> List(0.0, 42000.0, 39.0))</td><td>0</td><td>0.0</td><td>Map(vectorType -> dense, length -> 2, values -> List(0.6585818427702034, 0.3414181572297966))</td></tr><tr><td>Map(vectorType -> dense, length -> 3, values -> List(1.0, 72000.0, 41.0))</td><td>0</td><td>0.0</td><td>Map(vectorType -> dense, length -> 2, values -> List(0.6192674559884981, 0.3807325440115019))</td></tr><tr><td>Map(vectorType -> dense, length -> 3, values -> List(0.0, 34000.0, 47.0))</td><td>1</td><td>0.0</td><td>Map(vectorType -> dense, length -> 2, values -> List(0.6236679917610274, 0.3763320082389726))</td></tr><tr><td>Map(vectorType -> dense, length -> 3, values -> List(0.0, 87000.0, 25.0))</td><td>0</td><td>0.0</td><td>Map(vectorType -> dense, length -> 2, values -> List(0.6910700657418359, 0.30892993425816406))</td></tr><tr><td>Map(vectorType -> dense, length -> 3, values -> List(0.0, 58000.0, 31.0))</td><td>0</td><td>0.0</td><td>Map(vectorType -> dense, length -> 2, values -> List(0.6853515714318471, 0.3146484285681529))</td></tr><tr><td>Map(vectorType -> dense, length -> 3, values -> List(0.0, 64000.0, 42.0))</td><td>0</td><td>0.0</td><td>Map(vectorType -> dense, length -> 2, values -> List(0.6236883144036668, 0.3763116855963332))</td></tr><tr><td>Map(vectorType -> dense, length -> 3, values -> List(0.0, 107000.0, 30.0))</td><td>1</td><td>0.0</td><td>Map(vectorType -> dense, length -> 2, values -> List(0.6491762532521597, 0.35082374674784034))</td></tr><tr><td>Map(vectorType -> dense, length -> 3, values -> List(0.0, 55000.0, 24.0))</td><td>0</td><td>0.0</td><td>Map(vectorType -> dense, length -> 2, values -> List(0.7209653473290971, 0.2790346526709029))</td></tr><tr><td>Map(vectorType -> dense, length -> 3, values -> List(0.0, 76000.0, 31.0))</td><td>0</td><td>0.0</td><td>Map(vectorType -> dense, length -> 2, values -> List(0.670448200808249, 0.32955179919175104))</td></tr><tr><td>Map(vectorType -> dense, length -> 3, values -> List(1.0, 112000.0, 43.0))</td><td>1</td><td>0.0</td><td>Map(vectorType -> dense, length -> 2, values -> List(0.5718004796885957, 0.4281995203114043))</td></tr><tr><td>Map(vectorType -> dense, length -> 3, values -> List(0.0, 74000.0, 49.0))</td><td>0</td><td>0.0</td><td>Map(vectorType -> dense, length -> 2, values -> List(0.5763743401808484, 0.42362565981915157))</td></tr><tr><td>Map(vectorType -> dense, length -> 3, values -> List(1.0, 65000.0, 38.0))</td><td>0</td><td>0.0</td><td>Map(vectorType -> dense, length -> 2, values -> List(0.6413669360014593, 0.35863306399854067))</td></tr><tr><td>Map(vectorType -> dense, length -> 3, values -> List(1.0, 75000.0, 40.0))</td><td>0</td><td>0.0</td><td>Map(vectorType -> dense, length -> 2, values -> List(0.6219503239649096, 0.37804967603509043))</td></tr><tr><td>Map(vectorType -> dense, length -> 3, values -> List(1.0, 63000.0, 36.0))</td><td>0</td><td>0.0</td><td>Map(vectorType -> dense, length -> 2, values -> List(0.653493308103225, 0.34650669189677497))</td></tr><tr><td>Map(vectorType -> dense, length -> 3, values -> List(0.0, 74000.0, 57.0))</td><td>1</td><td>0.0</td><td>Map(vectorType -> dense, length -> 2, values -> List(0.5313920516931933, 0.46860794830680674))</td></tr><tr><td>Map(vectorType -> dense, length -> 3, values -> List(0.0, 58000.0, 27.0))</td><td>0</td><td>0.0</td><td>Map(vectorType -> dense, length -> 2, values -> List(0.7046547215577188, 0.2953452784422812))</td></tr><tr><td>Map(vectorType -> dense, length -> 3, values -> List(0.0, 84000.0, 24.0))</td><td>0</td><td>0.0</td><td>Map(vectorType -> dense, length -> 2, values -> List(0.6983126271768016, 0.30168737282319835))</td></tr><tr><td>Map(vectorType -> dense, length -> 3, values -> List(0.0, 143000.0, 59.0))</td><td>1</td><td>1.0</td><td>Map(vectorType -> dense, length -> 2, values -> List(0.4547528340645853, 0.5452471659354148))</td></tr><tr><td>Map(vectorType -> dense, length -> 3, values -> List(0.0, 32000.0, 26.0))</td><td>0</td><td>0.0</td><td>Map(vectorType -> dense, length -> 2, values -> List(0.7292729225653417, 0.2707270774346583))</td></tr><tr><td>Map(vectorType -> dense, length -> 3, values -> List(1.0, 89000.0, 24.0))</td><td>0</td><td>0.0</td><td>Map(vectorType -> dense, length -> 2, values -> List(0.6919151732879895, 0.30808482671201054))</td></tr><tr><td>Map(vectorType -> dense, length -> 3, values -> List(0.0, 52000.0, 18.0))</td><td>0</td><td>0.0</td><td>Map(vectorType -> dense, length -> 2, values -> List(0.7497468224388986, 0.25025317756110144))</td></tr><tr><td>Map(vectorType -> dense, length -> 3, values -> List(1.0, 30000.0, 41.0))</td><td>0</td><td>0.0</td><td>Map(vectorType -> dense, length -> 2, values -> List(0.6560454993946865, 0.3439545006053135))</td></tr><tr><td>Map(vectorType -> dense, length -> 3, values -> List(1.0, 90000.0, 52.0))</td><td>1</td><td>0.0</td><td>Map(vectorType -> dense, length -> 2, values -> List(0.5418241197155506, 0.45817588028444944))</td></tr><tr><td>Map(vectorType -> dense, length -> 3, values -> List(1.0, 60000.0, 33.0))</td><td>0</td><td>0.0</td><td>Map(vectorType -> dense, length -> 2, values -> List(0.6713114275656983, 0.3286885724343017))</td></tr><tr><td>Map(vectorType -> dense, length -> 3, values -> List(0.0, 77000.0, 37.0))</td><td>0</td><td>0.0</td><td>Map(vectorType -> dense, length -> 2, values -> List(0.6387147921303685, 0.3612852078696315))</td></tr><tr><td>Map(vectorType -> dense, length -> 3, values -> List(1.0, 50000.0, 47.0))</td><td>1</td><td>0.0</td><td>Map(vectorType -> dense, length -> 2, values -> List(0.6066477183991733, 0.3933522816008267))</td></tr><tr><td>Map(vectorType -> dense, length -> 3, values -> List(1.0, 138000.0, 52.0))</td><td>1</td><td>1.0</td><td>Map(vectorType -> dense, length -> 2, values -> List(0.49641338387443057, 0.5035866161255694))</td></tr><tr><td>Map(vectorType -> dense, length -> 3, values -> List(1.0, 48000.0, 23.0))</td><td>0</td><td>0.0</td><td>Map(vectorType -> dense, length -> 2, values -> List(0.7285638161009224, 0.27143618389907764))</td></tr><tr><td>Map(vectorType -> dense, length -> 3, values -> List(0.0, 75000.0, 35.0))</td><td>0</td><td>0.0</td><td>Map(vectorType -> dense, length -> 2, values -> List(0.6508820266494271, 0.34911797335057293))</td></tr><tr><td>Map(vectorType -> dense, length -> 3, values -> List(1.0, 88000.0, 50.0))</td><td>1</td><td>0.0</td><td>Map(vectorType -> dense, length -> 2, values -> List(0.554980901766731, 0.445019098233269))</td></tr><tr><td>Map(vectorType -> dense, length -> 3, values -> List(1.0, 114000.0, 52.0))</td><td>0</td><td>0.0</td><td>Map(vectorType -> dense, length -> 2, values -> List(0.5191583167972184, 0.48084168320278164))</td></tr><tr><td>Map(vectorType -> dense, length -> 3, values -> List(1.0, 53000.0, 42.0))</td><td>0</td><td>0.0</td><td>Map(vectorType -> dense, length -> 2, values -> List(0.630817139680631, 0.369182860319369))</td></tr><tr><td>Map(vectorType -> dense, length -> 3, values -> List(0.0, 76000.0, 19.0))</td><td>0</td><td>0.0</td><td>Map(vectorType -> dense, length -> 2, values -> List(0.7277968418287117, 0.27220315817128826))</td></tr><tr><td>Map(vectorType -> dense, length -> 3, values -> List(0.0, 20000.0, 27.0))</td><td>0</td><td>0.0</td><td>Map(vectorType -> dense, length -> 2, values -> List(0.733738518281414, 0.266261481718586))</td></tr></tbody></table></div>"
      ]
     },
     "metadata": {
      "application/vnd.databricks.v1+output": {
       "addedWidgets": {},
       "aggData": [],
       "aggError": "",
       "aggOverflow": false,
       "aggSchema": [],
       "aggSeriesLimitReached": false,
       "aggType": "",
       "arguments": {},
       "columnCustomDisplayInfos": {},
       "data": [
        [
         {
          "length": 3,
          "values": [
           1.0,
           80000.0,
           26.0
          ],
          "vectorType": "dense"
         },
         0,
         0.0,
         {
          "length": 2,
          "values": [
           0.6894772180686981,
           0.3105227819313019
          ],
          "vectorType": "dense"
         }
        ],
        [
         {
          "length": 3,
          "values": [
           0.0,
           71000.0,
           40.0
          ],
          "vectorType": "dense"
         },
         1,
         0.0,
         {
          "length": 2,
          "values": [
           0.628136258436915,
           0.371863741563085
          ],
          "vectorType": "dense"
         }
        ],
        [
         {
          "length": 3,
          "values": [
           1.0,
           47000.0,
           58.0
          ],
          "vectorType": "dense"
         },
         1,
         0.0,
         {
          "length": 2,
          "values": [
           0.5483809479635257,
           0.45161905203647434
          ],
          "vectorType": "dense"
         }
        ],
        [
         {
          "length": 3,
          "values": [
           1.0,
           63000.0,
           22.0
          ],
          "vectorType": "dense"
         },
         0,
         0.0,
         {
          "length": 2,
          "values": [
           0.7217650780227889,
           0.2782349219772111
          ],
          "vectorType": "dense"
         }
        ],
        [
         {
          "length": 3,
          "values": [
           1.0,
           47000.0,
           29.0
          ],
          "vectorType": "dense"
         },
         0,
         0.0,
         {
          "length": 2,
          "values": [
           0.7015124405079024,
           0.2984875594920976
          ],
          "vectorType": "dense"
         }
        ],
        [
         {
          "length": 3,
          "values": [
           0.0,
           78000.0,
           40.0
          ],
          "vectorType": "dense"
         },
         0,
         0.0,
         {
          "length": 2,
          "values": [
           0.6219146354291435,
           0.3780853645708565
          ],
          "vectorType": "dense"
         }
        ],
        [
         {
          "length": 3,
          "values": [
           1.0,
           86000.0,
           32.0
          ],
          "vectorType": "dense"
         },
         0,
         0.0,
         {
          "length": 2,
          "values": [
           0.6543672241835928,
           0.34563277581640717
          ],
          "vectorType": "dense"
         }
        ],
        [
         {
          "length": 3,
          "values": [
           1.0,
           104000.0,
           53.0
          ],
          "vectorType": "dense"
         },
         1,
         0.0,
         {
          "length": 2,
          "values": [
           0.5229396522563343,
           0.4770603477436657
          ],
          "vectorType": "dense"
         }
        ],
        [
         {
          "length": 3,
          "values": [
           1.0,
           36000.0,
           49.0
          ],
          "vectorType": "dense"
         },
         1,
         0.0,
         {
          "length": 2,
          "values": [
           0.6084479261745052,
           0.39155207382549484
          ],
          "vectorType": "dense"
         }
        ],
        [
         {
          "length": 3,
          "values": [
           0.0,
           22000.0,
           25.0
          ],
          "vectorType": "dense"
         },
         0,
         0.0,
         {
          "length": 2,
          "values": [
           0.7410882574443345,
           0.2589117425556655
          ],
          "vectorType": "dense"
         }
        ],
        [
         {
          "length": 3,
          "values": [
           1.0,
           75000.0,
           39.0
          ],
          "vectorType": "dense"
         },
         1,
         0.0,
         {
          "length": 2,
          "values": [
           0.6272895322776569,
           0.37271046772234306
          ],
          "vectorType": "dense"
         }
        ],
        [
         {
          "length": 3,
          "values": [
           1.0,
           23000.0,
           20.0
          ],
          "vectorType": "dense"
         },
         0,
         0.0,
         {
          "length": 2,
          "values": [
           0.7595973307470799,
           0.2404026692529201
          ],
          "vectorType": "dense"
         }
        ],
        [
         {
          "length": 3,
          "values": [
           0.0,
           80000.0,
           30.0
          ],
          "vectorType": "dense"
         },
         0,
         0.0,
         {
          "length": 2,
          "values": [
           0.6721256857452849,
           0.32787431425471514
          ],
          "vectorType": "dense"
         }
        ],
        [
         {
          "length": 3,
          "values": [
           1.0,
           84000.0,
           27.0
          ],
          "vectorType": "dense"
         },
         0,
         0.0,
         {
          "length": 2,
          "values": [
           0.6812962190294992,
           0.3187037809705008
          ],
          "vectorType": "dense"
         }
        ],
        [
         {
          "length": 3,
          "values": [
           1.0,
           54000.0,
           36.0
          ],
          "vectorType": "dense"
         },
         0,
         0.0,
         {
          "length": 2,
          "values": [
           0.6611810316044955,
           0.3388189683955045
          ],
          "vectorType": "dense"
         }
        ],
        [
         {
          "length": 3,
          "values": [
           1.0,
           52000.0,
           26.0
          ],
          "vectorType": "dense"
         },
         0,
         0.0,
         {
          "length": 2,
          "values": [
           0.7117428024471572,
           0.28825719755284285
          ],
          "vectorType": "dense"
         }
        ],
        [
         {
          "length": 3,
          "values": [
           1.0,
           82000.0,
           53.0
          ],
          "vectorType": "dense"
         },
         1,
         0.0,
         {
          "length": 2,
          "values": [
           0.5437021476814272,
           0.4562978523185728
          ],
          "vectorType": "dense"
         }
        ],
        [
         {
          "length": 3,
          "values": [
           0.0,
           71000.0,
           39.0
          ],
          "vectorType": "dense"
         },
         0,
         0.0,
         {
          "length": 2,
          "values": [
           0.6334395926212552,
           0.36656040737874485
          ],
          "vectorType": "dense"
         }
        ],
        [
         {
          "length": 3,
          "values": [
           0.0,
           79000.0,
           37.0
          ],
          "vectorType": "dense"
         },
         1,
         0.0,
         {
          "length": 2,
          "values": [
           0.6369627039225315,
           0.3630372960774685
          ],
          "vectorType": "dense"
         }
        ],
        [
         {
          "length": 3,
          "values": [
           0.0,
           20000.0,
           23.0
          ],
          "vectorType": "dense"
         },
         0,
         0.0,
         {
          "length": 2,
          "values": [
           0.7511510482567209,
           0.24884895174327915
          ],
          "vectorType": "dense"
         }
        ],
        [
         {
          "length": 3,
          "values": [
           1.0,
           107000.0,
           47.0
          ],
          "vectorType": "dense"
         },
         1,
         0.0,
         {
          "length": 2,
          "values": [
           0.5540569089749464,
           0.4459430910250536
          ],
          "vectorType": "dense"
         }
        ],
        [
         {
          "length": 3,
          "values": [
           0.0,
           59000.0,
           40.0
          ],
          "vectorType": "dense"
         },
         0,
         0.0,
         {
          "length": 2,
          "values": [
           0.6387028034397596,
           0.3612971965602404
          ],
          "vectorType": "dense"
         }
        ],
        [
         {
          "length": 3,
          "values": [
           1.0,
           130000.0,
           55.0
          ],
          "vectorType": "dense"
         },
         1,
         1.0,
         {
          "length": 2,
          "values": [
           0.48692232639283,
           0.51307767360717
          ],
          "vectorType": "dense"
         }
        ],
        [
         {
          "length": 3,
          "values": [
           0.0,
           104000.0,
           42.0
          ],
          "vectorType": "dense"
         },
         1,
         0.0,
         {
          "length": 2,
          "values": [
           0.5874750623740294,
           0.41252493762597064
          ],
          "vectorType": "dense"
         }
        ],
        [
         {
          "length": 3,
          "values": [
           0.0,
           42000.0,
           39.0
          ],
          "vectorType": "dense"
         },
         0,
         0.0,
         {
          "length": 2,
          "values": [
           0.6585818427702034,
           0.3414181572297966
          ],
          "vectorType": "dense"
         }
        ],
        [
         {
          "length": 3,
          "values": [
           1.0,
           72000.0,
           41.0
          ],
          "vectorType": "dense"
         },
         0,
         0.0,
         {
          "length": 2,
          "values": [
           0.6192674559884981,
           0.3807325440115019
          ],
          "vectorType": "dense"
         }
        ],
        [
         {
          "length": 3,
          "values": [
           0.0,
           34000.0,
           47.0
          ],
          "vectorType": "dense"
         },
         1,
         0.0,
         {
          "length": 2,
          "values": [
           0.6236679917610274,
           0.3763320082389726
          ],
          "vectorType": "dense"
         }
        ],
        [
         {
          "length": 3,
          "values": [
           0.0,
           87000.0,
           25.0
          ],
          "vectorType": "dense"
         },
         0,
         0.0,
         {
          "length": 2,
          "values": [
           0.6910700657418359,
           0.30892993425816406
          ],
          "vectorType": "dense"
         }
        ],
        [
         {
          "length": 3,
          "values": [
           0.0,
           58000.0,
           31.0
          ],
          "vectorType": "dense"
         },
         0,
         0.0,
         {
          "length": 2,
          "values": [
           0.6853515714318471,
           0.3146484285681529
          ],
          "vectorType": "dense"
         }
        ],
        [
         {
          "length": 3,
          "values": [
           0.0,
           64000.0,
           42.0
          ],
          "vectorType": "dense"
         },
         0,
         0.0,
         {
          "length": 2,
          "values": [
           0.6236883144036668,
           0.3763116855963332
          ],
          "vectorType": "dense"
         }
        ],
        [
         {
          "length": 3,
          "values": [
           0.0,
           107000.0,
           30.0
          ],
          "vectorType": "dense"
         },
         1,
         0.0,
         {
          "length": 2,
          "values": [
           0.6491762532521597,
           0.35082374674784034
          ],
          "vectorType": "dense"
         }
        ],
        [
         {
          "length": 3,
          "values": [
           0.0,
           55000.0,
           24.0
          ],
          "vectorType": "dense"
         },
         0,
         0.0,
         {
          "length": 2,
          "values": [
           0.7209653473290971,
           0.2790346526709029
          ],
          "vectorType": "dense"
         }
        ],
        [
         {
          "length": 3,
          "values": [
           0.0,
           76000.0,
           31.0
          ],
          "vectorType": "dense"
         },
         0,
         0.0,
         {
          "length": 2,
          "values": [
           0.670448200808249,
           0.32955179919175104
          ],
          "vectorType": "dense"
         }
        ],
        [
         {
          "length": 3,
          "values": [
           1.0,
           112000.0,
           43.0
          ],
          "vectorType": "dense"
         },
         1,
         0.0,
         {
          "length": 2,
          "values": [
           0.5718004796885957,
           0.4281995203114043
          ],
          "vectorType": "dense"
         }
        ],
        [
         {
          "length": 3,
          "values": [
           0.0,
           74000.0,
           49.0
          ],
          "vectorType": "dense"
         },
         0,
         0.0,
         {
          "length": 2,
          "values": [
           0.5763743401808484,
           0.42362565981915157
          ],
          "vectorType": "dense"
         }
        ],
        [
         {
          "length": 3,
          "values": [
           1.0,
           65000.0,
           38.0
          ],
          "vectorType": "dense"
         },
         0,
         0.0,
         {
          "length": 2,
          "values": [
           0.6413669360014593,
           0.35863306399854067
          ],
          "vectorType": "dense"
         }
        ],
        [
         {
          "length": 3,
          "values": [
           1.0,
           75000.0,
           40.0
          ],
          "vectorType": "dense"
         },
         0,
         0.0,
         {
          "length": 2,
          "values": [
           0.6219503239649096,
           0.37804967603509043
          ],
          "vectorType": "dense"
         }
        ],
        [
         {
          "length": 3,
          "values": [
           1.0,
           63000.0,
           36.0
          ],
          "vectorType": "dense"
         },
         0,
         0.0,
         {
          "length": 2,
          "values": [
           0.653493308103225,
           0.34650669189677497
          ],
          "vectorType": "dense"
         }
        ],
        [
         {
          "length": 3,
          "values": [
           0.0,
           74000.0,
           57.0
          ],
          "vectorType": "dense"
         },
         1,
         0.0,
         {
          "length": 2,
          "values": [
           0.5313920516931933,
           0.46860794830680674
          ],
          "vectorType": "dense"
         }
        ],
        [
         {
          "length": 3,
          "values": [
           0.0,
           58000.0,
           27.0
          ],
          "vectorType": "dense"
         },
         0,
         0.0,
         {
          "length": 2,
          "values": [
           0.7046547215577188,
           0.2953452784422812
          ],
          "vectorType": "dense"
         }
        ],
        [
         {
          "length": 3,
          "values": [
           0.0,
           84000.0,
           24.0
          ],
          "vectorType": "dense"
         },
         0,
         0.0,
         {
          "length": 2,
          "values": [
           0.6983126271768016,
           0.30168737282319835
          ],
          "vectorType": "dense"
         }
        ],
        [
         {
          "length": 3,
          "values": [
           0.0,
           143000.0,
           59.0
          ],
          "vectorType": "dense"
         },
         1,
         1.0,
         {
          "length": 2,
          "values": [
           0.4547528340645853,
           0.5452471659354148
          ],
          "vectorType": "dense"
         }
        ],
        [
         {
          "length": 3,
          "values": [
           0.0,
           32000.0,
           26.0
          ],
          "vectorType": "dense"
         },
         0,
         0.0,
         {
          "length": 2,
          "values": [
           0.7292729225653417,
           0.2707270774346583
          ],
          "vectorType": "dense"
         }
        ],
        [
         {
          "length": 3,
          "values": [
           1.0,
           89000.0,
           24.0
          ],
          "vectorType": "dense"
         },
         0,
         0.0,
         {
          "length": 2,
          "values": [
           0.6919151732879895,
           0.30808482671201054
          ],
          "vectorType": "dense"
         }
        ],
        [
         {
          "length": 3,
          "values": [
           0.0,
           52000.0,
           18.0
          ],
          "vectorType": "dense"
         },
         0,
         0.0,
         {
          "length": 2,
          "values": [
           0.7497468224388986,
           0.25025317756110144
          ],
          "vectorType": "dense"
         }
        ],
        [
         {
          "length": 3,
          "values": [
           1.0,
           30000.0,
           41.0
          ],
          "vectorType": "dense"
         },
         0,
         0.0,
         {
          "length": 2,
          "values": [
           0.6560454993946865,
           0.3439545006053135
          ],
          "vectorType": "dense"
         }
        ],
        [
         {
          "length": 3,
          "values": [
           1.0,
           90000.0,
           52.0
          ],
          "vectorType": "dense"
         },
         1,
         0.0,
         {
          "length": 2,
          "values": [
           0.5418241197155506,
           0.45817588028444944
          ],
          "vectorType": "dense"
         }
        ],
        [
         {
          "length": 3,
          "values": [
           1.0,
           60000.0,
           33.0
          ],
          "vectorType": "dense"
         },
         0,
         0.0,
         {
          "length": 2,
          "values": [
           0.6713114275656983,
           0.3286885724343017
          ],
          "vectorType": "dense"
         }
        ],
        [
         {
          "length": 3,
          "values": [
           0.0,
           77000.0,
           37.0
          ],
          "vectorType": "dense"
         },
         0,
         0.0,
         {
          "length": 2,
          "values": [
           0.6387147921303685,
           0.3612852078696315
          ],
          "vectorType": "dense"
         }
        ],
        [
         {
          "length": 3,
          "values": [
           1.0,
           50000.0,
           47.0
          ],
          "vectorType": "dense"
         },
         1,
         0.0,
         {
          "length": 2,
          "values": [
           0.6066477183991733,
           0.3933522816008267
          ],
          "vectorType": "dense"
         }
        ],
        [
         {
          "length": 3,
          "values": [
           1.0,
           138000.0,
           52.0
          ],
          "vectorType": "dense"
         },
         1,
         1.0,
         {
          "length": 2,
          "values": [
           0.49641338387443057,
           0.5035866161255694
          ],
          "vectorType": "dense"
         }
        ],
        [
         {
          "length": 3,
          "values": [
           1.0,
           48000.0,
           23.0
          ],
          "vectorType": "dense"
         },
         0,
         0.0,
         {
          "length": 2,
          "values": [
           0.7285638161009224,
           0.27143618389907764
          ],
          "vectorType": "dense"
         }
        ],
        [
         {
          "length": 3,
          "values": [
           0.0,
           75000.0,
           35.0
          ],
          "vectorType": "dense"
         },
         0,
         0.0,
         {
          "length": 2,
          "values": [
           0.6508820266494271,
           0.34911797335057293
          ],
          "vectorType": "dense"
         }
        ],
        [
         {
          "length": 3,
          "values": [
           1.0,
           88000.0,
           50.0
          ],
          "vectorType": "dense"
         },
         1,
         0.0,
         {
          "length": 2,
          "values": [
           0.554980901766731,
           0.445019098233269
          ],
          "vectorType": "dense"
         }
        ],
        [
         {
          "length": 3,
          "values": [
           1.0,
           114000.0,
           52.0
          ],
          "vectorType": "dense"
         },
         0,
         0.0,
         {
          "length": 2,
          "values": [
           0.5191583167972184,
           0.48084168320278164
          ],
          "vectorType": "dense"
         }
        ],
        [
         {
          "length": 3,
          "values": [
           1.0,
           53000.0,
           42.0
          ],
          "vectorType": "dense"
         },
         0,
         0.0,
         {
          "length": 2,
          "values": [
           0.630817139680631,
           0.369182860319369
          ],
          "vectorType": "dense"
         }
        ],
        [
         {
          "length": 3,
          "values": [
           0.0,
           76000.0,
           19.0
          ],
          "vectorType": "dense"
         },
         0,
         0.0,
         {
          "length": 2,
          "values": [
           0.7277968418287117,
           0.27220315817128826
          ],
          "vectorType": "dense"
         }
        ],
        [
         {
          "length": 3,
          "values": [
           0.0,
           20000.0,
           27.0
          ],
          "vectorType": "dense"
         },
         0,
         0.0,
         {
          "length": 2,
          "values": [
           0.733738518281414,
           0.266261481718586
          ],
          "vectorType": "dense"
         }
        ]
       ],
       "datasetInfos": [],
       "dbfsResultPath": null,
       "isJsonSchema": true,
       "metadata": {},
       "overflow": false,
       "plotOptions": {
        "customPlotOptions": {},
        "displayType": "table",
        "pivotAggregation": null,
        "pivotColumns": null,
        "xColumns": null,
        "yColumns": null
       },
       "removedWidgets": [],
       "schema": [
        {
         "metadata": "{\"ml_attr\":{\"attrs\":{\"numeric\":[{\"idx\":1,\"name\":\"Salario\"},{\"idx\":2,\"name\":\"Edad\"}],\"binary\":[{\"idx\":0,\"name\":\"GeneroOHE_Female\"}]},\"num_attrs\":3}}",
         "name": "features",
         "type": "{\"type\":\"udt\",\"class\":\"org.apache.spark.ml.linalg.VectorUDT\",\"pyClass\":\"pyspark.ml.linalg.VectorUDT\",\"sqlType\":{\"type\":\"struct\",\"fields\":[{\"name\":\"type\",\"type\":\"byte\",\"nullable\":false,\"metadata\":{}},{\"name\":\"size\",\"type\":\"integer\",\"nullable\":true,\"metadata\":{}},{\"name\":\"indices\",\"type\":{\"type\":\"array\",\"elementType\":\"integer\",\"containsNull\":false},\"nullable\":true,\"metadata\":{}},{\"name\":\"values\",\"type\":{\"type\":\"array\",\"elementType\":\"double\",\"containsNull\":false},\"nullable\":true,\"metadata\":{}}]}}"
        },
        {
         "metadata": "{}",
         "name": "Compra",
         "type": "\"integer\""
        },
        {
         "metadata": "{\"ml_attr\":{\"type\":\"nominal\",\"num_vals\":2}}",
         "name": "prediction",
         "type": "\"double\""
        },
        {
         "metadata": "{\"ml_attr\":{\"num_attrs\":2}}",
         "name": "probability",
         "type": "{\"type\":\"udt\",\"class\":\"org.apache.spark.ml.linalg.VectorUDT\",\"pyClass\":\"pyspark.ml.linalg.VectorUDT\",\"sqlType\":{\"type\":\"struct\",\"fields\":[{\"name\":\"type\",\"type\":\"byte\",\"nullable\":false,\"metadata\":{}},{\"name\":\"size\",\"type\":\"integer\",\"nullable\":true,\"metadata\":{}},{\"name\":\"indices\",\"type\":{\"type\":\"array\",\"elementType\":\"integer\",\"containsNull\":false},\"nullable\":true,\"metadata\":{}},{\"name\":\"values\",\"type\":{\"type\":\"array\",\"elementType\":\"double\",\"containsNull\":false},\"nullable\":true,\"metadata\":{}}]}}"
        }
       ],
       "type": "table"
      }
     },
     "output_type": "display_data"
    }
   ],
   "source": [
    "display(predDF.select(\"features\",\"Compra\", \"prediction\", \"probability\"))"
   ]
  },
  {
   "cell_type": "markdown",
   "metadata": {
    "application/vnd.databricks.v1+cell": {
     "cellMetadata": {},
     "inputWidgets": {},
     "nuid": "eba3b883-2984-4ad1-be67-08b805282fe5",
     "showTitle": false,
     "title": ""
    }
   },
   "source": [
    "## Evaluando el Modelo"
   ]
  },
  {
   "cell_type": "code",
   "execution_count": 0,
   "metadata": {
    "application/vnd.databricks.v1+cell": {
     "cellMetadata": {
      "byteLimit": 2048000,
      "rowLimit": 10000
     },
     "inputWidgets": {},
     "nuid": "52dfc27b-7933-422e-a537-f581ea2444d8",
     "showTitle": false,
     "title": ""
    }
   },
   "outputs": [
    {
     "output_type": "stream",
     "name": "stdout",
     "output_type": "stream",
     "text": [
      "Out[22]: LogisticRegressionModel: uid=LogisticRegression_5b7583b814d9, numClasses=2, numFeatures=3"
     ]
    }
   ],
   "source": [
    "pipelineModel.stages[-1] ## el modelo de regresion logistica"
   ]
  },
  {
   "cell_type": "code",
   "execution_count": 0,
   "metadata": {
    "application/vnd.databricks.v1+cell": {
     "cellMetadata": {
      "byteLimit": 2048000,
      "rowLimit": 10000
     },
     "inputWidgets": {},
     "nuid": "19a20301-b8bd-4b61-9815-c7d7016b85cf",
     "showTitle": false,
     "title": ""
    }
   },
   "outputs": [
    {
     "output_type": "display_data",
     "data": {
      "text/html": [
       "<style scoped>\n",
       "  .table-result-container {\n",
       "    max-height: 300px;\n",
       "    overflow: auto;\n",
       "  }\n",
       "  table, th, td {\n",
       "    border: 1px solid black;\n",
       "    border-collapse: collapse;\n",
       "  }\n",
       "  th, td {\n",
       "    padding: 5px;\n",
       "  }\n",
       "  th {\n",
       "    text-align: left;\n",
       "  }\n",
       "</style><div class='table-result-container'><table class='table-result'><thead style='background-color: white'><tr><th>False Positive Rate</th><th>True Positive Rate</th><th>Threshold</th></tr></thead><tbody><tr><td>0.0</td><td>0.0</td><td>0.5452471659354148</td></tr><tr><td>0.0</td><td>0.05263157894736842</td><td>0.5452471659354148</td></tr><tr><td>0.0</td><td>0.10526315789473684</td><td>0.51307767360717</td></tr><tr><td>0.0</td><td>0.15789473684210525</td><td>0.5035866161255694</td></tr><tr><td>0.02564102564102564</td><td>0.15789473684210525</td><td>0.48084168320278164</td></tr><tr><td>0.02564102564102564</td><td>0.21052631578947367</td><td>0.4770603477436657</td></tr><tr><td>0.02564102564102564</td><td>0.2631578947368421</td><td>0.46860794830680674</td></tr><tr><td>0.02564102564102564</td><td>0.3157894736842105</td><td>0.45817588028444944</td></tr><tr><td>0.02564102564102564</td><td>0.3684210526315789</td><td>0.4562978523185728</td></tr><tr><td>0.02564102564102564</td><td>0.42105263157894735</td><td>0.45161905203647434</td></tr><tr><td>0.02564102564102564</td><td>0.47368421052631576</td><td>0.4459430910250536</td></tr><tr><td>0.02564102564102564</td><td>0.5263157894736842</td><td>0.445019098233269</td></tr><tr><td>0.02564102564102564</td><td>0.5789473684210527</td><td>0.4281995203114043</td></tr><tr><td>0.05128205128205128</td><td>0.5789473684210527</td><td>0.42362565981915157</td></tr><tr><td>0.05128205128205128</td><td>0.631578947368421</td><td>0.41252493762597064</td></tr><tr><td>0.05128205128205128</td><td>0.6842105263157895</td><td>0.3933522816008267</td></tr><tr><td>0.05128205128205128</td><td>0.7368421052631579</td><td>0.39155207382549484</td></tr><tr><td>0.07692307692307693</td><td>0.7368421052631579</td><td>0.3807325440115019</td></tr><tr><td>0.10256410256410256</td><td>0.7368421052631579</td><td>0.3780853645708565</td></tr><tr><td>0.1282051282051282</td><td>0.7368421052631579</td><td>0.37804967603509043</td></tr><tr><td>0.1282051282051282</td><td>0.7894736842105263</td><td>0.3763320082389726</td></tr><tr><td>0.15384615384615385</td><td>0.7894736842105263</td><td>0.3763116855963332</td></tr><tr><td>0.15384615384615385</td><td>0.8421052631578947</td><td>0.37271046772234306</td></tr><tr><td>0.15384615384615385</td><td>0.8947368421052632</td><td>0.371863741563085</td></tr><tr><td>0.1794871794871795</td><td>0.8947368421052632</td><td>0.369182860319369</td></tr><tr><td>0.20512820512820512</td><td>0.8947368421052632</td><td>0.36656040737874485</td></tr><tr><td>0.20512820512820512</td><td>0.9473684210526315</td><td>0.3630372960774685</td></tr><tr><td>0.23076923076923078</td><td>0.9473684210526315</td><td>0.3612971965602404</td></tr><tr><td>0.2564102564102564</td><td>0.9473684210526315</td><td>0.3612852078696315</td></tr><tr><td>0.28205128205128205</td><td>0.9473684210526315</td><td>0.35863306399854067</td></tr><tr><td>0.28205128205128205</td><td>1.0</td><td>0.35082374674784034</td></tr><tr><td>0.3076923076923077</td><td>1.0</td><td>0.34911797335057293</td></tr><tr><td>0.3333333333333333</td><td>1.0</td><td>0.34650669189677497</td></tr><tr><td>0.358974358974359</td><td>1.0</td><td>0.34563277581640717</td></tr><tr><td>0.38461538461538464</td><td>1.0</td><td>0.3439545006053135</td></tr><tr><td>0.41025641025641024</td><td>1.0</td><td>0.3414181572297966</td></tr><tr><td>0.4358974358974359</td><td>1.0</td><td>0.3388189683955045</td></tr><tr><td>0.46153846153846156</td><td>1.0</td><td>0.32955179919175104</td></tr><tr><td>0.48717948717948717</td><td>1.0</td><td>0.3286885724343017</td></tr><tr><td>0.5128205128205128</td><td>1.0</td><td>0.32787431425471514</td></tr><tr><td>0.5384615384615384</td><td>1.0</td><td>0.3187037809705008</td></tr><tr><td>0.5641025641025641</td><td>1.0</td><td>0.3146484285681529</td></tr><tr><td>0.5897435897435898</td><td>1.0</td><td>0.3105227819313019</td></tr><tr><td>0.6153846153846154</td><td>1.0</td><td>0.30892993425816406</td></tr><tr><td>0.6410256410256411</td><td>1.0</td><td>0.30808482671201054</td></tr><tr><td>0.6666666666666666</td><td>1.0</td><td>0.30168737282319835</td></tr><tr><td>0.6923076923076923</td><td>1.0</td><td>0.2984875594920976</td></tr><tr><td>0.717948717948718</td><td>1.0</td><td>0.2953452784422812</td></tr><tr><td>0.7435897435897436</td><td>1.0</td><td>0.28825719755284285</td></tr><tr><td>0.7692307692307693</td><td>1.0</td><td>0.2790346526709029</td></tr><tr><td>0.7948717948717948</td><td>1.0</td><td>0.2782349219772111</td></tr><tr><td>0.8205128205128205</td><td>1.0</td><td>0.27220315817128826</td></tr><tr><td>0.8461538461538461</td><td>1.0</td><td>0.27143618389907764</td></tr><tr><td>0.8717948717948718</td><td>1.0</td><td>0.2707270774346583</td></tr><tr><td>0.8974358974358975</td><td>1.0</td><td>0.266261481718586</td></tr><tr><td>0.9230769230769231</td><td>1.0</td><td>0.2589117425556655</td></tr><tr><td>0.9487179487179487</td><td>1.0</td><td>0.25025317756110144</td></tr><tr><td>0.9743589743589743</td><td>1.0</td><td>0.24884895174327915</td></tr><tr><td>1.0</td><td>1.0</td><td>0.2404026692529201</td></tr><tr><td>1.0</td><td>1.0</td><td>0.2404026692529201</td></tr></tbody></table></div>"
      ]
     },
     "metadata": {
      "application/vnd.databricks.v1+output": {
       "addedWidgets": {},
       "aggData": [],
       "aggError": "",
       "aggOverflow": false,
       "aggSchema": [],
       "aggSeriesLimitReached": false,
       "aggType": "",
       "arguments": {},
       "columnCustomDisplayInfos": {},
       "data": [
        [
         0.0,
         0.0,
         0.5452471659354148
        ],
        [
         0.0,
         0.05263157894736842,
         0.5452471659354148
        ],
        [
         0.0,
         0.10526315789473684,
         0.51307767360717
        ],
        [
         0.0,
         0.15789473684210525,
         0.5035866161255694
        ],
        [
         0.02564102564102564,
         0.15789473684210525,
         0.48084168320278164
        ],
        [
         0.02564102564102564,
         0.21052631578947367,
         0.4770603477436657
        ],
        [
         0.02564102564102564,
         0.2631578947368421,
         0.46860794830680674
        ],
        [
         0.02564102564102564,
         0.3157894736842105,
         0.45817588028444944
        ],
        [
         0.02564102564102564,
         0.3684210526315789,
         0.4562978523185728
        ],
        [
         0.02564102564102564,
         0.42105263157894735,
         0.45161905203647434
        ],
        [
         0.02564102564102564,
         0.47368421052631576,
         0.4459430910250536
        ],
        [
         0.02564102564102564,
         0.5263157894736842,
         0.445019098233269
        ],
        [
         0.02564102564102564,
         0.5789473684210527,
         0.4281995203114043
        ],
        [
         0.05128205128205128,
         0.5789473684210527,
         0.42362565981915157
        ],
        [
         0.05128205128205128,
         0.631578947368421,
         0.41252493762597064
        ],
        [
         0.05128205128205128,
         0.6842105263157895,
         0.3933522816008267
        ],
        [
         0.05128205128205128,
         0.7368421052631579,
         0.39155207382549484
        ],
        [
         0.07692307692307693,
         0.7368421052631579,
         0.3807325440115019
        ],
        [
         0.10256410256410256,
         0.7368421052631579,
         0.3780853645708565
        ],
        [
         0.1282051282051282,
         0.7368421052631579,
         0.37804967603509043
        ],
        [
         0.1282051282051282,
         0.7894736842105263,
         0.3763320082389726
        ],
        [
         0.15384615384615385,
         0.7894736842105263,
         0.3763116855963332
        ],
        [
         0.15384615384615385,
         0.8421052631578947,
         0.37271046772234306
        ],
        [
         0.15384615384615385,
         0.8947368421052632,
         0.371863741563085
        ],
        [
         0.1794871794871795,
         0.8947368421052632,
         0.369182860319369
        ],
        [
         0.20512820512820512,
         0.8947368421052632,
         0.36656040737874485
        ],
        [
         0.20512820512820512,
         0.9473684210526315,
         0.3630372960774685
        ],
        [
         0.23076923076923078,
         0.9473684210526315,
         0.3612971965602404
        ],
        [
         0.2564102564102564,
         0.9473684210526315,
         0.3612852078696315
        ],
        [
         0.28205128205128205,
         0.9473684210526315,
         0.35863306399854067
        ],
        [
         0.28205128205128205,
         1.0,
         0.35082374674784034
        ],
        [
         0.3076923076923077,
         1.0,
         0.34911797335057293
        ],
        [
         0.3333333333333333,
         1.0,
         0.34650669189677497
        ],
        [
         0.358974358974359,
         1.0,
         0.34563277581640717
        ],
        [
         0.38461538461538464,
         1.0,
         0.3439545006053135
        ],
        [
         0.41025641025641024,
         1.0,
         0.3414181572297966
        ],
        [
         0.4358974358974359,
         1.0,
         0.3388189683955045
        ],
        [
         0.46153846153846156,
         1.0,
         0.32955179919175104
        ],
        [
         0.48717948717948717,
         1.0,
         0.3286885724343017
        ],
        [
         0.5128205128205128,
         1.0,
         0.32787431425471514
        ],
        [
         0.5384615384615384,
         1.0,
         0.3187037809705008
        ],
        [
         0.5641025641025641,
         1.0,
         0.3146484285681529
        ],
        [
         0.5897435897435898,
         1.0,
         0.3105227819313019
        ],
        [
         0.6153846153846154,
         1.0,
         0.30892993425816406
        ],
        [
         0.6410256410256411,
         1.0,
         0.30808482671201054
        ],
        [
         0.6666666666666666,
         1.0,
         0.30168737282319835
        ],
        [
         0.6923076923076923,
         1.0,
         0.2984875594920976
        ],
        [
         0.717948717948718,
         1.0,
         0.2953452784422812
        ],
        [
         0.7435897435897436,
         1.0,
         0.28825719755284285
        ],
        [
         0.7692307692307693,
         1.0,
         0.2790346526709029
        ],
        [
         0.7948717948717948,
         1.0,
         0.2782349219772111
        ],
        [
         0.8205128205128205,
         1.0,
         0.27220315817128826
        ],
        [
         0.8461538461538461,
         1.0,
         0.27143618389907764
        ],
        [
         0.8717948717948718,
         1.0,
         0.2707270774346583
        ],
        [
         0.8974358974358975,
         1.0,
         0.266261481718586
        ],
        [
         0.9230769230769231,
         1.0,
         0.2589117425556655
        ],
        [
         0.9487179487179487,
         1.0,
         0.25025317756110144
        ],
        [
         0.9743589743589743,
         1.0,
         0.24884895174327915
        ],
        [
         1.0,
         1.0,
         0.2404026692529201
        ],
        [
         1.0,
         1.0,
         0.2404026692529201
        ]
       ],
       "datasetInfos": [],
       "dbfsResultPath": null,
       "isJsonSchema": true,
       "metadata": {},
       "overflow": false,
       "plotOptions": {
        "customPlotOptions": {},
        "displayType": "ROC",
        "pivotAggregation": null,
        "pivotColumns": null,
        "xColumns": [],
        "yColumns": [
         "False Positive Rate",
         "True Positive Rate",
         "Threshold"
        ]
       },
       "removedWidgets": [],
       "schema": [
        {
         "metadata": "{}",
         "name": "False Positive Rate",
         "type": "\"double\""
        },
        {
         "metadata": "{}",
         "name": "True Positive Rate",
         "type": "\"double\""
        },
        {
         "metadata": "{}",
         "name": "Threshold",
         "type": "\"double\""
        }
       ],
       "type": "table"
      }
     },
     "output_type": "display_data"
    }
   ],
   "source": [
    "display(pipelineModel.stages[-1], predDF.drop(\"prediction\", \"rawPrediction\", \"probability\"), \"ROC\")"
   ]
  },
  {
   "cell_type": "code",
   "execution_count": 0,
   "metadata": {
    "application/vnd.databricks.v1+cell": {
     "cellMetadata": {
      "byteLimit": 2048000,
      "rowLimit": 10000
     },
     "inputWidgets": {},
     "nuid": "b2a82285-acec-4772-a79a-1ad8712980f2",
     "showTitle": false,
     "title": ""
    }
   },
   "outputs": [
    {
     "output_type": "stream",
     "name": "stdout",
     "output_type": "stream",
     "text": [
      "Area under ROC curve: 0.932523616734143\nAccuracy: 0.7241379310344828\n"
     ]
    }
   ],
   "source": [
    "from pyspark.ml.evaluation import BinaryClassificationEvaluator, MulticlassClassificationEvaluator\n",
    "\n",
    "bcEvaluator = BinaryClassificationEvaluator(metricName=\"areaUnderROC\",labelCol=\"Compra\")\n",
    "print(f\"Area under ROC curve: {bcEvaluator.evaluate(predDF)}\")\n",
    "\n",
    "mcEvaluator = MulticlassClassificationEvaluator(metricName=\"accuracy\",labelCol=\"Compra\")\n",
    "print(f\"Accuracy: {mcEvaluator.evaluate(predDF)}\")"
   ]
  },
  {
   "cell_type": "markdown",
   "metadata": {
    "application/vnd.databricks.v1+cell": {
     "cellMetadata": {},
     "inputWidgets": {},
     "nuid": "0fdeb604-5831-4143-b040-dd0470fbe32c",
     "showTitle": false,
     "title": ""
    }
   },
   "source": [
    "## Ajuste de Hiperparametros"
   ]
  },
  {
   "cell_type": "code",
   "execution_count": 0,
   "metadata": {
    "application/vnd.databricks.v1+cell": {
     "cellMetadata": {
      "byteLimit": 2048000,
      "rowLimit": 10000
     },
     "inputWidgets": {},
     "nuid": "bf4c61d6-53a6-4369-8c44-db8584d393ff",
     "showTitle": false,
     "title": ""
    }
   },
   "outputs": [],
   "source": [
    "from pyspark.ml.tuning import ParamGridBuilder, CrossValidator\n",
    "\n",
    "paramGrid = (ParamGridBuilder()\n",
    "             .addGrid(lr.regParam, [0.01, 0.5, 2.0])\n",
    "             .addGrid(lr.elasticNetParam, [0.0, 0.5, 1.0])\n",
    "             .build())"
   ]
  },
  {
   "cell_type": "code",
   "execution_count": 0,
   "metadata": {
    "application/vnd.databricks.v1+cell": {
     "cellMetadata": {
      "byteLimit": 2048000,
      "rowLimit": 10000
     },
     "inputWidgets": {},
     "nuid": "896f8622-aa34-4571-93c5-aac7bdfb922f",
     "showTitle": false,
     "title": ""
    }
   },
   "outputs": [],
   "source": [
    "# Create a 3-fold CrossValidator\n",
    "cv = CrossValidator(estimator=pipeline, estimatorParamMaps=paramGrid, evaluator=bcEvaluator, numFolds=3, parallelism = 4)\n",
    "\n",
    "# Run cross validations. This step takes a few minutes and returns the best model found from the cross validation.\n",
    "cvModel = cv.fit(trainDF)"
   ]
  },
  {
   "cell_type": "markdown",
   "metadata": {
    "application/vnd.databricks.v1+cell": {
     "cellMetadata": {},
     "inputWidgets": {},
     "nuid": "d41da940-535d-4164-b413-d40ca2ae46e8",
     "showTitle": false,
     "title": ""
    }
   },
   "source": [
    "## Realizamos nuevas predicciones y evaluamos el modelo"
   ]
  },
  {
   "cell_type": "code",
   "execution_count": 0,
   "metadata": {
    "application/vnd.databricks.v1+cell": {
     "cellMetadata": {
      "byteLimit": 2048000,
      "rowLimit": 10000
     },
     "inputWidgets": {},
     "nuid": "ac1a6f7c-64c0-48d0-86c6-8fa59269b8fb",
     "showTitle": false,
     "title": ""
    }
   },
   "outputs": [
    {
     "output_type": "stream",
     "name": "stdout",
     "output_type": "stream",
     "text": [
      "Area under ROC curve: 0.9338731443994601\nAccuracy: 0.8793103448275862\n"
     ]
    }
   ],
   "source": [
    "# Use the model identified by the cross-validation to make predictions on the test dataset\n",
    "cvPredDF = cvModel.transform(testDF)\n",
    "\n",
    "# Evaluate the model's performance based on area under the ROC curve and accuracy \n",
    "print(f\"Area under ROC curve: {bcEvaluator.evaluate(cvPredDF)}\")\n",
    "print(f\"Accuracy: {mcEvaluator.evaluate(cvPredDF)}\")"
   ]
  },
  {
   "cell_type": "markdown",
   "metadata": {
    "application/vnd.databricks.v1+cell": {
     "cellMetadata": {},
     "inputWidgets": {},
     "nuid": "9fe8bf46-f35a-4d1b-9c16-195f5157a16f",
     "showTitle": false,
     "title": ""
    }
   },
   "source": [
    "## Utilizamos otra metrica, para evaluar el modelo, La matriz de confusion"
   ]
  },
  {
   "cell_type": "code",
   "execution_count": 0,
   "metadata": {
    "application/vnd.databricks.v1+cell": {
     "cellMetadata": {
      "byteLimit": 2048000,
      "rowLimit": 10000
     },
     "inputWidgets": {},
     "nuid": "ffdd4cf7-b444-429e-897e-38ea109c58a2",
     "showTitle": false,
     "title": ""
    }
   },
   "outputs": [
    {
     "output_type": "display_data",
     "data": {
      "image/png": "[encoded data removed]"
     },
     "metadata": {
      "application/vnd.databricks.v1+output": {
       "addedWidgets": {},
       "arguments": {},
       "data": "data:image/png;base64,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\n",
       "datasetInfos": [],
       "metadata": {},
       "removedWidgets": [],
       "type": "image"
      }
     },
     "output_type": "display_data"
    }
   ],
   "source": [
    "import matplotlib.pyplot as plt\n",
    "import seaborn as sns\n",
    "from sklearn.metrics import confusion_matrix\n",
    "\n",
    "predictions = cvModel.transform(testDF)\n",
    "\n",
    "y_true = predictions.select(\"Compra\").collect()\n",
    "y_pred = predictions.select(\"prediction\").collect()\n",
    "\n",
    "conf_matrix = confusion_matrix(y_true, y_pred)\n",
    "\n",
    "plt.figure(figsize=(8, 6))\n",
    "sns.heatmap(conf_matrix, annot=True, fmt=\"d\", cmap=\"Blues\", xticklabels=[\"No Compra\", \"Compra\"], yticklabels=[\"No Compra\", \"Compra\"])\n",
    "plt.xlabel(\"Predicted\")\n",
    "plt.ylabel(\"Actual\")\n",
    "plt.title(\"Confusion Matrix\")\n",
    "plt.show()"
   ]
  },
  {
   "cell_type": "code",
   "execution_count": 0,
   "metadata": {
    "application/vnd.databricks.v1+cell": {
     "cellMetadata": {
      "byteLimit": 2048000,
      "rowLimit": 10000
     },
     "inputWidgets": {},
     "nuid": "d6649648-0a49-4a3d-af69-df689ed4c685",
     "showTitle": false,
     "title": ""
    }
   },
   "outputs": [
    {
     "output_type": "stream",
     "name": "stdout",
     "output_type": "stream",
     "text": [
      "              precision    recall  f1-score   support\n\n           0       0.88      0.95      0.91        39\n           1       0.88      0.74      0.80        19\n\n    accuracy                           0.88        58\n   macro avg       0.88      0.84      0.86        58\nweighted avg       0.88      0.88      0.88        58\n\n"
     ]
    }
   ],
   "source": [
    "from sklearn.metrics import classification_report\n",
    "\n",
    "report = classification_report(y_true, y_pred)\n",
    "\n",
    "print(report)"
   ]
  },
  {
   "cell_type": "code",
   "execution_count": 0,
   "metadata": {
    "application/vnd.databricks.v1+cell": {
     "cellMetadata": {
      "byteLimit": 2048000,
      "rowLimit": 10000
     },
     "inputWidgets": {},
     "nuid": "50473658-e935-46b0-a811-0f05f342b256",
     "showTitle": false,
     "title": ""
    }
   },
   "outputs": [],
   "source": [
    "## Creamos una tabla temporal de las predicciones\n",
    "cvPredDF.createOrReplaceTempView(\"finalPredictions\")"
   ]
  },
  {
   "cell_type": "code",
   "execution_count": 0,
   "metadata": {
    "application/vnd.databricks.v1+cell": {
     "cellMetadata": {
      "implicitDf": true
     },
     "inputWidgets": {},
     "nuid": "c36b6973-535f-460c-afaf-abb2552c56ae",
     "showTitle": false,
     "title": ""
    }
   },
   "outputs": [
    {
     "output_type": "display_data",
     "data": {
      "text/html": [
       "<style scoped>\n",
       "  .table-result-container {\n",
       "    max-height: 300px;\n",
       "    overflow: auto;\n",
       "  }\n",
       "  table, th, td {\n",
       "    border: 1px solid black;\n",
       "    border-collapse: collapse;\n",
       "  }\n",
       "  th, td {\n",
       "    padding: 5px;\n",
       "  }\n",
       "  th {\n",
       "    text-align: left;\n",
       "  }\n",
       "</style><div class='table-result-container'><table class='table-result'><thead style='background-color: white'><tr><th>Genero</th><th>prediction</th><th>count</th></tr></thead><tbody><tr><td>Female</td><td>0.0</td><td>18</td></tr><tr><td>Female</td><td>1.0</td><td>12</td></tr><tr><td>Male</td><td>0.0</td><td>24</td></tr><tr><td>Male</td><td>1.0</td><td>4</td></tr></tbody></table></div>"
      ]
     },
     "metadata": {
      "application/vnd.databricks.v1+output": {
       "addedWidgets": {},
       "aggData": [],
       "aggError": "",
       "aggOverflow": false,
       "aggSchema": [],
       "aggSeriesLimitReached": false,
       "aggType": "",
       "arguments": {},
       "columnCustomDisplayInfos": {},
       "data": [
        [
         "Female",
         0.0,
         18
        ],
        [
         "Female",
         1.0,
         12
        ],
        [
         "Male",
         0.0,
         24
        ],
        [
         "Male",
         1.0,
         4
        ]
       ],
       "datasetInfos": [],
       "dbfsResultPath": null,
       "isJsonSchema": true,
       "metadata": {},
       "overflow": false,
       "plotOptions": {
        "customPlotOptions": {},
        "displayType": "table",
        "pivotAggregation": null,
        "pivotColumns": null,
        "xColumns": null,
        "yColumns": null
       },
       "removedWidgets": [],
       "schema": [
        {
         "metadata": "{}",
         "name": "Genero",
         "type": "\"string\""
        },
        {
         "metadata": "{\"ml_attr\":{\"type\":\"nominal\",\"num_vals\":2}}",
         "name": "prediction",
         "type": "\"double\""
        },
        {
         "metadata": "{}",
         "name": "count",
         "type": "\"long\""
        }
       ],
       "type": "table"
      }
     },
     "output_type": "display_data"
    },
    {
     "output_type": "display_data",
     "data": {
      "text/plain": [
       "Databricks visualization. Run in Databricks to view."
      ]
     },
     "metadata": {
      "application/vnd.databricks.v1.subcommand+json": {
       "bindings": {},
       "collapsed": false,
       "command": "%sql WITH q AS (SELECT Genero, prediction, count(*) AS count\nFROM finalPredictions\nGROUP BY Genero, prediction\nORDER BY Genero) SELECT `prediction`,SUM(`count`) `column_14a93d8289`,`Genero` FROM q GROUP BY `Genero`,`prediction`",
       "commandTitle": "Visualización 1",
       "commandType": "auto",
       "commandVersion": 0,
       "commentThread": [],
       "commentsVisible": false,
       "contentSha256Hex": null,
       "customPlotOptions": {
        "redashChart": [
         {
          "key": "type",
          "value": "CHART"
         },
         {
          "key": "options",
          "value": {
           "alignYAxesAtZero": true,
           "coefficient": 1,
           "columnConfigurationMap": {
            "series": {
             "column": "prediction",
             "id": "column_14a93d8297"
            },
            "x": {
             "column": "Genero",
             "id": "column_14a93d8296"
            },
            "y": [
             {
              "column": "count",
              "id": "column_14a93d8289",
              "transform": "SUM"
             }
            ]
           },
           "dateTimeFormat": "DD/MM/YYYY HH:mm",
           "direction": {
            "type": "counterclockwise"
           },
           "error_y": {
            "type": "data",
            "visible": true
           },
           "globalSeriesType": "column",
           "isAggregationOn": true,
           "legend": {
            "traceorder": "normal"
           },
           "missingValuesAsZero": true,
           "numberFormat": "0,0[.]00000",
           "percentFormat": "0[.]00%",
           "series": {
            "error_y": {
             "type": "data",
             "visible": true
            },
            "stacking": null
           },
           "seriesOptions": {
            "column_14a93d8289": {
             "name": "count",
             "type": "column",
             "yAxis": 0
            }
           },
           "showDataLabels": false,
           "sizemode": "diameter",
           "sortX": true,
           "sortY": true,
           "swappedAxes": false,
           "textFormat": "",
           "useAggregationsUi": true,
           "valuesOptions": {},
           "version": 2,
           "xAxis": {
            "labels": {
             "enabled": true
            },
            "type": "-"
           },
           "yAxis": [
            {
             "type": "-"
            },
            {
             "opposite": true,
             "type": "-"
            }
           ]
          }
         }
        ]
       },
       "datasetPreviewNameToCmdIdMap": {},
       "diffDeletes": [],
       "diffInserts": [],
       "displayType": "redashChart",
       "error": null,
       "errorSummary": null,
       "errorTraceType": null,
       "finishTime": 0,
       "globalVars": {},
       "guid": "a0e6cdce-bb0c-42c7-98b3-11b8904bdc46",
       "height": "auto",
       "hideCommandCode": false,
       "hideCommandResult": false,
       "iPythonMetadata": null,
       "inputWidgets": {},
       "isLockedInExamMode": false,
       "latestUser": "a user",
       "latestUserId": null,
       "listResultMetadata": null,
       "metadata": {},
       "nuid": "49b5b945-c068-4319-a861-73c09e7aff3c",
       "origId": 4368615918732632,
       "parentHierarchy": [
        "dc28e605-565f-478e-9b27-4d940b9d1eb1"
       ],
       "pivotAggregation": null,
       "pivotColumns": null,
       "position": 38.0,
       "resultDbfsErrorMessage": null,
       "resultDbfsStatus": "INLINED_IN_TREE",
       "results": null,
       "showCommandTitle": false,
       "startTime": 0,
       "state": "input",
       "streamStates": {},
       "subcommandOptions": {
        "queryPlan": {
         "groups": [
          {
           "column": "Genero",
           "type": "column"
          },
          {
           "column": "prediction",
           "type": "column"
          }
         ],
         "selects": [
          {
           "column": "Genero",
           "type": "column"
          },
          {
           "alias": "column_14a93d8289",
           "args": [
            {
             "column": "count",
             "type": "column"
            }
           ],
           "function": "SUM",
           "type": "function"
          },
          {
           "column": "prediction",
           "type": "column"
          }
         ]
        }
       },
       "submitTime": 0,
       "subtype": "tableResultSubCmd.visualization",
       "tableResultIndex": 0,
       "useConsistentColors": false,
       "version": "CommandV1",
       "width": "auto",
       "workflows": [],
       "xColumns": null,
       "yColumns": null
      }
     },
     "output_type": "display_data"
    }
   ],
   "source": [
    "c"
   ]
  }
 ],
 "metadata": {
  "application/vnd.databricks.v1+notebook": {
   "dashboards": [],
   "language": "python",
   "notebookMetadata": {
    "mostRecentlyExecutedCommandWithImplicitDF": {
     "commandId": 4368615918732630,
     "dataframes": [
      "_sqldf"
     ]
    },
    "pythonIndentUnit": 4
   },
   "notebookName": "Clasificacion-Example",
   "widgets": {}
  }
 },
 "nbformat": 4,
 "nbformat_minor": 0
}
